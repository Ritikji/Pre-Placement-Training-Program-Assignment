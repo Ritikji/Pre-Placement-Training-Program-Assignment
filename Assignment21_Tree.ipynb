{
  "nbformat": 4,
  "nbformat_minor": 0,
  "metadata": {
    "colab": {
      "provenance": []
    },
    "kernelspec": {
      "name": "python3",
      "display_name": "Python 3"
    },
    "language_info": {
      "name": "python"
    }
  },
  "cells": [
    {
      "cell_type": "markdown",
      "source": [
        "#Question-1\n",
        "\n",
        "You are given a binary tree. The binary tree is represented using the TreeNode class. Each TreeNode has an integer value and left and right children, represented using the TreeNode class itself. Convert this binary tree into a binary search tree.\n",
        "\n",
        "Input:\n",
        "\n",
        "        10\n",
        "\n",
        "       /   \\\n",
        "\n",
        "     2      7\n",
        "\n",
        "   /   \\\n",
        "\n",
        " 8      4\n",
        "\n",
        "Output:\n",
        "\n",
        "        8\n",
        "\n",
        "      /   \\\n",
        "\n",
        "    4     10\n",
        "\n",
        "  /   \\\n",
        "\n",
        "2      7\n",
        "\n",
        "</aside>"
      ],
      "metadata": {
        "id": "dTsnrDhtdoig"
      }
    },
    {
      "cell_type": "code",
      "execution_count": 1,
      "metadata": {
        "id": "satpVPfLbVHO"
      },
      "outputs": [],
      "source": [
        "class TreeNode:\n",
        "    def __init__(self, value):\n",
        "        self.value = value\n",
        "        self.left = None\n",
        "        self.right = None\n",
        "\n",
        "def inorder_traversal(node, values):\n",
        "    if node:\n",
        "        inorder_traversal(node.left, values)\n",
        "        values.append(node.value)\n",
        "        inorder_traversal(node.right, values)\n",
        "\n",
        "def create_bst_from_sorted_array(values):\n",
        "    if not values:\n",
        "        return None\n",
        "\n",
        "    mid = len(values) // 2\n",
        "    root = TreeNode(values[mid])\n",
        "\n",
        "    root.left = create_bst_from_sorted_array(values[:mid])\n",
        "    root.right = create_bst_from_sorted_array(values[mid + 1:])\n",
        "\n",
        "    return root\n",
        "\n",
        "def convert_binary_tree_to_bst(root):\n",
        "    values = []\n",
        "    inorder_traversal(root, values)\n",
        "    new_root = create_bst_from_sorted_array(values)\n",
        "    return new_root\n"
      ]
    },
    {
      "cell_type": "code",
      "source": [
        "# Create the binary tree\n",
        "root = TreeNode(10)\n",
        "root.left = TreeNode(2)\n",
        "root.right = TreeNode(7)\n",
        "root.left.left = TreeNode(8)\n",
        "root.left.right = TreeNode(4)\n",
        "\n",
        "# Convert the binary tree to a binary search tree\n",
        "new_root = convert_binary_tree_to_bst(root)\n"
      ],
      "metadata": {
        "id": "DsvyfkMIdt6n"
      },
      "execution_count": 2,
      "outputs": []
    },
    {
      "cell_type": "code",
      "source": [],
      "metadata": {
        "id": "R_dA1_fJdwC2"
      },
      "execution_count": null,
      "outputs": []
    },
    {
      "cell_type": "markdown",
      "source": [
        "#Question-2:\n",
        "\n",
        "Given a Binary Search Tree with all unique values and two keys. Find the distance between two nodes in BST. The given keys always exist in BST.\n",
        "\n",
        "Example:\n",
        "\n",
        "Consider the following BST:\n",
        "\n",
        "![1.png](https://s3-us-west-2.amazonaws.com/secure.notion-static.com/f2455039-7e12-43fc-a7d3-b5be24931c1c/1.png)\n",
        "\n",
        "**Input-1:**\n",
        "\n",
        "n = 9\n",
        "\n",
        "values = [8, 3, 1, 6, 4, 7, 10, 14,13]\n",
        "\n",
        "node-1 = 6\n",
        "\n",
        "node-2 = 14\n",
        "\n",
        "**Output-1:**\n",
        "\n",
        "The distance between the two keys = 4\n",
        "\n",
        "</aside>"
      ],
      "metadata": {
        "id": "vfWyiA4hd8jG"
      }
    },
    {
      "cell_type": "code",
      "source": [
        "class TreeNode:\n",
        "    def __init__(self, value):\n",
        "        self.value = value\n",
        "        self.left = None\n",
        "        self.right = None\n",
        "\n",
        "def find_distance(root, node1, node2):\n",
        "    # Find the lowest common ancestor (LCA) of node1 and node2\n",
        "    lca = find_lca(root, node1, node2)\n",
        "\n",
        "    # Calculate the distances from LCA to node1 and node2\n",
        "    distance1 = find_distance_from_node(lca, node1)\n",
        "    distance2 = find_distance_from_node(lca, node2)\n",
        "\n",
        "    # Calculate the total distance between node1 and node2\n",
        "    total_distance = distance1 + distance2\n",
        "\n",
        "    return total_distance\n",
        "\n",
        "def find_lca(root, node1, node2):\n",
        "    if root is None or root.value == node1 or root.value == node2:\n",
        "        return root\n",
        "\n",
        "    if root.value > node1 and root.value > node2:\n",
        "        return find_lca(root.left, node1, node2)\n",
        "\n",
        "    if root.value < node1 and root.value < node2:\n",
        "        return find_lca(root.right, node1, node2)\n",
        "\n",
        "    return root\n",
        "\n",
        "def find_distance_from_node(node, target):\n",
        "    if node is None or node.value == target:\n",
        "        return 0\n",
        "\n",
        "    if target < node.value:\n",
        "        return 1 + find_distance_from_node(node.left, target)\n",
        "    else:\n",
        "        return 1 + find_distance_from_node(node.right, target)\n"
      ],
      "metadata": {
        "id": "IpDDizjTeAjG"
      },
      "execution_count": 3,
      "outputs": []
    },
    {
      "cell_type": "code",
      "source": [
        "# Create the BST\n",
        "root = TreeNode(8)\n",
        "root.left = TreeNode(3)\n",
        "root.right = TreeNode(10)\n",
        "root.left.left = TreeNode(1)\n",
        "root.left.right = TreeNode(6)\n",
        "root.left.right.left = TreeNode(4)\n",
        "root.left.right.right = TreeNode(7)\n",
        "root.right.right = TreeNode(14)\n",
        "root.right.right.left = TreeNode(13)\n",
        "\n",
        "# Find the distance between node-1 and node-2\n",
        "distance = find_distance(root, 6, 14)\n",
        "print(\"The distance between the two keys:\", distance)\n"
      ],
      "metadata": {
        "colab": {
          "base_uri": "https://localhost:8080/"
        },
        "id": "eJiPaudreERm",
        "outputId": "883fba49-ed3f-43fc-f2e0-c128c2255ff8"
      },
      "execution_count": 4,
      "outputs": [
        {
          "output_type": "stream",
          "name": "stdout",
          "text": [
            "The distance between the two keys: 4\n"
          ]
        }
      ]
    },
    {
      "cell_type": "markdown",
      "source": [
        "#**Input-2:**\n",
        "\n",
        "n = 9\n",
        "\n",
        "values = [8, 3, 1, 6, 4, 7, 10, 14,13]\n",
        "\n",
        "node-1 = 3\n",
        "\n",
        "node-2 = 4\n",
        "\n",
        "**Output-2:**\n",
        "\n",
        "The distance between the two keys = 2"
      ],
      "metadata": {
        "id": "88fkQjrOeQX2"
      }
    },
    {
      "cell_type": "code",
      "source": [
        "class TreeNode:\n",
        "    def __init__(self, value):\n",
        "        self.value = value\n",
        "        self.left = None\n",
        "        self.right = None\n",
        "\n",
        "def find_distance(root, node1, node2):\n",
        "    if root is None:\n",
        "        return 0\n",
        "\n",
        "    # If both nodes are smaller, search in the left subtree\n",
        "    if node1 < root.value and node2 < root.value:\n",
        "        return find_distance(root.left, node1, node2)\n",
        "\n",
        "    # If both nodes are larger, search in the right subtree\n",
        "    if node1 > root.value and node2 > root.value:\n",
        "        return find_distance(root.right, node1, node2)\n",
        "\n",
        "    # Current node is the Lowest Common Ancestor (LCA)\n",
        "    # Calculate the distances of node1 and node2 from the LCA\n",
        "    return distance_from_node(root, node1) + distance_from_node(root, node2)\n",
        "\n",
        "def distance_from_node(root, node):\n",
        "    if root is None or root.value == node:\n",
        "        return 0\n",
        "\n",
        "    if node < root.value:\n",
        "        return 1 + distance_from_node(root.left, node)\n",
        "\n",
        "    return 1 + distance_from_node(root.right, node)\n"
      ],
      "metadata": {
        "id": "2_mboLwLeG1-"
      },
      "execution_count": 5,
      "outputs": []
    },
    {
      "cell_type": "code",
      "source": [
        "# Create the BST\n",
        "root = TreeNode(8)\n",
        "root.left = TreeNode(3)\n",
        "root.left.left = TreeNode(1)\n",
        "root.left.right = TreeNode(6)\n",
        "root.left.right.left = TreeNode(4)\n",
        "root.left.right.right = TreeNode(7)\n",
        "root.right = TreeNode(10)\n",
        "root.right.right = TreeNode(14)\n",
        "root.right.right.left = TreeNode(13)\n",
        "\n",
        "# Find the distance between two nodes\n",
        "node1 = 3\n",
        "node2 = 4\n",
        "distance = find_distance(root, node1, node2)\n",
        "print(\"The distance between the two keys:\", distance)\n"
      ],
      "metadata": {
        "colab": {
          "base_uri": "https://localhost:8080/"
        },
        "id": "x1SHNxdaeVue",
        "outputId": "df5add32-5b48-4789-82ba-3f4b5dbc4d1a"
      },
      "execution_count": 6,
      "outputs": [
        {
          "output_type": "stream",
          "name": "stdout",
          "text": [
            "The distance between the two keys: 2\n"
          ]
        }
      ]
    },
    {
      "cell_type": "code",
      "source": [],
      "metadata": {
        "id": "wAtcHHCoeXq-"
      },
      "execution_count": null,
      "outputs": []
    },
    {
      "cell_type": "markdown",
      "source": [
        "#Question-3:\n",
        "\n",
        "Write a program to convert a binary tree to a doubly linked list.\n",
        "\n",
        "Input:\n",
        "\n",
        "        10\n",
        "\n",
        "       /   \\\n",
        "\n",
        "     5     20\n",
        "\n",
        "           /   \\\n",
        "\n",
        "        30     35\n",
        "\n",
        "Output:\n",
        "\n",
        "5 10 30 20 35\n",
        "\n",
        "</aside>"
      ],
      "metadata": {
        "id": "9kpmvpT6ec6P"
      }
    },
    {
      "cell_type": "code",
      "source": [
        "class TreeNode:\n",
        "    def __init__(self, value):\n",
        "        self.value = value\n",
        "        self.left = None\n",
        "        self.right = None\n",
        "\n",
        "class DoublyLinkedListNode:\n",
        "    def __init__(self, value):\n",
        "        self.value = value\n",
        "        self.prev = None\n",
        "        self.next = None\n",
        "\n",
        "def convert_binary_tree_to_doubly_linked_list(root):\n",
        "    if root is None:\n",
        "        return None\n",
        "\n",
        "    # Helper function for in-order traversal and updating pointers\n",
        "    def inorder_helper(node, prev):\n",
        "        nonlocal head\n",
        "\n",
        "        if node is None:\n",
        "            return prev\n",
        "\n",
        "        # Traverse left subtree\n",
        "        prev = inorder_helper(node.left, prev)\n",
        "\n",
        "        # Update left pointer of current node\n",
        "        node.left = prev\n",
        "\n",
        "        # Update right pointer of previous node\n",
        "        if prev:\n",
        "            prev.right = node\n",
        "\n",
        "        # If previous node is None, it means current node is the leftmost node (head)\n",
        "        if prev is None:\n",
        "            head = node\n",
        "\n",
        "        # Update previous node to current node\n",
        "        prev = node\n",
        "\n",
        "        # Traverse right subtree\n",
        "        prev = inorder_helper(node.right, prev)\n",
        "\n",
        "        return prev\n",
        "\n",
        "    # Initialize head as None\n",
        "    head = None\n",
        "\n",
        "    # Perform in-order traversal and update pointers\n",
        "    inorder_helper(root, None)\n",
        "\n",
        "    return head\n"
      ],
      "metadata": {
        "id": "D7xiRTOQegRP"
      },
      "execution_count": 7,
      "outputs": []
    },
    {
      "cell_type": "code",
      "source": [
        "# Create the binary tree\n",
        "root = TreeNode(10)\n",
        "root.left = TreeNode(5)\n",
        "root.right = TreeNode(20)\n",
        "root.right.left = TreeNode(30)\n",
        "root.right.right = TreeNode(35)\n",
        "\n",
        "# Convert the binary tree to a doubly linked list\n",
        "doubly_linked_list_head = convert_binary_tree_to_doubly_linked_list(root)\n",
        "\n",
        "# Print the doubly linked list\n",
        "current = doubly_linked_list_head\n",
        "while current:\n",
        "    print(current.value, end=\" \")\n",
        "    current = current.right\n"
      ],
      "metadata": {
        "colab": {
          "base_uri": "https://localhost:8080/"
        },
        "id": "amTWBAfnejQu",
        "outputId": "ec319213-eb3b-47dd-8362-b81b2fabd46d"
      },
      "execution_count": 8,
      "outputs": [
        {
          "output_type": "stream",
          "name": "stdout",
          "text": [
            "5 10 30 20 35 "
          ]
        }
      ]
    },
    {
      "cell_type": "code",
      "source": [],
      "metadata": {
        "id": "Ra9wCx3celK-"
      },
      "execution_count": null,
      "outputs": []
    },
    {
      "cell_type": "markdown",
      "source": [
        "#Question-4:\n",
        "\n",
        "Write a program to connect nodes at the same level.\n",
        "\n",
        "Input:\n",
        "\n",
        "        1\n",
        "\n",
        "      /   \\\n",
        "\n",
        "    2      3\n",
        "\n",
        "  /   \\   /   \\\n",
        "\n",
        "4     5 6    7\n",
        "\n",
        "Output:\n",
        "\n",
        "1 → -1\n",
        "\n",
        "2 → 3\n",
        "\n",
        "3 → -1\n",
        "\n",
        "4 → 5\n",
        "\n",
        "5 → 6\n",
        "\n",
        "6 → 7\n",
        "\n",
        "7 → -1\n",
        "\n",
        "</aside>"
      ],
      "metadata": {
        "id": "VNe_RLN6eq8-"
      }
    },
    {
      "cell_type": "code",
      "source": [
        "class TreeNode:\n",
        "    def __init__(self, value):\n",
        "        self.value = value\n",
        "        self.left = None\n",
        "        self.right = None\n",
        "        self.next = None\n",
        "\n",
        "def connect_nodes_at_same_level(root):\n",
        "    if root is None:\n",
        "        return root\n",
        "\n",
        "    # Helper function for level-order traversal and updating \"next\" pointers\n",
        "    def level_order_helper(node):\n",
        "        if node is None:\n",
        "            return\n",
        "\n",
        "        # Initialize the level's first node\n",
        "        level_first = None\n",
        "\n",
        "        # Traverse the current level using the \"next\" pointers\n",
        "        while node is not None:\n",
        "            # Process left child\n",
        "            if node.left:\n",
        "                if level_first is None:\n",
        "                    level_first = node.left\n",
        "                    prev = level_first\n",
        "                else:\n",
        "                    prev.next = node.left\n",
        "                    prev = prev.next\n",
        "\n",
        "            # Process right child\n",
        "            if node.right:\n",
        "                if level_first is None:\n",
        "                    level_first = node.right\n",
        "                    prev = level_first\n",
        "                else:\n",
        "                    prev.next = node.right\n",
        "                    prev = prev.next\n",
        "\n",
        "            # Move to the next node in the current level\n",
        "            node = node.next\n",
        "\n",
        "        # Recursively process the next level\n",
        "        level_order_helper(level_first)\n",
        "\n",
        "    # Start the level-order traversal from the root\n",
        "    level_order_helper(root)\n",
        "\n",
        "    return root\n"
      ],
      "metadata": {
        "id": "SDV2Bh9Detyn"
      },
      "execution_count": 9,
      "outputs": []
    },
    {
      "cell_type": "code",
      "source": [
        "# Create the binary tree\n",
        "root = TreeNode(1)\n",
        "root.left = TreeNode(2)\n",
        "root.right = TreeNode(3)\n",
        "root.left.left = TreeNode(4)\n",
        "root.left.right = TreeNode(5)\n",
        "root.right.left = TreeNode(6)\n",
        "root.right.right = TreeNode(7)\n",
        "\n",
        "# Connect nodes at the same level\n",
        "connect_nodes_at_same_level(root)\n",
        "\n",
        "# Print the \"next\" pointers for each node\n",
        "current = root\n",
        "while current:\n",
        "    node = current\n",
        "    while node:\n",
        "        if node.next:\n",
        "            print(node.value, \"→\", node.next.value)\n",
        "        else:\n",
        "            print(node.value, \"→ -1\")\n",
        "        node = node.next\n",
        "    current = current.left\n"
      ],
      "metadata": {
        "colab": {
          "base_uri": "https://localhost:8080/"
        },
        "id": "56213C0oeyd-",
        "outputId": "7e3137ca-cb94-4f6b-bcdf-ea2e7bd4cbe7"
      },
      "execution_count": 10,
      "outputs": [
        {
          "output_type": "stream",
          "name": "stdout",
          "text": [
            "1 → -1\n",
            "2 → 3\n",
            "3 → -1\n",
            "4 → 5\n",
            "5 → 6\n",
            "6 → 7\n",
            "7 → -1\n"
          ]
        }
      ]
    },
    {
      "cell_type": "code",
      "source": [],
      "metadata": {
        "id": "1pd8GGwKe0k-"
      },
      "execution_count": null,
      "outputs": []
    }
  ]
}