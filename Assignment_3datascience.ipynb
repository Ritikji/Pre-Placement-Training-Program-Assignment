{
  "nbformat": 4,
  "nbformat_minor": 0,
  "metadata": {
    "colab": {
      "provenance": []
    },
    "kernelspec": {
      "name": "python3",
      "display_name": "Python 3"
    },
    "language_info": {
      "name": "python"
    }
  },
  "cells": [
    {
      "cell_type": "markdown",
      "source": [
        "Q1. Scenario: A company wants to analyze the sales performance of its products in different regions. They have collected the following data:\n",
        "   Region A: [10, 15, 12, 8, 14]\n",
        "   Region B: [18, 20, 16, 22, 25]\n",
        "   Calculate the mean sales for each region.\n"
      ],
      "metadata": {
        "id": "pJSyaSVsMWYe"
      }
    },
    {
      "cell_type": "code",
      "execution_count": 1,
      "metadata": {
        "colab": {
          "base_uri": "https://localhost:8080/"
        },
        "id": "S8ctyIEaIxld",
        "outputId": "ec974fc4-5ce7-4ede-8120-a3c5869dc445"
      },
      "outputs": [
        {
          "output_type": "stream",
          "name": "stdout",
          "text": [
            "Mean sales for Region A: 11.8\n",
            "Mean sales for Region B: 20.2\n"
          ]
        }
      ],
      "source": [
        "import numpy as np\n",
        "\n",
        "region_a_sales = [10, 15, 12, 8, 14]\n",
        "region_b_sales = [18, 20, 16, 22, 25]\n",
        "\n",
        "mean_sales_region_a = np.mean(region_a_sales)\n",
        "mean_sales_region_b = np.mean(region_b_sales)\n",
        "\n",
        "print(\"Mean sales for Region A:\", mean_sales_region_a)\n",
        "print(\"Mean sales for Region B:\", mean_sales_region_b)\n"
      ]
    },
    {
      "cell_type": "markdown",
      "source": [
        "Q2. Scenario: A survey is conducted to measure customer satisfaction on a scale of 1 to 5. The data collected is as follows:    [4, 5, 2, 3, 5, 4, 3, 2, 4, 5] Calculate the mode of the survey responses\n"
      ],
      "metadata": {
        "id": "cugaUjjDM9WP"
      }
    },
    {
      "cell_type": "code",
      "source": [
        "import statistics\n",
        "\n",
        "survey_responses = [4, 5, 2, 3, 5, 4, 3, 2, 4, 5]\n",
        "\n",
        "mode = statistics.mode(survey_responses)\n",
        "\n",
        "print(\"Mode of the survey responses:\", mode)\n"
      ],
      "metadata": {
        "colab": {
          "base_uri": "https://localhost:8080/"
        },
        "id": "JkAnY3v3M1X_",
        "outputId": "ad99429f-2c4e-4a88-fa73-3b001ecc16ec"
      },
      "execution_count": 2,
      "outputs": [
        {
          "output_type": "stream",
          "name": "stdout",
          "text": [
            "Mode of the survey responses: 4\n"
          ]
        }
      ]
    },
    {
      "cell_type": "markdown",
      "source": [
        "Q3. Scenario: A company wants to compare the salaries of two departments. The salary data for Department A and Department B are as follows:\n",
        "   Department A: [5000, 6000, 5500, 7000]\n",
        "   Department B: [4500, 5500, 5800, 6000, 5200]\n",
        "   Calculate the median salary for each department.\n"
      ],
      "metadata": {
        "id": "8aVvgiFeNP6W"
      }
    },
    {
      "cell_type": "code",
      "source": [
        "import numpy as np\n",
        "\n",
        "department_a_salaries = [5000, 6000, 5500, 7000]\n",
        "department_b_salaries = [4500, 5500, 5800, 6000, 5200]\n",
        "\n",
        "median_salary_department_a = np.median(department_a_salaries)\n",
        "median_salary_department_b = np.median(department_b_salaries)\n",
        "\n",
        "print(\"Median salary for Department A:\", median_salary_department_a)\n",
        "print(\"Median salary for Department B:\", median_salary_department_b)\n"
      ],
      "metadata": {
        "colab": {
          "base_uri": "https://localhost:8080/"
        },
        "id": "WGJ-TDhYNFjw",
        "outputId": "da5a648b-96cb-4d5b-cf3a-0084618eb20e"
      },
      "execution_count": 3,
      "outputs": [
        {
          "output_type": "stream",
          "name": "stdout",
          "text": [
            "Median salary for Department A: 5750.0\n",
            "Median salary for Department B: 5500.0\n"
          ]
        }
      ]
    },
    {
      "cell_type": "code",
      "source": [],
      "metadata": {
        "id": "DszJVs_XNjmO"
      },
      "execution_count": null,
      "outputs": []
    },
    {
      "cell_type": "markdown",
      "source": [
        "Q4. Scenario: A data analyst wants to determine the variability in the daily stock prices of a company. The data collected is as follows:\n",
        "   [25.5, 24.8, 26.1, 25.3, 24.9]\n",
        "   Calculate the range of the stock prices.\n"
      ],
      "metadata": {
        "id": "NZmj2oseNnTf"
      }
    },
    {
      "cell_type": "code",
      "source": [
        "stock_prices = [25.5, 24.8, 26.1, 25.3, 24.9]\n",
        "\n",
        "price_range = max(stock_prices) - min(stock_prices)\n",
        "\n",
        "print(\"Range of the stock prices:\", price_range)\n"
      ],
      "metadata": {
        "colab": {
          "base_uri": "https://localhost:8080/"
        },
        "id": "CQsns8HcNoO2",
        "outputId": "91952bf4-fbb3-42df-ec44-b1519974dadd"
      },
      "execution_count": 4,
      "outputs": [
        {
          "output_type": "stream",
          "name": "stdout",
          "text": [
            "Range of the stock prices: 1.3000000000000007\n"
          ]
        }
      ]
    },
    {
      "cell_type": "code",
      "source": [],
      "metadata": {
        "id": "zlhC24byNpxN"
      },
      "execution_count": null,
      "outputs": []
    },
    {
      "cell_type": "markdown",
      "source": [
        "Q5. Scenario: A study is conducted to compare the performance of two different teaching methods. The test scores of the students in each group are as follows:\n",
        "   Group A: [85, 90, 92, 88, 91]\n",
        "   Group B: [82, 88, 90, 86, 87]\n",
        "   Perform a t-test to determine if there is a significant difference in the mean scores between the two groups.\n"
      ],
      "metadata": {
        "id": "aBaK9h7VNtha"
      }
    },
    {
      "cell_type": "code",
      "source": [
        "from scipy.stats import ttest_ind\n",
        "\n",
        "group_a_scores = [85, 90, 92, 88, 91]\n",
        "group_b_scores = [82, 88, 90, 86, 87]\n",
        "\n",
        "t_statistic, p_value = ttest_ind(group_a_scores, group_b_scores)\n",
        "\n",
        "alpha = 0.05\n",
        "\n",
        "print(\"T-Statistic:\", t_statistic)\n",
        "print(\"P-Value:\", p_value)\n",
        "\n",
        "if p_value < alpha:\n",
        "    print(\"There is a significant difference in the mean scores between the two groups.\")\n",
        "else:\n",
        "    print(\"There is no significant difference in the mean scores between the two groups.\")\n"
      ],
      "metadata": {
        "colab": {
          "base_uri": "https://localhost:8080/"
        },
        "id": "p7jnvSzuNwbt",
        "outputId": "5e856595-6fad-49cb-c5cd-d61bdeebb43c"
      },
      "execution_count": 5,
      "outputs": [
        {
          "output_type": "stream",
          "name": "stdout",
          "text": [
            "T-Statistic: 1.4312528946642733\n",
            "P-Value: 0.19023970239078333\n",
            "There is no significant difference in the mean scores between the two groups.\n"
          ]
        }
      ]
    },
    {
      "cell_type": "code",
      "source": [],
      "metadata": {
        "id": "tTKE828qNx-N"
      },
      "execution_count": null,
      "outputs": []
    },
    {
      "cell_type": "markdown",
      "source": [
        "Q6. Scenario: A company wants to analyze the relationship between advertising expenditure and sales. The data collected is as follows:\n",
        "   Advertising Expenditure (in thousands): [10, 15, 12, 8, 14]\n",
        "   Sales (in thousands): [25, 30, 28, 20, 26]\n",
        "   Calculate the correlation coefficient between advertising expenditure and sales.\n"
      ],
      "metadata": {
        "id": "2IH1igw_N_c1"
      }
    },
    {
      "cell_type": "code",
      "source": [
        "import numpy as np\n",
        "\n",
        "advertising_expenditure = [10, 15, 12, 8, 14]\n",
        "sales = [25, 30, 28, 20, 26]\n",
        "\n",
        "correlation_coefficient = np.corrcoef(advertising_expenditure, sales)[0, 1]\n",
        "\n",
        "print(\"Correlation coefficient between advertising expenditure and sales:\", correlation_coefficient)\n"
      ],
      "metadata": {
        "id": "0RaB6KzZOAot"
      },
      "execution_count": null,
      "outputs": []
    },
    {
      "cell_type": "markdown",
      "source": [
        "Q7. Scenario: A survey is conducted to measure the heights of a group of people. The data collected is as follows:\n",
        "   [160, 170, 165, 155, 175, 180, 170]\n",
        "   Calculate the standard deviation of the heights.\n"
      ],
      "metadata": {
        "id": "Zxm-74wmRKxi"
      }
    },
    {
      "cell_type": "code",
      "source": [
        "import numpy as np\n",
        "\n",
        "heights = [160, 170, 165, 155, 175, 180, 170]\n",
        "\n",
        "standard_deviation = np.std(heights)\n",
        "\n",
        "print(\"Standard deviation of the heights:\", standard_deviation)\n",
        "\n"
      ],
      "metadata": {
        "colab": {
          "base_uri": "https://localhost:8080/"
        },
        "id": "1D0vE-eJOlCO",
        "outputId": "d90e6f28-ad22-4194-c7ed-7f7557cf4425"
      },
      "execution_count": 1,
      "outputs": [
        {
          "output_type": "stream",
          "name": "stdout",
          "text": [
            "Standard deviation of the heights: 7.953949089757174\n"
          ]
        }
      ]
    },
    {
      "cell_type": "code",
      "source": [],
      "metadata": {
        "id": "vty-RQ0587ai"
      },
      "execution_count": null,
      "outputs": []
    },
    {
      "cell_type": "markdown",
      "source": [
        "Q8. Scenario: A company wants to analyze the relationship between employee tenure and job satisfaction. The data collected is as follows:\n",
        "   Employee Tenure (in years): [2, 3, 5, 4, 6, 2, 4]\n",
        "   Job Satisfaction (on a scale of 1 to 10): [7, 8, 6, 9, 5, 7, 6]\n",
        "   Perform a linear regression analysis to predict job satisfaction based on employee tenure.\n"
      ],
      "metadata": {
        "id": "xf_3iCCL9E7K"
      }
    },
    {
      "cell_type": "code",
      "source": [
        "from scipy.stats import linregress\n",
        "\n",
        "employee_tenure = [2, 3, 5, 4, 6, 2, 4]\n",
        "job_satisfaction = [7, 8, 6, 9, 5, 7, 6]\n",
        "\n",
        "slope, intercept, r_value, p_value, std_err = linregress(employee_tenure, job_satisfaction)\n",
        "\n",
        "print(\"Slope:\", slope)\n",
        "print(\"Intercept:\", intercept)\n",
        "print(\"R-value (correlation coefficient):\", r_value)\n",
        "print(\"P-value:\", p_value)\n",
        "print(\"Standard error:\", std_err)\n"
      ],
      "metadata": {
        "colab": {
          "base_uri": "https://localhost:8080/"
        },
        "id": "EcCLBFc69H-S",
        "outputId": "263ab195-0940-4831-fd5e-8891744813f4"
      },
      "execution_count": 2,
      "outputs": [
        {
          "output_type": "stream",
          "name": "stdout",
          "text": [
            "Slope: -0.4680851063829787\n",
            "Intercept: 8.595744680851062\n",
            "R-value (correlation coefficient): -0.520573376708331\n",
            "P-value: 0.23095550952297988\n",
            "Standard error: 0.34333860006713723\n"
          ]
        }
      ]
    },
    {
      "cell_type": "code",
      "source": [],
      "metadata": {
        "id": "EVnraX4M9Kpf"
      },
      "execution_count": null,
      "outputs": []
    },
    {
      "cell_type": "markdown",
      "source": [
        "Q9. Scenario: A study is conducted to compare the effectiveness of two different medications. The recovery times of the patients in each group are as follows:\n",
        "   Medication A: [10, 12, 14, 11, 13]\n",
        "   Medication B: [15, 17, 16, 14, 18]\n",
        "   Perform an analysis of variance (ANOVA) to determine if there is a significant difference in the mean recovery times between the two medications.\n"
      ],
      "metadata": {
        "id": "oIig7EMY9Qg9"
      }
    },
    {
      "cell_type": "code",
      "source": [
        "from scipy.stats import f_oneway\n",
        "\n",
        "medication_a_recovery_times = [10, 12, 14, 11, 13]\n",
        "medication_b_recovery_times = [15, 17, 16, 14, 18]\n",
        "\n",
        "f_statistic, p_value = f_oneway(medication_a_recovery_times, medication_b_recovery_times)\n",
        "\n",
        "alpha = 0.05\n",
        "\n",
        "print(\"F-Statistic:\", f_statistic)\n",
        "print(\"P-Value:\", p_value)\n",
        "\n",
        "if p_value < alpha:\n",
        "    print(\"There is a significant difference in the mean recovery times between the two medications.\")\n",
        "else:\n",
        "    print(\"There is no significant difference in the mean recovery times between the two medications.\")\n"
      ],
      "metadata": {
        "colab": {
          "base_uri": "https://localhost:8080/"
        },
        "id": "BhZtz_PU9SJK",
        "outputId": "a1b84534-2fb9-4abe-a0e8-b74b2185bf86"
      },
      "execution_count": 3,
      "outputs": [
        {
          "output_type": "stream",
          "name": "stdout",
          "text": [
            "F-Statistic: 16.0\n",
            "P-Value: 0.003949772803445326\n",
            "There is a significant difference in the mean recovery times between the two medications.\n"
          ]
        }
      ]
    },
    {
      "cell_type": "code",
      "source": [],
      "metadata": {
        "id": "07OtBRJR9XbT"
      },
      "execution_count": null,
      "outputs": []
    },
    {
      "cell_type": "markdown",
      "source": [
        "Q10. Scenario: A company wants to analyze customer feedback ratings on a scale of 1 to 10. The data collected is\n",
        "\n",
        " as follows:\n",
        "    [8, 9, 7, 6, 8, 10, 9, 8, 7, 8]\n",
        "    Calculate the 75th percentile of the feedback ratings.\n"
      ],
      "metadata": {
        "id": "FS70gtu09eeB"
      }
    },
    {
      "cell_type": "code",
      "source": [
        "import numpy as np\n",
        "\n",
        "feedback_ratings = [8, 9, 7, 6, 8, 10, 9, 8, 7, 8]\n",
        "\n",
        "percentile_75 = np.percentile(feedback_ratings, 75)\n",
        "\n",
        "print(\"75th percentile of the feedback ratings:\", percentile_75)\n"
      ],
      "metadata": {
        "colab": {
          "base_uri": "https://localhost:8080/"
        },
        "id": "aG0JB7Sn9ff9",
        "outputId": "c9e33538-59d1-4f48-c8ad-2b99731a3449"
      },
      "execution_count": 4,
      "outputs": [
        {
          "output_type": "stream",
          "name": "stdout",
          "text": [
            "75th percentile of the feedback ratings: 8.75\n"
          ]
        }
      ]
    },
    {
      "cell_type": "code",
      "source": [],
      "metadata": {
        "id": "X3W_RXOo9hjE"
      },
      "execution_count": null,
      "outputs": []
    },
    {
      "cell_type": "markdown",
      "source": [
        "Q11. Scenario: A quality control department wants to test the weight consistency of a product. The weights of a sample of products are as follows:\n",
        "    [10.2, 9.8, 10.0, 10.5, 10.3, 10.1]\n",
        "    Perform a hypothesis test to determine if the mean weight differs significantly from 10 grams.\n"
      ],
      "metadata": {
        "id": "kN0ChBMQ9mAZ"
      }
    },
    {
      "cell_type": "code",
      "source": [
        "from scipy.stats import ttest_1samp\n",
        "\n",
        "weights = [10.2, 9.8, 10.0, 10.5, 10.3, 10.1]\n",
        "\n",
        "mean_weight = 10\n",
        "\n",
        "t_statistic, p_value = ttest_1samp(weights, mean_weight)\n",
        "\n",
        "alpha = 0.05\n",
        "\n",
        "print(\"T-Statistic:\", t_statistic)\n",
        "print(\"P-Value:\", p_value)\n",
        "\n",
        "if p_value < alpha:\n",
        "    print(\"The mean weight differs significantly from 10 grams.\")\n",
        "else:\n",
        "    print(\"The mean weight does not differ significantly from 10 grams.\")\n"
      ],
      "metadata": {
        "colab": {
          "base_uri": "https://localhost:8080/"
        },
        "id": "_XOwZkdT9nNi",
        "outputId": "9797b15a-8ba7-4484-a8c7-087f19c26c73"
      },
      "execution_count": 5,
      "outputs": [
        {
          "output_type": "stream",
          "name": "stdout",
          "text": [
            "T-Statistic: 1.5126584522688367\n",
            "P-Value: 0.19077595151110102\n",
            "The mean weight does not differ significantly from 10 grams.\n"
          ]
        }
      ]
    },
    {
      "cell_type": "code",
      "source": [],
      "metadata": {
        "id": "O6KIO1mX9pxK"
      },
      "execution_count": null,
      "outputs": []
    },
    {
      "cell_type": "markdown",
      "source": [
        "Q12. Scenario: A company wants to analyze the click-through rates of two different website designs. The number of clicks for each design is as follows:\n",
        "    Design A: [100, 120, 110, 90, 95]\n",
        "    Design B: [80, 85, 90, 95, 100]\n",
        "    Perform a chi-square test to determine if there is a significant difference in the click-through rates between the two designs.\n"
      ],
      "metadata": {
        "id": "EO0NfqPF9tmP"
      }
    },
    {
      "cell_type": "code",
      "source": [
        "from scipy.stats import chi2_contingency\n",
        "\n",
        "design_a_clicks = [100, 120, 110, 90, 95]\n",
        "design_b_clicks = [80, 85, 90, 95, 100]\n",
        "\n",
        "chi2, p_value, _, _ = chi2_contingency([design_a_clicks, design_b_clicks])\n",
        "\n",
        "alpha = 0.05\n",
        "\n",
        "print(\"Chi-square statistic:\", chi2)\n",
        "print(\"P-value:\", p_value)\n",
        "\n",
        "if p_value < alpha:\n",
        "    print(\"There is a significant difference in the click-through rates between the two designs.\")\n",
        "else:\n",
        "    print(\"There is no significant difference in the click-through rates between the two designs.\")\n"
      ],
      "metadata": {
        "colab": {
          "base_uri": "https://localhost:8080/"
        },
        "id": "W3oCIU2i9uhQ",
        "outputId": "3d29d7f6-e7d8-4137-b854-14c62d92cad2"
      },
      "execution_count": 6,
      "outputs": [
        {
          "output_type": "stream",
          "name": "stdout",
          "text": [
            "Chi-square statistic: 6.110658166925435\n",
            "P-value: 0.19103526314060293\n",
            "There is no significant difference in the click-through rates between the two designs.\n"
          ]
        }
      ]
    },
    {
      "cell_type": "code",
      "source": [],
      "metadata": {
        "id": "3YnkAj2z95Yd"
      },
      "execution_count": null,
      "outputs": []
    },
    {
      "cell_type": "markdown",
      "source": [
        "Q13. Scenario: A survey is conducted to measure customer satisfaction with a product on a scale of 1 to 10. The data collected is as follows:\n",
        "    [7, 9, 6, 8, 10, 7, 8, 9, 7, 8]\n",
        "    Calculate the 95% confidence interval for the population mean satisfaction score.\n"
      ],
      "metadata": {
        "id": "tyedNxXd99de"
      }
    },
    {
      "cell_type": "code",
      "source": [
        "from scipy.stats import t\n",
        "import numpy as np\n",
        "\n",
        "satisfaction_scores = [7, 9, 6, 8, 10, 7, 8, 9, 7, 8]\n",
        "\n",
        "sample_mean = np.mean(satisfaction_scores)\n",
        "sample_std = np.std(satisfaction_scores)\n",
        "sample_size = len(satisfaction_scores)\n",
        "\n",
        "confidence_level = 0.95\n",
        "alpha = 1 - confidence_level\n",
        "\n",
        "t_critical = t.ppf(1 - alpha / 2, df=sample_size - 1)\n",
        "margin_of_error = t_critical * sample_std / np.sqrt(sample_size)\n",
        "\n",
        "confidence_interval = (sample_mean - margin_of_error, sample_mean + margin_of_error)\n",
        "\n",
        "print(\"95% Confidence Interval:\", confidence_interval)\n"
      ],
      "metadata": {
        "colab": {
          "base_uri": "https://localhost:8080/"
        },
        "id": "KjUkAN3h9-TM",
        "outputId": "9ba17f60-939b-4a56-b509-4ee6aff74f8c"
      },
      "execution_count": 7,
      "outputs": [
        {
          "output_type": "stream",
          "name": "stdout",
          "text": [
            "95% Confidence Interval: (7.087510739312016, 8.712489260687985)\n"
          ]
        }
      ]
    },
    {
      "cell_type": "code",
      "source": [],
      "metadata": {
        "id": "jY4hCUlN-Ay7"
      },
      "execution_count": null,
      "outputs": []
    },
    {
      "cell_type": "markdown",
      "source": [
        "Q14. Scenario: A company wants to analyze the effect of temperature on product performance. The data collected is as follows:\n",
        "    Temperature (in degrees Celsius): [20, 22, 23, 19, 21]\n",
        "    Performance (on a scale of 1 to 10): [8, 7, 9, 6, 8]\n",
        "    Perform a simple linear regression to predict performance based on temperature.\n"
      ],
      "metadata": {
        "id": "0VNyI4tq-GfF"
      }
    },
    {
      "cell_type": "code",
      "source": [
        "from scipy.stats import linregress\n",
        "\n",
        "temperature = [20, 22, 23, 19, 21]\n",
        "performance = [8, 7, 9, 6, 8]\n",
        "\n",
        "slope, intercept, r_value, p_value, std_err = linregress(temperature, performance)\n",
        "\n",
        "print(\"Slope:\", slope)\n",
        "print(\"Intercept:\", intercept)\n",
        "print(\"R-value (correlation coefficient):\", r_value)\n",
        "print(\"P-value:\", p_value)\n",
        "print(\"Standard error:\", std_err)\n"
      ],
      "metadata": {
        "colab": {
          "base_uri": "https://localhost:8080/"
        },
        "id": "krVNuuG1-JNj",
        "outputId": "de47d57e-dff0-4c21-b4b4-ec42dc9efbd9"
      },
      "execution_count": 8,
      "outputs": [
        {
          "output_type": "stream",
          "name": "stdout",
          "text": [
            "Slope: 0.5\n",
            "Intercept: -2.9000000000000004\n",
            "R-value (correlation coefficient): 0.6933752452815364\n",
            "P-value: 0.19417134561205843\n",
            "Standard error: 0.30000000000000004\n"
          ]
        }
      ]
    },
    {
      "cell_type": "code",
      "source": [],
      "metadata": {
        "id": "olfSP6Vt-Lxs"
      },
      "execution_count": null,
      "outputs": []
    },
    {
      "cell_type": "markdown",
      "source": [
        "Q15. Scenario: A study is conducted to compare the preferences of two groups of participants. The preferences are measured on a Likert scale from 1 to 5. The data collected is as follows:\n",
        "    Group A: [4, 3, 5, 2, 4]\n",
        "    Group B: [3, 2, 4, 3, 3]\n",
        "    Perform a Mann-Whitney U test to determine if there is a significant difference in the median preferences between the two groups.\n"
      ],
      "metadata": {
        "id": "N82wydTX-SDF"
      }
    },
    {
      "cell_type": "code",
      "source": [
        "from scipy.stats import mannwhitneyu\n",
        "\n",
        "group_a_preferences = [4, 3, 5, 2, 4]\n",
        "group_b_preferences = [3, 2, 4, 3, 3]\n",
        "\n",
        "U_statistic, p_value = mannwhitneyu(group_a_preferences, group_b_preferences)\n",
        "\n",
        "alpha = 0.05\n",
        "\n",
        "print(\"U Statistic:\", U_statistic)\n",
        "print(\"P-Value:\", p_value)\n",
        "\n",
        "if p_value < alpha:\n",
        "    print(\"There is a significant difference in the median preferences between the two groups.\")\n",
        "else:\n",
        "    print(\"There is no significant difference in the median preferences between the two groups.\")\n"
      ],
      "metadata": {
        "colab": {
          "base_uri": "https://localhost:8080/"
        },
        "id": "uznMKsN2-S-I",
        "outputId": "de0cc4fc-3c9c-440c-de27-49f9436d75f3"
      },
      "execution_count": 9,
      "outputs": [
        {
          "output_type": "stream",
          "name": "stdout",
          "text": [
            "U Statistic: 17.0\n",
            "P-Value: 0.380836480306712\n",
            "There is no significant difference in the median preferences between the two groups.\n"
          ]
        }
      ]
    },
    {
      "cell_type": "code",
      "source": [],
      "metadata": {
        "id": "BXNl5x2n-ae-"
      },
      "execution_count": null,
      "outputs": []
    },
    {
      "cell_type": "markdown",
      "source": [
        "Q16. Scenario: A company wants to analyze the distribution of customer ages. The data collected is as follows:\n",
        "    [25, 30, 35, 40, 45, 50, 55, 60, 65, 70]\n",
        "    Calculate the interquartile range (IQR) of the ages\n"
      ],
      "metadata": {
        "id": "Jy3_1-Tl-edj"
      }
    },
    {
      "cell_type": "code",
      "source": [
        "import numpy as np\n",
        "\n",
        "ages = [25, 30, 35, 40, 45, 50, 55, 60, 65, 70]\n",
        "\n",
        "q1 = np.percentile(ages, 25)\n",
        "q3 = np.percentile(ages, 75)\n",
        "\n",
        "iqr = q3 - q1\n",
        "\n",
        "print(\"Interquartile Range (IQR) of ages:\", iqr)\n"
      ],
      "metadata": {
        "colab": {
          "base_uri": "https://localhost:8080/"
        },
        "id": "kBeDSI01-fZB",
        "outputId": "f7ec2c15-5893-4d93-a3cd-91c69683adfe"
      },
      "execution_count": 10,
      "outputs": [
        {
          "output_type": "stream",
          "name": "stdout",
          "text": [
            "Interquartile Range (IQR) of ages: 22.5\n"
          ]
        }
      ]
    },
    {
      "cell_type": "code",
      "source": [],
      "metadata": {
        "id": "5jzi9BPm-hiS"
      },
      "execution_count": null,
      "outputs": []
    },
    {
      "cell_type": "markdown",
      "source": [
        "Q17. Scenario: A study is conducted to compare the performance of three different machine learning algorithms. The accuracy scores for each algorithm are as follows:\n",
        "    Algorithm A: [0.85, 0.80, 0.82, 0.87, 0.83]\n",
        "    Algorithm B: [0.78, 0.82, 0.84, 0.80, 0.79]\n",
        "    Algorithm C: [0.90, 0.88, 0.89, 0.86, 0.87]\n",
        "    Perform a Kruskal-Wallis test to determine if there is a significant difference in the median accuracy scores between the algorithms.\n"
      ],
      "metadata": {
        "id": "umtCPVJS-lkp"
      }
    },
    {
      "cell_type": "code",
      "source": [
        "from scipy.stats import kruskal\n",
        "\n",
        "algorithm_a_scores = [0.85, 0.80, 0.82, 0.87, 0.83]\n",
        "algorithm_b_scores = [0.78, 0.82, 0.84, 0.80, 0.79]\n",
        "algorithm_c_scores = [0.90, 0.88, 0.89, 0.86, 0.87]\n",
        "\n",
        "H_statistic, p_value = kruskal(algorithm_a_scores, algorithm_b_scores, algorithm_c_scores)\n",
        "\n",
        "alpha = 0.05\n",
        "\n",
        "print(\"H Statistic:\", H_statistic)\n",
        "print(\"P-Value:\", p_value)\n",
        "\n",
        "if p_value < alpha:\n",
        "    print(\"There is a significant difference in the median accuracy scores between the algorithms.\")\n",
        "else:\n",
        "    print(\"There is no significant difference in the median accuracy scores between the algorithms.\")\n"
      ],
      "metadata": {
        "colab": {
          "base_uri": "https://localhost:8080/"
        },
        "id": "_iY2I0Sv-nJO",
        "outputId": "6c377922-026d-4e9a-ae5b-bd8b63555ae7"
      },
      "execution_count": 11,
      "outputs": [
        {
          "output_type": "stream",
          "name": "stdout",
          "text": [
            "H Statistic: 9.696947935368053\n",
            "P-Value: 0.007840333026249539\n",
            "There is a significant difference in the median accuracy scores between the algorithms.\n"
          ]
        }
      ]
    },
    {
      "cell_type": "code",
      "source": [],
      "metadata": {
        "id": "2BDIZafh-pVt"
      },
      "execution_count": null,
      "outputs": []
    },
    {
      "cell_type": "markdown",
      "source": [
        "Q18. Scenario: A company wants to analyze the effect of price on sales. The data collected is as follows:\n",
        "    Price (in dollars): [10, 15, 12, 8, 14]\n",
        "    Sales: [100, 80, 90, 110, 95]\n",
        "    Perform a simple linear regression to predict\n",
        "\n",
        " sales based on price.\n"
      ],
      "metadata": {
        "id": "I0ClUwR5-t9y"
      }
    },
    {
      "cell_type": "code",
      "source": [
        "from scipy.stats import linregress\n",
        "\n",
        "price = [10, 15, 12, 8, 14]\n",
        "sales = [100, 80, 90, 110, 95]\n",
        "\n",
        "slope, intercept, r_value, p_value, std_err = linregress(price, sales)\n",
        "\n",
        "print(\"Slope:\", slope)\n",
        "print(\"Intercept:\", intercept)\n",
        "print(\"R-value (correlation coefficient):\", r_value)\n",
        "print(\"P-value:\", p_value)\n",
        "print(\"Standard error:\", std_err)\n"
      ],
      "metadata": {
        "colab": {
          "base_uri": "https://localhost:8080/"
        },
        "id": "yo6-gOWY-u4A",
        "outputId": "01ff7806-1b57-4bbd-b50a-5d04a56aac8a"
      },
      "execution_count": 12,
      "outputs": [
        {
          "output_type": "stream",
          "name": "stdout",
          "text": [
            "Slope: -3.506097560975609\n",
            "Intercept: 136.3719512195122\n",
            "R-value (correlation coefficient): -0.8979991308594848\n",
            "P-value: 0.03850178234753776\n",
            "Standard error: 0.9918303504036147\n"
          ]
        }
      ]
    },
    {
      "cell_type": "code",
      "source": [],
      "metadata": {
        "id": "bCu99O47-w5O"
      },
      "execution_count": null,
      "outputs": []
    },
    {
      "cell_type": "markdown",
      "source": [
        "Q19. Scenario: A survey is conducted to measure the satisfaction levels of customers with a new product. The data collected is as follows:\n",
        "    [7, 8, 9, 6, 8, 7, 9, 7, 8, 7]\n",
        "    Calculate the standard error of the mean satisfaction score\n"
      ],
      "metadata": {
        "id": "83kgZA27-0q0"
      }
    },
    {
      "cell_type": "code",
      "source": [
        "from scipy.stats import sem\n",
        "\n",
        "satisfaction_scores = [7, 8, 9, 6, 8, 7, 9, 7, 8, 7]\n",
        "\n",
        "standard_error = sem(satisfaction_scores)\n",
        "\n",
        "print(\"Standard Error of the Mean:\", standard_error)\n"
      ],
      "metadata": {
        "colab": {
          "base_uri": "https://localhost:8080/"
        },
        "id": "VzgyJewD-1mo",
        "outputId": "c92173ed-a714-4ae9-cb4b-0874b7fd3d2d"
      },
      "execution_count": 13,
      "outputs": [
        {
          "output_type": "stream",
          "name": "stdout",
          "text": [
            "Standard Error of the Mean: 0.30550504633038933\n"
          ]
        }
      ]
    },
    {
      "cell_type": "code",
      "source": [],
      "metadata": {
        "id": "Z5Y4xFiG-36o"
      },
      "execution_count": null,
      "outputs": []
    },
    {
      "cell_type": "markdown",
      "source": [
        "Q20. Scenario: A company wants to analyze the relationship between advertising expenditure and sales. The data collected is as follows:\n",
        "    Advertising Expenditure (in thousands): [10, 15, 12, 8, 14]\n",
        "    Sales (in thousands): [25, 30, 28, 20, 26]\n",
        "    Perform a multiple regression analysis to predict sales based on advertising expenditure\n"
      ],
      "metadata": {
        "id": "LFYX5zlf-7Gy"
      }
    },
    {
      "cell_type": "code",
      "source": [
        "import statsmodels.api as sm\n",
        "import pandas as pd\n",
        "\n",
        "# Define the variables\n",
        "advertising_expenditure = [10, 15, 12, 8, 14]\n",
        "sales = [25, 30, 28, 20, 26]\n",
        "\n",
        "# Create a DataFrame for the variables\n",
        "data = pd.DataFrame({'Advertising Expenditure': advertising_expenditure, 'Sales': sales})\n",
        "\n",
        "# Add a constant term to the predictor variable\n",
        "data = sm.add_constant(data)\n",
        "\n",
        "# Fit the multiple regression model\n",
        "model = sm.OLS(data['Sales'], data[['const', 'Advertising Expenditure']])\n",
        "results = model.fit()\n",
        "\n",
        "# Print the regression summary\n",
        "print(results.summary())\n"
      ],
      "metadata": {
        "colab": {
          "base_uri": "https://localhost:8080/"
        },
        "id": "EDkcP5de-73c",
        "outputId": "bfb60b5b-6789-463f-8e91-e466a9e1a461"
      },
      "execution_count": 14,
      "outputs": [
        {
          "output_type": "stream",
          "name": "stdout",
          "text": [
            "                            OLS Regression Results                            \n",
            "==============================================================================\n",
            "Dep. Variable:                  Sales   R-squared:                       0.767\n",
            "Model:                            OLS   Adj. R-squared:                  0.689\n",
            "Method:                 Least Squares   F-statistic:                     9.872\n",
            "Date:                Sun, 09 Jul 2023   Prob (F-statistic):             0.0516\n",
            "Time:                        18:48:36   Log-Likelihood:                -9.5288\n",
            "No. Observations:                   5   AIC:                             23.06\n",
            "Df Residuals:                       3   BIC:                             22.28\n",
            "Df Model:                           1                                         \n",
            "Covariance Type:            nonrobust                                         \n",
            "===========================================================================================\n",
            "                              coef    std err          t      P>|t|      [0.025      0.975]\n",
            "-------------------------------------------------------------------------------------------\n",
            "const                      12.2012      4.429      2.755      0.070      -1.893      26.296\n",
            "Advertising Expenditure     1.1524      0.367      3.142      0.052      -0.015       2.320\n",
            "==============================================================================\n",
            "Omnibus:                          nan   Durbin-Watson:                   1.136\n",
            "Prob(Omnibus):                    nan   Jarque-Bera (JB):                0.546\n",
            "Skew:                          -0.267   Prob(JB):                        0.761\n",
            "Kurtosis:                       1.471   Cond. No.                         57.3\n",
            "==============================================================================\n",
            "\n",
            "Notes:\n",
            "[1] Standard Errors assume that the covariance matrix of the errors is correctly specified.\n"
          ]
        },
        {
          "output_type": "stream",
          "name": "stderr",
          "text": [
            "/usr/local/lib/python3.10/dist-packages/statsmodels/stats/stattools.py:74: ValueWarning: omni_normtest is not valid with less than 8 observations; 5 samples were given.\n",
            "  warn(\"omni_normtest is not valid with less than 8 observations; %i \"\n"
          ]
        }
      ]
    },
    {
      "cell_type": "code",
      "source": [],
      "metadata": {
        "id": "eUOrMj4Y--oM"
      },
      "execution_count": null,
      "outputs": []
    }
  ]
}