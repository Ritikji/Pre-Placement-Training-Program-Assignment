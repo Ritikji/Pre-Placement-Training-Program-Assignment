{
  "nbformat": 4,
  "nbformat_minor": 0,
  "metadata": {
    "colab": {
      "provenance": []
    },
    "kernelspec": {
      "name": "python3",
      "display_name": "Python 3"
    },
    "language_info": {
      "name": "python"
    }
  },
  "cells": [
    {
      "cell_type": "markdown",
      "source": [
        "****Question 1**\n",
        "\n",
        "Given a non-negative integer `x`, return *the square root of* `x` *rounded down to the nearest integer*. The returned integer should be **non-negative** as well.\n",
        "\n",
        "You **must not use** any built-in exponent function or operator.\n",
        "\n",
        "- For example, do not use `pow(x, 0.5)` in c++ or `x ** 0.5` in python.\n",
        "</aside>\n",
        "example\n",
        "Input: x = 4\n",
        "Output: 2\n",
        "Explanation: The square root of 4 is 2, so we return 2**"
      ],
      "metadata": {
        "id": "7CIixPnINhVA"
      }
    },
    {
      "cell_type": "code",
      "execution_count": null,
      "metadata": {
        "id": "QikdiawYKplA"
      },
      "outputs": [],
      "source": [
        "def mySqrt(x):\n",
        "    if x == 0:\n",
        "        return 0\n",
        "\n",
        "    left, right = 1, x\n",
        "    while left <= right:\n",
        "        mid = (left + right) // 2\n",
        "        midSquare = mid * mid\n",
        "\n",
        "        if midSquare == x:\n",
        "            return mid\n",
        "        elif midSquare < x:\n",
        "            left = mid + 1\n",
        "        else:\n",
        "            right = mid - 1\n",
        "\n",
        "    return right\n"
      ]
    },
    {
      "cell_type": "code",
      "source": [
        "mySqrt(4)"
      ],
      "metadata": {
        "colab": {
          "base_uri": "https://localhost:8080/"
        },
        "id": "RhPn68L0NnG5",
        "outputId": "856b7640-f94f-4821-c54d-2512ea9ecaf6"
      },
      "execution_count": null,
      "outputs": [
        {
          "output_type": "execute_result",
          "data": {
            "text/plain": [
              "2"
            ]
          },
          "metadata": {},
          "execution_count": 2
        }
      ]
    },
    {
      "cell_type": "markdown",
      "source": [
        "**Example**\n",
        "Input: x = 8\n",
        "\n",
        "Output: 2\n",
        "\n",
        "Explanation: The square root of 8 is 2.82842..., and since we round it down to the nearest integer, 2 is returned."
      ],
      "metadata": {
        "id": "p7Bydeu6Of7s"
      }
    },
    {
      "cell_type": "code",
      "source": [
        "def mySqrt(x):\n",
        "    if x == 0:\n",
        "        return 0\n",
        "\n",
        "    left, right = 0, x\n",
        "    while left <= right:\n",
        "        mid = (left + right) // 2\n",
        "        midSquare = mid * mid\n",
        "\n",
        "        if midSquare == x:\n",
        "            return mid\n",
        "        elif midSquare < x:\n",
        "            left = mid + 1\n",
        "        else:\n",
        "            right = mid - 1\n",
        "\n",
        "    return right\n"
      ],
      "metadata": {
        "id": "SPHngQhdOlDd"
      },
      "execution_count": null,
      "outputs": []
    },
    {
      "cell_type": "code",
      "source": [
        "mySqrt(8)"
      ],
      "metadata": {
        "colab": {
          "base_uri": "https://localhost:8080/"
        },
        "id": "TTtquVZHOrY0",
        "outputId": "f18b864a-cb8c-468c-d439-20da6b941ab7"
      },
      "execution_count": null,
      "outputs": [
        {
          "output_type": "execute_result",
          "data": {
            "text/plain": [
              "2"
            ]
          },
          "metadata": {},
          "execution_count": 5
        }
      ]
    },
    {
      "cell_type": "markdown",
      "source": [
        "**<aside>\n",
        "💡 **Question 2**\n",
        "\n",
        "A peak element is an element that is strictly greater than its neighbors.\n",
        "\n",
        "Given a **0-indexed** integer array `nums`, find a peak element, and return its index. If the array contains multiple peaks, return the index to **any of the peaks**.\n",
        "\n",
        "You may imagine that `nums[-1] = nums[n] = -∞`. In other words, an element is always considered to be strictly greater than a neighbor that is outside the array.\n",
        "\n",
        "You must write an algorithm that runs in `O(log n)` time.\n",
        "\n",
        "</aside>\n",
        "example\n",
        "Input: nums = [1,2,3,1]\n",
        "Output: 2\n",
        "Explanation: 3 is a peak element and your function should return the index number 2.**"
      ],
      "metadata": {
        "id": "U-7dHILsQjxW"
      }
    },
    {
      "cell_type": "code",
      "source": [
        "def findPeakElement(nums):\n",
        "    left, right = 0, len(nums) - 1\n",
        "\n",
        "    while left < right:\n",
        "        mid = (left + right) // 2\n",
        "\n",
        "        if nums[mid] > nums[mid + 1] and nums[mid] > nums[mid - 1]:\n",
        "            return mid\n",
        "        elif nums[mid] < nums[mid + 1]:\n",
        "            left = mid + 1\n",
        "        else:\n",
        "            right = mid - 1\n",
        "\n",
        "    return left\n"
      ],
      "metadata": {
        "id": "56GJvkNrOtrb"
      },
      "execution_count": null,
      "outputs": []
    },
    {
      "cell_type": "code",
      "source": [
        "findPeakElement([1, 2, 3, 1])"
      ],
      "metadata": {
        "colab": {
          "base_uri": "https://localhost:8080/"
        },
        "id": "uKB4B_N9Qp4t",
        "outputId": "6d27ffad-4391-4845-bbad-c2111e568ada"
      },
      "execution_count": null,
      "outputs": [
        {
          "output_type": "execute_result",
          "data": {
            "text/plain": [
              "2"
            ]
          },
          "metadata": {},
          "execution_count": 7
        }
      ]
    },
    {
      "cell_type": "markdown",
      "source": [
        "**Example**\n",
        "Input: nums = [1,2,1,3,5,6,4]\n",
        "\n",
        "Output: 5\n",
        "\n",
        "Explanation: Your function can return either index number 1 where the peak element is 2, or index number 5 where the peak element is 6."
      ],
      "metadata": {
        "id": "EkyIt-oEREJL"
      }
    },
    {
      "cell_type": "code",
      "source": [
        "def findPeakElement(nums):\n",
        "    left, right = 0, len(nums) - 1\n",
        "\n",
        "    while left < right:\n",
        "        mid = (left + right) // 2\n",
        "\n",
        "        if nums[mid] > nums[mid + 1] and nums[mid] > nums[mid - 1]:\n",
        "            return mid\n",
        "        elif nums[mid] < nums[mid + 1]:\n",
        "            left = mid + 1\n",
        "        else:\n",
        "            right = mid - 1\n",
        "\n",
        "    return left\n"
      ],
      "metadata": {
        "id": "msEp_yNFQsWv"
      },
      "execution_count": null,
      "outputs": []
    },
    {
      "cell_type": "code",
      "source": [
        "findPeakElement([1, 2, 1, 3, 5, 6, 4])"
      ],
      "metadata": {
        "colab": {
          "base_uri": "https://localhost:8080/"
        },
        "id": "xAyFiWU3RJ5k",
        "outputId": "e1de8d66-c1c6-46b9-8943-dc6d62758012"
      },
      "execution_count": null,
      "outputs": [
        {
          "output_type": "execute_result",
          "data": {
            "text/plain": [
              "5"
            ]
          },
          "metadata": {},
          "execution_count": 9
        }
      ]
    },
    {
      "cell_type": "markdown",
      "source": [
        "<aside>\n",
        "💡 **Question 3**\n",
        "\n",
        "****\n",
        "\n",
        "Given an array `nums` containing `n` distinct numbers in the range `[0, n]`, return *the only number in the range that is missing from the array.*\n",
        "\n",
        "</aside>\n",
        "example\n",
        "Input: nums = [3,0,1]\n",
        "Output: 2\n",
        "Explanation: n = 3 since there are 3 numbers, so all numbers are in the range [0,3]. 2 is the missing number in the range since it does not appear in nums.\n"
      ],
      "metadata": {
        "id": "aUavY-lcRUbX"
      }
    },
    {
      "cell_type": "code",
      "source": [
        "def missingNumber(nums):\n",
        "    n = len(nums)\n",
        "    sum_total = n * (n + 1) // 2\n",
        "\n",
        "    for num in nums:\n",
        "        sum_total -= num\n",
        "\n",
        "    return sum_total\n"
      ],
      "metadata": {
        "id": "HP5W8UQCRd-L"
      },
      "execution_count": null,
      "outputs": []
    },
    {
      "cell_type": "code",
      "source": [
        "missingNumber([3, 0, 1])"
      ],
      "metadata": {
        "colab": {
          "base_uri": "https://localhost:8080/"
        },
        "id": "0ZjhosisRgzu",
        "outputId": "1dbe9e73-606d-453e-cfab-b15c345bb5d5"
      },
      "execution_count": null,
      "outputs": [
        {
          "output_type": "execute_result",
          "data": {
            "text/plain": [
              "2"
            ]
          },
          "metadata": {},
          "execution_count": 12
        }
      ]
    },
    {
      "cell_type": "markdown",
      "source": [
        "**Example**\n",
        "Input: nums = [0,1]\n",
        "Output: 2\n",
        "Explanation: n = 2 since there are 2 numbers, so all numbers are in the range [0,2]. 2 is the missing number in the range since it does not appear in nums.\n"
      ],
      "metadata": {
        "id": "8cmxoFihRtLS"
      }
    },
    {
      "cell_type": "code",
      "source": [
        "def missingNumber(nums):\n",
        "    n = len(nums)\n",
        "    missing = n\n",
        "\n",
        "    for i in range(n):\n",
        "        missing ^= i\n",
        "        missing ^= nums[i]\n",
        "\n",
        "    return missing\n"
      ],
      "metadata": {
        "id": "nMYvSlZDRlut"
      },
      "execution_count": null,
      "outputs": []
    },
    {
      "cell_type": "code",
      "source": [
        "missingNumber([0, 1])"
      ],
      "metadata": {
        "colab": {
          "base_uri": "https://localhost:8080/"
        },
        "id": "bBVJWkwBRyp0",
        "outputId": "3c6b1b06-4738-4db0-95c4-f54d4075edbf"
      },
      "execution_count": null,
      "outputs": [
        {
          "output_type": "execute_result",
          "data": {
            "text/plain": [
              "2"
            ]
          },
          "metadata": {},
          "execution_count": 14
        }
      ]
    },
    {
      "cell_type": "markdown",
      "source": [
        "**example**\n",
        "Input: nums = [9,6,4,2,3,5,7,0,1]\n",
        "Output: 8\n",
        "Explanation: n = 9 since there are 9 numbers, so all numbers are in the range [0,9]. 8 is the missing number in the range since it does not appear in nums."
      ],
      "metadata": {
        "id": "yE1exYBqSLp4"
      }
    },
    {
      "cell_type": "code",
      "source": [
        "def missingNumber(nums):\n",
        "    n = len(nums)\n",
        "    expected_sum = n * (n + 1) // 2\n",
        "\n",
        "    actual_sum = sum(nums)\n",
        "    missing = expected_sum - actual_sum\n",
        "\n",
        "    return missing\n"
      ],
      "metadata": {
        "id": "TK0tzAtXR0yc"
      },
      "execution_count": null,
      "outputs": []
    },
    {
      "cell_type": "code",
      "source": [
        "missingNumber([9, 6, 4, 2, 3, 5, 7, 0, 1])"
      ],
      "metadata": {
        "colab": {
          "base_uri": "https://localhost:8080/"
        },
        "id": "G3L7f4EXSdFO",
        "outputId": "b3c7f06f-63bd-453e-89e3-9e68eebe82de"
      },
      "execution_count": null,
      "outputs": [
        {
          "output_type": "execute_result",
          "data": {
            "text/plain": [
              "8"
            ]
          },
          "metadata": {},
          "execution_count": 16
        }
      ]
    },
    {
      "cell_type": "markdown",
      "source": [
        "Question 4**\n",
        "\n",
        "Given an array of integers `nums` containing `n + 1` integers where each integer is in the range `[1, n]` inclusive.\n",
        "\n",
        "There is only **one repeated number** in `nums`, return *this repeated number*.\n",
        "\n",
        "You must solve the problem **without** modifying the array `nums` and uses only constant extra space.\n",
        "\n",
        "</aside>\n",
        "example\n",
        "Input: nums = [1,3,4,2,2]\n",
        "Output: 2"
      ],
      "metadata": {
        "id": "wDi6DEx7TD62"
      }
    },
    {
      "cell_type": "code",
      "source": [
        "def findDuplicate(nums):\n",
        "    slow = fast = nums[0]\n",
        "\n",
        "    # Find the meeting point\n",
        "    while True:\n",
        "        slow = nums[slow]\n",
        "        fast = nums[nums[fast]]\n",
        "        if slow == fast:\n",
        "            break\n",
        "\n",
        "    # Reset fast to the first element\n",
        "    fast = nums[0]\n",
        "\n",
        "    # Find the repeated number\n",
        "    while slow != fast:\n",
        "        slow = nums[slow]\n",
        "        fast = nums[fast]\n",
        "\n",
        "    return slow\n"
      ],
      "metadata": {
        "id": "Fks_1U9USfGm"
      },
      "execution_count": null,
      "outputs": []
    },
    {
      "cell_type": "code",
      "source": [
        "findDuplicate([1, 3, 4, 2, 2])"
      ],
      "metadata": {
        "colab": {
          "base_uri": "https://localhost:8080/"
        },
        "id": "eckGtBWwp_HJ",
        "outputId": "6538dd8a-1beb-4ae0-9767-6293fdae2b32"
      },
      "execution_count": null,
      "outputs": [
        {
          "output_type": "execute_result",
          "data": {
            "text/plain": [
              "2"
            ]
          },
          "metadata": {},
          "execution_count": 2
        }
      ]
    },
    {
      "cell_type": "markdown",
      "source": [
        "<aside>\n",
        "💡 **Question 4**\n",
        "\n",
        "Given an array of integers `nums` containing `n + 1` integers where each integer is in the range `[1, n]` inclusive.\n",
        "\n",
        "There is only **one repeated number** in `nums`, return *this repeated number*.\n",
        "\n",
        "You must solve the problem **without** modifying the array `nums` and uses only constant extra space.\n",
        "\n",
        "</aside>\n",
        "Input: nums = [3,1,3,4,2]\n",
        "Output: 3"
      ],
      "metadata": {
        "id": "uRK7bVENqbaq"
      }
    },
    {
      "cell_type": "code",
      "source": [
        " def findDuplicate(nums):\n",
        "    n = len(nums)\n",
        "    left, right = 1, n\n",
        "\n",
        "    while left <= right:\n",
        "        mid = (left + right) // 2\n",
        "        count = sum(1 for num in nums if num <= mid)\n",
        "\n",
        "        if count > mid:\n",
        "            right = mid - 1\n",
        "        else:\n",
        "            left = mid + 1\n",
        "\n",
        "    return left\n"
      ],
      "metadata": {
        "id": "vqMStwurqONJ"
      },
      "execution_count": null,
      "outputs": []
    },
    {
      "cell_type": "code",
      "source": [
        "findDuplicate([3, 1, 3, 4, 2])"
      ],
      "metadata": {
        "colab": {
          "base_uri": "https://localhost:8080/"
        },
        "id": "CaDTmNhQrERy",
        "outputId": "fabf5567-a479-4856-f837-d3c696f0d0fc"
      },
      "execution_count": null,
      "outputs": [
        {
          "output_type": "execute_result",
          "data": {
            "text/plain": [
              "3"
            ]
          },
          "metadata": {},
          "execution_count": 4
        }
      ]
    },
    {
      "cell_type": "markdown",
      "source": [
        "**Example2**\n",
        "Input: nums = [3,1,3,4,2]\n",
        "Output: 3"
      ],
      "metadata": {
        "id": "sUEPShMA4l_8"
      }
    },
    {
      "cell_type": "code",
      "source": [
        "def findDuplicate(nums):\n",
        "    slow = nums[0]\n",
        "    fast = nums[0]\n",
        "\n",
        "    # Move slow and fast pointers\n",
        "    slow = nums[slow]\n",
        "    fast = nums[nums[fast]]\n",
        "\n",
        "    # Find the meeting point\n",
        "    while slow != fast:\n",
        "        slow = nums[slow]\n",
        "        fast = nums[nums[fast]]\n",
        "\n",
        "    # Reset slow or fast\n",
        "    slow = nums[0]\n",
        "\n",
        "    # Move slow and fast pointers to find the repeated number\n",
        "    while slow != fast:\n",
        "        slow = nums[slow]\n",
        "        fast = nums[fast]\n",
        "\n",
        "    return slow\n"
      ],
      "metadata": {
        "id": "A5f4646P4vXs"
      },
      "execution_count": 1,
      "outputs": []
    },
    {
      "cell_type": "code",
      "source": [
        "nums = [3, 1, 3, 4, 2]\n",
        "print(findDuplicate(nums))\n"
      ],
      "metadata": {
        "colab": {
          "base_uri": "https://localhost:8080/"
        },
        "id": "S9mVlzAe4xf0",
        "outputId": "c8bba783-66c8-47b0-db2d-d3d9705dde0a"
      },
      "execution_count": 2,
      "outputs": [
        {
          "output_type": "stream",
          "name": "stdout",
          "text": [
            "3\n"
          ]
        }
      ]
    },
    {
      "cell_type": "markdown",
      "source": [
        "<aside>\n",
        "💡 **Question 5**\n",
        "\n",
        "Given two integer arrays `nums1` and `nums2`, return *an array of their intersection*. Each element in the result must be **unique** and you may return the result in **any order**\n",
        "\n",
        "</aside>\n",
        "\n",
        "Input: nums1 = [1,2,2,1], nums2 = [2,2]\n",
        "Output: [2]\n"
      ],
      "metadata": {
        "id": "GHaltrW4rY3S"
      }
    },
    {
      "cell_type": "code",
      "source": [
        "def intersection(nums1, nums2):\n",
        "    set1 = set(nums1)\n",
        "    set2 = set(nums2)\n",
        "    intersection = set()\n",
        "\n",
        "    for num in set1:\n",
        "        if num in set2:\n",
        "            intersection.add(num)\n",
        "\n",
        "    return list(intersection)"
      ],
      "metadata": {
        "id": "nROTr88JrK2D"
      },
      "execution_count": null,
      "outputs": []
    },
    {
      "cell_type": "code",
      "source": [
        "nums1 = [1, 2, 2, 1]\n",
        "nums2 = [2, 2]\n",
        "result = intersection(nums1, nums2)\n",
        "print(result)\n"
      ],
      "metadata": {
        "colab": {
          "base_uri": "https://localhost:8080/"
        },
        "id": "VBhb795gELlo",
        "outputId": "82528d5a-60b2-4922-94b2-5adba88a5541"
      },
      "execution_count": null,
      "outputs": [
        {
          "output_type": "stream",
          "name": "stdout",
          "text": [
            "[2]\n"
          ]
        }
      ]
    },
    {
      "cell_type": "markdown",
      "source": [
        "**Example2**\n",
        "Input: nums1 = [4,9,5], nums2 = [9,4,9,8,4]\n",
        "Output: [9,4]\n",
        "Explanation: [4,9] is also accepted."
      ],
      "metadata": {
        "id": "SnAwF1eREUzu"
      }
    },
    {
      "cell_type": "code",
      "source": [
        "from collections import Counter\n",
        "\n",
        "def intersection(nums1, nums2):\n",
        "    counter1 = Counter(nums1)\n",
        "    counter2 = Counter(nums2)\n",
        "    intersection = []\n",
        "\n",
        "    for num in counter1:\n",
        "        if num in counter2:\n",
        "            intersection.append(num)\n",
        "\n",
        "    return intersection\n"
      ],
      "metadata": {
        "id": "1pnvKfevENrW"
      },
      "execution_count": null,
      "outputs": []
    },
    {
      "cell_type": "markdown",
      "source": [
        "Question 6**\n",
        "\n",
        "Suppose an array of length `n` sorted in ascending order is **rotated** between `1` and `n` times. For example, the array `nums = [0,1,2,4,5,6,7]` might become:\n",
        "\n",
        "- `[4,5,6,7,0,1,2]` if it was rotated `4` times.\n",
        "- `[0,1,2,4,5,6,7]` if it was rotated `7` times.\n",
        "\n",
        "Notice that **rotating** an array `[a[0], a[1], a[2], ..., a[n-1]]` 1 time results in the array `[a[n-1], a[0], a[1], a[2], ..., a[n-2]]`.\n",
        "\n",
        "Given the sorted rotated array `nums` of **unique** elements, return *the minimum element of this array*.\n",
        "\n",
        "You must write an algorithm that runs in `O(log n) time.`\n",
        "\n",
        "**Example 1:**\n",
        "\n",
        "</aside>\n",
        "Input: nums = [3,4,5,1,2]\n",
        "Output: 1\n",
        "Explanation: The original array was [1,2,3,4,5] rotated 3 times.\n",
        "\n",
        "ChatGPT\n",
        "To find the minimum element in the sorted and rotated array nums, we can use a modified binary search algorithm. Since the array is sorted and rotated, we can compare the middle element of the array with the first and last elements to determine the search space.\n",
        "\n",
        "Here's the step-by-step process:\n",
        "\n",
        "Initialize two pointers, left and right, to the first and last indices of the array.\n",
        "Check if the element at index left is less than the element at index right. If true, it means the array is not rotated, so the minimum element is at index left.\n",
        "Calculate the middle index as mid = (left + right) // 2.\n",
        "Compare the element at index mid with the elements at indices left and right.\n",
        "\n",
        "\n"
      ],
      "metadata": {
        "id": "oUZtXkNH5SYJ"
      }
    },
    {
      "cell_type": "code",
      "source": [
        "def findMin(nums):\n",
        "    left = 0\n",
        "    right = len(nums) - 1\n",
        "\n",
        "    while left < right:\n",
        "        # Check if the array is not rotated\n",
        "        if nums[left] < nums[right]:\n",
        "            return nums[left]\n",
        "\n",
        "        mid = (left + right) // 2\n",
        "\n",
        "        if nums[mid] > nums[right]:\n",
        "            left = mid + 1\n",
        "        else:\n",
        "            right = mid\n",
        "\n",
        "    # At this point, left == right, so return the element\n",
        "    return nums[left]\n"
      ],
      "metadata": {
        "id": "3vISrd2cEZuG"
      },
      "execution_count": 3,
      "outputs": []
    },
    {
      "cell_type": "code",
      "source": [
        "nums = [4, 5, 6, 7, 0, 1, 2]\n",
        "print(findMin(nums))\n"
      ],
      "metadata": {
        "colab": {
          "base_uri": "https://localhost:8080/"
        },
        "id": "FCl-xM2m7cO_",
        "outputId": "99d7058d-3b37-448f-beee-43061cd01496"
      },
      "execution_count": 5,
      "outputs": [
        {
          "output_type": "stream",
          "name": "stdout",
          "text": [
            "0\n"
          ]
        }
      ]
    },
    {
      "cell_type": "markdown",
      "source": [
        "example2\n",
        "Input: nums = [4,5,6,7,0,1,2]\n",
        "Output: 0\n",
        "Explanation: The original array was [0,1,2,4,5,6,7] and it was rotated 4 times.\n"
      ],
      "metadata": {
        "id": "Smi-IYzd59E3"
      }
    },
    {
      "cell_type": "code",
      "source": [
        "def findMin(nums):\n",
        "    left = 0\n",
        "    right = len(nums) - 1\n",
        "\n",
        "    while left < right:\n",
        "        # Check if the array is not rotated\n",
        "        if nums[left] < nums[right]:\n",
        "            return nums[left]\n",
        "\n",
        "        mid = (left + right) // 2\n",
        "\n",
        "        if nums[mid] > nums[right]:\n",
        "            left = mid + 1\n",
        "        else:\n",
        "            right = mid\n",
        "\n",
        "    # At this point, left == right, so return the element\n",
        "    return nums[left]\n"
      ],
      "metadata": {
        "id": "mi-Pyq5x5n-2"
      },
      "execution_count": 6,
      "outputs": []
    },
    {
      "cell_type": "code",
      "source": [
        "nums = [4, 5, 6, 7, 0, 1, 2]\n",
        "print(findMin(nums))\n"
      ],
      "metadata": {
        "colab": {
          "base_uri": "https://localhost:8080/"
        },
        "id": "7hRGj36T7xpp",
        "outputId": "19e049fe-1d6b-449e-ad33-9fa919b9c6cf"
      },
      "execution_count": 7,
      "outputs": [
        {
          "output_type": "stream",
          "name": "stdout",
          "text": [
            "0\n"
          ]
        }
      ]
    },
    {
      "cell_type": "markdown",
      "source": [
        "**Explanation**\n",
        "Initialize two pointers, left and right, to the first and last indices of the array.\n",
        "Check if the element at index left is less than the element at index right. If true, it means the array is not rotated, so the minimum element is at index left.\n",
        "Calculate the middle index as mid = (left + right) // 2.\n",
        "Compare the element at index mid with the elements at indices left and right.\n",
        "If nums[mid] > nums[right], it means the minimum element is in the right half of the array. So, update left = mid + 1.\n",
        "If nums[mid] < nums[right], it means the minimum element is in the left half of the array or at the mid index. So, update right = mid.\n",
        "Repeat steps 3-4 until left and right become adjacent.\n",
        "The element at index left (or right) is the minimum element"
      ],
      "metadata": {
        "id": "7HFiAOVW7_7I"
      }
    },
    {
      "cell_type": "markdown",
      "source": [
        "**Example3**\n",
        "Input: nums = [11,13,15,17]\n",
        "Output: 11\n",
        "Explanation: The original array was [11,13,15,17] and it was rotated 4 times."
      ],
      "metadata": {
        "id": "eA_uJrgL8Pcr"
      }
    },
    {
      "cell_type": "code",
      "source": [
        "def findMin(nums):\n",
        "    left = 0\n",
        "    right = len(nums) - 1\n",
        "\n",
        "    while left < right:\n",
        "        # Check if the array is not rotated\n",
        "        if nums[left] < nums[right]:\n",
        "            return nums[left]\n",
        "\n",
        "        mid = (left + right) // 2\n",
        "\n",
        "        if nums[mid] > nums[right]:\n",
        "            left = mid + 1\n",
        "        else:\n",
        "            right = mid\n",
        "\n",
        "    # At this point, left == right, so return the element\n",
        "    return nums[left]\n"
      ],
      "metadata": {
        "id": "L9HfYAQB8PKg"
      },
      "execution_count": 8,
      "outputs": []
    },
    {
      "cell_type": "code",
      "source": [
        "nums = [11, 13, 15, 17]\n",
        "print(findMin(nums))\n"
      ],
      "metadata": {
        "colab": {
          "base_uri": "https://localhost:8080/"
        },
        "id": "dAU9XteG74Sf",
        "outputId": "d0cf5031-ba37-4ed6-d123-365512b1819d"
      },
      "execution_count": 9,
      "outputs": [
        {
          "output_type": "stream",
          "name": "stdout",
          "text": [
            "11\n"
          ]
        }
      ]
    },
    {
      "cell_type": "markdown",
      "source": [
        "<aside>\n",
        "\n",
        "💡 **Question 7**\n",
        "\n",
        "Given an array of integers `nums` sorted in non-decreasing order, find the starting and ending position of a given `target` value.\n",
        "\n",
        "If `target` is not found in the array, return `[-1, -1]`.\n",
        "\n",
        "You must write an algorithm with `O(log n)` runtime complexity\n",
        "\n",
        "</aside>\n",
        "Input: nums = [5,7,7,8,8,10], target = 8\n",
        "Output: [3,4]\n"
      ],
      "metadata": {
        "id": "GPXl_NWX8dAE"
      }
    },
    {
      "cell_type": "code",
      "source": [
        "def searchRange(nums, target):\n",
        "    start = -1\n",
        "    end = -1\n",
        "\n",
        "    # Find the leftmost occurrence of the target value\n",
        "    left = 0\n",
        "    right = len(nums) - 1\n",
        "\n",
        "    while left <= right:\n",
        "        mid = (left + right) // 2\n",
        "\n",
        "        if nums[mid] == target:\n",
        "            start = mid\n",
        "            right = mid - 1\n",
        "        elif nums[mid] < target:\n",
        "            left = mid + 1\n",
        "        else:\n",
        "            right = mid - 1\n",
        "\n",
        "    # Find the rightmost occurrence of the target value\n",
        "    left = 0\n",
        "    right = len(nums) - 1\n",
        "\n",
        "    while left <= right:\n",
        "        mid = (left + right) // 2\n",
        "\n",
        "        if nums[mid] == target:\n",
        "            end = mid\n",
        "            left = mid + 1\n",
        "        elif nums[mid] < target:\n",
        "            left = mid + 1\n",
        "        else:\n",
        "            right = mid - 1\n",
        "\n",
        "    return [start, end]\n"
      ],
      "metadata": {
        "id": "h_bZ1nDz8Vby"
      },
      "execution_count": 10,
      "outputs": []
    },
    {
      "cell_type": "code",
      "source": [
        "nums = [5, 7, 7, 8, 8, 10]\n",
        "target = 8\n",
        "print(searchRange(nums, target))\n"
      ],
      "metadata": {
        "colab": {
          "base_uri": "https://localhost:8080/"
        },
        "id": "rW1BKMT78j5n",
        "outputId": "071b5462-29cf-42ef-e2ce-05c3351e8d23"
      },
      "execution_count": 11,
      "outputs": [
        {
          "output_type": "stream",
          "name": "stdout",
          "text": [
            "[3, 4]\n"
          ]
        }
      ]
    },
    {
      "cell_type": "markdown",
      "source": [
        "**Example2**\n",
        "Input: nums = [5,7,7,8,8,10], target = 6\n",
        "Output: [-1,-1]\n"
      ],
      "metadata": {
        "id": "xWNT4VS28p8C"
      }
    },
    {
      "cell_type": "code",
      "source": [
        "def searchRange(nums, target):\n",
        "    start = -1\n",
        "    end = -1\n",
        "\n",
        "    # Find the leftmost occurrence of the target value\n",
        "    left = 0\n",
        "    right = len(nums) - 1\n",
        "\n",
        "    while left <= right:\n",
        "        mid = (left + right) // 2\n",
        "\n",
        "        if nums[mid] == target:\n",
        "            start = mid\n",
        "            right = mid - 1\n",
        "        elif nums[mid] < target:\n",
        "            left = mid + 1\n",
        "        else:\n",
        "            right = mid - 1\n",
        "\n",
        "    # Find the rightmost occurrence of the target value\n",
        "    left = 0\n",
        "    right = len(nums) - 1\n",
        "\n",
        "    while left <= right:\n",
        "        mid = (left + right) // 2\n",
        "\n",
        "        if nums[mid] == target:\n",
        "            end = mid\n",
        "            left = mid + 1\n",
        "        elif nums[mid] < target:\n",
        "            left = mid + 1\n",
        "        else:\n",
        "            right = mid - 1\n",
        "\n",
        "    return [start, end]\n"
      ],
      "metadata": {
        "id": "We7ZToEK8lnW"
      },
      "execution_count": 12,
      "outputs": []
    },
    {
      "cell_type": "code",
      "source": [
        "nums = [5, 7, 7, 8, 8, 10]\n",
        "target = 6\n",
        "print(searchRange(nums, target))\n"
      ],
      "metadata": {
        "colab": {
          "base_uri": "https://localhost:8080/"
        },
        "id": "BoOL5hTn8xv8",
        "outputId": "500af3ce-f111-4a13-ba61-321550fc2c31"
      },
      "execution_count": 13,
      "outputs": [
        {
          "output_type": "stream",
          "name": "stdout",
          "text": [
            "[-1, -1]\n"
          ]
        }
      ]
    },
    {
      "cell_type": "markdown",
      "source": [
        "**Example3**\n",
        "Input: nums = [], target = 0\n",
        "Output: [-1,-1]"
      ],
      "metadata": {
        "id": "xriMCZZ482wP"
      }
    },
    {
      "cell_type": "code",
      "source": [
        "def searchRange(nums, target):\n",
        "    start = -1\n",
        "    end = -1\n",
        "\n",
        "    # Check if the array is empty\n",
        "    if len(nums) == 0:\n",
        "        return [start, end]\n",
        "\n",
        "    # Find the leftmost occurrence of the target value\n",
        "    left = 0\n",
        "    right = len(nums) - 1\n",
        "\n",
        "    while left <= right:\n",
        "        mid = (left + right) // 2\n",
        "\n",
        "        if nums[mid] == target:\n",
        "            start = mid\n",
        "            right = mid - 1\n",
        "        elif nums[mid] < target:\n",
        "            left = mid + 1\n",
        "        else:\n",
        "            right = mid - 1\n",
        "\n",
        "    # Find the rightmost occurrence of the target value\n",
        "    left = 0\n",
        "    right = len(nums) - 1\n",
        "\n",
        "    while left <= right:\n",
        "        mid = (left + right) // 2\n",
        "\n",
        "        if nums[mid] == target:\n",
        "            end = mid\n",
        "            left = mid + 1\n",
        "        elif nums[mid] < target:\n",
        "            left = mid + 1\n",
        "        else:\n",
        "            right = mid - 1\n",
        "\n",
        "    return [start, end]\n"
      ],
      "metadata": {
        "id": "0WuWt-HM8zM1"
      },
      "execution_count": 14,
      "outputs": []
    },
    {
      "cell_type": "code",
      "source": [
        "nums = []\n",
        "target = 0\n",
        "print(searchRange(nums, target))\n"
      ],
      "metadata": {
        "colab": {
          "base_uri": "https://localhost:8080/"
        },
        "id": "tGGsnbuN88Uv",
        "outputId": "163166ce-8382-4ffa-9615-6d5dfa6d11de"
      },
      "execution_count": 15,
      "outputs": [
        {
          "output_type": "stream",
          "name": "stdout",
          "text": [
            "[-1, -1]\n"
          ]
        }
      ]
    },
    {
      "cell_type": "markdown",
      "source": [
        "<aside>\n",
        "💡 **Question 8**\n",
        "\n",
        "Given two integer arrays `nums1` and `nums2`, return *an array of their intersection*. Each element in the result must appear as many times as it shows in both arrays and you may return the result in **any order**.\n",
        "\n",
        "</aside>\n",
        "Input: nums1 = [1,2,2,1], nums2 = [2,2]\n",
        "Output: [2,2]\n",
        "\n"
      ],
      "metadata": {
        "id": "g6Zmyobz9FbL"
      }
    },
    {
      "cell_type": "code",
      "source": [
        "def intersect(nums1, nums2):\n",
        "    countMap = {}\n",
        "    \n",
        "    # Count occurrences of each element in nums1\n",
        "    for num in nums1:\n",
        "        if num in countMap:\n",
        "            countMap[num] += 1\n",
        "        else:\n",
        "            countMap[num] = 1\n",
        "    \n",
        "    intersection = []\n",
        "    \n",
        "    # Find the intersection elements in nums2\n",
        "    for num in nums2:\n",
        "        if num in countMap and countMap[num] > 0:\n",
        "            intersection.append(num)\n",
        "            countMap[num] -= 1\n",
        "    \n",
        "    return intersection\n",
        "\n"
      ],
      "metadata": {
        "id": "qh7iTnBk8-tR"
      },
      "execution_count": 16,
      "outputs": []
    },
    {
      "cell_type": "code",
      "source": [
        "nums1 = [1, 2, 2, 1]\n",
        "nums2 = [2, 2]\n",
        "print(intersect(nums1, nums2))\n"
      ],
      "metadata": {
        "colab": {
          "base_uri": "https://localhost:8080/"
        },
        "id": "F6shkQ2T9KNw",
        "outputId": "f3cde73f-1fa9-4f68-fdcb-245e6c910715"
      },
      "execution_count": 17,
      "outputs": [
        {
          "output_type": "stream",
          "name": "stdout",
          "text": [
            "[2, 2]\n"
          ]
        }
      ]
    },
    {
      "cell_type": "markdown",
      "source": [
        "**Example2**\n",
        "Input: nums1 = [4,9,5], nums2 = [9,4,9,8,4]\n",
        "Output: [4,9]\n",
        "Explanation: [9,4] is also accepted."
      ],
      "metadata": {
        "id": "oP_y7BWy9PMM"
      }
    },
    {
      "cell_type": "code",
      "source": [
        "def intersect(nums1, nums2):\n",
        "    countMap = {}\n",
        "    \n",
        "    # Count occurrences of each element in nums1\n",
        "    for num in nums1:\n",
        "        if num in countMap:\n",
        "            countMap[num] += 1\n",
        "        else:\n",
        "            countMap[num] = 1\n",
        "    \n",
        "    intersection = []\n",
        "    \n",
        "    # Find the intersection elements in nums2\n",
        "    for num in nums2:\n",
        "        if num in countMap and countMap[num] > 0:\n",
        "            intersection.append(num)\n",
        "            countMap[num] -= 1\n",
        "    \n",
        "    return intersection\n"
      ],
      "metadata": {
        "id": "5VQUVQ0D9Lv1"
      },
      "execution_count": 18,
      "outputs": []
    },
    {
      "cell_type": "code",
      "source": [
        "nums1 = [4, 9, 5]\n",
        "nums2 = [9, 4, 9, 8, 4]\n",
        "print(intersect(nums1, nums2))\n"
      ],
      "metadata": {
        "colab": {
          "base_uri": "https://localhost:8080/"
        },
        "id": "sAZZw_q09W3d",
        "outputId": "c13fa62c-dcc1-470e-d12d-1590e069b0cc"
      },
      "execution_count": 19,
      "outputs": [
        {
          "output_type": "stream",
          "name": "stdout",
          "text": [
            "[9, 4]\n"
          ]
        }
      ]
    },
    {
      "cell_type": "code",
      "source": [],
      "metadata": {
        "id": "UjRHE5N79YjN"
      },
      "execution_count": null,
      "outputs": []
    }
  ]
}