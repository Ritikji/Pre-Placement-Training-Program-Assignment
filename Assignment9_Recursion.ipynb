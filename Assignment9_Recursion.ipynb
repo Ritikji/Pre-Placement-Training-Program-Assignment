{
  "nbformat": 4,
  "nbformat_minor": 0,
  "metadata": {
    "colab": {
      "provenance": []
    },
    "kernelspec": {
      "name": "python3",
      "display_name": "Python 3"
    },
    "language_info": {
      "name": "python"
    }
  },
  "cells": [
    {
      "cell_type": "markdown",
      "source": [
        "**<aside>\n",
        "💡 **Question 1**\n",
        "\n",
        "Given an integer `n`, return *`true` if it is a power of two. Otherwise, return `false`*.\n",
        "\n",
        "An integer `n` is a power of two, if there exists an integer `x` such that `n == 2x`.\n",
        "\n",
        "**Example 1:**\n",
        "Input: n = 1 \n",
        "\n",
        "Output: true\n",
        "\n",
        "**Example 2:**\n",
        "Input: n = 16 \n",
        "\n",
        "Output: true\n",
        "\n",
        "**Example 3:**\n",
        "Input: n = 3 \n",
        "\n",
        "Output: false\n",
        "\n",
        "</aside>**"
      ],
      "metadata": {
        "id": "OjkMtinnRUyh"
      }
    },
    {
      "cell_type": "code",
      "execution_count": 1,
      "metadata": {
        "id": "TyRB5giyRNaZ"
      },
      "outputs": [],
      "source": [
        "def isPowerOfTwo(n):\n",
        "    if n <= 0:\n",
        "        return False\n",
        "    return (n & (n - 1)) == 0\n"
      ]
    },
    {
      "cell_type": "code",
      "source": [
        "print(isPowerOfTwo(1))  # Output: True\n",
        "print(isPowerOfTwo(16))  # Output: True\n",
        "print(isPowerOfTwo(3))  # Output: False\n"
      ],
      "metadata": {
        "colab": {
          "base_uri": "https://localhost:8080/"
        },
        "id": "hq12bMDGRZB3",
        "outputId": "bb21a78e-b7e1-416d-8346-e5776233d2e5"
      },
      "execution_count": 2,
      "outputs": [
        {
          "output_type": "stream",
          "name": "stdout",
          "text": [
            "True\n",
            "True\n",
            "False\n"
          ]
        }
      ]
    },
    {
      "cell_type": "markdown",
      "source": [
        "**<aside>\n",
        "💡 **Question 2**\n",
        "\n",
        "Given a number n, find the sum of the first natural numbers.\n",
        "\n",
        "**Example 1:**\n",
        "\n",
        "Input: n = 3 \n",
        "\n",
        "Output: 6\n",
        "\n",
        "**Example 2:**\n",
        "\n",
        "Input  : 5 \n",
        "\n",
        "Output : 15\n",
        "\n",
        "</aside>**"
      ],
      "metadata": {
        "id": "63lUsVuZReKe"
      }
    },
    {
      "cell_type": "code",
      "source": [
        "def sumOfNaturalNumbers(n):\n",
        "    return (n * (n + 1)) // 2\n"
      ],
      "metadata": {
        "id": "KSyYun4nRao1"
      },
      "execution_count": 3,
      "outputs": []
    },
    {
      "cell_type": "code",
      "source": [
        "print(sumOfNaturalNumbers(3))  # Output: 6\n",
        "print(sumOfNaturalNumbers(5))  # Output: 15\n"
      ],
      "metadata": {
        "colab": {
          "base_uri": "https://localhost:8080/"
        },
        "id": "nM8LRXgnRowv",
        "outputId": "3e0bddcc-8828-47d9-f6b8-f0f526c546f0"
      },
      "execution_count": 4,
      "outputs": [
        {
          "output_type": "stream",
          "name": "stdout",
          "text": [
            "6\n",
            "15\n"
          ]
        }
      ]
    },
    {
      "cell_type": "markdown",
      "source": [
        "**<aside>\n",
        "💡 **Question 3**\n",
        "\n",
        "****Given a positive integer, N. Find the factorial of N. \n",
        "\n",
        "**Example 1:**\n",
        "\n",
        "Input: N = 5 \n",
        "\n",
        "Output: 120\n",
        "\n",
        "**Example 2:**\n",
        "\n",
        "Input: N = 4\n",
        "\n",
        "Output: 24\n",
        "\n",
        "</aside>**"
      ],
      "metadata": {
        "id": "_CCw1tDmRsqd"
      }
    },
    {
      "cell_type": "code",
      "source": [
        "def factorial(N):\n",
        "    result = 1\n",
        "    for i in range(2, N + 1):\n",
        "        result *= i\n",
        "    return result\n"
      ],
      "metadata": {
        "id": "oCP34sMBRql9"
      },
      "execution_count": 5,
      "outputs": []
    },
    {
      "cell_type": "code",
      "source": [
        "print(factorial(5))  # Output: 120\n",
        "print(factorial(4))  # Output: 24\n"
      ],
      "metadata": {
        "colab": {
          "base_uri": "https://localhost:8080/"
        },
        "id": "NYQWIDSVR1LF",
        "outputId": "ffa842f6-e704-4dbc-d0fd-13d4e7102113"
      },
      "execution_count": 6,
      "outputs": [
        {
          "output_type": "stream",
          "name": "stdout",
          "text": [
            "120\n",
            "24\n"
          ]
        }
      ]
    },
    {
      "cell_type": "markdown",
      "source": [
        "**<aside>\n",
        "💡 **Question 4**\n",
        "\n",
        "Given a number N and a power P, the task is to find the exponent of this number raised to the given power, i.e. N^P.\n",
        "\n",
        "**Example 1 :** \n",
        "\n",
        "Input: N = 5, P = 2\n",
        "\n",
        "Output: 25\n",
        "\n",
        "**Example 2 :**\n",
        "Input: N = 2, P = 5\n",
        "\n",
        "Output: 32\n",
        "\n",
        "</aside>**"
      ],
      "metadata": {
        "id": "nY6OBcUpR6t1"
      }
    },
    {
      "cell_type": "code",
      "source": [
        "def exponentiation(N, P):\n",
        "    return N ** P\n"
      ],
      "metadata": {
        "id": "vbqJpdjMR22u"
      },
      "execution_count": 7,
      "outputs": []
    },
    {
      "cell_type": "code",
      "source": [
        "print(exponentiation(5, 2))  # Output: 25\n",
        "print(exponentiation(2, 5))  # Output: 32\n",
        "\n"
      ],
      "metadata": {
        "colab": {
          "base_uri": "https://localhost:8080/"
        },
        "id": "1SZJXvOESH0-",
        "outputId": "1c0559d1-df78-4d00-c466-a053f8a2948e"
      },
      "execution_count": 8,
      "outputs": [
        {
          "output_type": "stream",
          "name": "stdout",
          "text": [
            "25\n",
            "32\n"
          ]
        }
      ]
    },
    {
      "cell_type": "markdown",
      "source": [
        "**<aside>\n",
        "💡 **Question 5**\n",
        "\n",
        "Given an array of integers **arr**, the task is to find maximum element of that array using recursion.\n",
        "\n",
        "**Example 1:**\n",
        "\n",
        "Input: arr = {1, 4, 3, -5, -4, 8, 6};\n",
        "Output: 8\n",
        "\n",
        "**Example 2:**\n",
        "\n",
        "Input: arr = {1, 4, 45, 6, 10, -8};\n",
        "Output: 45\n",
        "\n",
        "</aside>**"
      ],
      "metadata": {
        "id": "lkB8hxM-SSw-"
      }
    },
    {
      "cell_type": "code",
      "source": [
        "def findMax(arr, start, end):\n",
        "    # Base case: when there is only one element in the array\n",
        "    if start == end:\n",
        "        return arr[start]\n",
        "\n",
        "    # Divide the array into two halves\n",
        "    mid = (start + end) // 2\n",
        "\n",
        "    # Recursively find the maximum element in each half\n",
        "    max1 = findMax(arr, start, mid)\n",
        "    max2 = findMax(arr, mid + 1, end)\n",
        "\n",
        "    # Compare the maximum elements of the two halves\n",
        "    return max(max1, max2)\n"
      ],
      "metadata": {
        "id": "5N5quDoASJbQ"
      },
      "execution_count": 9,
      "outputs": []
    },
    {
      "cell_type": "code",
      "source": [
        "arr = [1, 4, 3, -5, -4, 8, 6]\n",
        "max_element = findMax(arr, 0, len(arr) - 1)\n",
        "print(max_element)\n"
      ],
      "metadata": {
        "colab": {
          "base_uri": "https://localhost:8080/"
        },
        "id": "4Xem2o9USYce",
        "outputId": "0084e712-b0e6-4104-d12f-4c2ad2e6db19"
      },
      "execution_count": 10,
      "outputs": [
        {
          "output_type": "stream",
          "name": "stdout",
          "text": [
            "8\n"
          ]
        }
      ]
    },
    {
      "cell_type": "code",
      "source": [
        "arr = [1, 4, 45, 6, 10, -8]\n",
        "max_element = findMax(arr, 0, len(arr) - 1)\n",
        "print(max_element)\n"
      ],
      "metadata": {
        "colab": {
          "base_uri": "https://localhost:8080/"
        },
        "id": "ujlLWitKSbZ2",
        "outputId": "4e0f5ddc-609a-43cb-b167-8618b8be6195"
      },
      "execution_count": 11,
      "outputs": [
        {
          "output_type": "stream",
          "name": "stdout",
          "text": [
            "45\n"
          ]
        }
      ]
    },
    {
      "cell_type": "markdown",
      "source": [
        "**<aside>\n",
        "💡 **Question 6**\n",
        "\n",
        "Given first term (a), common difference (d) and a integer N of the Arithmetic Progression series, the task is to find Nth term of the series.\n",
        "\n",
        "**Example 1:**\n",
        "\n",
        "Input : a = 2 d = 1 N = 5\n",
        "Output : 6\n",
        "The 5th term of the series is : 6\n",
        "\n",
        "**Example 2:**\n",
        "\n",
        "Input : a = 5 d = 2 N = 10\n",
        "Output : 23\n",
        "The 10th term of the series is : 23\n",
        "\n",
        "</aside>**"
      ],
      "metadata": {
        "id": "ji_7zUHLStGx"
      }
    },
    {
      "cell_type": "code",
      "source": [
        "def findNthTerm(a, d, N):\n",
        "    return a + (N - 1) * d\n"
      ],
      "metadata": {
        "id": "u5BIrAf3Spyh"
      },
      "execution_count": 13,
      "outputs": []
    },
    {
      "cell_type": "code",
      "source": [
        "print(findNthTerm(2, 1, 5))  # Output: 6\n",
        "print(findNthTerm(5, 2, 10))  # Output: 23\n"
      ],
      "metadata": {
        "colab": {
          "base_uri": "https://localhost:8080/"
        },
        "id": "6MqSW7xySw7O",
        "outputId": "fd0d5a15-aef8-42e8-c397-890986dd2e8e"
      },
      "execution_count": 14,
      "outputs": [
        {
          "output_type": "stream",
          "name": "stdout",
          "text": [
            "6\n",
            "23\n"
          ]
        }
      ]
    },
    {
      "cell_type": "markdown",
      "source": [
        "**<aside>\n",
        "💡 **Question 7**\n",
        "\n",
        "Given a string S, the task is to write a program to print all permutations of a given string.\n",
        "\n",
        "**Example 1:**\n",
        "\n",
        "***Input:***\n",
        "\n",
        "*S = “ABC”*\n",
        "\n",
        "***Output:***\n",
        "\n",
        "*“ABC”, “ACB”, “BAC”, “BCA”, “CBA”, “CAB”*\n",
        "\n",
        "**Example 2:**\n",
        "\n",
        "***Input:***\n",
        "\n",
        "*S = “XY”*\n",
        "\n",
        "***Output:***\n",
        "\n",
        "*“XY”, “YX”*\n",
        "\n",
        "</aside>**"
      ],
      "metadata": {
        "id": "Bzc3cvw8S8BW"
      }
    },
    {
      "cell_type": "code",
      "source": [
        "def permute(s, l, r):\n",
        "    if l == r:\n",
        "        print(\"\".join(s))\n",
        "    else:\n",
        "        for i in range(l, r + 1):\n",
        "            s[l], s[i] = s[i], s[l]  # Swap the characters\n",
        "            permute(s, l + 1, r)  # Recursively permute the remaining characters\n",
        "            s[l], s[i] = s[i], s[l]  # Undo the swap\n",
        "\n",
        "def printPermutations(S):\n",
        "    n = len(S)\n",
        "    s = list(S)  # Convert the string to a list of characters\n",
        "    permute(s, 0, n - 1)\n"
      ],
      "metadata": {
        "id": "pQpkuz2wSyO9"
      },
      "execution_count": 15,
      "outputs": []
    },
    {
      "cell_type": "code",
      "source": [
        "printPermutations(\"ABC\")\n"
      ],
      "metadata": {
        "colab": {
          "base_uri": "https://localhost:8080/"
        },
        "id": "9zqjtTktTIVm",
        "outputId": "47e09f76-69ed-4ef8-d9b7-b7615c743bbb"
      },
      "execution_count": 16,
      "outputs": [
        {
          "output_type": "stream",
          "name": "stdout",
          "text": [
            "ABC\n",
            "ACB\n",
            "BAC\n",
            "BCA\n",
            "CBA\n",
            "CAB\n"
          ]
        }
      ]
    },
    {
      "cell_type": "code",
      "source": [
        "printPermutations(\"XY\")\n"
      ],
      "metadata": {
        "colab": {
          "base_uri": "https://localhost:8080/"
        },
        "id": "fmemRYlNTOT6",
        "outputId": "9e1181dd-06f1-4e10-b967-bbdd71d7049f"
      },
      "execution_count": 17,
      "outputs": [
        {
          "output_type": "stream",
          "name": "stdout",
          "text": [
            "XY\n",
            "YX\n"
          ]
        }
      ]
    },
    {
      "cell_type": "markdown",
      "source": [
        "**<aside>\n",
        "💡 **Question 8**\n",
        "\n",
        "Given an array, find a product of all array elements.\n",
        "\n",
        "**Example 1:**\n",
        "\n",
        "Input  : arr[] = {1, 2, 3, 4, 5}\n",
        "Output : 120\n",
        "**Example 2:**\n",
        "\n",
        "Input  : arr[] = {1, 6, 3}\n",
        "Output : 18\n",
        "\n",
        "</aside>**"
      ],
      "metadata": {
        "id": "KkYMGxXLTPy2"
      }
    },
    {
      "cell_type": "code",
      "source": [
        "def arrayProduct(arr):\n",
        "    product = 1\n",
        "    for num in arr:\n",
        "        product *= num\n",
        "    return product\n"
      ],
      "metadata": {
        "id": "-2amH6kDTJ7N"
      },
      "execution_count": 18,
      "outputs": []
    },
    {
      "cell_type": "code",
      "source": [
        "arr1 = [1, 2, 3, 4, 5]\n",
        "print(arrayProduct(arr1))  # Output: 120\n",
        "\n",
        "arr2 = [1, 6, 3]\n",
        "print(arrayProduct(arr2))  # Output: 18\n"
      ],
      "metadata": {
        "colab": {
          "base_uri": "https://localhost:8080/"
        },
        "id": "0BAIxV3QTda_",
        "outputId": "c6ab149e-d56c-48bd-a681-b8eb7f5fba68"
      },
      "execution_count": 19,
      "outputs": [
        {
          "output_type": "stream",
          "name": "stdout",
          "text": [
            "120\n",
            "18\n"
          ]
        }
      ]
    },
    {
      "cell_type": "code",
      "source": [],
      "metadata": {
        "id": "jcA0w-nGTfD9"
      },
      "execution_count": null,
      "outputs": []
    }
  ]
}