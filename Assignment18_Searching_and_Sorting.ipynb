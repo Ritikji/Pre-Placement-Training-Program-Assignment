{
  "nbformat": 4,
  "nbformat_minor": 0,
  "metadata": {
    "colab": {
      "provenance": []
    },
    "kernelspec": {
      "name": "python3",
      "display_name": "Python 3"
    },
    "language_info": {
      "name": "python"
    }
  },
  "cells": [
    {
      "cell_type": "markdown",
      "source": [
        "#Q1\n",
        "**Merge Intervals**\n",
        "\n",
        "Given an array of `intervals` where `intervals[i] = [starti, endi]`, merge all overlapping intervals, and return *an array of the non-overlapping intervals that cover all the intervals in the input*.\n",
        "\n",
        "Input: intervals = [[1,3],[2,6],[8,10],[15,18]]\n",
        "Output: [[1,6],[8,10],[15,18]]\n",
        "Explanation: Since intervals [1,3] and [2,6] overlap, merge them into [1,6].\n"
      ],
      "metadata": {
        "id": "4yCXRGJxEd8b"
      }
    },
    {
      "cell_type": "code",
      "execution_count": 1,
      "metadata": {
        "colab": {
          "base_uri": "https://localhost:8080/"
        },
        "id": "fcsJ_G-pEGqF",
        "outputId": "32179bb1-a1e4-4c29-a6be-68d7b7d244b8"
      },
      "outputs": [
        {
          "output_type": "stream",
          "name": "stdout",
          "text": [
            "[[1, 6], [8, 10], [15, 18]]\n"
          ]
        }
      ],
      "source": [
        "def merge_intervals(intervals):\n",
        "    # Sort the intervals based on start times\n",
        "    intervals.sort(key=lambda x: x[0])\n",
        "\n",
        "    # Initialize list to store merged intervals\n",
        "    merged = []\n",
        "\n",
        "    # Iterate through intervals\n",
        "    for interval in intervals:\n",
        "        # If merged list is empty or current interval does not overlap with the previous one\n",
        "        if not merged or interval[0] > merged[-1][1]:\n",
        "            merged.append(interval)\n",
        "        else:\n",
        "            # Update the end time of the previous interval\n",
        "            merged[-1][1] = max(merged[-1][1], interval[1])\n",
        "\n",
        "    return merged\n",
        "\n",
        "# Test case\n",
        "intervals = [[1,3],[2,6],[8,10],[15,18]]\n",
        "merged_intervals = merge_intervals(intervals)\n",
        "print(merged_intervals)\n"
      ]
    },
    {
      "cell_type": "code",
      "source": [],
      "metadata": {
        "id": "EsaV2AEIEmxY"
      },
      "execution_count": null,
      "outputs": []
    },
    {
      "cell_type": "markdown",
      "source": [
        "#example2\n",
        "Input: intervals = [[1,4],[4,5]]\n",
        "Output: [[1,5]]\n",
        "Explanation: Intervals [1,4] and [4,5] are considered overlapping.\n"
      ],
      "metadata": {
        "id": "JKngu1jBEra5"
      }
    },
    {
      "cell_type": "code",
      "source": [
        "def merge_intervals(intervals):\n",
        "    # Sort the intervals based on start times\n",
        "    intervals.sort(key=lambda x: x[0])\n",
        "\n",
        "    # Initialize list to store merged intervals\n",
        "    merged = []\n",
        "\n",
        "    # Iterate through intervals\n",
        "    for interval in intervals:\n",
        "        # If merged list is empty or current interval does not overlap with the previous one\n",
        "        if not merged or interval[0] > merged[-1][1]:\n",
        "            merged.append(interval)\n",
        "        else:\n",
        "            # Update the end time of the previous interval\n",
        "            merged[-1][1] = max(merged[-1][1], interval[1])\n",
        "\n",
        "    return merged\n",
        "\n",
        "# Test case\n",
        "intervals =  [[1,4],[4,5]]\n",
        "merged_intervals = merge_intervals(intervals)\n",
        "print(merged_intervals)\n"
      ],
      "metadata": {
        "colab": {
          "base_uri": "https://localhost:8080/"
        },
        "id": "a9psZdPtEuK_",
        "outputId": "c1dbf0ec-a3e5-4147-bea4-360bb49cacc2"
      },
      "execution_count": 2,
      "outputs": [
        {
          "output_type": "stream",
          "name": "stdout",
          "text": [
            "[[1, 5]]\n"
          ]
        }
      ]
    },
    {
      "cell_type": "code",
      "source": [],
      "metadata": {
        "id": "Lns3s22NEyxS"
      },
      "execution_count": null,
      "outputs": []
    },
    {
      "cell_type": "markdown",
      "source": [
        "#Q2\n",
        " **Sort Colors**\n",
        "\n",
        "Given an array `nums` with `n` objects colored red, white, or blue, sort them **[in-place](https://en.wikipedia.org/wiki/In-place_algorithm)** so that objects of the same color are adjacent, with the colors in the order red, white, and blue.\n",
        "\n",
        "We will use the integers `0`, `1`, and `2` to represent the color red, white, and blue, respectively.\n",
        "\n",
        "You must solve this problem without using the library's sort function.\n",
        "\n",
        "**Example 1:**\n",
        "\n",
        "Input: nums = [2,0,2,1,1,0]\n",
        "Output: [0,0,1,1,2,2]\n"
      ],
      "metadata": {
        "id": "jct_dVlbE46Z"
      }
    },
    {
      "cell_type": "code",
      "source": [
        "def sort_colors(nums):\n",
        "    left = 0  # Pointer for zeros (red)\n",
        "    right = len(nums) - 1  # Pointer for twos (blue)\n",
        "    current = 0  # Current pointer\n",
        "\n",
        "    while current <= right:\n",
        "        if nums[current] == 0:\n",
        "            # Swap current element with the element at the left pointer\n",
        "            nums[current], nums[left] = nums[left], nums[current]\n",
        "            left += 1\n",
        "            current += 1\n",
        "        elif nums[current] == 2:\n",
        "            # Swap current element with the element at the right pointer\n",
        "            nums[current], nums[right] = nums[right], nums[current]\n",
        "            right -= 1\n",
        "        else:\n",
        "            # Move to the next element\n",
        "            current += 1\n",
        "\n",
        "# Test case\n",
        "nums = [2, 0, 2, 1, 1, 0]\n",
        "sort_colors(nums)\n",
        "print(nums)\n"
      ],
      "metadata": {
        "colab": {
          "base_uri": "https://localhost:8080/"
        },
        "id": "5R6Y703fE67X",
        "outputId": "874b306b-9510-4e76-e609-55776e411c73"
      },
      "execution_count": 3,
      "outputs": [
        {
          "output_type": "stream",
          "name": "stdout",
          "text": [
            "[0, 0, 1, 1, 2, 2]\n"
          ]
        }
      ]
    },
    {
      "cell_type": "code",
      "source": [],
      "metadata": {
        "id": "2KAbhWDIE_Vp"
      },
      "execution_count": null,
      "outputs": []
    },
    {
      "cell_type": "markdown",
      "source": [
        "#example2\n",
        "Input: nums = [2,0,1]\n",
        "Output: [0,1,2]\n"
      ],
      "metadata": {
        "id": "j_HNqf2lFDOP"
      }
    },
    {
      "cell_type": "code",
      "source": [
        "def sort_colors(nums):\n",
        "    left = 0  # Pointer for zeros (red)\n",
        "    right = len(nums) - 1  # Pointer for twos (blue)\n",
        "    current = 0  # Current pointer\n",
        "\n",
        "    while current <= right:\n",
        "        if nums[current] == 0:\n",
        "            # Swap current element with the element at the left pointer\n",
        "            nums[current], nums[left] = nums[left], nums[current]\n",
        "            left += 1\n",
        "            current += 1\n",
        "        elif nums[current] == 2:\n",
        "            # Swap current element with the element at the right pointer\n",
        "            nums[current], nums[right] = nums[right], nums[current]\n",
        "            right -= 1\n",
        "        else:\n",
        "            # Move to the next element\n",
        "            current += 1\n",
        "\n",
        "# Test case\n",
        "nums = [2,0,1]\n",
        "sort_colors(nums)\n",
        "print(nums)\n"
      ],
      "metadata": {
        "colab": {
          "base_uri": "https://localhost:8080/"
        },
        "id": "4otiAw8TFErf",
        "outputId": "b60e2382-3756-4e75-ed0e-71ed060e33fc"
      },
      "execution_count": 4,
      "outputs": [
        {
          "output_type": "stream",
          "name": "stdout",
          "text": [
            "[0, 1, 2]\n"
          ]
        }
      ]
    },
    {
      "cell_type": "code",
      "source": [],
      "metadata": {
        "id": "feh0G3pwFInP"
      },
      "execution_count": null,
      "outputs": []
    },
    {
      "cell_type": "markdown",
      "source": [
        "#Q3\n",
        " **First Bad Version Solution**\n",
        "\n",
        "You are a product manager and currently leading a team to develop a new product. Unfortunately, the latest version of your product fails the quality check. Since each version is developed based on the previous version, all the versions after a bad version are also bad.\n",
        "\n",
        "Suppose you have `n` versions `[1, 2, ..., n]` and you want to find out the first bad one, which causes all the following ones to be bad.\n",
        "\n",
        "You are given an API `bool isBadVersion(version)` which returns whether `version` is bad. Implement a function to find the first bad version. You should minimize the number of calls to the API.\n",
        "\n",
        "**Example 1:**\n",
        "\n",
        "Input: n = 5, bad = 4\n",
        "Output: 4\n",
        "Explanation:\n",
        "call isBadVersion(3) -> false\n",
        "call isBadVersion(5) -> true\n",
        "call isBadVersion(4) -> true\n",
        "Then 4 is the first bad version.\n"
      ],
      "metadata": {
        "id": "2Ml05S2_FPqH"
      }
    },
    {
      "cell_type": "code",
      "source": [
        "def isBadVersion(version):\n",
        "    # Implementation of the isBadVersion API function\n",
        "    # The actual implementation depends on the problem or context\n",
        "    pass\n",
        "\n",
        "def first_bad_version(n):\n",
        "    left = 1\n",
        "    right = n\n",
        "\n",
        "    while left < right:\n",
        "        mid = left + (right - left) // 2\n",
        "        if isBadVersion(mid):\n",
        "            right = mid\n",
        "        else:\n",
        "            left = mid + 1\n",
        "\n",
        "    return left\n",
        "\n",
        "# Test case\n",
        "n = 5\n",
        "first_bad = 4\n",
        "first_bad_version = first_bad_version(n)\n",
        "print(first_bad_version)\n"
      ],
      "metadata": {
        "colab": {
          "base_uri": "https://localhost:8080/"
        },
        "id": "Ve5G79ZSFTaP",
        "outputId": "4a27ac6f-97c9-438d-d01c-f16bb29efbc8"
      },
      "execution_count": 3,
      "outputs": [
        {
          "output_type": "stream",
          "name": "stdout",
          "text": [
            "5\n"
          ]
        }
      ]
    },
    {
      "cell_type": "markdown",
      "source": [
        "#example2\n",
        "Input: n = 1, bad = 1\n",
        "Output: 1\n"
      ],
      "metadata": {
        "id": "k_9okk1RTpRe"
      }
    },
    {
      "cell_type": "code",
      "source": [
        "def isBadVersion(version):\n",
        "    # Implementation of the isBadVersion API function\n",
        "    # The actual implementation depends on the problem or context\n",
        "    pass\n",
        "\n",
        "def first_bad_version(n):\n",
        "    left = 1\n",
        "    right = n\n",
        "\n",
        "    while left < right:\n",
        "        mid = left + (right - left) // 2\n",
        "        if isBadVersion(mid):\n",
        "            right = mid\n",
        "        else:\n",
        "            left = mid + 1\n",
        "\n",
        "    return left\n",
        "\n",
        "# Test case\n",
        "n = 1\n",
        "first_bad = 4\n",
        "first_bad_version = first_bad_version(n)\n",
        "print(first_bad_version)\n"
      ],
      "metadata": {
        "colab": {
          "base_uri": "https://localhost:8080/"
        },
        "id": "FA_4az3wFWdo",
        "outputId": "c118471f-5fc6-442a-d615-d2418c7acb9a"
      },
      "execution_count": 4,
      "outputs": [
        {
          "output_type": "stream",
          "name": "stdout",
          "text": [
            "1\n"
          ]
        }
      ]
    },
    {
      "cell_type": "code",
      "source": [],
      "metadata": {
        "id": "5vPf6YzBTyIe"
      },
      "execution_count": null,
      "outputs": []
    },
    {
      "cell_type": "markdown",
      "source": [
        "#Q4\n",
        "**Maximum Gap**\n",
        "\n",
        "Given an integer array `nums`, return *the maximum difference between two successive elements in its sorted form*. If the array contains less than two elements, return `0`.\n",
        "\n",
        "You must write an algorithm that runs in linear time and uses linear extra space.\n",
        "\n",
        "**Example 1:**\n",
        "\n",
        "Input: nums = [3,6,9,1]\n",
        "Output: 3\n",
        "Explanation: The sorted form of the array is [1,3,6,9], either (3,6) or (6,9) has the maximum difference 3.\n"
      ],
      "metadata": {
        "id": "-2HEORlXUIUm"
      }
    },
    {
      "cell_type": "code",
      "source": [
        "def maximum_gap(nums):\n",
        "    if len(nums) < 2:\n",
        "        return 0\n",
        "\n",
        "    # Perform Radix Sort on the nums array\n",
        "    def radix_sort(nums):\n",
        "        # Find the maximum element in the array\n",
        "        max_num = max(nums)\n",
        "        # Perform counting sort for each digit\n",
        "        exp = 1\n",
        "        while max_num // exp > 0:\n",
        "            counting_sort(nums, exp)\n",
        "            exp *= 10\n",
        "\n",
        "    # Perform counting sort based on a specific digit\n",
        "    def counting_sort(nums, exp):\n",
        "        n = len(nums)\n",
        "        count = [0] * 10  # Counting array for digits 0-9\n",
        "        output = [0] * n  # Output array\n",
        "\n",
        "        # Count the occurrences of each digit\n",
        "        for i in range(n):\n",
        "            index = nums[i] // exp\n",
        "            count[index % 10] += 1\n",
        "\n",
        "        # Calculate the cumulative count\n",
        "        for i in range(1, 10):\n",
        "            count[i] += count[i - 1]\n",
        "\n",
        "        # Build the output array\n",
        "        for i in range(n - 1, -1, -1):\n",
        "            index = nums[i] // exp\n",
        "            output[count[index % 10] - 1] = nums[i]\n",
        "            count[index % 10] -= 1\n",
        "\n",
        "        # Copy the sorted elements back to the original array\n",
        "        for i in range(n):\n",
        "            nums[i] = output[i]\n",
        "\n",
        "    # Sort the nums array using Radix Sort\n",
        "    radix_sort(nums)\n",
        "\n",
        "    # Find the maximum gap between two successive elements\n",
        "    max_gap = 0\n",
        "    for i in range(1, len(nums)):\n",
        "        max_gap = max(max_gap, nums[i] - nums[i - 1])\n",
        "\n",
        "    return max_gap\n",
        "\n",
        "# Test case\n",
        "nums = [3, 6, 9, 1]\n",
        "max_gap = maximum_gap(nums)\n",
        "print(max_gap)\n"
      ],
      "metadata": {
        "colab": {
          "base_uri": "https://localhost:8080/"
        },
        "id": "jaHiIOfxUM_m",
        "outputId": "f4ccb18b-0aa4-42a6-ad8a-5868b2eb2528"
      },
      "execution_count": 5,
      "outputs": [
        {
          "output_type": "stream",
          "name": "stdout",
          "text": [
            "3\n"
          ]
        }
      ]
    },
    {
      "cell_type": "markdown",
      "source": [
        "#example2\n",
        "Input: nums = [10]\n",
        "Output: 0\n",
        "Explanation: The array contains less than 2 elements, therefore return 0.\n"
      ],
      "metadata": {
        "id": "-p5luAraUR0n"
      }
    },
    {
      "cell_type": "code",
      "source": [
        "def maximum_gap(nums):\n",
        "    if len(nums) < 2:\n",
        "        return 0\n",
        "\n",
        "    # Perform Radix Sort on the nums array\n",
        "    def radix_sort(nums):\n",
        "        # Find the maximum element in the array\n",
        "        max_num = max(nums)\n",
        "        # Perform counting sort for each digit\n",
        "        exp = 1\n",
        "        while max_num // exp > 0:\n",
        "            counting_sort(nums, exp)\n",
        "            exp *= 10\n",
        "\n",
        "    # Perform counting sort based on a specific digit\n",
        "    def counting_sort(nums, exp):\n",
        "        n = len(nums)\n",
        "        count = [0] * 10  # Counting array for digits 0-9\n",
        "        output = [0] * n  # Output array\n",
        "\n",
        "        # Count the occurrences of each digit\n",
        "        for i in range(n):\n",
        "            index = nums[i] // exp\n",
        "            count[index % 10] += 1\n",
        "\n",
        "        # Calculate the cumulative count\n",
        "        for i in range(1, 10):\n",
        "            count[i] += count[i - 1]\n",
        "\n",
        "        # Build the output array\n",
        "        for i in range(n - 1, -1, -1):\n",
        "            index = nums[i] // exp\n",
        "            output[count[index % 10] - 1] = nums[i]\n",
        "            count[index % 10] -= 1\n",
        "\n",
        "        # Copy the sorted elements back to the original array\n",
        "        for i in range(n):\n",
        "            nums[i] = output[i]\n",
        "\n",
        "    # Sort the nums array using Radix Sort\n",
        "    radix_sort(nums)\n",
        "\n",
        "    # Find the maximum gap between two successive elements\n",
        "    max_gap = 0\n",
        "    for i in range(1, len(nums)):\n",
        "        max_gap = max(max_gap, nums[i] - nums[i - 1])\n",
        "\n",
        "    return max_gap\n",
        "\n",
        "# Test case\n",
        "nums = [10]\n",
        "max_gap = maximum_gap(nums)\n",
        "print(max_gap)\n"
      ],
      "metadata": {
        "colab": {
          "base_uri": "https://localhost:8080/"
        },
        "id": "VYzo_8VBUPeO",
        "outputId": "06a731a6-d5cd-4871-d981-99eca4208fd2"
      },
      "execution_count": 6,
      "outputs": [
        {
          "output_type": "stream",
          "name": "stdout",
          "text": [
            "0\n"
          ]
        }
      ]
    },
    {
      "cell_type": "markdown",
      "source": [
        "#Q 5.\n",
        " **Contains Duplicate**\n",
        "\n",
        "Given an integer array `nums`, return `true` if any value appears **at least twice** in the array, and return `false` if every element is distinct.\n",
        "\n",
        "**Example 1:**\n",
        "Input: nums = [1,2,3,1]\n",
        "Output: true"
      ],
      "metadata": {
        "id": "miS_3lj-UxyV"
      }
    },
    {
      "cell_type": "code",
      "source": [
        "def contains_duplicate(nums):\n",
        "    num_set = set()\n",
        "\n",
        "    for num in nums:\n",
        "        if num in num_set:\n",
        "            return True\n",
        "        num_set.add(num)\n",
        "\n",
        "    return False\n",
        "\n",
        "# Test case\n",
        "nums = [1, 2, 3, 1]\n",
        "contains_dup = contains_duplicate(nums)\n",
        "print(contains_dup)\n"
      ],
      "metadata": {
        "colab": {
          "base_uri": "https://localhost:8080/"
        },
        "id": "Ny35VUW5Udfx",
        "outputId": "6df806ff-a9db-4da2-b9b7-7e0e6bb2f5bd"
      },
      "execution_count": 7,
      "outputs": [
        {
          "output_type": "stream",
          "name": "stdout",
          "text": [
            "True\n"
          ]
        }
      ]
    },
    {
      "cell_type": "markdown",
      "source": [
        "#example2\n",
        "Input: nums = [1,2,3,4]\n",
        "Output: false\n"
      ],
      "metadata": {
        "id": "XH1GOV87VDKF"
      }
    },
    {
      "cell_type": "code",
      "source": [
        "def contains_duplicate(nums):\n",
        "    num_set = set()\n",
        "\n",
        "    for num in nums:\n",
        "        if num in num_set:\n",
        "            return True\n",
        "        num_set.add(num)\n",
        "\n",
        "    return False\n",
        "\n",
        "# Test case\n",
        "nums = [1,2,3,4]\n",
        "contains_dup = contains_duplicate(nums)\n",
        "print(contains_dup)\n"
      ],
      "metadata": {
        "colab": {
          "base_uri": "https://localhost:8080/"
        },
        "id": "tGPjR4p9U2QW",
        "outputId": "6e22ac00-a95d-4ea4-db4a-135e09eb4e6d"
      },
      "execution_count": 8,
      "outputs": [
        {
          "output_type": "stream",
          "name": "stdout",
          "text": [
            "False\n"
          ]
        }
      ]
    },
    {
      "cell_type": "markdown",
      "source": [
        "#example3\n",
        "Input: nums = [1,1,1,3,3,4,3,2,4,2]\n",
        "Output: true\n"
      ],
      "metadata": {
        "id": "8kck8KkrVLsd"
      }
    },
    {
      "cell_type": "code",
      "source": [
        "def contains_duplicate(nums):\n",
        "    num_set = set()\n",
        "\n",
        "    for num in nums:\n",
        "        if num in num_set:\n",
        "            return True\n",
        "        num_set.add(num)\n",
        "\n",
        "    return False\n",
        "\n",
        "# Test case\n",
        "nums = [1,1,1,3,3,4,3,2,4,2]\n",
        "contains_dup = contains_duplicate(nums)\n",
        "print(contains_dup)\n"
      ],
      "metadata": {
        "colab": {
          "base_uri": "https://localhost:8080/"
        },
        "id": "aNtOSqz7VI0E",
        "outputId": "d04188d0-c65f-410a-8b8c-9882ac91c803"
      },
      "execution_count": 9,
      "outputs": [
        {
          "output_type": "stream",
          "name": "stdout",
          "text": [
            "True\n"
          ]
        }
      ]
    },
    {
      "cell_type": "code",
      "source": [],
      "metadata": {
        "id": "iu_sR_LhWM4M"
      },
      "execution_count": null,
      "outputs": []
    },
    {
      "cell_type": "markdown",
      "source": [
        "#Q6\n",
        "**Minimum Number of Arrows to Burst Balloons**\n",
        "\n",
        "There are some spherical balloons taped onto a flat wall that represents the XY-plane. The balloons are represented as a 2D integer array `points` where `points[i] = [xstart, xend]` denotes a balloon whose **horizontal diameter** stretches between `xstart` and `xend`. You do not know the exact y-coordinates of the balloons.\n",
        "\n",
        "Arrows can be shot up **directly vertically** (in the positive y-direction) from different points along the x-axis. A balloon with `xstart` and `xend` is **burst** by an arrow shot at `x` if `xstart <= x <= xend`. There is **no limit** to the number of arrows that can be shot. A shot arrow keeps traveling up infinitely, bursting any balloons in its path.\n",
        "\n",
        "Given the array `points`, return *the **minimum** number of arrows that must be shot to burst all balloons*.\n",
        "\n",
        "Input: points = [[10,16],[2,8],[1,6],[7,12]]\n",
        "Output: 2\n",
        "Explanation: The balloons can be burst by 2 arrows:\n",
        "- Shoot an arrow at x = 6, bursting the balloons [2,8] and [1,6].\n",
        "- Shoot an arrow at x = 11, bursting the balloons [10,16] and [7,12].\n"
      ],
      "metadata": {
        "id": "iaWS2291WTFm"
      }
    },
    {
      "cell_type": "code",
      "source": [
        "def find_min_arrows(points):\n",
        "    if not points:\n",
        "        return 0\n",
        "\n",
        "    # Sort the balloons based on their end position\n",
        "    points.sort(key=lambda x: x[1])\n",
        "\n",
        "    arrows = 1\n",
        "    end = points[0][1]\n",
        "\n",
        "    # Shoot arrows to burst balloons\n",
        "    for i in range(1, len(points)):\n",
        "        if points[i][0] > end:\n",
        "            # Balloon cannot be burst with the current arrow\n",
        "            arrows += 1\n",
        "            end = points[i][1]\n",
        "\n",
        "    return arrows\n",
        "\n",
        "# Test case\n",
        "points = [[10, 16], [2, 8], [1, 6], [7, 12]]\n",
        "min_arrows = find_min_arrows(points)\n",
        "print(min_arrows)\n"
      ],
      "metadata": {
        "colab": {
          "base_uri": "https://localhost:8080/"
        },
        "id": "6hlLP8QZWYN9",
        "outputId": "a704c44f-510d-4c88-b42d-04ba0666981e"
      },
      "execution_count": 10,
      "outputs": [
        {
          "output_type": "stream",
          "name": "stdout",
          "text": [
            "2\n"
          ]
        }
      ]
    },
    {
      "cell_type": "markdown",
      "source": [
        "#example2\n",
        "Input: points = [[1,2],[3,4],[5,6],[7,8]]\n",
        "Output: 4\n",
        "Explanation: One arrow needs to be shot for each balloon for a total of 4 arrows.\n"
      ],
      "metadata": {
        "id": "TbuLH_wcWfg0"
      }
    },
    {
      "cell_type": "code",
      "source": [
        "def find_min_arrows(points):\n",
        "    if not points:\n",
        "        return 0\n",
        "\n",
        "    # Sort the balloons based on their end position\n",
        "    points.sort(key=lambda x: x[1])\n",
        "\n",
        "    arrows = 1\n",
        "    end = points[0][1]\n",
        "\n",
        "    # Shoot arrows to burst balloons\n",
        "    for i in range(1, len(points)):\n",
        "        if points[i][0] > end:\n",
        "            # Balloon cannot be burst with the current arrow\n",
        "            arrows += 1\n",
        "            end = points[i][1]\n",
        "\n",
        "    return arrows\n",
        "\n",
        "# Test case\n",
        "points = [[1,2],[3,4],[5,6],[7,8]]\n",
        "min_arrows = find_min_arrows(points)\n",
        "print(min_arrows)\n"
      ],
      "metadata": {
        "colab": {
          "base_uri": "https://localhost:8080/"
        },
        "id": "6N4iqxnWWdNF",
        "outputId": "b9d2447c-c8e5-494b-f5fd-aca3a87c39b4"
      },
      "execution_count": 11,
      "outputs": [
        {
          "output_type": "stream",
          "name": "stdout",
          "text": [
            "4\n"
          ]
        }
      ]
    },
    {
      "cell_type": "markdown",
      "source": [
        "#example3\n",
        "Input: points = [[1,2],[2,3],[3,4],[4,5]]\n",
        "Output: 2\n",
        "Explanation: The balloons can be burst by 2 arrows:\n",
        "- Shoot an arrow at x = 2, bursting the balloons [1,2] and [2,3].\n",
        "- Shoot an arrow at x = 4, bursting the balloons [3,4] and [4,5].\n"
      ],
      "metadata": {
        "id": "5d3ce_GrWqX2"
      }
    },
    {
      "cell_type": "code",
      "source": [
        "def find_min_arrows(points):\n",
        "    if not points:\n",
        "        return 0\n",
        "\n",
        "    # Sort the balloons based on their end position\n",
        "    points.sort(key=lambda x: x[1])\n",
        "\n",
        "    arrows = 1\n",
        "    end = points[0][1]\n",
        "\n",
        "    # Shoot arrows to burst balloons\n",
        "    for i in range(1, len(points)):\n",
        "        if points[i][0] > end:\n",
        "            # Balloon cannot be burst with the current arrow\n",
        "            arrows += 1\n",
        "            end = points[i][1]\n",
        "\n",
        "    return arrows\n",
        "\n",
        "# Test case\n",
        "points = [[1,2],[2,3],[3,4],[4,5]]\n",
        "min_arrows = find_min_arrows(points)\n",
        "print(min_arrows)\n"
      ],
      "metadata": {
        "colab": {
          "base_uri": "https://localhost:8080/"
        },
        "id": "uZTpAiltWqJi",
        "outputId": "ce698be4-651b-4c29-fa40-20a498b9b9c7"
      },
      "execution_count": 12,
      "outputs": [
        {
          "output_type": "stream",
          "name": "stdout",
          "text": [
            "2\n"
          ]
        }
      ]
    },
    {
      "cell_type": "markdown",
      "source": [
        "#Q7\n",
        "**Longest Increasing Subsequence**\n",
        "\n",
        "Given an integer array `nums`, return *the length of the longest **strictly increasing***\n",
        "\n",
        "***subsequence***\n",
        "\n",
        ".\n",
        "\n",
        "**Example 1:**\n",
        "\n",
        "Input: nums = [10,9,2,5,3,7,101,18]\n",
        "Output: 4\n",
        "Explanation: The longest increasing subsequence is [2,3,7,101], therefore the length is 4.\n"
      ],
      "metadata": {
        "id": "vZ9CFtb-XBEm"
      }
    },
    {
      "cell_type": "code",
      "source": [
        "def longest_increasing_subsequence(nums):\n",
        "    if not nums:\n",
        "        return 0\n",
        "\n",
        "    n = len(nums)\n",
        "    dp = [1] * n  # Initialize the dynamic programming array with 1\n",
        "\n",
        "    # Compute the lengths of the increasing subsequences\n",
        "    for i in range(1, n):\n",
        "        for j in range(i):\n",
        "            if nums[i] > nums[j]:\n",
        "                dp[i] = max(dp[i], dp[j] + 1)\n",
        "\n",
        "    return max(dp)\n",
        "\n",
        "# Test case\n",
        "nums = [10, 9, 2, 5, 3, 7, 101, 18]\n",
        "length = longest_increasing_subsequence(nums)\n",
        "print(length)\n"
      ],
      "metadata": {
        "colab": {
          "base_uri": "https://localhost:8080/"
        },
        "id": "ikS54n0EWmTm",
        "outputId": "d1351d04-10a6-4511-8301-5e030ccfec08"
      },
      "execution_count": 13,
      "outputs": [
        {
          "output_type": "stream",
          "name": "stdout",
          "text": [
            "4\n"
          ]
        }
      ]
    },
    {
      "cell_type": "markdown",
      "source": [
        "#example2\n",
        "Input: nums = [0,1,0,3,2,3]\n",
        "Output: 4\n"
      ],
      "metadata": {
        "id": "0sLuHrzXXKE9"
      }
    },
    {
      "cell_type": "code",
      "source": [
        "def longest_increasing_subsequence(nums):\n",
        "    if not nums:\n",
        "        return 0\n",
        "\n",
        "    n = len(nums)\n",
        "    dp = [1] * n  # Initialize the dynamic programming array with 1\n",
        "\n",
        "    # Compute the lengths of the increasing subsequences\n",
        "    for i in range(1, n):\n",
        "        for j in range(i):\n",
        "            if nums[i] > nums[j]:\n",
        "                dp[i] = max(dp[i], dp[j] + 1)\n",
        "\n",
        "    return max(dp)\n",
        "\n",
        "# Test case\n",
        "nums = [0,1,0,3,2,3]\n",
        "length = longest_increasing_subsequence(nums)\n",
        "print(length)\n"
      ],
      "metadata": {
        "colab": {
          "base_uri": "https://localhost:8080/"
        },
        "id": "DK1_wKbKXJ0w",
        "outputId": "d019dd25-40ab-4938-9012-93afebcb0277"
      },
      "execution_count": 14,
      "outputs": [
        {
          "output_type": "stream",
          "name": "stdout",
          "text": [
            "4\n"
          ]
        }
      ]
    },
    {
      "cell_type": "markdown",
      "source": [
        "#example3\n",
        "Input: nums = [7,7,7,7,7,7,7]\n",
        "Output: 1\n"
      ],
      "metadata": {
        "id": "x_D8wD0nXRPW"
      }
    },
    {
      "cell_type": "code",
      "source": [
        "def longest_increasing_subsequence(nums):\n",
        "    if not nums:\n",
        "        return 0\n",
        "\n",
        "    n = len(nums)\n",
        "    dp = [1] * n  # Initialize the dynamic programming array with 1\n",
        "\n",
        "    # Compute the lengths of the increasing subsequences\n",
        "    for i in range(1, n):\n",
        "        for j in range(i):\n",
        "            if nums[i] > nums[j]:\n",
        "                dp[i] = max(dp[i], dp[j] + 1)\n",
        "\n",
        "    return max(dp)\n",
        "\n",
        "# Test case\n",
        "nums =  [7,7,7,7,7,7,7]\n",
        "length = longest_increasing_subsequence(nums)\n",
        "print(length)\n"
      ],
      "metadata": {
        "colab": {
          "base_uri": "https://localhost:8080/"
        },
        "id": "0tIwVLuhXHK2",
        "outputId": "b8a85f29-12e8-4ce3-debb-c136633682b6"
      },
      "execution_count": 15,
      "outputs": [
        {
          "output_type": "stream",
          "name": "stdout",
          "text": [
            "1\n"
          ]
        }
      ]
    },
    {
      "cell_type": "markdown",
      "source": [
        "#Q8.\n",
        "  **132 Pattern**\n",
        "\n",
        "Given an array of `n` integers `nums`, a **132 pattern** is a subsequence of three integers `nums[i]`, `nums[j]` and `nums[k]` such that `i < j < k` and `nums[i] < nums[k] < nums[j]`.\n",
        "\n",
        "Return `true` *if there is a **132 pattern** in* `nums`*, otherwise, return* `false`*.*\n",
        "\n",
        "**Example 1:**\n",
        "\n",
        "Input: nums = [1,2,3,4]\n",
        "Output: false\n",
        "Explanation: There is no 132 pattern in the sequence.\n"
      ],
      "metadata": {
        "id": "tOZUPhC4Xm6A"
      }
    },
    {
      "cell_type": "code",
      "source": [
        "def find132pattern(nums):\n",
        "    stack = []\n",
        "    s3 = float('-inf')\n",
        "\n",
        "    # Iterate from right to left\n",
        "    for i in range(len(nums) - 1, -1, -1):\n",
        "        if nums[i] < s3:\n",
        "            return True\n",
        "        while stack and stack[-1] < nums[i]:\n",
        "            s3 = stack.pop()\n",
        "        stack.append(nums[i])\n",
        "\n",
        "    return False\n",
        "\n",
        "# Test case\n",
        "nums = [1, 2, 3, 4]\n",
        "pattern_exist = find132pattern(nums)\n",
        "print(pattern_exist)\n"
      ],
      "metadata": {
        "colab": {
          "base_uri": "https://localhost:8080/"
        },
        "id": "lOBMYMVZXail",
        "outputId": "c9a4fd33-2dd4-4365-991e-5a200a94543a"
      },
      "execution_count": 16,
      "outputs": [
        {
          "output_type": "stream",
          "name": "stdout",
          "text": [
            "False\n"
          ]
        }
      ]
    },
    {
      "cell_type": "markdown",
      "source": [
        "#example2\n",
        "Input: nums = [3,1,4,2]\n",
        "Output: true\n",
        "Explanation: There is a 132 pattern in the sequence: [1, 4, 2].\n"
      ],
      "metadata": {
        "id": "XbDw32M6XxGc"
      }
    },
    {
      "cell_type": "code",
      "source": [
        "def find132pattern(nums):\n",
        "    stack = []\n",
        "    s3 = float('-inf')\n",
        "\n",
        "    # Iterate from right to left\n",
        "    for i in range(len(nums) - 1, -1, -1):\n",
        "        if nums[i] < s3:\n",
        "            return True\n",
        "        while stack and stack[-1] < nums[i]:\n",
        "            s3 = stack.pop()\n",
        "        stack.append(nums[i])\n",
        "\n",
        "    return False\n",
        "\n",
        "# Test case\n",
        "nums = [3,1,4,2]\n",
        "pattern_exist = find132pattern(nums)\n",
        "print(pattern_exist)\n"
      ],
      "metadata": {
        "colab": {
          "base_uri": "https://localhost:8080/"
        },
        "id": "jlWBZyXIXvWF",
        "outputId": "9b7c6a90-2bc7-4625-8946-f9b3cbaff47d"
      },
      "execution_count": 17,
      "outputs": [
        {
          "output_type": "stream",
          "name": "stdout",
          "text": [
            "True\n"
          ]
        }
      ]
    },
    {
      "cell_type": "markdown",
      "source": [
        "#Example3\n",
        "Input: nums = [-1,3,2,0]\n",
        "Output: true\n",
        "Explanation: There are three 132 patterns in the sequence: [-1, 3, 2], [-1, 3, 0] and [-1, 2, 0].\n"
      ],
      "metadata": {
        "id": "JeH_45BPYEUk"
      }
    },
    {
      "cell_type": "code",
      "source": [
        "def find132pattern(nums):\n",
        "    stack = []\n",
        "    s3 = float('-inf')\n",
        "\n",
        "    # Iterate from right to left\n",
        "    for i in range(len(nums) - 1, -1, -1):\n",
        "        if nums[i] < s3:\n",
        "            return True\n",
        "        while stack and stack[-1] < nums[i]:\n",
        "            s3 = stack.pop()\n",
        "        stack.append(nums[i])\n",
        "\n",
        "    return False\n",
        "\n",
        "# Test case\n",
        "nums = [-1,3,2,0]\n",
        "pattern_exist = find132pattern(nums)\n",
        "print(pattern_exist)\n"
      ],
      "metadata": {
        "colab": {
          "base_uri": "https://localhost:8080/"
        },
        "id": "h48vM4NPX-69",
        "outputId": "41c4737e-d32a-45e1-e5b9-48cef1144c52"
      },
      "execution_count": 18,
      "outputs": [
        {
          "output_type": "stream",
          "name": "stdout",
          "text": [
            "True\n"
          ]
        }
      ]
    },
    {
      "cell_type": "code",
      "source": [],
      "metadata": {
        "id": "d3PWNd9_YKU9"
      },
      "execution_count": null,
      "outputs": []
    }
  ]
}