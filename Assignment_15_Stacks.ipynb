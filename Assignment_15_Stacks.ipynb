{
  "nbformat": 4,
  "nbformat_minor": 0,
  "metadata": {
    "colab": {
      "provenance": []
    },
    "kernelspec": {
      "name": "python3",
      "display_name": "Python 3"
    },
    "language_info": {
      "name": "python"
    }
  },
  "cells": [
    {
      "cell_type": "markdown",
      "source": [
        "#Question 1\n",
        "\n",
        "Given an array **arr[ ]** of size **N** having elements, the task is to find the next greater element for each element of the array in order of their appearance in the array.Next greater element of an element in the array is the nearest element on the right which is greater than the current element.If there does not exist next greater of current element, then next greater element for current element is -1. For example, next greater of the last element is always -1.\n",
        "\n",
        "**Example 1:**\n",
        "\n",
        "Input:\n",
        "N = 4, arr[] = [1 3 2 4]\n",
        "Output:\n",
        "3 4 4 -1\n",
        "Explanation:\n",
        "In the array, the next larger element\n",
        "to 1 is 3 , 3 is 4 , 2 is 4 and for 4 ?\n",
        "since it doesn't exist, it is -1.\n"
      ],
      "metadata": {
        "id": "oFTvZ4DGBrpT"
      }
    },
    {
      "cell_type": "code",
      "execution_count": 1,
      "metadata": {
        "id": "sPUxDt303vqA"
      },
      "outputs": [],
      "source": [
        "def find_next_greater_element(arr):\n",
        "    stack = []  # Stack to store indices of elements\n",
        "    result = [-1] * len(arr)  # Result array initialized with -1\n",
        "\n",
        "    for i in range(len(arr)):\n",
        "        # Check if the current element is greater than the elements in the stack\n",
        "        while stack and arr[i] > arr[stack[-1]]:\n",
        "            index = stack.pop()  # Pop the top element from the stack\n",
        "            result[index] = arr[i]  # Update the result array\n",
        "\n",
        "        stack.append(i)  # Push the current index onto the stack\n",
        "\n",
        "    return result\n",
        "\n"
      ]
    },
    {
      "cell_type": "code",
      "source": [
        "arr = [1, 3, 2, 4]\n",
        "next_greater = find_next_greater_element(arr)\n",
        "print(next_greater)\n"
      ],
      "metadata": {
        "colab": {
          "base_uri": "https://localhost:8080/"
        },
        "id": "UJvw_DKOB9uY",
        "outputId": "3d47e70e-01a5-4a9a-9508-3d9186272bbc"
      },
      "execution_count": 2,
      "outputs": [
        {
          "output_type": "stream",
          "name": "stdout",
          "text": [
            "[3, 4, 4, -1]\n"
          ]
        }
      ]
    },
    {
      "cell_type": "markdown",
      "source": [
        "#example2\n",
        "Input:\n",
        "N = 5, arr[] [6 8 0 1 3]\n",
        "Output:\n",
        "8 -1 1 3 -1\n",
        "Explanation:\n",
        "In the array, the next larger element to\n",
        "6 is 8, for 8 there is no larger elements\n",
        "hence it is -1, for 0 it is 1 , for 1 it\n",
        "is 3 and then for 3 there is no larger\n",
        "element on right and hence -1.\n"
      ],
      "metadata": {
        "id": "0YEeODoLB144"
      }
    },
    {
      "cell_type": "code",
      "source": [
        "def find_next_greater_element(arr):\n",
        "    stack = []  # Stack to store indices of elements\n",
        "    result = [-1] * len(arr)  # Result array initialized with -1\n",
        "\n",
        "    for i in range(len(arr)-1, -1, -1):\n",
        "        # Check if the current element is greater than the elements in the stack\n",
        "        while stack and arr[i] > arr[stack[-1]]:\n",
        "            index = stack.pop()  # Pop the top element from the stack\n",
        "            result[index] = arr[i]  # Update the result array\n",
        "\n",
        "        stack.append(i)  # Push the current index onto the stack\n",
        "\n",
        "    result.reverse()  # Reverse the result array\n",
        "\n",
        "    return result\n"
      ],
      "metadata": {
        "id": "j9xO6wqmB4Qo"
      },
      "execution_count": 3,
      "outputs": []
    },
    {
      "cell_type": "code",
      "source": [
        "arr = [6, 8, 0, 1, 3]\n",
        "next_greater = find_next_greater_element(arr)\n",
        "print(next_greater)"
      ],
      "metadata": {
        "colab": {
          "base_uri": "https://localhost:8080/"
        },
        "id": "iYGvFhrnCB1h",
        "outputId": "1a2eb6ed-6bb1-4dc1-b1e1-1e0b1ec50447"
      },
      "execution_count": 4,
      "outputs": [
        {
          "output_type": "stream",
          "name": "stdout",
          "text": [
            "[8, 8, 8, -1, -1]\n"
          ]
        }
      ]
    },
    {
      "cell_type": "code",
      "source": [],
      "metadata": {
        "id": "7E23HOuPCEYQ"
      },
      "execution_count": null,
      "outputs": []
    },
    {
      "cell_type": "markdown",
      "source": [
        "#Question 2\n",
        "\n",
        "Given an array **a** of integers of length **n**, find the nearest smaller number for every element such that the smaller element is on left side.If no small element present on the left print -1.\n",
        "\n",
        "**Example 1:**\n",
        "\n",
        "Input: n = 3\n",
        "a = {1, 6, 2}\n",
        "Output: -1 1 1\n",
        "Explaination: There is no number at the\n",
        "left of 1. Smaller number than 6 and 2 is 1."
      ],
      "metadata": {
        "id": "85X9I_SlCK5J"
      }
    },
    {
      "cell_type": "code",
      "source": [
        "def find_nearest_smaller_element(arr):\n",
        "    stack = []  # Stack to store indices of elements\n",
        "    result = [-1] * len(arr)  # Result array initialized with -1\n",
        "\n",
        "    for i in range(len(arr)):\n",
        "        # Check if the current element is smaller than the elements in the stack\n",
        "        while stack and arr[i] <= arr[stack[-1]]:\n",
        "            stack.pop()  # Pop elements greater than or equal to the current element\n",
        "\n",
        "        if stack:\n",
        "            result[i] = arr[stack[-1]]  # Update the result array with the nearest smaller element\n",
        "\n",
        "        stack.append(i)  # Push the current index onto the stack\n",
        "\n",
        "    return result\n"
      ],
      "metadata": {
        "id": "uwmQVz7bCKSi"
      },
      "execution_count": 5,
      "outputs": []
    },
    {
      "cell_type": "code",
      "source": [
        "arr = [1, 6, 2]\n",
        "nearest_smaller = find_nearest_smaller_element(arr)\n",
        "print(nearest_smaller)\n"
      ],
      "metadata": {
        "colab": {
          "base_uri": "https://localhost:8080/"
        },
        "id": "OzEEqhvkCbNA",
        "outputId": "1e9878c9-e6d2-42ce-a44f-ceca70c597e0"
      },
      "execution_count": 6,
      "outputs": [
        {
          "output_type": "stream",
          "name": "stdout",
          "text": [
            "[-1, 1, 1]\n"
          ]
        }
      ]
    },
    {
      "cell_type": "markdown",
      "source": [
        "#example2\n",
        "Input: n = 6\n",
        "a = {1, 5, 0, 3, 4, 5}\n",
        "Output: -1 1 -1 0 3 4\n",
        "Explaination: Upto 3 it is easy to see\n",
        "the smaller numbers. But for 4 the smaller\n",
        "numbers are 1, 0 and 3. But among them 3\n",
        "is closest. Similary for 5 it is 4."
      ],
      "metadata": {
        "id": "Csd1oyIACTbw"
      }
    },
    {
      "cell_type": "code",
      "source": [
        "def find_nearest_smaller_element(arr):\n",
        "    stack = []  # Stack to store indices of elements\n",
        "    result = [-1] * len(arr)  # Result array initialized with -1\n",
        "\n",
        "    for i in range(len(arr)):\n",
        "        # Check if the current element is smaller than the elements in the stack\n",
        "        while stack and arr[i] <= arr[stack[-1]]:\n",
        "            stack.pop()  # Pop elements greater than or equal to the current element\n",
        "\n",
        "        if stack:\n",
        "            result[i] = arr[stack[-1]]  # Update the result array with the nearest smaller element\n",
        "\n",
        "        stack.append(i)  # Push the current index onto the stack\n",
        "\n",
        "    return result\n"
      ],
      "metadata": {
        "id": "p3k7w7eaCVNH"
      },
      "execution_count": 7,
      "outputs": []
    },
    {
      "cell_type": "code",
      "source": [
        "arr = [1, 5, 0, 3, 4, 5]\n",
        "nearest_smaller = find_nearest_smaller_element(arr)\n",
        "print(nearest_smaller)"
      ],
      "metadata": {
        "colab": {
          "base_uri": "https://localhost:8080/"
        },
        "id": "xPiiX93zCenw",
        "outputId": "2547a9bf-656d-43c7-fc43-53ef2c64634c"
      },
      "execution_count": 8,
      "outputs": [
        {
          "output_type": "stream",
          "name": "stdout",
          "text": [
            "[-1, 1, -1, 0, 3, 4]\n"
          ]
        }
      ]
    },
    {
      "cell_type": "code",
      "source": [],
      "metadata": {
        "id": "pzeJdB37CiGA"
      },
      "execution_count": null,
      "outputs": []
    },
    {
      "cell_type": "markdown",
      "source": [
        "#Question 3\n",
        "\n",
        "Implement a Stack using two queues **q1** and **q2**.\n",
        "\n",
        "**Example 1:**\n",
        "\n",
        "Input:\n",
        "push(2)\n",
        "push(3)\n",
        "pop()\n",
        "push(4)\n",
        "pop()\n",
        "Output:3 4\n",
        "Explanation:\n",
        "push(2) the stack will be {2}\n",
        "push(3) the stack will be {2 3}\n",
        "pop()   poped element will be 3 the\n",
        "        stack will be {2}\n",
        "push(4) the stack will be {2 4}\n",
        "pop()   poped element will be 4\n"
      ],
      "metadata": {
        "id": "-TCqwwQ0Cn5F"
      }
    },
    {
      "cell_type": "code",
      "source": [
        "from queue import Queue\n",
        "\n",
        "class Stack:\n",
        "    def __init__(self):\n",
        "        self.q1 = Queue()\n",
        "        self.q2 = Queue()\n",
        "\n",
        "    def push(self, element):\n",
        "        self.q2.put(element)\n",
        "\n",
        "        while not self.q1.empty():\n",
        "            self.q2.put(self.q1.get())\n",
        "\n",
        "        self.q1, self.q2 = self.q2, self.q1\n",
        "\n",
        "    def pop(self):\n",
        "        if self.q1.empty():\n",
        "            return None\n",
        "        return self.q1.get()\n",
        "\n",
        "    def top(self):\n",
        "        if self.q1.empty():\n",
        "            return None\n",
        "        return self.q1.queue[0]\n",
        "\n",
        "    def is_empty(self):\n",
        "        return self.q1.empty()\n"
      ],
      "metadata": {
        "id": "qeZxfwvbCqth"
      },
      "execution_count": 9,
      "outputs": []
    },
    {
      "cell_type": "code",
      "source": [
        "stack = Stack()\n",
        "stack.push(2)\n",
        "stack.push(3)\n",
        "print(stack.pop())\n",
        "stack.push(4)\n",
        "print(stack.pop())\n"
      ],
      "metadata": {
        "colab": {
          "base_uri": "https://localhost:8080/"
        },
        "id": "Rdpdtj3xC1m6",
        "outputId": "ca78666f-ed5f-4999-c649-3d30fb217c41"
      },
      "execution_count": 13,
      "outputs": [
        {
          "output_type": "stream",
          "name": "stdout",
          "text": [
            "3\n",
            "4\n"
          ]
        }
      ]
    },
    {
      "cell_type": "markdown",
      "source": [
        "#example2\n",
        "Input:\n",
        "push(2)\n",
        "pop()\n",
        "pop()\n",
        "push(3)\n",
        "Output:2 -1"
      ],
      "metadata": {
        "id": "3WVHfy1eCw_S"
      }
    },
    {
      "cell_type": "code",
      "source": [
        "from queue import Queue\n",
        "\n",
        "class Stack:\n",
        "    def __init__(self):\n",
        "        self.q1 = Queue()\n",
        "        self.q2 = Queue()\n",
        "\n",
        "    def push(self, element):\n",
        "        self.q1.put(element)\n",
        "\n",
        "    def pop(self):\n",
        "        if self.q1.empty():\n",
        "            return -1\n",
        "\n",
        "        while self.q1.qsize() > 1:\n",
        "            self.q2.put(self.q1.get())\n",
        "\n",
        "        top_element = self.q1.get()\n",
        "\n",
        "        self.q1, self.q2 = self.q2, self.q1\n",
        "\n",
        "        return top_element\n",
        "\n",
        "    def top(self):\n",
        "        if self.q1.empty():\n",
        "            return -1\n",
        "\n",
        "        while self.q1.qsize() > 1:\n",
        "            self.q2.put(self.q1.get())\n",
        "\n",
        "        top_element = self.q1.get()\n",
        "        self.q2.put(top_element)\n",
        "\n",
        "        self.q1, self.q2 = self.q2, self.q1\n",
        "\n",
        "        return top_element\n",
        "\n",
        "    def is_empty(self):\n",
        "        return self.q1.empty()\n"
      ],
      "metadata": {
        "id": "FgjjfTndCykh"
      },
      "execution_count": 11,
      "outputs": []
    },
    {
      "cell_type": "code",
      "source": [
        "stack = Stack()\n",
        "stack.push(2)\n",
        "print(stack.pop())\n",
        "print(stack.pop())\n",
        "stack.push(3)\n",
        "print(stack.top())\n"
      ],
      "metadata": {
        "colab": {
          "base_uri": "https://localhost:8080/"
        },
        "id": "Awj1EVcbDAzY",
        "outputId": "cf82b01f-6968-424d-d99a-1b5953561751"
      },
      "execution_count": 12,
      "outputs": [
        {
          "output_type": "stream",
          "name": "stdout",
          "text": [
            "2\n",
            "-1\n",
            "3\n"
          ]
        }
      ]
    },
    {
      "cell_type": "code",
      "source": [],
      "metadata": {
        "id": "8bOHnITZDEbJ"
      },
      "execution_count": null,
      "outputs": []
    },
    {
      "cell_type": "markdown",
      "source": [
        "#Question 4\n",
        "\n",
        "You are given a stack **St**. You have to reverse the stack using recursion.\n",
        "\n",
        "Input:St = {3,2,1,7,6}\n",
        "Output:{6,7,1,2,3}"
      ],
      "metadata": {
        "id": "DOmfU1x8DMSy"
      }
    },
    {
      "cell_type": "code",
      "source": [
        "class Stack:\n",
        "    def __init__(self):\n",
        "        self.stack = []\n",
        "\n",
        "    def push(self, element):\n",
        "        self.stack.append(element)\n",
        "\n",
        "    def pop(self):\n",
        "        if not self.is_empty():\n",
        "            return self.stack.pop()\n",
        "\n",
        "    def is_empty(self):\n",
        "        return len(self.stack) == 0\n",
        "\n",
        "    def reverse(self):\n",
        "        if not self.is_empty():\n",
        "            top_element = self.pop()\n",
        "            self.reverse()  # Recursively reverse the remaining stack\n",
        "            self.insert_at_bottom(top_element)\n",
        "\n",
        "    def insert_at_bottom(self, element):\n",
        "        if self.is_empty():\n",
        "            self.push(element)\n",
        "        else:\n",
        "            top_element = self.pop()\n",
        "            self.insert_at_bottom(element)\n",
        "            self.push(top_element)\n"
      ],
      "metadata": {
        "id": "v9mEMCZjDOu4"
      },
      "execution_count": 14,
      "outputs": []
    },
    {
      "cell_type": "code",
      "source": [
        "stack = Stack()\n",
        "stack.push(3)\n",
        "stack.push(2)\n",
        "stack.push(1)\n",
        "stack.push(7)\n",
        "stack.push(6)\n",
        "\n",
        "print(\"Original Stack:\", stack.stack)\n",
        "\n",
        "stack.reverse()\n",
        "\n",
        "print(\"Reversed Stack:\", stack.stack)\n"
      ],
      "metadata": {
        "colab": {
          "base_uri": "https://localhost:8080/"
        },
        "id": "iGO_7B5zDQ2I",
        "outputId": "f0456f74-1c6c-429c-cf2e-17cd310d52e4"
      },
      "execution_count": 15,
      "outputs": [
        {
          "output_type": "stream",
          "name": "stdout",
          "text": [
            "Original Stack: [3, 2, 1, 7, 6]\n",
            "Reversed Stack: [6, 7, 1, 2, 3]\n"
          ]
        }
      ]
    },
    {
      "cell_type": "code",
      "source": [],
      "metadata": {
        "id": "OSRgI8Q_DXFY"
      },
      "execution_count": null,
      "outputs": []
    },
    {
      "cell_type": "markdown",
      "source": [
        "#example2\n",
        "Input:St = {4,3,9,6}\n",
        "Output:{6,9,3,4}"
      ],
      "metadata": {
        "id": "qyFHiEclDcQQ"
      }
    },
    {
      "cell_type": "code",
      "source": [
        "class Stack:\n",
        "    def __init__(self):\n",
        "        self.stack = []\n",
        "\n",
        "    def push(self, element):\n",
        "        self.stack.append(element)\n",
        "\n",
        "    def pop(self):\n",
        "        if not self.is_empty():\n",
        "            return self.stack.pop()\n",
        "\n",
        "    def is_empty(self):\n",
        "        return len(self.stack) == 0\n",
        "\n",
        "    def reverse(self):\n",
        "        if not self.is_empty():\n",
        "            top_element = self.pop()\n",
        "            self.reverse()  # Recursively reverse the remaining stack\n",
        "            self.insert_at_bottom(top_element)\n",
        "\n",
        "    def insert_at_bottom(self, element):\n",
        "        if self.is_empty():\n",
        "            self.push(element)\n",
        "        else:\n",
        "            top_element = self.pop()\n",
        "            self.insert_at_bottom(element)\n",
        "            self.push(top_element)\n"
      ],
      "metadata": {
        "id": "sbUjUWwDDdxf"
      },
      "execution_count": 16,
      "outputs": []
    },
    {
      "cell_type": "code",
      "source": [
        "stack = Stack()\n",
        "stack.push(4)\n",
        "stack.push(3)\n",
        "stack.push(9)\n",
        "stack.push(6)\n",
        "\n",
        "print(\"Original Stack:\", stack.stack)\n",
        "\n",
        "stack.reverse()\n",
        "\n",
        "print(\"Reversed Stack:\", stack.stack)\n"
      ],
      "metadata": {
        "colab": {
          "base_uri": "https://localhost:8080/"
        },
        "id": "3dqkxI1lDgkw",
        "outputId": "6e20ad17-0b86-47ed-8d08-633b4642d5e6"
      },
      "execution_count": 17,
      "outputs": [
        {
          "output_type": "stream",
          "name": "stdout",
          "text": [
            "Original Stack: [4, 3, 9, 6]\n",
            "Reversed Stack: [6, 9, 3, 4]\n"
          ]
        }
      ]
    },
    {
      "cell_type": "code",
      "source": [],
      "metadata": {
        "id": "t9ApYWgyDkVg"
      },
      "execution_count": null,
      "outputs": []
    },
    {
      "cell_type": "markdown",
      "source": [
        "#Question 5\n",
        "\n",
        "You are given a string **S**, the task is to reverse the string using stack.\n",
        "\n",
        "Input: S=\"GeeksforGeeks\"\n",
        "Output: skeeGrofskeeG"
      ],
      "metadata": {
        "id": "uyKNv9qHDqsA"
      }
    },
    {
      "cell_type": "code",
      "source": [
        "class Stack:\n",
        "    def __init__(self):\n",
        "        self.stack = []\n",
        "\n",
        "    def push(self, element):\n",
        "        self.stack.append(element)\n",
        "\n",
        "    def pop(self):\n",
        "        if not self.is_empty():\n",
        "            return self.stack.pop()\n",
        "\n",
        "    def is_empty(self):\n",
        "        return len(self.stack) == 0\n",
        "\n",
        "\n",
        "def reverse_string(string):\n",
        "    stack = Stack()\n",
        "\n",
        "    # Push each character onto the stack\n",
        "    for char in string:\n",
        "        stack.push(char)\n",
        "\n",
        "    reversed_string = ''\n",
        "\n",
        "    # Pop each character from the stack and append it to the reversed string\n",
        "    while not stack.is_empty():\n",
        "        reversed_string += stack.pop()\n",
        "\n",
        "    return reversed_string\n",
        "\n",
        "\n",
        "# Test the function\n",
        "input_string = \"GeeksforGeeks\"\n",
        "reversed_string = reverse_string(input_string)\n",
        "print(reversed_string)\n"
      ],
      "metadata": {
        "colab": {
          "base_uri": "https://localhost:8080/"
        },
        "id": "1FwnFjkNDuDY",
        "outputId": "ae0c70a5-3702-4bd7-9ed5-df2d50d3f950"
      },
      "execution_count": 19,
      "outputs": [
        {
          "output_type": "stream",
          "name": "stdout",
          "text": [
            "skeeGrofskeeG\n"
          ]
        }
      ]
    },
    {
      "cell_type": "code",
      "source": [],
      "metadata": {
        "id": "xOzgxTlfDwCv"
      },
      "execution_count": null,
      "outputs": []
    },
    {
      "cell_type": "markdown",
      "source": [
        "#Question 6\n",
        "\n",
        "Given string **S** representing a postfix expression, the task is to evaluate the expression and find the final value. Operators will only include the basic arithmetic operators like ***, /, + and -**.\n",
        "\n",
        "Input: S = \"231*+9-\"\n",
        "Output: -4\n",
        "Explanation:\n",
        "After solving the given expression,\n",
        "we have -4 as result.\n"
      ],
      "metadata": {
        "id": "paSyJtCGD47g"
      }
    },
    {
      "cell_type": "code",
      "source": [
        "class Stack:\n",
        "    def __init__(self):\n",
        "        self.stack = []\n",
        "\n",
        "    def push(self, element):\n",
        "        self.stack.append(element)\n",
        "\n",
        "    def pop(self):\n",
        "        if not self.is_empty():\n",
        "            return self.stack.pop()\n",
        "\n",
        "    def is_empty(self):\n",
        "        return len(self.stack) == 0\n",
        "\n",
        "\n",
        "def evaluate_postfix(expression):\n",
        "    stack = Stack()\n",
        "\n",
        "    for char in expression:\n",
        "        if char.isdigit():\n",
        "            stack.push(int(char))\n",
        "        else:\n",
        "            operand2 = stack.pop()\n",
        "            operand1 = stack.pop()\n",
        "\n",
        "            if char == '*':\n",
        "                result = operand1 * operand2\n",
        "            elif char == '/':\n",
        "                result = operand1 / operand2\n",
        "            elif char == '+':\n",
        "                result = operand1 + operand2\n",
        "            elif char == '-':\n",
        "                result = operand1 - operand2\n",
        "\n",
        "            stack.push(result)\n",
        "\n",
        "    return stack.pop()\n",
        "\n",
        "\n",
        "# Test the function\n",
        "postfix_expression = \"231*+9-\"\n",
        "result = evaluate_postfix(postfix_expression)\n",
        "print(result)\n"
      ],
      "metadata": {
        "colab": {
          "base_uri": "https://localhost:8080/"
        },
        "id": "819epa6pD78P",
        "outputId": "1bcdefe0-3e11-4d63-e86e-13db020213f1"
      },
      "execution_count": 20,
      "outputs": [
        {
          "output_type": "stream",
          "name": "stdout",
          "text": [
            "-4\n"
          ]
        }
      ]
    },
    {
      "cell_type": "code",
      "source": [],
      "metadata": {
        "id": "JCydQ4FQD_-0"
      },
      "execution_count": null,
      "outputs": []
    },
    {
      "cell_type": "markdown",
      "source": [
        "#example2\n",
        "Input: S = \"123+*8-\"\n",
        "Output: -3\n",
        "Explanation:\n",
        "After solving the given postfix\n",
        "expression, we have -3 as result."
      ],
      "metadata": {
        "id": "UKjuXflNEGiw"
      }
    },
    {
      "cell_type": "code",
      "source": [
        "class Stack:\n",
        "    def __init__(self):\n",
        "        self.stack = []\n",
        "\n",
        "    def push(self, element):\n",
        "        self.stack.append(element)\n",
        "\n",
        "    def pop(self):\n",
        "        if not self.is_empty():\n",
        "            return self.stack.pop()\n",
        "\n",
        "    def is_empty(self):\n",
        "        return len(self.stack) == 0\n",
        "\n",
        "\n",
        "def evaluate_postfix(expression):\n",
        "    stack = Stack()\n",
        "\n",
        "    for char in expression:\n",
        "        if char.isdigit():\n",
        "            stack.push(int(char))\n",
        "        else:\n",
        "            operand2 = stack.pop()\n",
        "            operand1 = stack.pop()\n",
        "\n",
        "            if char == '*':\n",
        "                result = operand1 * operand2\n",
        "            elif char == '/':\n",
        "                result = operand1 / operand2\n",
        "            elif char == '+':\n",
        "                result = operand1 + operand2\n",
        "            elif char == '-':\n",
        "                result = operand1 - operand2\n",
        "\n",
        "            stack.push(result)\n",
        "\n",
        "    return stack.pop()\n",
        "\n",
        "\n",
        "# Test the function\n",
        "postfix_expression = \"123+*8-\"\n",
        "result = evaluate_postfix(postfix_expression)\n",
        "print(result)\n"
      ],
      "metadata": {
        "colab": {
          "base_uri": "https://localhost:8080/"
        },
        "id": "2-AuQ8YEEJTo",
        "outputId": "7c66445c-030f-4b91-9c57-8112d6304e0b"
      },
      "execution_count": 21,
      "outputs": [
        {
          "output_type": "stream",
          "name": "stdout",
          "text": [
            "-3\n"
          ]
        }
      ]
    },
    {
      "cell_type": "code",
      "source": [],
      "metadata": {
        "id": "EqaVfOIVEOZ4"
      },
      "execution_count": null,
      "outputs": []
    },
    {
      "cell_type": "markdown",
      "source": [
        "#Question 7\n",
        "\n",
        "Design a stack that supports push, pop, top, and retrieving the minimum element in constant time.\n",
        "\n",
        "Implement the `MinStack` class:\n",
        "\n",
        "- `MinStack()` initializes the stack object.\n",
        "- `void push(int val)` pushes the element `val` onto the stack.\n",
        "- `void pop()` removes the element on the top of the stack.\n",
        "- `int top()` gets the top element of the stack.\n",
        "- `int getMin()` retrieves the minimum element in the stack.\n",
        "\n",
        "You must implement a solution with `O(1)` time complexity for each function.\n",
        "\n",
        "Input\n",
        "[\"MinStack\",\"push\",\"push\",\"push\",\"getMin\",\"pop\",\"top\",\"getMin\"]\n",
        "[[],[-2],[0],[-3],[],[],[],[]]\n",
        "\n",
        "Output\n",
        "[null,null,null,null,-3,null,0,-2]\n",
        "\n",
        "Explanation\n",
        "MinStack minStack = new MinStack();\n",
        "minStack.push(-2);\n",
        "minStack.push(0);\n",
        "minStack.push(-3);\n",
        "minStack.getMin(); // return -3\n",
        "minStack.pop();\n",
        "minStack.top();    // return 0\n",
        "minStack.getMin(); // return -2"
      ],
      "metadata": {
        "id": "T35p1DktEVSJ"
      }
    },
    {
      "cell_type": "code",
      "source": [
        "class MinStack:\n",
        "    def __init__(self):\n",
        "        self.stack = []\n",
        "        self.min_stack = []\n",
        "\n",
        "    def push(self, val):\n",
        "        self.stack.append(val)\n",
        "\n",
        "        # Update the minimum stack\n",
        "        if not self.min_stack or val <= self.min_stack[-1]:\n",
        "            self.min_stack.append(val)\n",
        "\n",
        "    def pop(self):\n",
        "        if self.stack:\n",
        "            popped_element = self.stack.pop()\n",
        "\n",
        "            # Update the minimum stack if the popped element is the current minimum\n",
        "            if popped_element == self.min_stack[-1]:\n",
        "                self.min_stack.pop()\n",
        "\n",
        "    def top(self):\n",
        "        if self.stack:\n",
        "            return self.stack[-1]\n",
        "\n",
        "    def getMin(self):\n",
        "        if self.min_stack:\n",
        "            return self.min_stack[-1]\n"
      ],
      "metadata": {
        "id": "HChWWC4aEYiQ"
      },
      "execution_count": 22,
      "outputs": []
    },
    {
      "cell_type": "code",
      "source": [
        "minStack = MinStack()\n",
        "minStack.push(-2)\n",
        "minStack.push(0)\n",
        "minStack.push(-3)\n",
        "print(minStack.getMin())\n",
        "minStack.pop()\n",
        "print(minStack.top())\n",
        "print(minStack.getMin())\n"
      ],
      "metadata": {
        "colab": {
          "base_uri": "https://localhost:8080/"
        },
        "id": "hHBj2YGQEbIw",
        "outputId": "d0a85351-9f54-4628-bc97-aef388be9f84"
      },
      "execution_count": 23,
      "outputs": [
        {
          "output_type": "stream",
          "name": "stdout",
          "text": [
            "-3\n",
            "0\n",
            "-2\n"
          ]
        }
      ]
    },
    {
      "cell_type": "code",
      "source": [],
      "metadata": {
        "id": "eZZHAxGaEfaI"
      },
      "execution_count": null,
      "outputs": []
    },
    {
      "cell_type": "markdown",
      "source": [
        "#Question 8\n",
        "\n",
        "Given `n` non-negative integers representing an elevation map where the width of each bar is `1`, compute how much water it can trap after raining.\n",
        "\n",
        "**Example 1:**\n",
        "\n",
        "Input: height = [0,1,0,2,1,0,1,3,2,1,2,1]\n",
        "Output: 6\n",
        "Explanation: The above elevation map (black section) is represented by array [0,1,0,2,1,0,1,3,2,1,2,1]. In this case, 6 units of rain water (blue section) are being trapped.\n"
      ],
      "metadata": {
        "id": "_M96lt3MEn1Q"
      }
    },
    {
      "cell_type": "code",
      "source": [
        "def trap(height):\n",
        "    left = 0\n",
        "    right = len(height) - 1\n",
        "    left_max = right_max = total_water = 0\n",
        "\n",
        "    while left <= right:\n",
        "        if height[left] <= height[right]:\n",
        "            if height[left] > left_max:\n",
        "                left_max = height[left]\n",
        "            else:\n",
        "                total_water += left_max - height[left]\n",
        "            left += 1\n",
        "        else:\n",
        "            if height[right] > right_max:\n",
        "                right_max = height[right]\n",
        "            else:\n",
        "                total_water += right_max - height[right]\n",
        "            right -= 1\n",
        "\n",
        "    return total_water\n"
      ],
      "metadata": {
        "id": "xpNd5n9QErKQ"
      },
      "execution_count": 24,
      "outputs": []
    },
    {
      "cell_type": "code",
      "source": [
        "height = [0, 1, 0, 2, 1, 0, 1, 3, 2, 1, 2, 1]\n",
        "result = trap(height)\n",
        "print(result)\n"
      ],
      "metadata": {
        "colab": {
          "base_uri": "https://localhost:8080/"
        },
        "id": "hn1BxZ-TE5TR",
        "outputId": "338b6268-2ff5-4d9b-b4a0-1f1c159bbbbf"
      },
      "execution_count": 25,
      "outputs": [
        {
          "output_type": "stream",
          "name": "stdout",
          "text": [
            "6\n"
          ]
        }
      ]
    },
    {
      "cell_type": "markdown",
      "source": [
        "#example2\n",
        "Input: height = [4,2,0,3,2,5]\n",
        "Output: 9"
      ],
      "metadata": {
        "id": "KW1iDxJzE0ub"
      }
    },
    {
      "cell_type": "code",
      "source": [
        "def trap(height):\n",
        "    left = 0\n",
        "    right = len(height) - 1\n",
        "    left_max = right_max = total_water = 0\n",
        "\n",
        "    while left < right:\n",
        "        if height[left] <= height[right]:\n",
        "            if height[left] > left_max:\n",
        "                left_max = height[left]\n",
        "            else:\n",
        "                total_water += left_max - height[left]\n",
        "            left += 1\n",
        "        else:\n",
        "            if height[right] > right_max:\n",
        "                right_max = height[right]\n",
        "            else:\n",
        "                total_water += right_max - height[right]\n",
        "            right -= 1\n",
        "\n",
        "    return total_water\n"
      ],
      "metadata": {
        "id": "Fr5Ok32UE2po"
      },
      "execution_count": 26,
      "outputs": []
    },
    {
      "cell_type": "code",
      "source": [
        "height = [4, 2, 0, 3, 2, 5]\n",
        "result = trap(height)\n",
        "print(result)\n"
      ],
      "metadata": {
        "colab": {
          "base_uri": "https://localhost:8080/"
        },
        "id": "xi4e1k0DFDaA",
        "outputId": "fb67f226-043f-4b7a-ec65-86e1b6971ea2"
      },
      "execution_count": 27,
      "outputs": [
        {
          "output_type": "stream",
          "name": "stdout",
          "text": [
            "9\n"
          ]
        }
      ]
    },
    {
      "cell_type": "code",
      "source": [],
      "metadata": {
        "id": "U1dF9XwKFFtw"
      },
      "execution_count": null,
      "outputs": []
    }
  ]
}