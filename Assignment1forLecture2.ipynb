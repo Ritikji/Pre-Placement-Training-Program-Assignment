{
  "nbformat": 4,
  "nbformat_minor": 0,
  "metadata": {
    "colab": {
      "provenance": []
    },
    "kernelspec": {
      "name": "python3",
      "display_name": "Python 3"
    },
    "language_info": {
      "name": "python"
    }
  },
  "cells": [
    {
      "cell_type": "markdown",
      "source": [
        "#1. Write a Python program to reverse a string without using any built-in string reversal functions."
      ],
      "metadata": {
        "id": "Z7e7YQu4JNOf"
      }
    },
    {
      "cell_type": "code",
      "execution_count": 1,
      "metadata": {
        "colab": {
          "base_uri": "https://localhost:8080/"
        },
        "id": "gCQw3b_3JFIy",
        "outputId": "6de6a7d9-21f4-4213-dfde-fea1a5c58fd6"
      },
      "outputs": [
        {
          "output_type": "stream",
          "name": "stdout",
          "text": [
            "!dlroW ,olleH\n"
          ]
        }
      ],
      "source": [
        "def reverse_string(input_string):\n",
        "    reversed_string = \"\"\n",
        "    for i in range(len(input_string) - 1, -1, -1):\n",
        "        reversed_string += input_string[i]\n",
        "    return reversed_string\n",
        "\n",
        "# Example usage:\n",
        "string_to_reverse = \"Hello, World!\"\n",
        "reversed_string = reverse_string(string_to_reverse)\n",
        "print(reversed_string)\n"
      ]
    },
    {
      "cell_type": "code",
      "source": [],
      "metadata": {
        "id": "RFPcAj10JTs0"
      },
      "execution_count": null,
      "outputs": []
    },
    {
      "cell_type": "markdown",
      "source": [
        "#2. Implement a function to check if a given string is a palindrome"
      ],
      "metadata": {
        "id": "SVgVutUtJkAj"
      }
    },
    {
      "cell_type": "code",
      "source": [
        "def is_palindrome(input_string):\n",
        "    # Remove whitespace and convert to lowercase\n",
        "    input_string = input_string.replace(\" \", \"\").lower()\n",
        "    # Reverse the string\n",
        "    reversed_string = input_string[::-1]\n",
        "    # Check if the original and reversed strings are equal\n",
        "    if input_string == reversed_string:\n",
        "        return True\n",
        "    else:\n",
        "        return False\n",
        "\n",
        "# Example usage:\n",
        "string_to_check = \"Madam Arora teaches malayalam\"\n",
        "if is_palindrome(string_to_check):\n",
        "    print(\"The string is a palindrome.\")\n",
        "else:\n",
        "    print(\"The string is not a palindrome.\")\n"
      ],
      "metadata": {
        "colab": {
          "base_uri": "https://localhost:8080/"
        },
        "id": "SppeuJHOJlG7",
        "outputId": "090f23a2-aff0-4c57-a13b-c7e769a9b32e"
      },
      "execution_count": 2,
      "outputs": [
        {
          "output_type": "stream",
          "name": "stdout",
          "text": [
            "The string is not a palindrome.\n"
          ]
        }
      ]
    },
    {
      "cell_type": "code",
      "source": [],
      "metadata": {
        "id": "dBzrJ3RvJm7M"
      },
      "execution_count": null,
      "outputs": []
    },
    {
      "cell_type": "markdown",
      "source": [
        "#3. Write a program to find the largest element in a given list.\n"
      ],
      "metadata": {
        "id": "JlhMtrAkJ3et"
      }
    },
    {
      "cell_type": "code",
      "source": [
        "def find_largest_element(input_list):\n",
        "    largest_element = input_list[0]\n",
        "    for element in input_list:\n",
        "        if element > largest_element:\n",
        "            largest_element = element\n",
        "    return largest_element\n",
        "\n",
        "# Example usage:\n",
        "numbers = [10, 5, 20, 8, 15]\n",
        "largest = find_largest_element(numbers)\n",
        "print(\"The largest element in the list is:\", largest)\n"
      ],
      "metadata": {
        "colab": {
          "base_uri": "https://localhost:8080/"
        },
        "id": "WXCTi2jWJ6db",
        "outputId": "83a86df5-3398-4bda-888b-0df0d61d846c"
      },
      "execution_count": 3,
      "outputs": [
        {
          "output_type": "stream",
          "name": "stdout",
          "text": [
            "The largest element in the list is: 20\n"
          ]
        }
      ]
    },
    {
      "cell_type": "markdown",
      "source": [
        "#4. Implement a function to count the occurrence of each element in a list.\n"
      ],
      "metadata": {
        "id": "YR2lzGadKCEz"
      }
    },
    {
      "cell_type": "code",
      "source": [
        "def count_occurrences(input_list):\n",
        "    occurrence_count = {}\n",
        "    for element in input_list:\n",
        "        if element in occurrence_count:\n",
        "            occurrence_count[element] += 1\n",
        "        else:\n",
        "            occurrence_count[element] = 1\n",
        "    return occurrence_count\n",
        "\n",
        "# Example usage:\n",
        "numbers = [1, 2, 3, 2, 4, 1, 3, 4, 5, 1]\n",
        "occurrences = count_occurrences(numbers)\n",
        "print(\"Element occurrences:\", occurrences)\n"
      ],
      "metadata": {
        "colab": {
          "base_uri": "https://localhost:8080/"
        },
        "id": "iIRiH-1dJ8mj",
        "outputId": "7c9f9b4e-57a8-462d-dce5-eb941ba9448b"
      },
      "execution_count": 4,
      "outputs": [
        {
          "output_type": "stream",
          "name": "stdout",
          "text": [
            "Element occurrences: {1: 3, 2: 2, 3: 2, 4: 2, 5: 1}\n"
          ]
        }
      ]
    },
    {
      "cell_type": "markdown",
      "source": [
        "#5. Write a Python program to find the second largest number in a list.\n"
      ],
      "metadata": {
        "id": "NUM8d8vzKImE"
      }
    },
    {
      "cell_type": "code",
      "source": [
        "def find_second_largest(input_list):\n",
        "    if len(input_list) < 2:\n",
        "        return \"List should have at least two elements.\"\n",
        "\n",
        "    largest = max(input_list[0], input_list[1])\n",
        "    second_largest = min(input_list[0], input_list[1])\n",
        "\n",
        "    for i in range(2, len(input_list)):\n",
        "        if input_list[i] > largest:\n",
        "            second_largest = largest\n",
        "            largest = input_list[i]\n",
        "        elif input_list[i] > second_largest and input_list[i] != largest:\n",
        "            second_largest = input_list[i]\n",
        "\n",
        "    if second_largest == largest:\n",
        "        return \"There is no second largest element.\"\n",
        "    else:\n",
        "        return second_largest\n",
        "\n",
        "# Example usage:\n",
        "numbers = [10, 5, 20, 8, 15]\n",
        "second_largest = find_second_largest(numbers)\n",
        "print(\"The second largest number in the list is:\", second_largest)\n"
      ],
      "metadata": {
        "colab": {
          "base_uri": "https://localhost:8080/"
        },
        "id": "flkAB6_0KEjU",
        "outputId": "c009cde1-4f35-4da2-b98b-e5155e12cffb"
      },
      "execution_count": 5,
      "outputs": [
        {
          "output_type": "stream",
          "name": "stdout",
          "text": [
            "The second largest number in the list is: 15\n"
          ]
        }
      ]
    },
    {
      "cell_type": "markdown",
      "source": [
        "#6. Implement a function to remove duplicate elements from a list."
      ],
      "metadata": {
        "id": "f7_4pvLDKPeD"
      }
    },
    {
      "cell_type": "code",
      "source": [
        "def remove_duplicates(input_list):\n",
        "    return list(set(input_list))\n",
        "\n",
        "# Example usage:\n",
        "numbers = [1, 2, 3, 2, 4, 1, 3, 4, 5, 1]\n",
        "unique_numbers = remove_duplicates(numbers)\n",
        "print(\"List with duplicates removed:\", unique_numbers)\n"
      ],
      "metadata": {
        "colab": {
          "base_uri": "https://localhost:8080/"
        },
        "id": "wL4VImjOKL2n",
        "outputId": "4a487ce5-03de-4a3f-8219-753174a6737b"
      },
      "execution_count": 6,
      "outputs": [
        {
          "output_type": "stream",
          "name": "stdout",
          "text": [
            "List with duplicates removed: [1, 2, 3, 4, 5]\n"
          ]
        }
      ]
    },
    {
      "cell_type": "markdown",
      "source": [
        "#7. Write a program to calculate the factorial of a given number.\n"
      ],
      "metadata": {
        "id": "Ygqh3rEtKcc9"
      }
    },
    {
      "cell_type": "code",
      "source": [
        "def calculate_factorial(number):\n",
        "    if number < 0:\n",
        "        return \"Factorial is not defined for negative numbers.\"\n",
        "    elif number == 0:\n",
        "        return 1\n",
        "    else:\n",
        "        factorial = 1\n",
        "        for i in range(1, number + 1):\n",
        "            factorial *= i\n",
        "        return factorial\n",
        "\n",
        "# Example usage:\n",
        "n = 5\n",
        "factorial = calculate_factorial(n)\n",
        "print(\"The factorial of\", n, \"is:\", factorial)\n"
      ],
      "metadata": {
        "colab": {
          "base_uri": "https://localhost:8080/"
        },
        "id": "siozONJrKYYI",
        "outputId": "c1993229-aecc-4146-85de-833504cfb43c"
      },
      "execution_count": 7,
      "outputs": [
        {
          "output_type": "stream",
          "name": "stdout",
          "text": [
            "The factorial of 5 is: 120\n"
          ]
        }
      ]
    },
    {
      "cell_type": "markdown",
      "source": [
        "#8. Implement a function to check if a given number is prime.\n"
      ],
      "metadata": {
        "id": "aVcA68QaKoW1"
      }
    },
    {
      "cell_type": "code",
      "source": [
        "def is_prime(number):\n",
        "    if number < 2:\n",
        "        return False\n",
        "    for i in range(2, int(number ** 0.5) + 1):\n",
        "        if number % i == 0:\n",
        "            return False\n",
        "    return True\n",
        "\n",
        "# Example usage:\n",
        "n = 17\n",
        "if is_prime(n):\n",
        "    print(n, \"is a prime number.\")\n",
        "else:\n",
        "    print(n, \"is not a prime number.\")\n"
      ],
      "metadata": {
        "colab": {
          "base_uri": "https://localhost:8080/"
        },
        "id": "4F-05HR7Kj3l",
        "outputId": "ebd65e61-2da9-4eb7-87c3-e8341e3e9781"
      },
      "execution_count": 8,
      "outputs": [
        {
          "output_type": "stream",
          "name": "stdout",
          "text": [
            "17 is a prime number.\n"
          ]
        }
      ]
    },
    {
      "cell_type": "markdown",
      "source": [
        "#9. Write a Python program to sort a list of integers in ascending order.\n"
      ],
      "metadata": {
        "id": "4fni57ltK3LE"
      }
    },
    {
      "cell_type": "code",
      "source": [
        "def sort_list_ascending(input_list):\n",
        "    sorted_list = sorted(input_list)\n",
        "    return sorted_list\n",
        "\n",
        "# Example usage:\n",
        "numbers = [5, 2, 8, 1, 6, 3]\n",
        "sorted_numbers = sort_list_ascending(numbers)\n",
        "print(\"Sorted list:\", sorted_numbers)\n",
        "\n"
      ],
      "metadata": {
        "colab": {
          "base_uri": "https://localhost:8080/"
        },
        "id": "p0uaE8t3KrR6",
        "outputId": "da4de35c-a50c-4448-c663-f804e606da20"
      },
      "execution_count": 9,
      "outputs": [
        {
          "output_type": "stream",
          "name": "stdout",
          "text": [
            "Sorted list: [1, 2, 3, 5, 6, 8]\n"
          ]
        }
      ]
    },
    {
      "cell_type": "markdown",
      "source": [
        "#10. Implement a function to find the sum of all numbers in a list.\n"
      ],
      "metadata": {
        "id": "b8OIdw6bLW66"
      }
    },
    {
      "cell_type": "code",
      "source": [
        "def calculate_sum(input_list):\n",
        "    total_sum = sum(input_list)\n",
        "    return total_sum\n",
        "\n",
        "# Example usage:\n",
        "numbers = [1, 2, 3, 4, 5]\n",
        "sum_of_numbers = calculate_sum(numbers)\n",
        "print(\"The sum of the numbers is:\", sum_of_numbers)\n"
      ],
      "metadata": {
        "colab": {
          "base_uri": "https://localhost:8080/"
        },
        "id": "S8hLyAHdK8j7",
        "outputId": "4450825f-7a75-4fea-df04-9bdfb6ce152f"
      },
      "execution_count": 10,
      "outputs": [
        {
          "output_type": "stream",
          "name": "stdout",
          "text": [
            "The sum of the numbers is: 15\n"
          ]
        }
      ]
    },
    {
      "cell_type": "markdown",
      "source": [
        "#11. Write a program to find the common elements between two lists."
      ],
      "metadata": {
        "id": "TMcp3T9tMFtp"
      }
    },
    {
      "cell_type": "code",
      "source": [
        "def find_common_elements(list1, list2):\n",
        "    common_elements = set(list1) & set(list2)\n",
        "    return list(common_elements)\n",
        "\n",
        "# Example usage:\n",
        "list1 = [1, 2, 3, 4, 5]\n",
        "list2 = [4, 5, 6, 7, 8]\n",
        "common_elements = find_common_elements(list1, list2)\n",
        "print(\"Common elements:\", common_elements)\n",
        "\n"
      ],
      "metadata": {
        "colab": {
          "base_uri": "https://localhost:8080/"
        },
        "id": "hW5hLVj7MCUs",
        "outputId": "811921a7-3385-4566-d3de-dcb7ec5c9937"
      },
      "execution_count": 11,
      "outputs": [
        {
          "output_type": "stream",
          "name": "stdout",
          "text": [
            "Common elements: [4, 5]\n"
          ]
        }
      ]
    },
    {
      "cell_type": "markdown",
      "source": [
        "#12. Implement a function to check if a given string is an anagram of another string."
      ],
      "metadata": {
        "id": "Yc6zyUAeMZJa"
      }
    },
    {
      "cell_type": "code",
      "source": [
        "def is_anagram(string1, string2):\n",
        "    # Convert strings to lowercase and remove whitespace\n",
        "    string1 = string1.lower().replace(\" \", \"\")\n",
        "    string2 = string2.lower().replace(\" \", \"\")\n",
        "\n",
        "    # Check if lengths are different\n",
        "    if len(string1) != len(string2):\n",
        "        return False\n",
        "\n",
        "    # Sort characters in both strings\n",
        "    sorted_string1 = sorted(string1)\n",
        "    sorted_string2 = sorted(string2)\n",
        "\n",
        "    # Compare sorted strings\n",
        "    if sorted_string1 == sorted_string2:\n",
        "        return True\n",
        "    else:\n",
        "        return False\n",
        "\n",
        "# Example usage:\n",
        "str1 = \"listen\"\n",
        "str2 = \"silent\"\n",
        "if is_anagram(str1, str2):\n",
        "    print(\"The strings are anagrams.\")\n",
        "else:\n",
        "    print(\"The strings are not anagrams.\")\n"
      ],
      "metadata": {
        "colab": {
          "base_uri": "https://localhost:8080/"
        },
        "id": "H70KuYkxMV-x",
        "outputId": "ffd37f46-c3cd-4e9a-f6b8-17856fcb592b"
      },
      "execution_count": 12,
      "outputs": [
        {
          "output_type": "stream",
          "name": "stdout",
          "text": [
            "The strings are anagrams.\n"
          ]
        }
      ]
    },
    {
      "cell_type": "markdown",
      "source": [
        "#13. Write a Python program to generate all permutations of a given string.\n"
      ],
      "metadata": {
        "id": "eaXIrPeLMgWa"
      }
    },
    {
      "cell_type": "code",
      "source": [
        "def generate_permutations(input_string):\n",
        "    # Base case: if string is empty, return an empty list\n",
        "    if len(input_string) == 0:\n",
        "        return []\n",
        "\n",
        "    # Base case: if string has only one character, return a list with that character\n",
        "    if len(input_string) == 1:\n",
        "        return [input_string]\n",
        "\n",
        "    # Recursive case: generate permutations for each character in the string\n",
        "    permutations = []  # List to store permutations\n",
        "\n",
        "    for i in range(len(input_string)):\n",
        "        current_char = input_string[i]\n",
        "        remaining_chars = input_string[:i] + input_string[i+1:]\n",
        "\n",
        "        # Recursively generate permutations for the remaining characters\n",
        "        for permutation in generate_permutations(remaining_chars):\n",
        "            permutations.append(current_char + permutation)\n",
        "\n",
        "    return permutations\n",
        "\n",
        "# Example usage:\n",
        "string = \"abc\"\n",
        "permutations = generate_permutations(string)\n",
        "print(\"Permutations of\", string, \"are:\")\n",
        "for permutation in permutations:\n",
        "    print(permutation)\n"
      ],
      "metadata": {
        "colab": {
          "base_uri": "https://localhost:8080/"
        },
        "id": "lzfS-lNuMcEh",
        "outputId": "30b8ffb5-d8f7-4a7a-8fa0-503056f724da"
      },
      "execution_count": 13,
      "outputs": [
        {
          "output_type": "stream",
          "name": "stdout",
          "text": [
            "Permutations of abc are:\n",
            "abc\n",
            "acb\n",
            "bac\n",
            "bca\n",
            "cab\n",
            "cba\n"
          ]
        }
      ]
    },
    {
      "cell_type": "markdown",
      "source": [
        "#14. Implement a function to calculate the Fibonacci sequence up to a given number of terms.\n"
      ],
      "metadata": {
        "id": "Tb0I9nZqMmRh"
      }
    },
    {
      "cell_type": "code",
      "source": [
        "def fibonacci_sequence(num_terms):\n",
        "    sequence = []\n",
        "    if num_terms >= 1:\n",
        "        sequence.append(0)\n",
        "    if num_terms >= 2:\n",
        "        sequence.append(1)\n",
        "    if num_terms > 2:\n",
        "        for i in range(2, num_terms):\n",
        "            next_term = sequence[i - 1] + sequence[i - 2]\n",
        "            sequence.append(next_term)\n",
        "    return sequence\n",
        "\n",
        "# Example usage:\n",
        "n = 10\n",
        "fibonacci = fibonacci_sequence(n)\n",
        "print(\"Fibonacci sequence up to\", n, \"terms:\")\n",
        "print(fibonacci)\n"
      ],
      "metadata": {
        "colab": {
          "base_uri": "https://localhost:8080/"
        },
        "id": "OKEntWXQMjcR",
        "outputId": "3ab74ddb-2726-4a0e-9d8f-b93bc62e2915"
      },
      "execution_count": 14,
      "outputs": [
        {
          "output_type": "stream",
          "name": "stdout",
          "text": [
            "Fibonacci sequence up to 10 terms:\n",
            "[0, 1, 1, 2, 3, 5, 8, 13, 21, 34]\n"
          ]
        }
      ]
    },
    {
      "cell_type": "markdown",
      "source": [
        "#15. Write a program to find the median of a list of numbers.\n"
      ],
      "metadata": {
        "id": "VnB6llEwMsYi"
      }
    },
    {
      "cell_type": "code",
      "source": [
        "def find_median(numbers):\n",
        "    sorted_numbers = sorted(numbers)\n",
        "    n = len(sorted_numbers)\n",
        "\n",
        "    if n % 2 == 0:\n",
        "        # If the number of elements is even, average the middle two elements\n",
        "        mid1 = sorted_numbers[n // 2 - 1]\n",
        "        mid2 = sorted_numbers[n // 2]\n",
        "        median = (mid1 + mid2) / 2\n",
        "    else:\n",
        "        # If the number of elements is odd, return the middle element\n",
        "        median = sorted_numbers[n // 2]\n",
        "\n",
        "    return median\n",
        "\n",
        "# Example usage:\n",
        "numbers = [7, 2, 9, 4, 5, 1, 8, 6, 3]\n",
        "median = find_median(numbers)\n",
        "print(\"The median is:\", median)\n"
      ],
      "metadata": {
        "colab": {
          "base_uri": "https://localhost:8080/"
        },
        "id": "a7GLQUXwMpTV",
        "outputId": "79faa694-59c5-43b2-c580-d1432a9e8de1"
      },
      "execution_count": 15,
      "outputs": [
        {
          "output_type": "stream",
          "name": "stdout",
          "text": [
            "The median is: 5\n"
          ]
        }
      ]
    },
    {
      "cell_type": "markdown",
      "source": [
        "#16. Implement a function to check if a given list is sorted in non-decreasing order."
      ],
      "metadata": {
        "id": "Mh_pELojNDQH"
      }
    },
    {
      "cell_type": "code",
      "source": [
        "def is_sorted(input_list):\n",
        "    for i in range(len(input_list) - 1):\n",
        "        if input_list[i] > input_list[i + 1]:\n",
        "            return False\n",
        "    return True\n",
        "\n",
        "# Example usage:\n",
        "numbers1 = [1, 2, 3, 4, 5]\n",
        "numbers2 = [1, 3, 2, 4, 5]\n",
        "if is_sorted(numbers1):\n",
        "    print(\"numbers1 is sorted.\")\n",
        "else:\n",
        "    print(\"numbers1 is not sorted.\")\n",
        "\n",
        "if is_sorted(numbers2):\n",
        "    print(\"numbers2 is sorted.\")\n",
        "else:\n",
        "    print(\"numbers2 is not sorted.\")\n"
      ],
      "metadata": {
        "colab": {
          "base_uri": "https://localhost:8080/"
        },
        "id": "PBKujDrqMvW5",
        "outputId": "b7c7ce0e-96e5-4230-b781-0d57763ce87b"
      },
      "execution_count": 16,
      "outputs": [
        {
          "output_type": "stream",
          "name": "stdout",
          "text": [
            "numbers1 is sorted.\n",
            "numbers2 is not sorted.\n"
          ]
        }
      ]
    },
    {
      "cell_type": "markdown",
      "source": [
        "#17. Write a Python program to find the intersection of two lists."
      ],
      "metadata": {
        "id": "b2HsZPMsNLiK"
      }
    },
    {
      "cell_type": "code",
      "source": [
        "def find_intersection(list1, list2):\n",
        "    intersection = list(set(list1) & set(list2))\n",
        "    return intersection\n",
        "\n",
        "# Example usage:\n",
        "list1 = [1, 2, 3, 4, 5]\n",
        "list2 = [4, 5, 6, 7, 8]\n",
        "intersection = find_intersection(list1, list2)\n",
        "print(\"Intersection:\", intersection)\n"
      ],
      "metadata": {
        "colab": {
          "base_uri": "https://localhost:8080/"
        },
        "id": "O-dyEFFFNFfo",
        "outputId": "69cd858d-b274-4bb8-f9b7-ab6c9b4cfc01"
      },
      "execution_count": 17,
      "outputs": [
        {
          "output_type": "stream",
          "name": "stdout",
          "text": [
            "Intersection: [4, 5]\n"
          ]
        }
      ]
    },
    {
      "cell_type": "markdown",
      "source": [
        "#18. Implement a function to find the maximum subarray sum in a given list.\n"
      ],
      "metadata": {
        "id": "ymcz-KkUNSRR"
      }
    },
    {
      "cell_type": "code",
      "source": [
        "def find_maximum_subarray_sum(input_list):\n",
        "    max_sum = float('-inf')  # Initialize max_sum with negative infinity\n",
        "    current_sum = 0  # Initialize current_sum as 0\n",
        "\n",
        "    for num in input_list:\n",
        "        current_sum = max(num, current_sum + num)\n",
        "        max_sum = max(max_sum, current_sum)\n",
        "\n",
        "    return max_sum\n",
        "\n",
        "# Example usage:\n",
        "numbers = [-2, 1, -3, 4, -1, 2, 1, -5, 4]\n",
        "max_subarray_sum = find_maximum_subarray_sum(numbers)\n",
        "print(\"Maximum subarray sum:\", max_subarray_sum)\n"
      ],
      "metadata": {
        "colab": {
          "base_uri": "https://localhost:8080/"
        },
        "id": "D0s6XN3yNO5g",
        "outputId": "dae7009d-d1a2-4f2b-8b7f-a11fb08ad2cb"
      },
      "execution_count": 18,
      "outputs": [
        {
          "output_type": "stream",
          "name": "stdout",
          "text": [
            "Maximum subarray sum: 6\n"
          ]
        }
      ]
    },
    {
      "cell_type": "markdown",
      "source": [
        "#19. Write a program to remove all vowels from a given string.\n"
      ],
      "metadata": {
        "id": "4l4L4JJiNZeo"
      }
    },
    {
      "cell_type": "code",
      "source": [
        "def remove_vowels(input_string):\n",
        "    vowels = \"aeiouAEIOU\"\n",
        "    consonant_string = \"\"\n",
        "\n",
        "    for char in input_string:\n",
        "        if char not in vowels:\n",
        "            consonant_string += char\n",
        "\n",
        "    return consonant_string\n",
        "\n",
        "# Example usage:\n",
        "string = \"Hello, World!\"\n",
        "result = remove_vowels(string)\n",
        "print(\"String without vowels:\", result)\n"
      ],
      "metadata": {
        "colab": {
          "base_uri": "https://localhost:8080/"
        },
        "id": "Xz8CE_UbNVXA",
        "outputId": "9657fd37-88a8-4919-cb0c-ba48be7875c0"
      },
      "execution_count": 19,
      "outputs": [
        {
          "output_type": "stream",
          "name": "stdout",
          "text": [
            "String without vowels: Hll, Wrld!\n"
          ]
        }
      ]
    },
    {
      "cell_type": "markdown",
      "source": [
        "#20. Implement a function to reverse the order of words in a given sentence.\n"
      ],
      "metadata": {
        "id": "28ohRmhHNivA"
      }
    },
    {
      "cell_type": "code",
      "source": [
        "def reverse_words(sentence):\n",
        "    words = sentence.split()\n",
        "    reversed_words = words[::-1]\n",
        "    reversed_sentence = ' '.join(reversed_words)\n",
        "    return reversed_sentence\n",
        "\n",
        "# Example usage:\n",
        "sentence = \"Hello, how are you?\"\n",
        "reversed_sentence = reverse_words(sentence)\n",
        "print(\"Reversed sentence:\", reversed_sentence)\n"
      ],
      "metadata": {
        "colab": {
          "base_uri": "https://localhost:8080/"
        },
        "id": "e4DqCf6jNfJA",
        "outputId": "40a7a078-6482-4f7f-9947-b8d503888554"
      },
      "execution_count": 20,
      "outputs": [
        {
          "output_type": "stream",
          "name": "stdout",
          "text": [
            "Reversed sentence: you? are how Hello,\n"
          ]
        }
      ]
    },
    {
      "cell_type": "markdown",
      "source": [
        "#21. Write a Python program to check if two strings are anagrams of each other.\n"
      ],
      "metadata": {
        "id": "Se5O5Rq0N4uo"
      }
    },
    {
      "cell_type": "code",
      "source": [
        "def are_anagrams(string1, string2):\n",
        "    # Convert strings to lowercase and remove whitespace\n",
        "    string1 = string1.lower().replace(\" \", \"\")\n",
        "    string2 = string2.lower().replace(\" \", \"\")\n",
        "\n",
        "    # Check if lengths are different\n",
        "    if len(string1) != len(string2):\n",
        "        return False\n",
        "\n",
        "    # Sort characters in both strings\n",
        "    sorted_string1 = sorted(string1)\n",
        "    sorted_string2 = sorted(string2)\n",
        "\n",
        "    # Compare sorted strings\n",
        "    if sorted_string1 == sorted_string2:\n",
        "        return True\n",
        "    else:\n",
        "        return False\n",
        "\n",
        "# Example usage:\n",
        "str1 = \"listen\"\n",
        "str2 = \"silent\"\n",
        "if are_anagrams(str1, str2):\n",
        "    print(\"The strings are anagrams.\")\n",
        "else:\n",
        "    print(\"The strings are not anagrams.\")\n"
      ],
      "metadata": {
        "colab": {
          "base_uri": "https://localhost:8080/"
        },
        "id": "sdAvo0lmNk-g",
        "outputId": "fa14c458-f036-40e3-dd34-dbcf5116029f"
      },
      "execution_count": 21,
      "outputs": [
        {
          "output_type": "stream",
          "name": "stdout",
          "text": [
            "The strings are anagrams.\n"
          ]
        }
      ]
    },
    {
      "cell_type": "markdown",
      "source": [
        "#22. Implement a function to find the first non-repeating character in a string.\n"
      ],
      "metadata": {
        "id": "j2epqVeYN_R3"
      }
    },
    {
      "cell_type": "code",
      "source": [
        "def find_first_non_repeating_character(input_string):\n",
        "    character_count = {}\n",
        "\n",
        "    # Count the occurrences of each character in the string\n",
        "    for char in input_string:\n",
        "        if char in character_count:\n",
        "            character_count[char] += 1\n",
        "        else:\n",
        "            character_count[char] = 1\n",
        "\n",
        "    # Find the first non-repeating character\n",
        "    for char in input_string:\n",
        "        if character_count[char] == 1:\n",
        "            return char\n",
        "\n",
        "    # Return None if no non-repeating character is found\n",
        "    return None\n",
        "\n",
        "# Example usage:\n",
        "string = \"aabbccdefg\"\n",
        "first_non_repeating = find_first_non_repeating_character(string)\n",
        "if first_non_repeating is not None:\n",
        "    print(\"The first non-repeating character is:\", first_non_repeating)\n",
        "else:\n",
        "    print(\"No non-repeating character found in the string.\")\n"
      ],
      "metadata": {
        "colab": {
          "base_uri": "https://localhost:8080/"
        },
        "id": "vXxKIPawN7gA",
        "outputId": "910c5b5c-e8f1-4c74-fa45-ffaab5828c47"
      },
      "execution_count": 22,
      "outputs": [
        {
          "output_type": "stream",
          "name": "stdout",
          "text": [
            "The first non-repeating character is: d\n"
          ]
        }
      ]
    },
    {
      "cell_type": "markdown",
      "source": [
        "#23. Write a program to find the prime factors of a given number.\n"
      ],
      "metadata": {
        "id": "EFZHV1mwOJsn"
      }
    },
    {
      "cell_type": "code",
      "source": [
        "def find_prime_factors(number):\n",
        "    factors = []\n",
        "    divisor = 2\n",
        "\n",
        "    while divisor <= number:\n",
        "        if number % divisor == 0:\n",
        "            factors.append(divisor)\n",
        "            number = number // divisor\n",
        "        else:\n",
        "            divisor += 1\n",
        "\n",
        "    return factors\n",
        "\n",
        "# Example usage:\n",
        "n = 84\n",
        "prime_factors = find_prime_factors(n)\n",
        "print(\"Prime factors of\", n, \"are:\", prime_factors)\n"
      ],
      "metadata": {
        "colab": {
          "base_uri": "https://localhost:8080/"
        },
        "id": "D53SkgfYOGhA",
        "outputId": "6dacdebb-0e06-4412-cdbb-c2f9116feadd"
      },
      "execution_count": 23,
      "outputs": [
        {
          "output_type": "stream",
          "name": "stdout",
          "text": [
            "Prime factors of 84 are: [2, 2, 3, 7]\n"
          ]
        }
      ]
    },
    {
      "cell_type": "markdown",
      "source": [
        "#24. Implement a function to check if a given number is a power of two.\n"
      ],
      "metadata": {
        "id": "jTOAFx34OXjb"
      }
    },
    {
      "cell_type": "code",
      "source": [
        "def is_power_of_two(number):\n",
        "    if number <= 0:\n",
        "        return False\n",
        "    return (number & (number - 1)) == 0\n",
        "\n",
        "# Example usage:\n",
        "n1 = 8\n",
        "n2 = 10\n",
        "\n",
        "if is_power_of_two(n1):\n",
        "    print(n1, \"is a power of two.\")\n",
        "else:\n",
        "    print(n1, \"is not a power of two.\")\n",
        "\n",
        "if is_power_of_two(n2):\n",
        "    print(n2, \"is a power of two.\")\n",
        "else:\n",
        "    print(n2, \"is not a power of two.\")\n"
      ],
      "metadata": {
        "colab": {
          "base_uri": "https://localhost:8080/"
        },
        "id": "20c5yPjsONK4",
        "outputId": "d3a54231-2843-46b3-d409-ea216beef408"
      },
      "execution_count": 24,
      "outputs": [
        {
          "output_type": "stream",
          "name": "stdout",
          "text": [
            "8 is a power of two.\n",
            "10 is not a power of two.\n"
          ]
        }
      ]
    },
    {
      "cell_type": "markdown",
      "source": [
        "#25. Write a Python program to merge two sorted lists into a single sorted list.\n"
      ],
      "metadata": {
        "id": "9O9nK1thOduo"
      }
    },
    {
      "cell_type": "code",
      "source": [
        "def merge_sorted_lists(list1, list2):\n",
        "    merged_list = []\n",
        "    i = 0\n",
        "    j = 0\n",
        "\n",
        "    while i < len(list1) and j < len(list2):\n",
        "        if list1[i] <= list2[j]:\n",
        "            merged_list.append(list1[i])\n",
        "            i += 1\n",
        "        else:\n",
        "            merged_list.append(list2[j])\n",
        "            j += 1\n",
        "\n",
        "    # Append remaining elements from either list\n",
        "    while i < len(list1):\n",
        "        merged_list.append(list1[i])\n",
        "        i += 1\n",
        "\n",
        "    while j < len(list2):\n",
        "        merged_list.append(list2[j])\n",
        "        j += 1\n",
        "\n",
        "    return merged_list\n",
        "\n",
        "# Example usage:\n",
        "numbers1 = [1, 3, 5, 7]\n",
        "numbers2 = [2, 4, 6, 8]\n",
        "merged_numbers = merge_sorted_lists(numbers1, numbers2)\n",
        "print(\"Merged list:\", merged_numbers)\n"
      ],
      "metadata": {
        "colab": {
          "base_uri": "https://localhost:8080/"
        },
        "id": "vMNq4OSKOafY",
        "outputId": "6edc9815-172d-4b04-f1af-80b73032c6ce"
      },
      "execution_count": 25,
      "outputs": [
        {
          "output_type": "stream",
          "name": "stdout",
          "text": [
            "Merged list: [1, 2, 3, 4, 5, 6, 7, 8]\n"
          ]
        }
      ]
    },
    {
      "cell_type": "markdown",
      "source": [
        "#26. Implement a function to find the mode of a list of numbers.\n"
      ],
      "metadata": {
        "id": "__4xshoDOldX"
      }
    },
    {
      "cell_type": "code",
      "source": [
        "from collections import Counter\n",
        "\n",
        "def find_mode(numbers):\n",
        "    counts = Counter(numbers)\n",
        "    mode_counts = max(counts.values())\n",
        "    modes = [num for num, count in counts.items() if count == mode_counts]\n",
        "    return modes\n",
        "\n",
        "# Example usage:\n",
        "numbers = [1, 2, 3, 4, 4, 5, 5, 5, 6]\n",
        "modes = find_mode(numbers)\n",
        "print(\"Mode(s):\", modes)\n"
      ],
      "metadata": {
        "colab": {
          "base_uri": "https://localhost:8080/"
        },
        "id": "b0HM3k6uOg9H",
        "outputId": "f1810631-e68f-4914-ff40-6bbd0248affa"
      },
      "execution_count": 26,
      "outputs": [
        {
          "output_type": "stream",
          "name": "stdout",
          "text": [
            "Mode(s): [5]\n"
          ]
        }
      ]
    },
    {
      "cell_type": "markdown",
      "source": [
        "#27. Write a program to find the greatest common divisor (GCD) of two numbers.\n"
      ],
      "metadata": {
        "id": "zyLeebeWOr_g"
      }
    },
    {
      "cell_type": "code",
      "source": [
        "def find_gcd(a, b):\n",
        "    while b != 0:\n",
        "        a, b = b, a % b\n",
        "    return a\n",
        "\n",
        "# Example usage:\n",
        "num1 = 48\n",
        "num2 = 36\n",
        "gcd = find_gcd(num1, num2)\n",
        "print(\"GCD of\", num1, \"and\", num2, \"is:\", gcd)\n"
      ],
      "metadata": {
        "colab": {
          "base_uri": "https://localhost:8080/"
        },
        "id": "eabLlmp0OoZ1",
        "outputId": "62a45d19-fd55-4c96-f754-983feda7a3f4"
      },
      "execution_count": 27,
      "outputs": [
        {
          "output_type": "stream",
          "name": "stdout",
          "text": [
            "GCD of 48 and 36 is: 12\n"
          ]
        }
      ]
    },
    {
      "cell_type": "markdown",
      "source": [
        "#28. Implement a function to calculate the square root of a given number.\n"
      ],
      "metadata": {
        "id": "aAq-ktCVO0eO"
      }
    },
    {
      "cell_type": "code",
      "source": [
        "def calculate_square_root(number):\n",
        "    if number < 0:\n",
        "        raise ValueError(\"Square root undefined for negative numbers.\")\n",
        "    elif number == 0:\n",
        "        return 0\n",
        "\n",
        "    x = number\n",
        "    y = (x + 1) // 2\n",
        "    while y < x:\n",
        "        x = y\n",
        "        y = (x + number // x) // 2\n",
        "\n",
        "    return x\n",
        "\n",
        "# Example usage:\n",
        "n = 16\n",
        "sqrt = calculate_square_root(n)\n",
        "print(\"Square root of\", n, \"is:\", sqrt)\n"
      ],
      "metadata": {
        "colab": {
          "base_uri": "https://localhost:8080/"
        },
        "id": "89mWKP6TOwj2",
        "outputId": "41b0c18e-964f-44ca-df36-82b295f202c3"
      },
      "execution_count": 28,
      "outputs": [
        {
          "output_type": "stream",
          "name": "stdout",
          "text": [
            "Square root of 16 is: 4\n"
          ]
        }
      ]
    },
    {
      "cell_type": "markdown",
      "source": [
        "#29. Write a Python program to check if a given string is a valid palindrome ignoring non-alphanumeric characters"
      ],
      "metadata": {
        "id": "ol1IMcdSPFim"
      }
    },
    {
      "cell_type": "code",
      "source": [
        "import re\n",
        "\n",
        "def is_valid_palindrome(string):\n",
        "    # Remove non-alphanumeric characters and convert to lowercase\n",
        "    alphanumeric_string = re.sub('[^a-zA-Z0-9]', '', string.lower())\n",
        "\n",
        "    # Check if the alphanumeric string is a palindrome\n",
        "    return alphanumeric_string == alphanumeric_string[::-1]\n",
        "\n",
        "# Example usage:\n",
        "input_string = \"A man, a plan, a canal, Panama!\"\n",
        "if is_valid_palindrome(input_string):\n",
        "    print(\"The string is a valid palindrome.\")\n",
        "else:\n",
        "    print(\"The string is not a valid palindrome.\")\n"
      ],
      "metadata": {
        "colab": {
          "base_uri": "https://localhost:8080/"
        },
        "id": "0gfBYZtkO3iC",
        "outputId": "1e0ea9d7-c292-4551-c210-ef54d86a8010"
      },
      "execution_count": 29,
      "outputs": [
        {
          "output_type": "stream",
          "name": "stdout",
          "text": [
            "The string is a valid palindrome.\n"
          ]
        }
      ]
    },
    {
      "cell_type": "markdown",
      "source": [
        "#30. Implement a function to find the minimum element in a rotated sorted list.\n"
      ],
      "metadata": {
        "id": "OVLw26QlPLxP"
      }
    },
    {
      "cell_type": "code",
      "source": [
        "def find_minimum_element(nums):\n",
        "    left = 0\n",
        "    right = len(nums) - 1\n",
        "\n",
        "    while left < right:\n",
        "        mid = left + (right - left) // 2\n",
        "\n",
        "        if nums[mid] > nums[right]:\n",
        "            left = mid + 1\n",
        "        else:\n",
        "            right = mid\n",
        "\n",
        "    return nums[left]\n",
        "\n",
        "# Example usage:\n",
        "rotated_nums = [4, 5, 6, 7, 0, 1, 2]\n",
        "minimum_element = find_minimum_element(rotated_nums)\n",
        "print(\"Minimum element:\", minimum_element)\n"
      ],
      "metadata": {
        "colab": {
          "base_uri": "https://localhost:8080/"
        },
        "id": "s_gURCD9PIXW",
        "outputId": "69f03fdb-decf-4cf4-fe19-6b283388eb79"
      },
      "execution_count": 30,
      "outputs": [
        {
          "output_type": "stream",
          "name": "stdout",
          "text": [
            "Minimum element: 0\n"
          ]
        }
      ]
    },
    {
      "cell_type": "markdown",
      "source": [
        "#31. Write a program to find the sum of all even numbers in a list.\n"
      ],
      "metadata": {
        "id": "MJwHEzBFPRiv"
      }
    },
    {
      "cell_type": "code",
      "source": [
        "def sum_even_numbers(numbers):\n",
        "    even_sum = 0\n",
        "\n",
        "    for num in numbers:\n",
        "        if num % 2 == 0:\n",
        "            even_sum += num\n",
        "\n",
        "    return even_sum\n",
        "\n",
        "# Example usage:\n",
        "numbers = [1, 2, 3, 4, 5, 6, 7, 8, 9, 10]\n",
        "even_sum = sum_even_numbers(numbers)\n",
        "print(\"Sum of even numbers:\", even_sum)\n"
      ],
      "metadata": {
        "colab": {
          "base_uri": "https://localhost:8080/"
        },
        "id": "VvUcWW-RPODm",
        "outputId": "c0839390-1a82-4373-ba34-ed12fb55d2e8"
      },
      "execution_count": 31,
      "outputs": [
        {
          "output_type": "stream",
          "name": "stdout",
          "text": [
            "Sum of even numbers: 30\n"
          ]
        }
      ]
    },
    {
      "cell_type": "markdown",
      "source": [
        "#32. Implement a function to calculate the power of a number using recursion.\n"
      ],
      "metadata": {
        "id": "AYuteB3gPX9_"
      }
    },
    {
      "cell_type": "code",
      "source": [
        "def power(base, exponent):\n",
        "    if exponent == 0:\n",
        "        return 1\n",
        "    elif exponent < 0:\n",
        "        return 1 / power(base, -exponent)\n",
        "    else:\n",
        "        return base * power(base, exponent - 1)\n",
        "\n",
        "# Example usage:\n",
        "base = 2\n",
        "exponent = 3\n",
        "result = power(base, exponent)\n",
        "print(base, \"raised to the power\", exponent, \"is:\", result)\n"
      ],
      "metadata": {
        "colab": {
          "base_uri": "https://localhost:8080/"
        },
        "id": "Agh9AyE9PUvH",
        "outputId": "73be7c97-ca9d-4815-ccb3-30b3be7adf25"
      },
      "execution_count": 32,
      "outputs": [
        {
          "output_type": "stream",
          "name": "stdout",
          "text": [
            "2 raised to the power 3 is: 8\n"
          ]
        }
      ]
    },
    {
      "cell_type": "markdown",
      "source": [
        "#33. Write a Python program to remove duplicates from a list while preserving the order."
      ],
      "metadata": {
        "id": "b73ZzbJfPejg"
      }
    },
    {
      "cell_type": "code",
      "source": [
        "def remove_duplicates(input_list):\n",
        "    unique_list = []\n",
        "    seen = set()\n",
        "\n",
        "    for item in input_list:\n",
        "        if item not in seen:\n",
        "            unique_list.append(item)\n",
        "            seen.add(item)\n",
        "\n",
        "    return unique_list\n",
        "\n",
        "# Example usage:\n",
        "numbers = [1, 2, 3, 2, 4, 1, 5, 6, 4, 3, 7]\n",
        "unique_numbers = remove_duplicates(numbers)\n",
        "print(\"List with duplicates removed:\", unique_numbers)\n"
      ],
      "metadata": {
        "colab": {
          "base_uri": "https://localhost:8080/"
        },
        "id": "iawg1awsPber",
        "outputId": "9c3f9b69-b5d3-4dce-dd3a-55b47750a7df"
      },
      "execution_count": 33,
      "outputs": [
        {
          "output_type": "stream",
          "name": "stdout",
          "text": [
            "List with duplicates removed: [1, 2, 3, 4, 5, 6, 7]\n"
          ]
        }
      ]
    },
    {
      "cell_type": "markdown",
      "source": [
        "#34. Implement a function to find the longest common prefix among a list of strings.\n"
      ],
      "metadata": {
        "id": "02V4mFktPl3n"
      }
    },
    {
      "cell_type": "code",
      "source": [
        "def longest_common_prefix(strs):\n",
        "    if not strs:\n",
        "        return \"\"\n",
        "\n",
        "    shortest = min(strs, key=len)\n",
        "\n",
        "    for i, char in enumerate(shortest):\n",
        "        for other in strs:\n",
        "            if other[i] != char:\n",
        "                return shortest[:i]\n",
        "\n",
        "    return shortest\n",
        "\n",
        "# Example usage:\n",
        "strings = [\"flower\", \"flow\", \"flight\"]\n",
        "prefix = longest_common_prefix(strings)\n",
        "print(\"Longest common prefix:\", prefix)\n"
      ],
      "metadata": {
        "colab": {
          "base_uri": "https://localhost:8080/"
        },
        "id": "nIfVEPN9PhcQ",
        "outputId": "84a99513-d16a-4d2e-a632-8803fc7efa15"
      },
      "execution_count": 34,
      "outputs": [
        {
          "output_type": "stream",
          "name": "stdout",
          "text": [
            "Longest common prefix: fl\n"
          ]
        }
      ]
    },
    {
      "cell_type": "markdown",
      "source": [
        "#35. Write a program to check if a given number is a perfect square.\n"
      ],
      "metadata": {
        "id": "w5nH49hrPvRf"
      }
    },
    {
      "cell_type": "code",
      "source": [
        "def is_perfect_square(number):\n",
        "    if number < 0:\n",
        "        return False\n",
        "\n",
        "    sqrt = int(number ** 0.5)\n",
        "    return sqrt * sqrt == number\n",
        "\n",
        "# Example usage:\n",
        "n1 = 16\n",
        "n2 = 17\n",
        "\n",
        "if is_perfect_square(n1):\n",
        "    print(n1, \"is a perfect square.\")\n",
        "else:\n",
        "    print(n1, \"is not a perfect square.\")\n",
        "\n",
        "if is_perfect_square(n2):\n",
        "    print(n2, \"is a perfect square.\")\n",
        "else:\n",
        "    print(n2, \"is not a perfect square.\")\n"
      ],
      "metadata": {
        "colab": {
          "base_uri": "https://localhost:8080/"
        },
        "id": "qZWWVfujPomH",
        "outputId": "fc1d09d0-1cb5-44fd-bb4a-fb8d72429fe0"
      },
      "execution_count": 35,
      "outputs": [
        {
          "output_type": "stream",
          "name": "stdout",
          "text": [
            "16 is a perfect square.\n",
            "17 is not a perfect square.\n"
          ]
        }
      ]
    },
    {
      "cell_type": "markdown",
      "source": [
        "#36. Implement a function to calculate the product of all elements in a list."
      ],
      "metadata": {
        "id": "mgddSrpsP8oy"
      }
    },
    {
      "cell_type": "code",
      "source": [
        "def calculate_product(numbers):\n",
        "    product = 1\n",
        "\n",
        "    for num in numbers:\n",
        "        product *= num\n",
        "\n",
        "    return product\n",
        "\n",
        "# Example usage:\n",
        "numbers = [2, 3, 4, 5]\n",
        "product = calculate_product(numbers)\n",
        "print(\"Product of all elements:\", product)\n"
      ],
      "metadata": {
        "colab": {
          "base_uri": "https://localhost:8080/"
        },
        "id": "FgqogYxjP5Pd",
        "outputId": "05ada2cc-a906-44b3-bab4-77e4adac0890"
      },
      "execution_count": 36,
      "outputs": [
        {
          "output_type": "stream",
          "name": "stdout",
          "text": [
            "Product of all elements: 120\n"
          ]
        }
      ]
    },
    {
      "cell_type": "markdown",
      "source": [
        "#37. Write a Python program to reverse the order of words in a sentence while preserving the word order.\n",
        "\n"
      ],
      "metadata": {
        "id": "syZEEYinQCWW"
      }
    },
    {
      "cell_type": "code",
      "source": [
        "def reverse_words(sentence):\n",
        "    words = sentence.split()\n",
        "    reversed_words = words[::-1]\n",
        "    reversed_sentence = ' '.join(reversed_words)\n",
        "    return reversed_sentence\n",
        "\n",
        "# Example usage:\n",
        "sentence = \"Hello, world! How are you?\"\n",
        "reversed_sentence = reverse_words(sentence)\n",
        "print(\"Reversed sentence:\", reversed_sentence)\n"
      ],
      "metadata": {
        "colab": {
          "base_uri": "https://localhost:8080/"
        },
        "id": "saP89nrJP_Fo",
        "outputId": "5f8598ec-9787-4c92-f95d-2e2135b4fb73"
      },
      "execution_count": 37,
      "outputs": [
        {
          "output_type": "stream",
          "name": "stdout",
          "text": [
            "Reversed sentence: you? are How world! Hello,\n"
          ]
        }
      ]
    },
    {
      "cell_type": "markdown",
      "source": [
        "#38. Implement a function to find the missing number in a given list of consecutive numbers"
      ],
      "metadata": {
        "id": "XRfsL_VGQJ3w"
      }
    },
    {
      "cell_type": "code",
      "source": [
        "def find_missing_number(numbers):\n",
        "    n = len(numbers) + 1\n",
        "    expected_sum = (n * (n + 1)) // 2\n",
        "    actual_sum = sum(numbers)\n",
        "    missing_number = expected_sum - actual_sum\n",
        "    return missing_number\n",
        "\n",
        "# Example usage:\n",
        "consecutive_numbers = [1, 2, 3, 5, 6, 7, 8]\n",
        "missing_number = find_missing_number(consecutive_numbers)\n",
        "print(\"Missing number:\", missing_number)\n"
      ],
      "metadata": {
        "colab": {
          "base_uri": "https://localhost:8080/"
        },
        "id": "_ut9aGHTQF2t",
        "outputId": "efb08219-c70c-4143-e671-eeccb18b579e"
      },
      "execution_count": 38,
      "outputs": [
        {
          "output_type": "stream",
          "name": "stdout",
          "text": [
            "Missing number: 4\n"
          ]
        }
      ]
    },
    {
      "cell_type": "markdown",
      "source": [
        "#39. Write a program to find the sum of digits of a given number."
      ],
      "metadata": {
        "id": "BZAkwPIAQRKe"
      }
    },
    {
      "cell_type": "code",
      "source": [
        "def sum_of_digits(number):\n",
        "    sum_digits = 0\n",
        "    num = abs(number)\n",
        "\n",
        "    while num > 0:\n",
        "        digit = num % 10\n",
        "        sum_digits += digit\n",
        "        num //= 10\n",
        "\n",
        "    return sum_digits\n",
        "\n",
        "# Example usage:\n",
        "n = 12345\n",
        "sum_of_digits = sum_of_digits(n)\n",
        "print(\"Sum of digits of\", n, \"is:\", sum_of_digits)\n"
      ],
      "metadata": {
        "colab": {
          "base_uri": "https://localhost:8080/"
        },
        "id": "SfTNALsoQNWW",
        "outputId": "7630282d-c344-4707-abaf-0a24920d329a"
      },
      "execution_count": 39,
      "outputs": [
        {
          "output_type": "stream",
          "name": "stdout",
          "text": [
            "Sum of digits of 12345 is: 15\n"
          ]
        }
      ]
    },
    {
      "cell_type": "markdown",
      "source": [
        "#40. Implement a function to check if a given string is a valid palindrome considering case sensitivity.\n"
      ],
      "metadata": {
        "id": "fnimTXfsQZH3"
      }
    },
    {
      "cell_type": "code",
      "source": [
        "def is_valid_palindrome(string):\n",
        "    # Remove non-alphanumeric characters and convert to lowercase\n",
        "    alphanumeric_string = ''.join(c for c in string if c.isalnum())\n",
        "    alphanumeric_string = alphanumeric_string.lower()\n",
        "\n",
        "    # Check if the alphanumeric string is a palindrome\n",
        "    return alphanumeric_string == alphanumeric_string[::-1]\n",
        "\n",
        "# Example usage:\n",
        "input_string = \"A man, a plan, a canal, Panama!\"\n",
        "if is_valid_palindrome(input_string):\n",
        "    print(\"The string is a valid palindrome.\")\n",
        "else:\n",
        "    print(\"The string is not a valid palindrome.\")\n"
      ],
      "metadata": {
        "colab": {
          "base_uri": "https://localhost:8080/"
        },
        "id": "3lJYJq8bQVuf",
        "outputId": "f386e3ae-e866-4b7e-fe3a-02492d0313ce"
      },
      "execution_count": 40,
      "outputs": [
        {
          "output_type": "stream",
          "name": "stdout",
          "text": [
            "The string is a valid palindrome.\n"
          ]
        }
      ]
    },
    {
      "cell_type": "markdown",
      "source": [
        "#41. Write a Python program to find the smallest missing positive integer in a list.\n"
      ],
      "metadata": {
        "id": "s9wnED2RQj6-"
      }
    },
    {
      "cell_type": "code",
      "source": [
        "def find_smallest_missing_positive(numbers):\n",
        "    n = len(numbers)\n",
        "\n",
        "    # Step 1: Move all positive integers to the left side\n",
        "    positive_index = 0\n",
        "    for i in range(n):\n",
        "        if numbers[i] > 0:\n",
        "            numbers[i], numbers[positive_index] = numbers[positive_index], numbers[i]\n",
        "            positive_index += 1\n",
        "\n",
        "    # Step 2: Mark visited indices\n",
        "    for i in range(positive_index):\n",
        "        num = abs(numbers[i])\n",
        "        if num <= positive_index:\n",
        "            numbers[num-1] = -abs(numbers[num-1])\n",
        "\n",
        "    # Step 3: Find the first missing positive integer\n",
        "    for i in range(positive_index):\n",
        "        if numbers[i] > 0:\n",
        "            return i + 1\n",
        "\n",
        "    return positive_index + 1\n",
        "\n",
        "# Example usage:\n",
        "nums = [3, 4, -1, 1]\n",
        "smallest_missing = find_smallest_missing_positive(nums)\n",
        "print(\"Smallest missing positive integer:\", smallest_missing)\n"
      ],
      "metadata": {
        "colab": {
          "base_uri": "https://localhost:8080/"
        },
        "id": "XAtwl4fiQgYm",
        "outputId": "ac274cc8-a39c-4260-c19a-b38243cee467"
      },
      "execution_count": 41,
      "outputs": [
        {
          "output_type": "stream",
          "name": "stdout",
          "text": [
            "Smallest missing positive integer: 2\n"
          ]
        }
      ]
    },
    {
      "cell_type": "markdown",
      "source": [
        "#42. Implement a function to find the longest palindrome substring in a given string"
      ],
      "metadata": {
        "id": "5poHHDjmQqqV"
      }
    },
    {
      "cell_type": "code",
      "source": [
        "def longest_palindrome_substring(string):\n",
        "    if not string:\n",
        "        return \"\"\n",
        "\n",
        "    longest = \"\"\n",
        "    n = len(string)\n",
        "\n",
        "    # Helper function to expand around center\n",
        "    def expand_around_center(left, right):\n",
        "        while left >= 0 and right < n and string[left] == string[right]:\n",
        "            left -= 1\n",
        "            right += 1\n",
        "        return string[left+1:right]\n",
        "\n",
        "    for i in range(n):\n",
        "        # Case 1: Center of palindrome is a single character\n",
        "        palindrome = expand_around_center(i, i)\n",
        "        if len(palindrome) > len(longest):\n",
        "            longest = palindrome\n",
        "\n",
        "        # Case 2: Center of palindrome is two characters\n",
        "        palindrome = expand_around_center(i, i+1)\n",
        "        if len(palindrome) > len(longest):\n",
        "            longest = palindrome\n",
        "\n",
        "    return longest\n",
        "\n",
        "# Example usage:\n",
        "input_string = \"babad\"\n",
        "longest_palindrome = longest_palindrome_substring(input_string)\n",
        "print(\"Longest palindrome substring:\", longest_palindrome)\n"
      ],
      "metadata": {
        "colab": {
          "base_uri": "https://localhost:8080/"
        },
        "id": "agNH4mL_QnIn",
        "outputId": "8e107220-6e39-43e8-b87c-de9049c345e6"
      },
      "execution_count": 42,
      "outputs": [
        {
          "output_type": "stream",
          "name": "stdout",
          "text": [
            "Longest palindrome substring: bab\n"
          ]
        }
      ]
    },
    {
      "cell_type": "markdown",
      "source": [
        "#43. Write a program to find the number of occurrences of a given element in a list"
      ],
      "metadata": {
        "id": "UTS6XnfLQywG"
      }
    },
    {
      "cell_type": "code",
      "source": [
        "def count_occurrences(numbers, target):\n",
        "    count = 0\n",
        "\n",
        "    for num in numbers:\n",
        "        if num == target:\n",
        "            count += 1\n",
        "\n",
        "    return count\n",
        "\n",
        "# Example usage:\n",
        "numbers = [1, 2, 3, 4, 2, 2, 5, 2, 6]\n",
        "target_number = 2\n",
        "occurrences = count_occurrences(numbers, target_number)\n",
        "print(\"Number of occurrences of\", target_number, \"in the list:\", occurrences)\n"
      ],
      "metadata": {
        "colab": {
          "base_uri": "https://localhost:8080/"
        },
        "id": "keeQL1m7QvRg",
        "outputId": "99aa0a48-7fd3-4cae-f7da-6303a2b174e0"
      },
      "execution_count": 43,
      "outputs": [
        {
          "output_type": "stream",
          "name": "stdout",
          "text": [
            "Number of occurrences of 2 in the list: 4\n"
          ]
        }
      ]
    },
    {
      "cell_type": "markdown",
      "source": [
        "#44. Implement a function to check if a given number is a perfect number"
      ],
      "metadata": {
        "id": "VkRlPElUQ6_g"
      }
    },
    {
      "cell_type": "code",
      "source": [
        "def is_perfect_number(number):\n",
        "    if number <= 0:\n",
        "        return False\n",
        "\n",
        "    divisor_sum = 0\n",
        "    for i in range(1, number):\n",
        "        if number % i == 0:\n",
        "            divisor_sum += i\n",
        "\n",
        "    return divisor_sum == number\n",
        "\n",
        "# Example usage:\n",
        "n = 28\n",
        "if is_perfect_number(n):\n",
        "    print(n, \"is a perfect number.\")\n",
        "else:\n",
        "    print(n, \"is not a perfect number.\")\n"
      ],
      "metadata": {
        "colab": {
          "base_uri": "https://localhost:8080/"
        },
        "id": "a7j05zu9Q3nm",
        "outputId": "2bcbafce-86f0-4f5f-8eea-f2a1a835fa9f"
      },
      "execution_count": 44,
      "outputs": [
        {
          "output_type": "stream",
          "name": "stdout",
          "text": [
            "28 is a perfect number.\n"
          ]
        }
      ]
    },
    {
      "cell_type": "markdown",
      "source": [
        "#45. Write a Python program to remove all duplicates from a string.\n"
      ],
      "metadata": {
        "id": "mkzb3Mo0RBJO"
      }
    },
    {
      "cell_type": "code",
      "source": [
        "def remove_duplicates(string):\n",
        "    unique_chars = []\n",
        "    result = \"\"\n",
        "\n",
        "    for char in string:\n",
        "        if char not in unique_chars:\n",
        "            unique_chars.append(char)\n",
        "            result += char\n",
        "\n",
        "    return result\n",
        "\n",
        "# Example usage:\n",
        "input_string = \"Hello, World!\"\n",
        "result_string = remove_duplicates(input_string)\n",
        "print(\"String with duplicates removed:\", result_string)\n"
      ],
      "metadata": {
        "colab": {
          "base_uri": "https://localhost:8080/"
        },
        "id": "OnE2OKhqQ-Pe",
        "outputId": "8927fcb9-bbff-432a-da3e-80910dc0c8fb"
      },
      "execution_count": 45,
      "outputs": [
        {
          "output_type": "stream",
          "name": "stdout",
          "text": [
            "String with duplicates removed: Helo, Wrd!\n"
          ]
        }
      ]
    },
    {
      "cell_type": "markdown",
      "source": [
        "#46. Implement a function to find the first missing positive\n"
      ],
      "metadata": {
        "id": "32h3OVRmRHfv"
      }
    },
    {
      "cell_type": "code",
      "source": [
        "def find_first_missing_positive(numbers):\n",
        "    n = len(numbers)\n",
        "\n",
        "    # Step 1: Move all positive integers to the correct position\n",
        "    for i in range(n):\n",
        "        while 1 <= numbers[i] <= n and numbers[numbers[i] - 1] != numbers[i]:\n",
        "            # Swap numbers[numbers[i] - 1] and numbers[i]\n",
        "            numbers[numbers[i] - 1], numbers[i] = numbers[i], numbers[numbers[i] - 1]\n",
        "\n",
        "    # Step 2: Find the first missing positive integer\n",
        "    for i in range(n):\n",
        "        if numbers[i] != i + 1:\n",
        "            return i + 1\n",
        "\n",
        "    return n + 1\n",
        "\n",
        "# Example usage:\n",
        "nums = [3, 4, -1, 1]\n",
        "first_missing = find_first_missing_positive(nums)\n",
        "print(\"First missing positive integer:\", first_missing)\n"
      ],
      "metadata": {
        "colab": {
          "base_uri": "https://localhost:8080/"
        },
        "id": "ahdem4l5RD06",
        "outputId": "cb715bea-f5e3-4a48-8c39-bd8fb537cb70"
      },
      "execution_count": 46,
      "outputs": [
        {
          "output_type": "stream",
          "name": "stdout",
          "text": [
            "First missing positive integer: 2\n"
          ]
        }
      ]
    },
    {
      "cell_type": "code",
      "source": [],
      "metadata": {
        "id": "KthNKsJZRKrV"
      },
      "execution_count": null,
      "outputs": []
    }
  ]
}