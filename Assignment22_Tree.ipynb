{
  "nbformat": 4,
  "nbformat_minor": 0,
  "metadata": {
    "colab": {
      "provenance": []
    },
    "kernelspec": {
      "name": "python3",
      "display_name": "Python 3"
    },
    "language_info": {
      "name": "python"
    }
  },
  "cells": [
    {
      "cell_type": "markdown",
      "source": [
        "#Question-1:\n",
        "\n",
        "Given a Binary Tree (Bt), convert it to a Doubly Linked List(DLL). The left and right pointers in nodes are to be used as previous and next pointers respectively in converted DLL. The order of nodes in DLL must be the same as in Inorder for the given Binary Tree. The first node of Inorder traversal (leftmost node in BT) must be the head node of the DLL.\n",
        "\n",
        "Example:\n",
        "\n",
        "</aside>"
      ],
      "metadata": {
        "id": "wfZvX9ufau6d"
      }
    },
    {
      "cell_type": "code",
      "execution_count": 1,
      "metadata": {
        "colab": {
          "base_uri": "https://localhost:8080/"
        },
        "id": "fyYHr2omapNI",
        "outputId": "4ac0d58b-f78d-4361-f513-398f7246e1b7"
      },
      "outputs": [
        {
          "output_type": "stream",
          "name": "stdout",
          "text": [
            "5 "
          ]
        }
      ],
      "source": [
        "class Node:\n",
        "    def __init__(self, data):\n",
        "        self.data = data\n",
        "        self.left = None\n",
        "        self.right = None\n",
        "\n",
        "def convertToDLL(root):\n",
        "    global prev\n",
        "    if root is None:\n",
        "        return\n",
        "\n",
        "    convertToDLL(root.left)\n",
        "\n",
        "    if prev is None:\n",
        "        head = root\n",
        "    else:\n",
        "        root.left = prev\n",
        "        prev.right = root\n",
        "\n",
        "    prev = root\n",
        "\n",
        "    convertToDLL(root.right)\n",
        "\n",
        "def printDLL(head):\n",
        "    while head:\n",
        "        print(head.data, end=\" \")\n",
        "        head = head.right\n",
        "\n",
        "# Example usage:\n",
        "root = Node(4)\n",
        "root.left = Node(2)\n",
        "root.right = Node(5)\n",
        "root.left.left = Node(1)\n",
        "root.left.right = Node(3)\n",
        "\n",
        "prev = None\n",
        "convertToDLL(root)\n",
        "\n",
        "printDLL(prev)\n"
      ]
    },
    {
      "cell_type": "code",
      "source": [],
      "metadata": {
        "id": "D2P4NvI3a0dN"
      },
      "execution_count": null,
      "outputs": []
    },
    {
      "cell_type": "markdown",
      "source": [
        "#Question-2\n",
        "\n",
        "A Given a binary tree, the task is to flip the binary tree towards the right direction that is clockwise. See the below examples to see the transformation.\n",
        "\n",
        "In the flip operation, the leftmost node becomes the root of the flipped tree and its parent becomes its right child and the right sibling becomes its left child and the same should be done for all left most nodes recursively.\n",
        "\n",
        "Example1:\n",
        "\n",
        "![Untitled](https://s3-us-west-2.amazonaws.com/secure.notion-static.com/a5f5bbbe-8607-4f17-9ab4-b31327ffa2d0/Untitled.png)\n",
        "\n",
        "Example2:\n",
        "\n",
        "</aside>"
      ],
      "metadata": {
        "id": "TojS8-UAa5_U"
      }
    },
    {
      "cell_type": "code",
      "source": [
        "class Node:\n",
        "    def __init__(self, data):\n",
        "        self.data = data\n",
        "        self.left = None\n",
        "        self.right = None\n",
        "\n",
        "def flipBinaryTree(root):\n",
        "    if root is None or (root.left is None and root.right is None):\n",
        "        return root\n",
        "\n",
        "    left = flipBinaryTree(root.left)\n",
        "    right = flipBinaryTree(root.right)\n",
        "\n",
        "    root.left = None\n",
        "    root.right = left\n",
        "\n",
        "    curr = root.right\n",
        "    while curr and curr.right:\n",
        "        curr = curr.right\n",
        "\n",
        "    if curr:\n",
        "        curr.right = right\n",
        "\n",
        "    return root\n",
        "\n",
        "def printTree(root):\n",
        "    if root is None:\n",
        "        return\n",
        "    print(root.data, end=\" \")\n",
        "    printTree(root.left)\n",
        "    printTree(root.right)\n",
        "\n",
        "# Example usage:\n",
        "root = Node(1)\n",
        "root.left = Node(2)\n",
        "root.right = Node(3)\n",
        "root.left.left = Node(4)\n",
        "root.left.right = Node(5)\n",
        "\n",
        "print(\"Original Tree:\")\n",
        "printTree(root)\n",
        "print()\n",
        "\n",
        "flippedRoot = flipBinaryTree(root)\n",
        "\n",
        "print(\"Flipped Tree:\")\n",
        "printTree(flippedRoot)\n"
      ],
      "metadata": {
        "colab": {
          "base_uri": "https://localhost:8080/"
        },
        "id": "PPHGT0hza8bm",
        "outputId": "68a8b429-83f8-4b88-d8af-7e5380182571"
      },
      "execution_count": 2,
      "outputs": [
        {
          "output_type": "stream",
          "name": "stdout",
          "text": [
            "Original Tree:\n",
            "1 2 4 5 3 \n",
            "Flipped Tree:\n",
            "1 2 4 5 3 "
          ]
        }
      ]
    },
    {
      "cell_type": "code",
      "source": [],
      "metadata": {
        "id": "a1s6ONtZa_au"
      },
      "execution_count": null,
      "outputs": []
    },
    {
      "cell_type": "markdown",
      "source": [
        "#Question-3:\n",
        "\n",
        "Given a binary tree, print all its root-to-leaf paths without using recursion. For example, consider the following Binary Tree.\n",
        "\n",
        "Input:\n",
        "\n",
        "        6\n",
        "     /    \\\n",
        "    3      5\n",
        "  /   \\     \\\n",
        " 2     5     4\n",
        "     /   \\\n",
        "    7     4\n",
        "\n",
        "Output:\n",
        "\n",
        "There are 4 leaves, hence 4 root to leaf paths -\n",
        "  6->3->2\n",
        "  6->3->5->7\n",
        "  6->3->5->4\n",
        "  6->5>4\n",
        "\n",
        "</aside>"
      ],
      "metadata": {
        "id": "8mMqo0PjbHaT"
      }
    },
    {
      "cell_type": "code",
      "source": [
        "class Node:\n",
        "    def __init__(self, data):\n",
        "        self.data = data\n",
        "        self.left = None\n",
        "        self.right = None\n",
        "\n",
        "def printRootToLeafPaths(root):\n",
        "    if root is None:\n",
        "        return\n",
        "\n",
        "    stack = []\n",
        "    stack.append(root)\n",
        "    pathDict = {root: [root.data]}\n",
        "\n",
        "    while stack:\n",
        "        curr = stack.pop()\n",
        "\n",
        "        if curr.left is None and curr.right is None:\n",
        "            print(\"->\".join(map(str, pathDict[curr])))\n",
        "\n",
        "        if curr.left:\n",
        "            stack.append(curr.left)\n",
        "            pathDict[curr.left] = pathDict[curr] + [curr.left.data]\n",
        "\n",
        "        if curr.right:\n",
        "            stack.append(curr.right)\n",
        "            pathDict[curr.right] = pathDict[curr] + [curr.right.data]\n",
        "\n",
        "# Example usage:\n",
        "root = Node(6)\n",
        "root.left = Node(3)\n",
        "root.right = Node(5)\n",
        "root.left.left = Node(2)\n",
        "root.left.right = Node(5)\n",
        "root.right.right = Node(4)\n",
        "root.left.right.left = Node(7)\n",
        "root.left.right.right = Node(4)\n",
        "\n",
        "print(\"Root-to-leaf paths:\")\n",
        "printRootToLeafPaths(root)\n"
      ],
      "metadata": {
        "colab": {
          "base_uri": "https://localhost:8080/"
        },
        "id": "4Gf74rK3bJTt",
        "outputId": "82b89ace-86a8-4e53-d59b-3fec786331ff"
      },
      "execution_count": 3,
      "outputs": [
        {
          "output_type": "stream",
          "name": "stdout",
          "text": [
            "Root-to-leaf paths:\n",
            "6->5->4\n",
            "6->3->5->4\n",
            "6->3->5->7\n",
            "6->3->2\n"
          ]
        }
      ]
    },
    {
      "cell_type": "code",
      "source": [],
      "metadata": {
        "id": "EcUcHG8WbNzb"
      },
      "execution_count": null,
      "outputs": []
    },
    {
      "cell_type": "markdown",
      "source": [
        "#Question-4:\n",
        "\n",
        "Given Preorder, Inorder and Postorder traversals of some tree. Write a program to check if they all are of the same tree.\n",
        "\n",
        "**Examples:**\n",
        "\n",
        "Input :\n",
        "\n",
        "        Inorder -> 4 2 5 1 3\n",
        "        Preorder -> 1 2 4 5 3\n",
        "        Postorder -> 4 5 2 3 1\n",
        "Output :\n",
        "\n",
        "Yes\n",
        "Explanation :\n",
        "\n",
        "All of the above three traversals are of\n",
        "the same tree\n",
        "\n",
        "                           1\n",
        "                         /   \\\n",
        "                        2     3\n",
        "                      /   \\\n",
        "                     4     5\n",
        "\n",
        "Input :\n",
        "\n",
        "        Inorder -> 4 2 5 1 3\n",
        "        Preorder -> 1 5 4 2 3\n",
        "        Postorder -> 4 1 2 3 5\n",
        "Output :\n",
        "\n",
        "No\n",
        "\n",
        "</aside>"
      ],
      "metadata": {
        "id": "Xfnuau5GbRFs"
      }
    },
    {
      "cell_type": "code",
      "source": [
        "def checkSameTree(inorder, preorder, postorder):\n",
        "    if len(inorder) != len(preorder) or len(inorder) != len(postorder):\n",
        "        return False\n",
        "\n",
        "    if len(inorder) == 0:\n",
        "        return True\n",
        "\n",
        "    root = preorder[0]\n",
        "    index = inorder.index(root)\n",
        "\n",
        "    if index == -1:\n",
        "        return False\n",
        "\n",
        "    left_inorder = inorder[:index]\n",
        "    left_preorder = preorder[1:index+1]\n",
        "    left_postorder = postorder[:index]\n",
        "    right_inorder = inorder[index+1:]\n",
        "    right_preorder = preorder[index+1:]\n",
        "    right_postorder = postorder[index:-1]\n",
        "\n",
        "    return checkSameTree(left_inorder, left_preorder, left_postorder) and \\\n",
        "           checkSameTree(right_inorder, right_preorder, right_postorder)\n",
        "\n",
        "# Example usage:\n",
        "inorder = [4, 2, 5, 1, 3]\n",
        "preorder = [1, 2, 4, 5, 3]\n",
        "postorder = [4, 5, 2, 3, 1]\n",
        "\n",
        "if checkSameTree(inorder, preorder, postorder):\n",
        "    print(\"Yes\")\n",
        "else:\n",
        "    print(\"No\")\n"
      ],
      "metadata": {
        "colab": {
          "base_uri": "https://localhost:8080/"
        },
        "id": "3-vMsj9pbS-6",
        "outputId": "8ae0b2ec-bd52-4c05-ab8f-1a38683ff20c"
      },
      "execution_count": 4,
      "outputs": [
        {
          "output_type": "stream",
          "name": "stdout",
          "text": [
            "Yes\n"
          ]
        }
      ]
    },
    {
      "cell_type": "code",
      "source": [],
      "metadata": {
        "id": "1y4kYGxWbwx9"
      },
      "execution_count": null,
      "outputs": []
    }
  ]
}