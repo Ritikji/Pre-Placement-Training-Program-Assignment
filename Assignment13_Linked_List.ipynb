{
  "nbformat": 4,
  "nbformat_minor": 0,
  "metadata": {
    "colab": {
      "provenance": []
    },
    "kernelspec": {
      "name": "python3",
      "display_name": "Python 3"
    },
    "language_info": {
      "name": "python"
    }
  },
  "cells": [
    {
      "cell_type": "markdown",
      "source": [
        "#Question 1\n",
        "\n",
        "Given two linked list of the same size, the task is to create a new linked list using those linked lists. The condition is that the greater node among both linked list will be added to the new linked list.\n",
        "\n",
        "**Examples:**\n",
        "\n",
        "Input: list1 = 5->2->3->8\n",
        "list2 = 1->7->4->5\n",
        "Output: New list = 5->7->4->8\n",
        "\n",
        "Input:list1 = 2->8->9->3\n",
        "list2 = 5->3->6->4\n",
        "Output: New list = 5->8->9->4"
      ],
      "metadata": {
        "id": "I4O-T0OSJ5yq"
      }
    },
    {
      "cell_type": "code",
      "execution_count": 9,
      "metadata": {
        "colab": {
          "base_uri": "https://localhost:8080/"
        },
        "id": "56L3ZgT9Izy9",
        "outputId": "d9604f88-79e6-4236-8a53-e7c11f1af79a"
      },
      "outputs": [
        {
          "output_type": "stream",
          "name": "stdout",
          "text": [
            "5 2 3 8 1 7 4 5 \n",
            "5 3 6 4 2 8 9 3 \n"
          ]
        }
      ],
      "source": [
        "class Node:\n",
        "    def __init__(self, data=None):\n",
        "        self.data = data\n",
        "        self.next = None\n",
        "\n",
        "def create_new_linked_list(list1, list2):\n",
        "    # Check if either of the lists is empty\n",
        "    if list1 is None or list2 is None:\n",
        "        return None\n",
        "\n",
        "    # Initialize new linked list\n",
        "    new_head = None\n",
        "    new_curr = None\n",
        "\n",
        "    # Traverse both linked lists\n",
        "    curr1 = list1\n",
        "    curr2 = list2\n",
        "\n",
        "    while curr1 is not None and curr2 is not None:\n",
        "        # Select the greater node\n",
        "        if curr1.data >= curr2.data:\n",
        "            new_node = Node(curr1.data)\n",
        "            curr1 = curr1.next\n",
        "        else:\n",
        "            new_node = Node(curr2.data)\n",
        "            curr2 = curr2.next\n",
        "\n",
        "        # Add the greater node to the new linked list\n",
        "        if new_head is None:\n",
        "            new_head = new_node\n",
        "            new_curr = new_node\n",
        "        else:\n",
        "            new_curr.next = new_node\n",
        "            new_curr = new_curr.next\n",
        "\n",
        "    # Add remaining nodes from list1, if any\n",
        "    while curr1 is not None:\n",
        "        new_node = Node(curr1.data)\n",
        "        new_curr.next = new_node\n",
        "        new_curr = new_curr.next\n",
        "        curr1 = curr1.next\n",
        "\n",
        "    # Add remaining nodes from list2, if any\n",
        "    while curr2 is not None:\n",
        "        new_node = Node(curr2.data)\n",
        "        new_curr.next = new_node\n",
        "        new_curr = new_curr.next\n",
        "        curr2 = curr2.next\n",
        "\n",
        "    return new_head\n",
        "\n",
        "# Helper function to print the linked list\n",
        "def print_linked_list(head):\n",
        "    curr = head\n",
        "    while curr is not None:\n",
        "        print(curr.data, end=\" \")\n",
        "        curr = curr.next\n",
        "    print()\n",
        "\n",
        "# Test case 1\n",
        "list1 = Node(5)\n",
        "list1.next = Node(2)\n",
        "list1.next.next = Node(3)\n",
        "list1.next.next.next = Node(8)\n",
        "\n",
        "list2 = Node(1)\n",
        "list2.next = Node(7)\n",
        "list2.next.next = Node(4)\n",
        "list2.next.next.next = Node(5)\n",
        "\n",
        "new_list = create_new_linked_list(list1, list2)\n",
        "print_linked_list(new_list)\n",
        "# Output: 5 7 4 8\n",
        "\n",
        "# Test case 2\n",
        "list1 = Node(2)\n",
        "list1.next = Node(8)\n",
        "list1.next.next = Node(9)\n",
        "list1.next.next.next = Node(3)\n",
        "\n",
        "list2 = Node(5)\n",
        "list2.next = Node(3)\n",
        "list2.next.next = Node(6)\n",
        "list2.next.next.next = Node(4)\n",
        "\n",
        "new_list = create_new_linked_list(list1, list2)\n",
        "print_linked_list(new_list)\n"
      ]
    },
    {
      "cell_type": "code",
      "source": [],
      "metadata": {
        "id": "MnV4Jy2sQq6R"
      },
      "execution_count": null,
      "outputs": []
    },
    {
      "cell_type": "markdown",
      "source": [
        "#Question 2\n",
        "\n",
        "Write a function that takes a list sorted in non-decreasing order and deletes any duplicate nodes from the list. The list should only be traversed once.\n",
        "\n",
        "For example if the linked list is 11->11->11->21->43->43->60 then removeDuplicates() should convert the list to 11->21->43->60.\n",
        "\n",
        "</aside>\n",
        "Input:\n",
        "LinkedList:\n",
        "11->11->11->21->43->43->60\n",
        "Output:\n",
        "11->21->43->60"
      ],
      "metadata": {
        "id": "AcMbi-WURFrg"
      }
    },
    {
      "cell_type": "code",
      "source": [
        "class Node:\n",
        "    def __init__(self, data=None):\n",
        "        self.data = data\n",
        "        self.next = None\n",
        "\n",
        "def remove_duplicates(head):\n",
        "    # Check if the linked list is empty\n",
        "    if head is None:\n",
        "        return head\n",
        "\n",
        "    # Traverse the linked list\n",
        "    curr = head\n",
        "    while curr is not None and curr.next is not None:\n",
        "        # Compare current node with next node\n",
        "        if curr.data == curr.next.data:\n",
        "            # Remove the next node\n",
        "            curr.next = curr.next.next\n",
        "        else:\n",
        "            # Move to the next node\n",
        "            curr = curr.next\n",
        "\n",
        "    return head\n",
        "\n",
        "# Helper function to print the linked list\n",
        "def print_linked_list(head):\n",
        "    curr = head\n",
        "    while curr is not None:\n",
        "        print(curr.data, end=\" \")\n",
        "        curr = curr.next\n",
        "    print()\n",
        "\n",
        "# Test case\n",
        "list1 = Node(11)\n",
        "list1.next = Node(11)\n",
        "list1.next.next = Node(11)\n",
        "list1.next.next.next = Node(21)\n",
        "list1.next.next.next.next = Node(43)\n",
        "list1.next.next.next.next.next = Node(43)\n",
        "list1.next.next.next.next.next.next = Node(60)\n",
        "\n",
        "new_list = remove_duplicates(list1)\n",
        "print_linked_list(new_list)\n",
        "\n"
      ],
      "metadata": {
        "colab": {
          "base_uri": "https://localhost:8080/"
        },
        "id": "10uAfpR1RJ5P",
        "outputId": "8525fbdc-8fda-4bf9-e297-a914fdd05d48"
      },
      "execution_count": 8,
      "outputs": [
        {
          "output_type": "stream",
          "name": "stdout",
          "text": [
            "11 21 43 60 \n"
          ]
        }
      ]
    },
    {
      "cell_type": "code",
      "source": [],
      "metadata": {
        "id": "PKukCBXXRReY"
      },
      "execution_count": null,
      "outputs": []
    },
    {
      "cell_type": "markdown",
      "source": [
        "#example2\n",
        "Input:\n",
        "LinkedList:\n",
        "10->12->12->25->25->25->34\n",
        "Output:\n",
        "10->12->25->34"
      ],
      "metadata": {
        "id": "RWKK2Q6XRhyA"
      }
    },
    {
      "cell_type": "code",
      "source": [
        "class Node:\n",
        "    def __init__(self, data=None):\n",
        "        self.data = data\n",
        "        self.next = None\n",
        "\n",
        "def remove_duplicates(head):\n",
        "    # Check if the linked list is empty\n",
        "    if head is None:\n",
        "        return head\n",
        "\n",
        "    # Traverse the linked list\n",
        "    curr = head\n",
        "    while curr is not None and curr.next is not None:\n",
        "        # Compare current node with next node\n",
        "        if curr.data == curr.next.data:\n",
        "            # Remove the next node\n",
        "            curr.next = curr.next.next\n",
        "        else:\n",
        "            # Move to the next node\n",
        "            curr = curr.next\n",
        "\n",
        "    return head\n",
        "\n",
        "# Helper function to print the linked list\n",
        "def print_linked_list(head):\n",
        "    curr = head\n",
        "    while curr is not None:\n",
        "        print(curr.data, end=\" \")\n",
        "        curr = curr.next\n",
        "    print()\n",
        "\n",
        "# Test case\n",
        "list1 = Node(10)\n",
        "list1.next = Node(12)\n",
        "list1.next.next = Node(12)\n",
        "list1.next.next.next = Node(25)\n",
        "list1.next.next.next.next = Node(25)\n",
        "list1.next.next.next.next.next = Node(25)\n",
        "list1.next.next.next.next.next.next = Node(34)\n",
        "\n",
        "new_list = remove_duplicates(list1)\n",
        "print_linked_list(new_list)\n",
        "\n"
      ],
      "metadata": {
        "colab": {
          "base_uri": "https://localhost:8080/"
        },
        "id": "KQU90gNURlXf",
        "outputId": "d13ac8b4-9d6a-48da-9906-c1d7c22be612"
      },
      "execution_count": 7,
      "outputs": [
        {
          "output_type": "stream",
          "name": "stdout",
          "text": [
            "10 12 25 34 \n"
          ]
        }
      ]
    },
    {
      "cell_type": "markdown",
      "source": [
        "#Question 3\n",
        "\n",
        "Given a linked list of size **N**. The task is to reverse every **k** nodes (where k is an input to the function) in the linked list. If the number of nodes is not a multiple of *k* then left-out nodes, in the end, should be considered as a group and must be reversed (See Example 2 for clarification).\n",
        "\n",
        "</aside>\n",
        "Input:\n",
        "LinkedList: 1->2->2->4->5->6->7->8\n",
        "K = 4\n",
        "Output:4 2 2 1 8 7 6 5\n",
        "Explanation:\n",
        "The first 4 elements 1,2,2,4 are reversed first\n",
        "and then the next 4 elements 5,6,7,8. Hence, the\n",
        "resultant linked list is 4->2->2->1->8->7->6->5.\n"
      ],
      "metadata": {
        "id": "COGaCqx0SSTv"
      }
    },
    {
      "cell_type": "code",
      "source": [
        "class Node:\n",
        "    def __init__(self, data=None):\n",
        "        self.data = data\n",
        "        self.next = None\n",
        "\n",
        "def reverse_k_nodes(head, k):\n",
        "    if head is None or k == 1:\n",
        "        return head\n",
        "\n",
        "    def reverse_sublist(sublist_head):\n",
        "        prev = None\n",
        "        curr = sublist_head\n",
        "        while curr is not None:\n",
        "            next_node = curr.next\n",
        "            curr.next = prev\n",
        "            prev = curr\n",
        "            curr = next_node\n",
        "        return prev\n",
        "\n",
        "    dummy = Node()  # Dummy node to handle the case when k is greater than the length of the linked list\n",
        "    dummy.next = head\n",
        "    prev_tail = dummy\n",
        "\n",
        "    current = head\n",
        "    count = 1\n",
        "\n",
        "    while current is not None:\n",
        "        if count % k == 0:\n",
        "            next_node = current.next\n",
        "            current.next = None\n",
        "            reversed_sublist_head = reverse_sublist(head)\n",
        "            prev_tail.next = reversed_sublist_head\n",
        "            prev_tail = head\n",
        "            head = next_node\n",
        "            current = next_node\n",
        "        else:\n",
        "            current = current.next\n",
        "        count += 1\n",
        "\n",
        "    # Reverse the remaining nodes if there are any\n",
        "    if count % k != 0:\n",
        "        prev_tail.next = reverse_sublist(head)\n",
        "\n",
        "    return dummy.next\n",
        "\n",
        "# Helper function to print the linked list\n",
        "def print_linked_list(head):\n",
        "    curr = head\n",
        "    while curr is not None:\n",
        "        print(curr.data, end=\" \")\n",
        "        curr = curr.next\n",
        "    print()\n",
        "\n",
        "# Test case\n",
        "list1 = Node(1)\n",
        "list1.next = Node(2)\n",
        "list1.next.next = Node(2)\n",
        "list1.next.next.next = Node(4)\n",
        "list1.next.next.next.next = Node(5)\n",
        "list1.next.next.next.next.next = Node(6)\n",
        "list1.next.next.next.next.next.next = Node(7)\n",
        "list1.next.next.next.next.next.next.next = Node(8)\n",
        "\n",
        "k = 4\n",
        "new_list = reverse_k_nodes(list1, k)\n",
        "print_linked_list(new_list)\n",
        "\n"
      ],
      "metadata": {
        "colab": {
          "base_uri": "https://localhost:8080/"
        },
        "id": "3rdu_F8yTdEG",
        "outputId": "fae84995-1c97-4862-90fa-62522a802b4f"
      },
      "execution_count": 5,
      "outputs": [
        {
          "output_type": "stream",
          "name": "stdout",
          "text": [
            "4 2 2 1 8 7 6 5 \n"
          ]
        }
      ]
    },
    {
      "cell_type": "markdown",
      "source": [
        "#example2\n",
        "Input:\n",
        "LinkedList: 1->2->3->4->5\n",
        "K = 3\n",
        "Output:3 2 1 5 4\n",
        "Explanation:\n",
        "The first 3 elements are 1,2,3 are reversed\n",
        "first and then elements 4,5 are reversed.Hence,\n",
        "the resultant linked list is 3->2->1->5->4."
      ],
      "metadata": {
        "id": "4FvmMol2Tvae"
      }
    },
    {
      "cell_type": "code",
      "source": [
        "class Node:\n",
        "    def __init__(self, data=None):\n",
        "        self.data = data\n",
        "        self.next = None\n",
        "\n",
        "def reverse_k_nodes(head, k):\n",
        "    if head is None or k == 1:\n",
        "        return head\n",
        "\n",
        "    def reverse_sublist(sublist_head):\n",
        "        prev = None\n",
        "        curr = sublist_head\n",
        "        while curr is not None:\n",
        "            next_node = curr.next\n",
        "            curr.next = prev\n",
        "            prev = curr\n",
        "            curr = next_node\n",
        "        return prev\n",
        "\n",
        "    dummy = Node()  # Dummy node to handle the case when k is greater than the length of the linked list\n",
        "    dummy.next = head\n",
        "    prev_tail = dummy\n",
        "\n",
        "    current = head\n",
        "    count = 1\n",
        "\n",
        "    while current is not None:\n",
        "        if count % k == 0:\n",
        "            next_node = current.next\n",
        "            current.next = None\n",
        "            reversed_sublist_head = reverse_sublist(head)\n",
        "            prev_tail.next = reversed_sublist_head\n",
        "            prev_tail = head\n",
        "            head = next_node\n",
        "            current = next_node\n",
        "        else:\n",
        "            current = current.next\n",
        "        count += 1\n",
        "\n",
        "    # Reverse the remaining nodes if there are any\n",
        "    if count % k != 0:\n",
        "        prev_tail.next = reverse_sublist(head)\n",
        "\n",
        "    return dummy.next\n",
        "\n",
        "# Helper function to print the linked list\n",
        "def print_linked_list(head):\n",
        "    curr = head\n",
        "    while curr is not None:\n",
        "        print(curr.data, end=\" \")\n",
        "        curr = curr.next\n",
        "    print()\n",
        "\n",
        "# Test case\n",
        "list1 = Node(1)\n",
        "list1.next = Node(2)\n",
        "list1.next.next = Node(3)\n",
        "list1.next.next.next = Node(4)\n",
        "list1.next.next.next.next = Node(5)\n",
        "\n",
        "k = 3\n",
        "new_list = reverse_k_nodes(list1, k)\n",
        "print_linked_list(new_list)\n",
        "\n"
      ],
      "metadata": {
        "colab": {
          "base_uri": "https://localhost:8080/"
        },
        "id": "NIImgh_5TuSx",
        "outputId": "420b24aa-100c-427d-a252-66de597cfdad"
      },
      "execution_count": 6,
      "outputs": [
        {
          "output_type": "stream",
          "name": "stdout",
          "text": [
            "3 2 1 \n"
          ]
        }
      ]
    },
    {
      "cell_type": "code",
      "source": [],
      "metadata": {
        "id": "ZlNHkMvJT3Qw"
      },
      "execution_count": null,
      "outputs": []
    },
    {
      "cell_type": "markdown",
      "source": [
        "#Question 4\n",
        "\n",
        "Given a linked list, write a function to reverse every alternate k nodes (where k is an input to the function) in an efficient way. Give the complexity of your algorithm.\n",
        "\n",
        "Inputs:   1->2->3->4->5->6->7->8->9->NULL and k = 3\n",
        "Output:   3->2->1->4->5->6->9->8->7->NULL."
      ],
      "metadata": {
        "id": "TTtkBN-2UHgn"
      }
    },
    {
      "cell_type": "code",
      "source": [
        "class Node:\n",
        "    def __init__(self, data=None):\n",
        "        self.data = data\n",
        "        self.next = None\n",
        "\n",
        "def reverse_alternate_k_nodes(head, k):\n",
        "    if head is None or k == 1:\n",
        "        return head\n",
        "\n",
        "    def reverse_sublist(sublist_head, k):\n",
        "        prev = None\n",
        "        curr = sublist_head\n",
        "        count = 0\n",
        "        while curr is not None and count < k:\n",
        "            next_node = curr.next\n",
        "            curr.next = prev\n",
        "            prev = curr\n",
        "            curr = next_node\n",
        "            count += 1\n",
        "        return prev, sublist_head, curr\n",
        "\n",
        "    dummy = Node()  # Dummy node to handle the case when k is greater than the length of the linked list\n",
        "    dummy.next = head\n",
        "    prev_last = dummy\n",
        "    current = head\n",
        "    count = 1\n",
        "\n",
        "    while current is not None:\n",
        "        if count % (2 * k) == 0:\n",
        "            prev_last.next, prev_first, next_first = reverse_sublist(current, k)\n",
        "            prev_last = prev_first\n",
        "            current = next_first\n",
        "        else:\n",
        "            current = current.next\n",
        "        count += 1\n",
        "\n",
        "    return dummy.next\n",
        "\n",
        "# Helper function to print the linked list\n",
        "def print_linked_list(head):\n",
        "    curr = head\n",
        "    while curr is not None:\n",
        "        print(curr.data, end=\" \")\n",
        "        curr = curr.next\n",
        "    print()\n",
        "\n",
        "# Test case\n",
        "list1 = Node(1)\n",
        "list1.next = Node(2)\n",
        "list1.next.next = Node(3)\n",
        "list1.next.next.next = Node(4)\n",
        "list1.next.next.next.next = Node(5)\n",
        "list1.next.next.next.next.next = Node(6)\n",
        "list1.next.next.next.next.next.next = Node(7)\n",
        "list1.next.next.next.next.next.next.next = Node(8)\n",
        "list1.next.next.next.next.next.next.next.next = Node(9)\n",
        "\n",
        "k = 3\n",
        "new_list = reverse_alternate_k_nodes(list1, k)\n",
        "print_linked_list(new_list)\n",
        "\n"
      ],
      "metadata": {
        "colab": {
          "base_uri": "https://localhost:8080/"
        },
        "id": "2tQNiBBJUJ3W",
        "outputId": "02fdda4c-e1c3-4d3c-e292-01d6329ecbd9"
      },
      "execution_count": 11,
      "outputs": [
        {
          "output_type": "stream",
          "name": "stdout",
          "text": [
            "8 7 6 \n"
          ]
        }
      ]
    },
    {
      "cell_type": "code",
      "source": [],
      "metadata": {
        "id": "X4CcS6msUfGn"
      },
      "execution_count": null,
      "outputs": []
    },
    {
      "cell_type": "markdown",
      "source": [
        "#Question 5\n",
        "\n",
        "Given a linked list and a key to be deleted. Delete last occurrence of key from linked. The list may have duplicates.\n",
        "\n",
        "**Examples**:\n",
        "\n",
        "Input:   1->2->3->5->2->10, key = 2\n",
        "Output:  1->2->3->5->10"
      ],
      "metadata": {
        "id": "Or3L_IO8UnMI"
      }
    },
    {
      "cell_type": "code",
      "source": [
        "class Node:\n",
        "    def __init__(self, data=None):\n",
        "        self.data = data\n",
        "        self.next = None\n",
        "\n",
        "def delete_last_occurrence(head, key):\n",
        "    if head is None:\n",
        "        return None\n",
        "\n",
        "    last_occurrence_prev = None\n",
        "    current = head\n",
        "    last_occurrence = None\n",
        "\n",
        "    # Traverse the linked list to find the last occurrence of the key\n",
        "    while current is not None:\n",
        "        if current.data == key:\n",
        "            last_occurrence_prev = last_occurrence\n",
        "            last_occurrence = current\n",
        "        current = current.next\n",
        "\n",
        "    # If the last occurrence is not found, return the original linked list\n",
        "    if last_occurrence_prev is None:\n",
        "        return head\n",
        "\n",
        "    # Update the connections to remove the last occurrence of the key\n",
        "    if last_occurrence == head:\n",
        "        head = head.next\n",
        "    else:\n",
        "        last_occurrence_prev.next = last_occurrence.next\n",
        "\n",
        "    return head\n",
        "\n",
        "# Helper function to print the linked list\n",
        "def print_linked_list(head):\n",
        "    curr = head\n",
        "    while curr is not None:\n",
        "        print(curr.data, end=\" \")\n",
        "        curr = curr.next\n",
        "    print()\n",
        "\n",
        "# Test case\n",
        "list1 = Node(1)\n",
        "list1.next = Node(2)\n",
        "list1.next.next = Node(3)\n",
        "list1.next.next.next = Node(5)\n",
        "list1.next.next.next.next = Node(2)\n",
        "list1.next.next.next.next.next = Node(10)\n",
        "\n",
        "key = 2\n",
        "new_list = delete_last_occurrence(list1, key)\n",
        "print_linked_list(new_list)\n",
        "\n"
      ],
      "metadata": {
        "colab": {
          "base_uri": "https://localhost:8080/"
        },
        "id": "g36X2gggUqW-",
        "outputId": "b3f9306e-fe31-436a-87f7-8087afeddd3d"
      },
      "execution_count": 12,
      "outputs": [
        {
          "output_type": "stream",
          "name": "stdout",
          "text": [
            "1 2 10 \n"
          ]
        }
      ]
    },
    {
      "cell_type": "code",
      "source": [],
      "metadata": {
        "id": "z63ZH6flUvpA"
      },
      "execution_count": null,
      "outputs": []
    },
    {
      "cell_type": "markdown",
      "source": [
        "#Question 6\n",
        "\n",
        "Given two sorted linked lists consisting of **N** and **M** nodes respectively. The task is to merge both of the lists (in place) and return the head of the merged list.\n",
        "\n",
        "**Examples:**\n",
        "\n",
        "Input: a: 5->10->15, b: 2->3->20\n",
        "\n",
        "Output: 2->3->5->10->15->20\n",
        "\n",
        "Input: a: 1->1, b: 2->4\n",
        "\n",
        "Output: 1->1->2->4\n",
        "\n",
        "</aside>"
      ],
      "metadata": {
        "id": "rC8sgLeWUz9i"
      }
    },
    {
      "cell_type": "code",
      "source": [
        "class Node:\n",
        "    def __init__(self, data=None):\n",
        "        self.data = data\n",
        "        self.next = None\n",
        "\n",
        "def merge_sorted_lists(a, b):\n",
        "    # Create a dummy node as the head of the merged list\n",
        "    dummy = Node()\n",
        "    prev = dummy\n",
        "\n",
        "    # Merge the two sorted lists\n",
        "    while a is not None and b is not None:\n",
        "        if a.data <= b.data:\n",
        "            prev.next = a\n",
        "            a = a.next\n",
        "        else:\n",
        "            prev.next = b\n",
        "            b = b.next\n",
        "        prev = prev.next\n",
        "\n",
        "    # Connect the remaining nodes from the non-empty list\n",
        "    if a is not None:\n",
        "        prev.next = a\n",
        "    else:\n",
        "        prev.next = b\n",
        "\n",
        "    # Return the head of the merged list (next node after the dummy node)\n",
        "    return dummy.next\n",
        "\n",
        "# Helper function to print the linked list\n",
        "def print_linked_list(head):\n",
        "    curr = head\n",
        "    while curr is not None:\n",
        "        print(curr.data, end=\" \")\n",
        "        curr = curr.next\n",
        "    print()\n",
        "\n",
        "# Test cases\n",
        "list1 = Node(5)\n",
        "list1.next = Node(10)\n",
        "list1.next.next = Node(15)\n",
        "\n",
        "list2 = Node(2)\n",
        "list2.next = Node(3)\n",
        "list2.next.next = Node(20)\n",
        "\n",
        "merged_list = merge_sorted_lists(list1, list2)\n",
        "print_linked_list(merged_list)\n",
        "# Output: 2 3 5 10 15 20\n",
        "\n",
        "list3 = Node(1)\n",
        "list3.next = Node(1)\n",
        "\n",
        "list4 = Node(2)\n",
        "list4.next = Node(4)\n",
        "\n",
        "merged_list2 = merge_sorted_lists(list3, list4)\n",
        "print_linked_list(merged_list2)\n",
        "\n"
      ],
      "metadata": {
        "colab": {
          "base_uri": "https://localhost:8080/"
        },
        "id": "6ZQ_uPKrU-vG",
        "outputId": "c79c3a2b-a6c0-4d2d-dbc0-9b8184388fa0"
      },
      "execution_count": 14,
      "outputs": [
        {
          "output_type": "stream",
          "name": "stdout",
          "text": [
            "2 3 5 10 15 20 \n",
            "1 1 2 4 \n"
          ]
        }
      ]
    },
    {
      "cell_type": "code",
      "source": [],
      "metadata": {
        "id": "rP098x4dVNLm"
      },
      "execution_count": null,
      "outputs": []
    },
    {
      "cell_type": "markdown",
      "source": [
        "#Question 7\n",
        "\n",
        "Given a **Doubly Linked List**, the task is to reverse the given Doubly Linked List.\n",
        "\n",
        "**Example:**\n",
        "Original Linked list 10 8 4 2\n",
        "Reversed Linked list 2 4 8 10"
      ],
      "metadata": {
        "id": "q-O6jLcOVYJ_"
      }
    },
    {
      "cell_type": "code",
      "source": [
        "class Node:\n",
        "    def __init__(self, data=None):\n",
        "        self.data = data\n",
        "        self.prev = None\n",
        "        self.next = None\n",
        "\n",
        "def reverse_doubly_linked_list(head):\n",
        "    prev = None\n",
        "    curr = head\n",
        "\n",
        "    # Traverse the doubly linked list\n",
        "    while curr is not None:\n",
        "        # Swap the prev and next pointers of the current node\n",
        "        next_node = curr.next\n",
        "        curr.next = prev\n",
        "        curr.prev = next_node\n",
        "\n",
        "        # Move to the next node\n",
        "        prev = curr\n",
        "        curr = next_node\n",
        "\n",
        "    # Set the head of the reversed list as prev\n",
        "    head = prev\n",
        "\n",
        "    return head\n",
        "\n",
        "# Helper function to print the doubly linked list\n",
        "def print_doubly_linked_list(head):\n",
        "    curr = head\n",
        "    while curr is not None:\n",
        "        print(curr.data, end=\" \")\n",
        "        curr = curr.next\n",
        "    print()\n",
        "\n",
        "# Test case\n",
        "head = Node(10)\n",
        "head.next = Node(8)\n",
        "head.next.prev = head\n",
        "head.next.next = Node(4)\n",
        "head.next.next.prev = head.next\n",
        "head.next.next.next = Node(2)\n",
        "head.next.next.next.prev = head.next.next\n",
        "\n",
        "print(\"Original Doubly Linked List:\")\n",
        "print_doubly_linked_list(head)\n",
        "# Output: 10 8 4 2\n",
        "\n",
        "reversed_head = reverse_doubly_linked_list(head)\n",
        "print(\"Reversed Doubly Linked List:\")\n",
        "print_doubly_linked_list(reversed_head)\n"
      ],
      "metadata": {
        "colab": {
          "base_uri": "https://localhost:8080/"
        },
        "id": "GY1ex3YNVdVU",
        "outputId": "73502f7b-a9f3-4cac-c858-dd7c3ee4cfa6"
      },
      "execution_count": 15,
      "outputs": [
        {
          "output_type": "stream",
          "name": "stdout",
          "text": [
            "Original Doubly Linked List:\n",
            "10 8 4 2 \n",
            "Reversed Doubly Linked List:\n",
            "2 4 8 10 \n"
          ]
        }
      ]
    },
    {
      "cell_type": "code",
      "source": [],
      "metadata": {
        "id": "-Dqo7nJRWXvW"
      },
      "execution_count": null,
      "outputs": []
    },
    {
      "cell_type": "markdown",
      "source": [
        "#Question 8\n",
        "\n",
        "Given a doubly linked list and a position. The task is to delete a node from given position in a doubly linked list.\n",
        "\n",
        "Example\n",
        "Input:\n",
        "LinkedList = 1 <--> 3 <--> 4\n",
        "x = 3\n",
        "Output:1 3\n",
        "Explanation:After deleting the node at\n",
        "position 3 (position starts from 1),\n",
        "the linked list will be now as 1->3.\n"
      ],
      "metadata": {
        "id": "tPxz50NPW2_n"
      }
    },
    {
      "cell_type": "code",
      "source": [
        "class Node:\n",
        "    def __init__(self, data=None):\n",
        "        self.data = data\n",
        "        self.prev = None\n",
        "        self.next = None\n",
        "\n",
        "def delete_node(head, position):\n",
        "    # If the doubly linked list is empty, return\n",
        "    if head is None:\n",
        "        return\n",
        "\n",
        "    # If the position is 1 (the head node)\n",
        "    if position == 1:\n",
        "        head = head.next\n",
        "        if head is not None:\n",
        "            head.prev = None\n",
        "        return head\n",
        "\n",
        "    # Traverse the doubly linked list to find the position\n",
        "    curr = head\n",
        "    for _ in range(position - 1):\n",
        "        if curr is None:\n",
        "            return\n",
        "        curr = curr.next\n",
        "\n",
        "    # If the position is not found\n",
        "    if curr is None:\n",
        "        return\n",
        "\n",
        "    # Update the pointers of adjacent nodes\n",
        "    prev_node = curr.prev\n",
        "    next_node = curr.next\n",
        "    if prev_node is not None:\n",
        "        prev_node.next = next_node\n",
        "    if next_node is not None:\n",
        "        next_node.prev = prev_node\n",
        "\n",
        "    # Free the memory of the deleted node\n",
        "    curr = None\n",
        "\n",
        "    return head\n",
        "\n",
        "# Helper function to print the doubly linked list\n",
        "def print_doubly_linked_list(head):\n",
        "    curr = head\n",
        "    while curr is not None:\n",
        "        print(curr.data, end=\" \")\n",
        "        curr = curr.next\n",
        "    print()\n",
        "\n",
        "# Test case\n",
        "head = Node(1)\n",
        "head.next = Node(3)\n",
        "head.next.prev = head\n",
        "head.next.next = Node(4)\n",
        "head.next.next.prev = head.next\n",
        "\n",
        "print(\"Original Doubly Linked List:\")\n",
        "print_doubly_linked_list(head)\n",
        "\n",
        "\n",
        "position = 3\n",
        "head = delete_node(head, position)\n",
        "print(f\"Doubly Linked List after deleting node at position {position}:\")\n",
        "print_doubly_linked_list(head)\n"
      ],
      "metadata": {
        "colab": {
          "base_uri": "https://localhost:8080/"
        },
        "id": "FIMBtCI7W7st",
        "outputId": "5c43b7b5-7711-48fb-9a6d-844f8e6cf525"
      },
      "execution_count": 18,
      "outputs": [
        {
          "output_type": "stream",
          "name": "stdout",
          "text": [
            "Original Doubly Linked List:\n",
            "1 3 4 \n",
            "Doubly Linked List after deleting node at position 3:\n",
            "1 3 \n"
          ]
        }
      ]
    },
    {
      "cell_type": "code",
      "source": [],
      "metadata": {
        "id": "1b-vh-SgW-nm"
      },
      "execution_count": null,
      "outputs": []
    },
    {
      "cell_type": "markdown",
      "source": [
        "#example\n",
        "Input:\n",
        "LinkedList = 1 <--> 5 <--> 2 <--> 9\n",
        "x = 1\n",
        "Output:5 2 9"
      ],
      "metadata": {
        "id": "sNG4s_cSXMaP"
      }
    },
    {
      "cell_type": "code",
      "source": [
        "class Node:\n",
        "    def __init__(self, data=None):\n",
        "        self.data = data\n",
        "        self.prev = None\n",
        "        self.next = None\n",
        "\n",
        "def delete_node(head, position):\n",
        "    # If the doubly linked list is empty, return\n",
        "    if head is None:\n",
        "        return\n",
        "\n",
        "    # If the position is 1 (the head node)\n",
        "    if position == 1:\n",
        "        head = head.next\n",
        "        if head is not None:\n",
        "            head.prev = None\n",
        "        return head\n",
        "\n",
        "    # Traverse the doubly linked list to find the position\n",
        "    curr = head\n",
        "    for _ in range(position - 1):\n",
        "        if curr is None:\n",
        "            return\n",
        "        curr = curr.next\n",
        "\n",
        "    # If the position is not found\n",
        "    if curr is None:\n",
        "        return\n",
        "\n",
        "    # Update the pointers of adjacent nodes\n",
        "    prev_node = curr.prev\n",
        "    next_node = curr.next\n",
        "    if prev_node is not None:\n",
        "        prev_node.next = next_node\n",
        "    if next_node is not None:\n",
        "        next_node.prev = prev_node\n",
        "\n",
        "    # Free the memory of the deleted node\n",
        "    curr = None\n",
        "\n",
        "    return head\n",
        "\n",
        "# Helper function to print the doubly linked list\n",
        "def print_doubly_linked_list(head):\n",
        "    curr = head\n",
        "    while curr is not None:\n",
        "        print(curr.data, end=\" \")\n",
        "        curr = curr.next\n",
        "    print()\n",
        "\n",
        "# Test case\n",
        "head = Node(1)\n",
        "head.next = Node(5)\n",
        "head.next.prev = head\n",
        "head.next.next = Node(2)\n",
        "head.next.next.prev = head.next\n",
        "head.next.next.next = Node(9)\n",
        "head.next.next.next.prev = head.next.next\n",
        "\n",
        "print(\"Original Doubly Linked List:\")\n",
        "print_doubly_linked_list(head)\n",
        "\n",
        "\n",
        "position = 1\n",
        "head = delete_node(head, position)\n",
        "print(f\"Doubly Linked List after deleting node at position {position}:\")\n",
        "print_doubly_linked_list(head)\n",
        "\n"
      ],
      "metadata": {
        "colab": {
          "base_uri": "https://localhost:8080/"
        },
        "id": "FJN2wpCfXSV_",
        "outputId": "02bc3c6c-029b-4011-c4de-9f745b1c014d"
      },
      "execution_count": 17,
      "outputs": [
        {
          "output_type": "stream",
          "name": "stdout",
          "text": [
            "Original Doubly Linked List:\n",
            "1 5 2 9 \n",
            "Doubly Linked List after deleting node at position 1:\n",
            "5 2 9 \n"
          ]
        }
      ]
    },
    {
      "cell_type": "code",
      "source": [],
      "metadata": {
        "id": "YMoA304vXgAV"
      },
      "execution_count": null,
      "outputs": []
    }
  ]
}