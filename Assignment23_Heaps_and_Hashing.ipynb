{
  "nbformat": 4,
  "nbformat_minor": 0,
  "metadata": {
    "colab": {
      "provenance": []
    },
    "kernelspec": {
      "name": "python3",
      "display_name": "Python 3"
    },
    "language_info": {
      "name": "python"
    }
  },
  "cells": [
    {
      "cell_type": "markdown",
      "source": [
        "#Question-1:\n",
        "\n",
        "Given preorder of a binary tree, calculate its **[depth(or height)](https://www.geeksforgeeks.org/write-a-c-program-to-find-the-maximum-depth-or-height-of-a-tree/)** [starting from depth 0]. The preorder is given as a string with two possible characters.\n",
        "\n",
        "1. ‘l’ denotes the leaf\n",
        "2. ‘n’ denotes internal node\n",
        "\n",
        "The given tree can be seen as a full binary tree where every node has 0 or two children. The two children of a node can ‘n’ or ‘l’ or mix of both.\n",
        "\n",
        "**Examples :**\n",
        "\n",
        "Input  : nlnll\n",
        "Output : 2\n",
        "Explanation :\n",
        "\n",
        "!https://media.geeksforgeeks.org/wp-content/uploads/btree1.png\n",
        "\n",
        "Input  : nlnnlll\n",
        "Output : 3\n",
        "\n",
        "</aside>"
      ],
      "metadata": {
        "id": "_DknHuEKd_Em"
      }
    },
    {
      "cell_type": "code",
      "execution_count": 1,
      "metadata": {
        "colab": {
          "base_uri": "https://localhost:8080/"
        },
        "id": "D-sNR9XBd7cF",
        "outputId": "303b5446-4ac5-4f25-edbc-f7298c15b8b6"
      },
      "outputs": [
        {
          "output_type": "stream",
          "name": "stdout",
          "text": [
            "Depth: 1\n"
          ]
        }
      ],
      "source": [
        "def calculateDepth(preorder):\n",
        "    if len(preorder) == 0 or preorder[0] == 'l':\n",
        "        return 0\n",
        "\n",
        "    depth = 1\n",
        "    depth += calculateDepth(preorder[1:])\n",
        "    depth += calculateDepth(preorder[preorder.index('l'):])\n",
        "\n",
        "    return depth\n",
        "\n",
        "# Example usage:\n",
        "preorder = \"nlnll\"\n",
        "\n",
        "depth = calculateDepth(preorder)\n",
        "print(\"Depth:\", depth)\n"
      ]
    },
    {
      "cell_type": "code",
      "source": [],
      "metadata": {
        "id": "BEJn2hmifx6C"
      },
      "execution_count": null,
      "outputs": []
    },
    {
      "cell_type": "markdown",
      "source": [
        "#Question-2:\n",
        "\n",
        "Given a Binary tree, the task is to print the **left view** of the Binary Tree. The left view of a Binary Tree is a set of leftmost nodes for every level.\n",
        "\n",
        "**Examples:**\n",
        "\n",
        "***Input:***\n",
        "\n",
        "            4\n",
        "\n",
        "          /   \\\n",
        "\n",
        "        5     2\n",
        "\n",
        "             /   \\\n",
        "\n",
        "            3     1\n",
        "\n",
        "           /  \\\n",
        "\n",
        "          6    7\n",
        "\n",
        "***Output:** 4 5 3 6*\n",
        "\n",
        "**Explanation:**\n",
        "\n",
        "!https://media.geeksforgeeks.org/wp-content/cdn-uploads/left-view.png\n",
        "\n",
        "***Input:***\n",
        "\n",
        "                    1\n",
        "\n",
        "                  /   \\\n",
        "\n",
        "                2       3\n",
        "\n",
        "                 \\\n",
        "\n",
        "                   4\n",
        "\n",
        "                     \\\n",
        "\n",
        "                        5\n",
        "\n",
        "                           \\\n",
        "\n",
        "                             6\n",
        "\n",
        "**Output:** 1 2 4 5 6\n",
        "\n",
        "</aside>"
      ],
      "metadata": {
        "id": "QhBPzdRTf2tB"
      }
    },
    {
      "cell_type": "code",
      "source": [
        "class Node:\n",
        "    def __init__(self, data):\n",
        "        self.data = data\n",
        "        self.left = None\n",
        "        self.right = None\n",
        "\n",
        "def printLeftView(root):\n",
        "    global maxLevel\n",
        "    maxLevel = 0\n",
        "\n",
        "    def printLeftViewUtil(node, level):\n",
        "        global maxLevel\n",
        "        if node is None:\n",
        "            return\n",
        "\n",
        "        if level > maxLevel:\n",
        "            print(node.data, end=\" \")\n",
        "            maxLevel = level\n",
        "\n",
        "        printLeftViewUtil(node.left, level + 1)\n",
        "        printLeftViewUtil(node.right, level + 1)\n",
        "\n",
        "    printLeftViewUtil(root, 1)\n",
        "\n",
        "# Example usage:\n",
        "root = Node(4)\n",
        "root.left = Node(5)\n",
        "root.right = Node(2)\n",
        "root.right.left = Node(3)\n",
        "root.right.right = Node(1)\n",
        "root.right.left.left = Node(6)\n",
        "root.right.left.right = Node(7)\n",
        "\n",
        "print(\"Left View:\")\n",
        "printLeftView(root)\n"
      ],
      "metadata": {
        "colab": {
          "base_uri": "https://localhost:8080/"
        },
        "id": "IwSkJX3jf5cb",
        "outputId": "51b91df0-1f1e-4603-8caf-a38dc312bb64"
      },
      "execution_count": 2,
      "outputs": [
        {
          "output_type": "stream",
          "name": "stdout",
          "text": [
            "Left View:\n",
            "4 5 3 6 "
          ]
        }
      ]
    },
    {
      "cell_type": "code",
      "source": [],
      "metadata": {
        "id": "G6lG5g2mf7Mp"
      },
      "execution_count": null,
      "outputs": []
    },
    {
      "cell_type": "markdown",
      "source": [
        "#Question-3:\n",
        "\n",
        "Given a Binary Tree, print the Right view of it.\n",
        "\n",
        "The right view of a Binary Tree is a set of nodes visible when the tree is visited from the Right side.\n",
        "\n",
        "**Examples:**\n",
        "\n",
        "**Input:**\n",
        "\n",
        "         1\n",
        "\n",
        "      /     \\\n",
        "\n",
        "   2         3\n",
        "\n",
        "/   \\       /  \\\n",
        "\n",
        "4     5   6    7\n",
        "\n",
        "             \\\n",
        "\n",
        "               8\n",
        "\n",
        "**Output**:\n",
        "\n",
        "Right view of the tree is 1 3 7 8\n",
        "\n",
        "**Input:**\n",
        "\n",
        "         1\n",
        "\n",
        "       /\n",
        "\n",
        "    8\n",
        "\n",
        "  /\n",
        "\n",
        "7\n",
        "\n",
        "**Output**:\n",
        "\n",
        "Right view of the tree is 1 8 7\n",
        "\n",
        "</aside>"
      ],
      "metadata": {
        "id": "Ql7_pBjmf-84"
      }
    },
    {
      "cell_type": "code",
      "source": [
        "class Node:\n",
        "    def __init__(self, data):\n",
        "        self.data = data\n",
        "        self.left = None\n",
        "        self.right = None\n",
        "\n",
        "def printRightView(root):\n",
        "    global maxLevel\n",
        "    maxLevel = 0\n",
        "\n",
        "    def printRightViewUtil(node, level):\n",
        "        global maxLevel\n",
        "        if node is None:\n",
        "            return\n",
        "\n",
        "        if level > maxLevel:\n",
        "            print(node.data, end=\" \")\n",
        "            maxLevel = level\n",
        "\n",
        "        printRightViewUtil(node.right, level + 1)\n",
        "        printRightViewUtil(node.left, level + 1)\n",
        "\n",
        "    printRightViewUtil(root, 1)\n",
        "\n",
        "# Example usage:\n",
        "root = Node(1)\n",
        "root.left = Node(2)\n",
        "root.right = Node(3)\n",
        "root.left.left = Node(4)\n",
        "root.left.right = Node(5)\n",
        "root.right.left = Node(6)\n",
        "root.right.right = Node(7)\n",
        "root.right.right.right = Node(8)\n",
        "\n",
        "print(\"Right View:\")\n",
        "printRightView(root)\n"
      ],
      "metadata": {
        "colab": {
          "base_uri": "https://localhost:8080/"
        },
        "id": "aZNjAtmigBm0",
        "outputId": "1477a774-cb2c-4080-b2b4-8c7fa6027493"
      },
      "execution_count": 3,
      "outputs": [
        {
          "output_type": "stream",
          "name": "stdout",
          "text": [
            "Right View:\n",
            "1 3 7 8 "
          ]
        }
      ]
    },
    {
      "cell_type": "code",
      "source": [],
      "metadata": {
        "id": "0Vo17WX8gD9x"
      },
      "execution_count": null,
      "outputs": []
    },
    {
      "cell_type": "markdown",
      "source": [
        "#Question-4:\n",
        "\n",
        "Given a Binary Tree, The task is to print the **bottom view** from left to right. A node **x** is there in output if x is the bottommost node at its horizontal distance. The horizontal distance of the left child of a node x is equal to a horizontal distance of x minus 1, and that of a right child is the horizontal distance of x plus 1.\n",
        "\n",
        "**Examples:**\n",
        "\n",
        "**Input:**\n",
        "\n",
        "             20\n",
        "\n",
        "           /     \\\n",
        "\n",
        "        8         22\n",
        "\n",
        "    /      \\         \\\n",
        "\n",
        "5         3        25\n",
        "\n",
        "        /    \\\n",
        "\n",
        "   10       14\n",
        "\n",
        "**Output:** 5, 10, 3, 14, 25.\n",
        "\n",
        "**Input:**\n",
        "\n",
        "             20\n",
        "\n",
        "           /     \\\n",
        "\n",
        "        8         22\n",
        "\n",
        "    /      \\      /   \\\n",
        "\n",
        " 5         3    4     25\n",
        "\n",
        "         /    \\\n",
        "\n",
        "     10       14\n",
        "\n",
        "**Output:**\n",
        "\n",
        "5 10 4 14 25.\n",
        "\n",
        "**Explanation:**\n",
        "\n",
        "If there are multiple bottom-most nodes for a horizontal distance from the root, then print the later one in the level traversal.\n",
        "\n",
        "**3 and 4** are both the bottom-most nodes at a horizontal distance of 0, we need to print 4.\n",
        "\n",
        "</aside>"
      ],
      "metadata": {
        "id": "I4QHXsCpgHEY"
      }
    },
    {
      "cell_type": "code",
      "source": [
        "from collections import deque\n",
        "\n",
        "class Node:\n",
        "    def __init__(self, data):\n",
        "        self.data = data\n",
        "        self.left = None\n",
        "        self.right = None\n",
        "\n",
        "def printBottomView(root):\n",
        "    if root is None:\n",
        "        return\n",
        "\n",
        "    horizontalDistanceMap = {}\n",
        "\n",
        "    q = deque()\n",
        "    q.append((root, 0))\n",
        "\n",
        "    while q:\n",
        "        node, hd = q.popleft()\n",
        "\n",
        "        horizontalDistanceMap[hd] = node.data\n",
        "\n",
        "        if node.left:\n",
        "            q.append((node.left, hd - 1))\n",
        "        if node.right:\n",
        "            q.append((node.right, hd + 1))\n",
        "\n",
        "    bottomView = sorted(horizontalDistanceMap.items(), key=lambda x: x[0])\n",
        "    for _, value in bottomView:\n",
        "        print(value, end=\" \")\n",
        "\n",
        "# Example usage:\n",
        "root = Node(20)\n",
        "root.left = Node(8)\n",
        "root.right = Node(22)\n",
        "root.left.left = Node(5)\n",
        "root.left.right = Node(3)\n",
        "root.right.right = Node(25)\n",
        "root.left.right.left = Node(10)\n",
        "root.left.right.right = Node(14)\n",
        "\n",
        "print(\"Bottom View:\")\n",
        "printBottomView(root)\n"
      ],
      "metadata": {
        "colab": {
          "base_uri": "https://localhost:8080/"
        },
        "id": "UgJxW3fTgJNj",
        "outputId": "34b8d811-a562-4345-d2b5-2b8def0c6109"
      },
      "execution_count": 4,
      "outputs": [
        {
          "output_type": "stream",
          "name": "stdout",
          "text": [
            "Bottom View:\n",
            "5 10 3 14 25 "
          ]
        }
      ]
    },
    {
      "cell_type": "code",
      "source": [],
      "metadata": {
        "id": "7Sk0ZbKFgPJ2"
      },
      "execution_count": null,
      "outputs": []
    }
  ]
}