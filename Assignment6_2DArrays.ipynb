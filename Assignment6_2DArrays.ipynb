{
  "nbformat": 4,
  "nbformat_minor": 0,
  "metadata": {
    "colab": {
      "provenance": []
    },
    "kernelspec": {
      "name": "python3",
      "display_name": "Python 3"
    },
    "language_info": {
      "name": "python"
    }
  },
  "cells": [
    {
      "cell_type": "markdown",
      "source": [
        "**<aside>\n",
        "💡 **Question 1**\n",
        "\n",
        "A permutation perm of n + 1 integers of all the integers in the range [0, n] can be represented as a string s of length n where:\n",
        "\n",
        "- s[i] == 'I' if perm[i] < perm[i + 1], and\n",
        "- s[i] == 'D' if perm[i] > perm[i + 1].\n",
        "\n",
        "Given a string s, reconstruct the permutation perm and return it. If there are multiple valid permutations perm, return **any of them**.\n",
        "\n",
        "**Example 1:**\n",
        "\n",
        "**Input:** s = \"IDID\"\n",
        "\n",
        "**Output:**\n",
        "\n",
        "[0,4,1,3,2]\n",
        "\n",
        "</aside>**"
      ],
      "metadata": {
        "id": "qFgaHnr4Y-52"
      }
    },
    {
      "cell_type": "code",
      "execution_count": 2,
      "metadata": {
        "colab": {
          "base_uri": "https://localhost:8080/"
        },
        "id": "YtE-FEWgY8XE",
        "outputId": "7613c6f3-4e1e-48f1-b686-7256ebcd8c71"
      },
      "outputs": [
        {
          "output_type": "stream",
          "name": "stdout",
          "text": [
            "[0, 4, 1, 3, 2]\n"
          ]
        }
      ],
      "source": [
        "def reconstruct_permutation(s):\n",
        "    n = len(s)\n",
        "    perm = []\n",
        "    current = 0\n",
        "\n",
        "    for ch in s:\n",
        "        if ch == 'I':\n",
        "            perm.append(current)\n",
        "            current += 1\n",
        "        elif ch == 'D':\n",
        "            perm.append(n)\n",
        "            n -= 1\n",
        "    \n",
        "    perm.append(current)  # Append the final value of current or n\n",
        "\n",
        "    return perm\n",
        "\n",
        "\n",
        "s = \"IDID\"\n",
        "result = reconstruct_permutation(s)\n",
        "print(result)\n",
        "\n"
      ]
    },
    {
      "cell_type": "markdown",
      "source": [
        "** **Question 2**\n",
        "\n",
        "You are given an m x n integer matrix matrix with the following two properties:\n",
        "\n",
        "- Each row is sorted in non-decreasing order.\n",
        "- The first integer of each row is greater than the last integer of the previous row.\n",
        "\n",
        "Given an integer target, return true *if* target *is in* matrix *or* false *otherwise*.\n",
        "\n",
        "You must write a solution in O(log(m * n)) time complexity.\n",
        "\n",
        "</aside>\n",
        "\n",
        "**Input:** matrix = [[1,3,5,7],[10,11,16,20],[23,30,34,60]], target = 3\n",
        "\n",
        "**Output:** true**"
      ],
      "metadata": {
        "id": "n2btFFjXZXWD"
      }
    },
    {
      "cell_type": "code",
      "source": [
        "def search_matrix(matrix, target):\n",
        "    m, n = len(matrix), len(matrix[0])\n",
        "    left, right = 0, m-1\n",
        "\n",
        "    # Perform binary search on matrix rows\n",
        "    while left <= right:\n",
        "        mid = (left + right) // 2\n",
        "        if target < matrix[mid][0]:\n",
        "            right = mid - 1\n",
        "        elif target > matrix[mid][-1]:\n",
        "            left = mid + 1\n",
        "        else:\n",
        "            # Perform binary search on selected row\n",
        "            row_left, row_right = 0, n-1\n",
        "            while row_left <= row_right:\n",
        "                mid_col = (row_left + row_right) // 2\n",
        "                if target == matrix[mid][mid_col]:\n",
        "                    return True\n",
        "                elif target < matrix[mid][mid_col]:\n",
        "                    row_right = mid_col - 1\n",
        "                else:\n",
        "                    row_left = mid_col + 1\n",
        "            return False\n",
        "\n",
        "    return False\n"
      ],
      "metadata": {
        "id": "WMyDMLJuZEqy"
      },
      "execution_count": 3,
      "outputs": []
    },
    {
      "cell_type": "code",
      "source": [
        "matrix = [\n",
        "    [1, 3, 5, 7],\n",
        "    [10, 11, 16, 20],\n",
        "    [23, 30, 34, 60]\n",
        "]\n",
        "target = 3\n",
        "\n",
        "result = search_matrix(matrix, target)\n",
        "print(result)\n"
      ],
      "metadata": {
        "colab": {
          "base_uri": "https://localhost:8080/"
        },
        "id": "ZmfDzhOnZcoy",
        "outputId": "412cfc71-db58-44e1-e41d-2a056f0955ed"
      },
      "execution_count": 4,
      "outputs": [
        {
          "output_type": "stream",
          "name": "stdout",
          "text": [
            "True\n"
          ]
        }
      ]
    },
    {
      "cell_type": "markdown",
      "source": [
        "** **Question 3**\n",
        "\n",
        "Given an array of integers arr, return *true if and only if it is a valid mountain array*.\n",
        "\n",
        "Recall that arr is a mountain array if and only if:\n",
        "\n",
        "- arr.length >= 3\n",
        "- There exists some i with 0 < i < arr.length - 1 such that:\n",
        "    - arr[0] < arr[1] < ... < arr[i - 1] < arr[i]\n",
        "    - arr[i] > arr[i + 1] > ... > arr[arr.length - 1]\n",
        "</aside>\n",
        "\n",
        "**Example 1:**\n",
        "\n",
        "**Input:** arr = [2,1]\n",
        "\n",
        "**Output:**\n",
        "\n",
        "false**"
      ],
      "metadata": {
        "id": "rulNArRXZoR8"
      }
    },
    {
      "cell_type": "code",
      "source": [
        "def valid_mountain_array(arr):\n",
        "    n = len(arr)\n",
        "    \n",
        "    if n < 3:\n",
        "        return False\n",
        "    \n",
        "    peak_index = arr.index(max(arr))\n",
        "    \n",
        "    if peak_index == 0 or peak_index == n-1:\n",
        "        return False\n",
        "    \n",
        "    for i in range(peak_index):\n",
        "        if arr[i] >= arr[i+1]:\n",
        "            return False\n",
        "    \n",
        "    for i in range(peak_index, n-1):\n",
        "        if arr[i] <= arr[i+1]:\n",
        "            return False\n",
        "    \n",
        "    return True\n"
      ],
      "metadata": {
        "id": "hFKw43xlZeFg"
      },
      "execution_count": 5,
      "outputs": []
    },
    {
      "cell_type": "code",
      "source": [
        "arr = [2, 1]\n",
        "result = valid_mountain_array(arr)\n",
        "print(result)\n"
      ],
      "metadata": {
        "colab": {
          "base_uri": "https://localhost:8080/"
        },
        "id": "edsLaqF1Zuqm",
        "outputId": "a13ba21c-ed29-4bb8-d78c-f252446c3027"
      },
      "execution_count": 6,
      "outputs": [
        {
          "output_type": "stream",
          "name": "stdout",
          "text": [
            "False\n"
          ]
        }
      ]
    },
    {
      "cell_type": "markdown",
      "source": [
        "**<aside>\n",
        "💡 **Question 4**\n",
        "\n",
        "Given a binary array nums, return *the maximum length of a contiguous subarray with an equal number of* 0 *and* 1.\n",
        "\n",
        "**Example 1:**\n",
        "\n",
        "**Input:** nums = [0,1]\n",
        "\n",
        "**Output:** 2\n",
        "\n",
        "**Explanation:**\n",
        "\n",
        "[0, 1] is the longest contiguous subarray with an equal number of 0 and 1.\n",
        "\n",
        "</aside>**"
      ],
      "metadata": {
        "id": "LMhXYd9fZ1mO"
      }
    },
    {
      "cell_type": "code",
      "source": [
        "def find_max_length(nums):\n",
        "    max_len = 0\n",
        "    count = 0\n",
        "    sum_indices = {0: -1}\n",
        "\n",
        "    for i in range(len(nums)):\n",
        "        if nums[i] == 0:\n",
        "            count -= 1\n",
        "        else:\n",
        "            count += 1\n",
        "\n",
        "        if count in sum_indices:\n",
        "            subarray_len = i - sum_indices[count]\n",
        "            if subarray_len > max_len:\n",
        "                max_len = subarray_len\n",
        "        else:\n",
        "            sum_indices[count] = i\n",
        "\n",
        "    return max_len\n"
      ],
      "metadata": {
        "id": "49TQL8QtZwlN"
      },
      "execution_count": 7,
      "outputs": []
    },
    {
      "cell_type": "code",
      "source": [
        "nums = [0, 1]\n",
        "result = find_max_length(nums)\n",
        "print(result)\n"
      ],
      "metadata": {
        "colab": {
          "base_uri": "https://localhost:8080/"
        },
        "id": "o98mOSUFZ7w4",
        "outputId": "5be786c9-796e-4ac5-d5a4-020900a98324"
      },
      "execution_count": 8,
      "outputs": [
        {
          "output_type": "stream",
          "name": "stdout",
          "text": [
            "2\n"
          ]
        }
      ]
    },
    {
      "cell_type": "markdown",
      "source": [
        "**<aside>\n",
        "💡 **Question 5**\n",
        "\n",
        "The **product sum** of two equal-length arrays a and b is equal to the sum of a[i] * b[i] for all 0 <= i < a.length (**0-indexed**).\n",
        "\n",
        "- For example, if a = [1,2,3,4] and b = [5,2,3,1], the **product sum** would be 1*5 + 2*2 + 3*3 + 4*1 = 22.\n",
        "\n",
        "Given two arrays nums1 and nums2 of length n, return *the **minimum product sum** if you are allowed to **rearrange** the **order** of the elements in* nums1.\n",
        "\n",
        "**Example 1:**\n",
        "\n",
        "**Input:** nums1 = [5,3,4,2], nums2 = [4,2,2,5]\n",
        "\n",
        "**Output:** 40\n",
        "\n",
        "**Explanation:**\n",
        "\n",
        "We can rearrange nums1 to become [3,5,4,2]. The product sum of [3,5,4,2] and [4,2,2,5] is 3*4 + 5*2 + 4*2 + 2*5 = 40.\n",
        "\n",
        "</aside>**"
      ],
      "metadata": {
        "id": "HDyuPWtmaAVh"
      }
    },
    {
      "cell_type": "code",
      "source": [
        "def minimum_product_sum(nums1, nums2):\n",
        "    nums1.sort()\n",
        "    nums2.sort()\n",
        "    \n",
        "    min_product_sum = 0\n",
        "    for i in range(len(nums1)):\n",
        "        min_product_sum += nums1[i] * nums2[i]\n",
        "    \n",
        "    return min_product_sum\n",
        "\n",
        "\n",
        "nums1 = [5, 3, 4, 2]\n",
        "nums2 = [4, 2, 2, 5]\n",
        "result = minimum_product_sum(nums1, nums2)\n",
        "print(result)"
      ],
      "metadata": {
        "colab": {
          "base_uri": "https://localhost:8080/"
        },
        "id": "_scAXvznZ9Qy",
        "outputId": "d5feb1f4-455c-49a2-ab66-2c77f41a8053"
      },
      "execution_count": 12,
      "outputs": [
        {
          "output_type": "stream",
          "name": "stdout",
          "text": [
            "51\n"
          ]
        }
      ]
    },
    {
      "cell_type": "markdown",
      "source": [
        "**<aside>\n",
        "💡 **Question 6**\n",
        "\n",
        "An integer array original is transformed into a **doubled** array changed by appending **twice the value** of every element in original, and then randomly **shuffling** the resulting array.\n",
        "\n",
        "Given an array changed, return original *if* changed *is a **doubled** array. If* changed *is not a **doubled** array, return an empty array. The elements in* original *may be returned in **any** order*.\n",
        "\n",
        "**Example 1:**\n",
        "\n",
        "**Input:** changed = [1,3,4,2,6,8]\n",
        "\n",
        "**Output:** [1,3,4]\n",
        "\n",
        "**Explanation:** One possible original array could be [1,3,4]:\n",
        "\n",
        "- Twice the value of 1 is 1 * 2 = 2.\n",
        "- Twice the value of 3 is 3 * 2 = 6.\n",
        "- Twice the value of 4 is 4 * 2 = 8.\n",
        "\n",
        "Other original arrays could be [4,3,1] or [3,1,4].\n",
        "\n",
        "</aside>**"
      ],
      "metadata": {
        "id": "3TLXt21eaMlQ"
      }
    },
    {
      "cell_type": "code",
      "source": [
        "def find_original_array(changed):\n",
        "    changed.sort()\n",
        "    original = []\n",
        "\n",
        "    for num in changed:\n",
        "        if num % 2 != 0:\n",
        "            return []\n",
        "        original.append(num // 2)\n",
        "\n",
        "    return original\n",
        "\n",
        "changed = [1, 3, 4, 2, 6, 8]\n",
        "result = find_original_array(changed)\n",
        "print(result)\n"
      ],
      "metadata": {
        "colab": {
          "base_uri": "https://localhost:8080/"
        },
        "id": "jpNFGGhIaHBW",
        "outputId": "4afb2ea2-f03f-43cb-ebc5-88cb842b83b1"
      },
      "execution_count": 11,
      "outputs": [
        {
          "output_type": "stream",
          "name": "stdout",
          "text": [
            "[]\n"
          ]
        }
      ]
    },
    {
      "cell_type": "markdown",
      "source": [
        "****Question 7**\n",
        "\n",
        "Given a positive integer n, generate an n x n matrix filled with elements from 1 to n2 in spiral order.\n",
        "\n",
        "</aside>\n",
        "\n",
        "**Input:** n = 3\n",
        "\n",
        "**Output:** [[1,2,3],[8,9,4],[7,6,5]]**"
      ],
      "metadata": {
        "id": "RF0MXBapavF8"
      }
    },
    {
      "cell_type": "code",
      "source": [
        "def generate_spiral_matrix(n):\n",
        "    matrix = [[0] * n for _ in range(n)]\n",
        "    row_start, row_end = 0, n - 1\n",
        "    col_start, col_end = 0, n - 1\n",
        "    num = 1\n",
        "\n",
        "    while num <= n * n:\n",
        "        # Populating top row\n",
        "        for i in range(col_start, col_end + 1):\n",
        "            matrix[row_start][i] = num\n",
        "            num += 1\n",
        "        row_start += 1\n",
        "\n",
        "        # Populating rightmost column\n",
        "        for i in range(row_start, row_end + 1):\n",
        "            matrix[i][col_end] = num\n",
        "            num += 1\n",
        "        col_end -= 1\n",
        "\n",
        "        # Populating bottom row\n",
        "        for i in range(col_end, col_start - 1, -1):\n",
        "            matrix[row_end][i] = num\n",
        "            num += 1\n",
        "        row_end -= 1\n",
        "\n",
        "        # Populating leftmost column\n",
        "        for i in range(row_end, row_start - 1, -1):\n",
        "            matrix[i][col_start] = num\n",
        "            num += 1\n",
        "        col_start += 1\n",
        "\n",
        "    return matrix\n",
        "\n",
        "\n",
        "n = 3\n",
        "result = generate_spiral_matrix(n)\n",
        "print(result)\n"
      ],
      "metadata": {
        "colab": {
          "base_uri": "https://localhost:8080/"
        },
        "id": "C3trn-EzaRUs",
        "outputId": "1ca5100e-f943-449d-b5a5-1c67739c98d3"
      },
      "execution_count": 14,
      "outputs": [
        {
          "output_type": "stream",
          "name": "stdout",
          "text": [
            "[[1, 2, 3], [8, 9, 4], [7, 6, 5]]\n"
          ]
        }
      ]
    },
    {
      "cell_type": "markdown",
      "source": [
        "** **Question 8**\n",
        "\n",
        "Given two [sparse matrices](https://en.wikipedia.org/wiki/Sparse_matrix) mat1 of size m x k and mat2 of size k x n, return the result of mat1 x mat2. You may assume that multiplication is always possible.\n",
        "\n",
        "</aside>\n",
        "\n",
        "**Input:** mat1 = [[1,0,0],[-1,0,3]], mat2 = [[7,0,0],[0,0,0],[0,0,1]]\n",
        "\n",
        "**Output:**\n",
        "\n",
        "[[7,0,0],[-7,0,3]]**"
      ],
      "metadata": {
        "id": "Owfv9I-jbDqV"
      }
    },
    {
      "cell_type": "code",
      "source": [
        "def multiply_matrices(mat1, mat2):\n",
        "    m, k = len(mat1), len(mat1[0])\n",
        "    k2, n = len(mat2), len(mat2[0])\n",
        "    \n",
        "    result = [[0] * n for _ in range(m)]\n",
        "    \n",
        "    for i in range(m):\n",
        "        for j in range(n):\n",
        "            for x in range(k):\n",
        "                if mat1[i][x] != 0 and mat2[x][j] != 0:\n",
        "                    result[i][j] += mat1[i][x] * mat2[x][j]\n",
        "    \n",
        "    return result\n",
        "\n",
        "\n",
        "mat1 = [[1, 0, 0], [-1, 0, 3]]\n",
        "mat2 = [[7, 0, 0], [0, 0, 0], [0, 0, 1]]\n",
        "result = multiply_matrices(mat1, mat2)\n",
        "print(result)\n"
      ],
      "metadata": {
        "colab": {
          "base_uri": "https://localhost:8080/"
        },
        "id": "wlIP4CFBa59B",
        "outputId": "f53fc7e7-fad4-4b78-d315-bc317e5e34cf"
      },
      "execution_count": 15,
      "outputs": [
        {
          "output_type": "stream",
          "name": "stdout",
          "text": [
            "[[7, 0, 0], [-7, 0, 3]]\n"
          ]
        }
      ]
    },
    {
      "cell_type": "code",
      "source": [],
      "metadata": {
        "id": "6CR28oZ1bIWY"
      },
      "execution_count": null,
      "outputs": []
    }
  ]
}