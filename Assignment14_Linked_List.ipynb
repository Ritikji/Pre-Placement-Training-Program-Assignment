{
  "nbformat": 4,
  "nbformat_minor": 0,
  "metadata": {
    "colab": {
      "provenance": []
    },
    "kernelspec": {
      "name": "python3",
      "display_name": "Python 3"
    },
    "language_info": {
      "name": "python"
    }
  },
  "cells": [
    {
      "cell_type": "markdown",
      "source": [
        "#Question 1\n",
        "\n",
        "Given a linked list of **N** nodes such that it may contain a loop.\n",
        "\n",
        "A loop here means that the last node of the link list is connected to the node at position X(1-based index). If the link list does not have any loop, X=0.\n",
        "\n",
        "Remove the loop from the linked list, if it is present, i.e. unlink the last node which is forming the loop.\n",
        "\n",
        "Example\n",
        "Input:\n",
        "N = 3\n",
        "value[] = {1,3,4}\n",
        "X = 2\n",
        "Output:1\n",
        "Explanation:The link list looks like\n",
        "1 -> 3 -> 4\n",
        "     ^    |\n",
        "     |____|\n",
        "A loop is present. If you remove it\n",
        "successfully, the answer will be 1.\n"
      ],
      "metadata": {
        "id": "RvKlDEqXRLjd"
      }
    },
    {
      "cell_type": "code",
      "execution_count": 1,
      "metadata": {
        "id": "rwzK5LTCP3Cp"
      },
      "outputs": [],
      "source": [
        "class Node:\n",
        "    def __init__(self, value):\n",
        "        self.value = value\n",
        "        self.next = None\n",
        "\n",
        "def detectAndRemoveLoop(head):\n",
        "    slow = head\n",
        "    fast = head\n",
        "\n",
        "    # Detect the loop using Floyd's cycle detection algorithm\n",
        "    while fast and fast.next:\n",
        "        slow = slow.next\n",
        "        fast = fast.next.next\n",
        "\n",
        "        if slow == fast:\n",
        "            break\n",
        "\n",
        "    # If no loop is found, return\n",
        "    if slow != fast:\n",
        "        return head\n",
        "\n",
        "    # Move slow pointer back to the head and\n",
        "    # move both slow and fast pointers one step at a time\n",
        "    slow = head\n",
        "    while slow.next != fast.next:\n",
        "        slow = slow.next\n",
        "        fast = fast.next\n",
        "\n",
        "    # Remove the loop by setting the next pointer of the last node to None\n",
        "    fast.next = None\n",
        "\n",
        "    return head\n"
      ]
    },
    {
      "cell_type": "code",
      "source": [
        "# Create the linked list\n",
        "head = Node(1)\n",
        "node2 = Node(3)\n",
        "node3 = Node(4)\n",
        "\n",
        "head.next = node2\n",
        "node2.next = node3\n",
        "node3.next = node2  # Creating a loop\n",
        "\n",
        "# Call the function to remove the loop\n",
        "head = detectAndRemoveLoop(head)\n",
        "\n",
        "# Print the values in the linked list after removing the loop\n",
        "current = head\n",
        "while current:\n",
        "    print(current.value)\n",
        "    current = current.next\n"
      ],
      "metadata": {
        "colab": {
          "base_uri": "https://localhost:8080/"
        },
        "id": "1vYA-UPERT1_",
        "outputId": "e219824e-5fe6-4837-8cee-95063802cc38"
      },
      "execution_count": 2,
      "outputs": [
        {
          "output_type": "stream",
          "name": "stdout",
          "text": [
            "1\n",
            "3\n",
            "4\n"
          ]
        }
      ]
    },
    {
      "cell_type": "markdown",
      "source": [
        "#example2\n",
        "Input:\n",
        "N = 4\n",
        "value[] = {1,8,3,4}\n",
        "X = 0\n",
        "Output:1\n",
        "Explanation:The Linked list does not\n",
        "contains any loop."
      ],
      "metadata": {
        "id": "e89IJzEMRcsd"
      }
    },
    {
      "cell_type": "code",
      "source": [
        "class Node:\n",
        "    def __init__(self, value):\n",
        "        self.value = value\n",
        "        self.next = None\n",
        "\n",
        "def removeLoop(head):\n",
        "    # If the linked list is empty or has only one node, return\n",
        "    if head is None or head.next is None:\n",
        "        return head\n",
        "\n",
        "    # Traverse the linked list to find the last and second-to-last nodes\n",
        "    current = head\n",
        "    while current.next.next:\n",
        "        current = current.next\n",
        "\n",
        "    # Remove the last node by setting the next pointer of the second-to-last node to None\n",
        "    current.next = None\n",
        "\n",
        "    return head\n"
      ],
      "metadata": {
        "id": "9WsioxHiRVnT"
      },
      "execution_count": 3,
      "outputs": []
    },
    {
      "cell_type": "code",
      "source": [
        "# Create the linked list\n",
        "head = Node(1)\n",
        "node2 = Node(8)\n",
        "node3 = Node(3)\n",
        "node4 = Node(4)\n",
        "\n",
        "head.next = node2\n",
        "node2.next = node3\n",
        "node3.next = node4\n",
        "\n",
        "# Call the function to remove the loop\n",
        "head = removeLoop(head)\n",
        "\n",
        "# Print the values in the linked list after removing the loop\n",
        "current = head\n",
        "while current:\n",
        "    print(current.value)\n",
        "    current = current.next\n"
      ],
      "metadata": {
        "colab": {
          "base_uri": "https://localhost:8080/"
        },
        "id": "AfpibFJYRjmD",
        "outputId": "0011fb73-a6e6-402f-ba62-4c9c10723a12"
      },
      "execution_count": 4,
      "outputs": [
        {
          "output_type": "stream",
          "name": "stdout",
          "text": [
            "1\n",
            "8\n",
            "3\n"
          ]
        }
      ]
    },
    {
      "cell_type": "markdown",
      "source": [
        "#example3\n",
        "Input:\n",
        "N = 4\n",
        "value[] = {1,2,3,4}\n",
        "X = 1\n",
        "Output:1\n",
        "Explanation:The link list looks like\n",
        "1 -> 2 -> 3 -> 4\n",
        "^              |\n",
        "|______________|\n",
        "A loop is present.\n",
        "If you remove it successfully,\n",
        "the answer will be 1."
      ],
      "metadata": {
        "id": "cb8GI9V8RzLt"
      }
    },
    {
      "cell_type": "code",
      "source": [
        "class Node:\n",
        "    def __init__(self, value):\n",
        "        self.value = value\n",
        "        self.next = None\n",
        "\n",
        "def detectAndRemoveLoop(head):\n",
        "    slow = head\n",
        "    fast = head\n",
        "\n",
        "    # Detect the loop using Floyd's cycle detection algorithm\n",
        "    while fast and fast.next:\n",
        "        slow = slow.next\n",
        "        fast = fast.next.next\n",
        "\n",
        "        if slow == fast:\n",
        "            break\n",
        "\n",
        "    # If no loop is found, return\n",
        "    if slow != fast:\n",
        "        return head\n",
        "\n",
        "    # Move slow pointer back to the head and\n",
        "    # move both slow and fast pointers one step at a time\n",
        "    slow = head\n",
        "    while slow.next != fast.next:\n",
        "        slow = slow.next\n",
        "        fast = fast.next\n",
        "\n",
        "    # Remove the loop by setting the next pointer of the last node to None\n",
        "    fast.next = None\n",
        "\n",
        "    return head\n"
      ],
      "metadata": {
        "id": "5WrxtR0vRlUL"
      },
      "execution_count": 5,
      "outputs": []
    },
    {
      "cell_type": "code",
      "source": [
        "# Create the linked list\n",
        "head = Node(1)\n",
        "node2 = Node(2)\n",
        "node3 = Node(3)\n",
        "node4 = Node(4)\n",
        "\n",
        "head.next = node2\n",
        "node2.next = node3\n",
        "node3.next = node4\n",
        "node4.next = head  # Creating a loop\n",
        "\n",
        "# Call the function to remove the loop\n",
        "head = detectAndRemoveLoop(head)\n",
        "\n",
        "# Print the values in the linked list after removing the loop\n",
        "current = head\n",
        "while current:\n",
        "    print(current.value)\n",
        "    current = current.next\n"
      ],
      "metadata": {
        "colab": {
          "base_uri": "https://localhost:8080/"
        },
        "id": "RwuMAyypR8cs",
        "outputId": "32bfc9d0-ac3d-423a-8278-b24d884043a3"
      },
      "execution_count": 6,
      "outputs": [
        {
          "output_type": "stream",
          "name": "stdout",
          "text": [
            "1\n"
          ]
        }
      ]
    },
    {
      "cell_type": "markdown",
      "source": [
        "#Question 2\n",
        "\n",
        "A number **N** is represented in Linked List such that each digit corresponds to a node in linked list. You need to add 1 to it.\n",
        "\n",
        "**Example 1:**\n",
        "Input:\n",
        "LinkedList: 4->5->6\n",
        "Output:457\n"
      ],
      "metadata": {
        "id": "K7Dp4K1-SIbc"
      }
    },
    {
      "cell_type": "code",
      "source": [
        "class Node:\n",
        "    def __init__(self, value):\n",
        "        self.value = value\n",
        "        self.next = None\n",
        "\n",
        "def reverseLinkedList(head):\n",
        "    prev = None\n",
        "    current = head\n",
        "\n",
        "    while current:\n",
        "        next_node = current.next\n",
        "        current.next = prev\n",
        "        prev = current\n",
        "        current = next_node\n",
        "\n",
        "    return prev\n",
        "\n",
        "def addOne(head):\n",
        "    # Reverse the linked list\n",
        "    reversed_head = reverseLinkedList(head)\n",
        "\n",
        "    # Traverse the reversed linked list to add 1\n",
        "    current = reversed_head\n",
        "    carry = 1\n",
        "    while current:\n",
        "        current.value += carry\n",
        "        carry = 0\n",
        "\n",
        "        if current.value == 10:\n",
        "            current.value = 0\n",
        "            carry = 1\n",
        "\n",
        "        if carry == 0:\n",
        "            break\n",
        "\n",
        "        current = current.next\n",
        "\n",
        "    # If there is still a carry, add a new node\n",
        "    if carry == 1:\n",
        "        new_node = Node(1)\n",
        "        current.next = new_node\n",
        "\n",
        "    # Reverse the linked list again\n",
        "    result_head = reverseLinkedList(reversed_head)\n",
        "\n",
        "    return result_head\n"
      ],
      "metadata": {
        "id": "3USHoIZnR-Cr"
      },
      "execution_count": 7,
      "outputs": []
    },
    {
      "cell_type": "code",
      "source": [
        "# Create the linked list\n",
        "head = Node(4)\n",
        "node2 = Node(5)\n",
        "node3 = Node(6)\n",
        "\n",
        "head.next = node2\n",
        "node2.next = node3\n",
        "\n",
        "# Call the function to add 1 to the linked list\n",
        "result_head = addOne(head)\n",
        "\n",
        "# Print the resulting number\n",
        "current = result_head\n",
        "while current:\n",
        "    print(current.value, end=\"\")\n",
        "    current = current.next\n"
      ],
      "metadata": {
        "colab": {
          "base_uri": "https://localhost:8080/"
        },
        "id": "QjAbKF9TSQrz",
        "outputId": "c085d835-779d-43d4-f8e1-c0c2d86312e1"
      },
      "execution_count": 8,
      "outputs": [
        {
          "output_type": "stream",
          "name": "stdout",
          "text": [
            "457"
          ]
        }
      ]
    },
    {
      "cell_type": "markdown",
      "source": [
        "#example2\n",
        "Input:\n",
        "LinkedList: 1->2->3\n",
        "Output:124"
      ],
      "metadata": {
        "id": "Kf3bOTF1Sbbb"
      }
    },
    {
      "cell_type": "code",
      "source": [
        "class Node:\n",
        "    def __init__(self, value):\n",
        "        self.value = value\n",
        "        self.next = None\n",
        "\n",
        "def reverseLinkedList(head):\n",
        "    prev = None\n",
        "    current = head\n",
        "\n",
        "    while current:\n",
        "        next_node = current.next\n",
        "        current.next = prev\n",
        "        prev = current\n",
        "        current = next_node\n",
        "\n",
        "    return prev\n",
        "\n",
        "def addOne(head):\n",
        "    # Reverse the linked list\n",
        "    reversed_head = reverseLinkedList(head)\n",
        "\n",
        "    # Traverse the reversed linked list to add 1\n",
        "    current = reversed_head\n",
        "    carry = 1\n",
        "    while current:\n",
        "        current.value += carry\n",
        "        carry = 0\n",
        "\n",
        "        if current.value == 10:\n",
        "            current.value = 0\n",
        "            carry = 1\n",
        "\n",
        "        if carry == 0:\n",
        "            break\n",
        "\n",
        "        current = current.next\n",
        "\n",
        "    # If there is still a carry, add a new node\n",
        "    if carry == 1:\n",
        "        new_node = Node(1)\n",
        "        current.next = new_node\n",
        "\n",
        "    # Reverse the linked list again\n",
        "    result_head = reverseLinkedList(reversed_head)\n",
        "\n",
        "    return result_head\n"
      ],
      "metadata": {
        "id": "CQ5nqJNsSSej"
      },
      "execution_count": 9,
      "outputs": []
    },
    {
      "cell_type": "code",
      "source": [
        "# Create the linked list\n",
        "head = Node(1)\n",
        "node2 = Node(2)\n",
        "node3 = Node(3)\n",
        "\n",
        "head.next = node2\n",
        "node2.next = node3\n",
        "\n",
        "# Call the function to add 1 to the linked list\n",
        "result_head = addOne(head)\n",
        "\n",
        "# Print the resulting number\n",
        "current = result_head\n",
        "while current:\n",
        "    print(current.value, end=\"\")\n",
        "    current = current.next\n"
      ],
      "metadata": {
        "colab": {
          "base_uri": "https://localhost:8080/"
        },
        "id": "h5DwntLnSfDK",
        "outputId": "0cc9d515-73d5-4c2a-db7d-a2dd4684683c"
      },
      "execution_count": 10,
      "outputs": [
        {
          "output_type": "stream",
          "name": "stdout",
          "text": [
            "124"
          ]
        }
      ]
    },
    {
      "cell_type": "markdown",
      "source": [
        "#Question 3\n",
        "\n",
        "Given a Linked List of size N, where every node represents a sub-linked-list and contains two pointers:(i) a **next** pointer to the next node,(ii) a **bottom** pointer to a linked list where this node is head.Each of the sub-linked-list is in sorted order.Flatten the Link List such that all the nodes appear in a single level while maintaining the sorted order. **Note:** The flattened list will be printed using the bottom pointer instead of next pointer.\n",
        "\n",
        "**Example 1:**\n",
        "Input:\n",
        "5 -> 10 -> 19 -> 28\n",
        "|     |     |     |\n",
        "7     20    22   35\n",
        "|           |     |\n",
        "8          50    40\n",
        "|                 |\n",
        "30               45\n",
        "Output: 5-> 7-> 8- > 10 -> 19-> 20->\n",
        "22-> 28-> 30-> 35-> 40-> 45-> 50.\n",
        "Explanation:\n",
        "The resultant linked lists has every\n",
        "node in a single level.(Note:| represents the bottom pointer.)\n"
      ],
      "metadata": {
        "id": "s7esraLySrC7"
      }
    },
    {
      "cell_type": "code",
      "source": [
        "class Node:\n",
        "    def __init__(self, value):\n",
        "        self.value = value\n",
        "        self.next = None\n",
        "        self.bottom = None\n",
        "\n",
        "def mergeLists(list1, list2):\n",
        "    dummy = Node(0)\n",
        "    tail = dummy\n",
        "\n",
        "    while list1 and list2:\n",
        "        if list1.value <= list2.value:\n",
        "            tail.bottom = list1\n",
        "            list1 = list1.bottom\n",
        "        else:\n",
        "            tail.bottom = list2\n",
        "            list2 = list2.bottom\n",
        "\n",
        "        tail = tail.bottom\n",
        "\n",
        "    if list1:\n",
        "        tail.bottom = list1\n",
        "    else:\n",
        "        tail.bottom = list2\n",
        "\n",
        "    return dummy.bottom\n",
        "\n",
        "def flattenLinkedList(head):\n",
        "    # Base case: empty list or single node list\n",
        "    if head is None or head.next is None:\n",
        "        return head\n",
        "\n",
        "    # Recursively flatten the rest of the list\n",
        "    head.next = flattenLinkedList(head.next)\n",
        "\n",
        "    # Merge the current list with the flattened list\n",
        "    head = mergeLists(head, head.next)\n",
        "\n",
        "    return head\n",
        "\n",
        "def printLinkedList(head):\n",
        "    current = head\n",
        "    while current:\n",
        "        print(current.value, end=\"->\")\n",
        "        current = current.bottom\n",
        "    print(\"None\")\n",
        "\n",
        "# Create the linked list\n",
        "head = Node(5)\n",
        "node2 = Node(10)\n",
        "node3 = Node(19)\n",
        "node4 = Node(28)\n",
        "\n",
        "head.next = node2\n",
        "node2.next = node3\n",
        "node3.next = node4\n",
        "\n",
        "head.bottom = Node(7)\n",
        "node2.bottom = Node(20)\n",
        "node3.bottom = Node(22)\n",
        "node4.bottom = Node(35)\n",
        "\n",
        "head.bottom.bottom = Node(8)\n",
        "node2.bottom.bottom = Node(50)\n",
        "node3.bottom.bottom = Node(40)\n",
        "\n",
        "head.bottom.bottom.bottom = Node(30)\n",
        "node3.bottom.bottom.bottom = Node(45)\n",
        "\n",
        "# Flatten the linked list\n",
        "head = flattenLinkedList(head)\n",
        "\n",
        "# Print the flattened linked list\n",
        "printLinkedList(head)\n"
      ],
      "metadata": {
        "colab": {
          "base_uri": "https://localhost:8080/"
        },
        "id": "I25c7grpSgvT",
        "outputId": "077a7b40-fed5-41c8-be96-fd6c4c854d44"
      },
      "execution_count": 11,
      "outputs": [
        {
          "output_type": "stream",
          "name": "stdout",
          "text": [
            "5->7->8->10->19->20->22->28->30->35->40->45->50->None\n"
          ]
        }
      ]
    },
    {
      "cell_type": "markdown",
      "source": [
        "#example2\n",
        "Input:\n",
        "5 -> 10 -> 19 -> 28\n",
        "|          |\n",
        "7          22\n",
        "|          |\n",
        "8          50\n",
        "|\n",
        "30\n",
        "Output: 5->7->8->10->19->22->28->30->50\n",
        "Explanation:\n",
        "The resultant linked lists has every\n",
        "node in a single level.\n",
        "\n",
        "(Note:| represents the bottom pointer.)"
      ],
      "metadata": {
        "id": "M_8qeMsWS7U0"
      }
    },
    {
      "cell_type": "code",
      "source": [
        "class Node:\n",
        "    def __init__(self, value):\n",
        "        self.value = value\n",
        "        self.next = None\n",
        "        self.bottom = None\n",
        "\n",
        "def mergeLists(list1, list2):\n",
        "    dummy = Node(0)\n",
        "    tail = dummy\n",
        "\n",
        "    while list1 and list2:\n",
        "        if list1.value <= list2.value:\n",
        "            tail.bottom = list1\n",
        "            list1 = list1.bottom\n",
        "        else:\n",
        "            tail.bottom = list2\n",
        "            list2 = list2.bottom\n",
        "\n",
        "        tail = tail.bottom\n",
        "\n",
        "    if list1:\n",
        "        tail.bottom = list1\n",
        "    else:\n",
        "        tail.bottom = list2\n",
        "\n",
        "    return dummy.bottom\n",
        "\n",
        "def flattenLinkedList(head):\n",
        "    # Base case: empty list or single node list\n",
        "    if head is None or head.next is None:\n",
        "        return head\n",
        "\n",
        "    # Recursively flatten the rest of the list\n",
        "    head.next = flattenLinkedList(head.next)\n",
        "\n",
        "    # Merge the current list with the flattened list\n",
        "    head = mergeLists(head, head.next)\n",
        "\n",
        "    return head\n",
        "\n",
        "def printLinkedList(head):\n",
        "    current = head\n",
        "    while current:\n",
        "        print(current.value, end=\"->\")\n",
        "        current = current.bottom\n",
        "    print(\"None\")\n",
        "\n",
        "# Create the linked list\n",
        "head = Node(5)\n",
        "node2 = Node(10)\n",
        "node3 = Node(19)\n",
        "node4 = Node(28)\n",
        "\n",
        "head.next = node2\n",
        "node2.next = node3\n",
        "node3.next = node4\n",
        "\n",
        "head.bottom = Node(7)\n",
        "node2.bottom = Node(22)\n",
        "\n",
        "head.bottom.bottom = Node(8)\n",
        "node2.bottom.bottom = Node(50)\n",
        "\n",
        "head.bottom.bottom.bottom = Node(30)\n",
        "\n",
        "# Flatten the linked list\n",
        "head = flattenLinkedList(head)\n",
        "\n",
        "# Print the flattened linked list\n",
        "printLinkedList(head)\n"
      ],
      "metadata": {
        "colab": {
          "base_uri": "https://localhost:8080/"
        },
        "id": "hz4WmXz1Sy6S",
        "outputId": "cfd93caa-c970-4da7-d74a-6c39dc2233fe"
      },
      "execution_count": 12,
      "outputs": [
        {
          "output_type": "stream",
          "name": "stdout",
          "text": [
            "5->7->8->10->19->22->28->30->50->None\n"
          ]
        }
      ]
    },
    {
      "cell_type": "markdown",
      "source": [
        "#Question 4\n",
        "\n",
        "You are given a special linked list with **N** nodes where each node has a next pointer pointing to its next node. You are also given **M** random pointers, where you will be given **M** number of pairs denoting two nodes **a** and **b**  **i.e. a->arb = b** (arb is pointer to random node)**.**\n",
        "\n",
        "Construct a copy of the given list. The copy should consist of exactly **N** new nodes, where each new node has its value set to the value of its corresponding original node. Both the next and random pointer of the new nodes should point to new nodes in the copied list such that the pointers in the original list and copied list represent the same list state. None of the pointers in the new list should point to nodes in the original list.\n",
        "\n",
        "For example, if there are two nodes **X** and **Y** in the original list, where **X.arb** **-->** **Y**, then for the corresponding two nodes **x** and **y** in the copied list, **x.arb --> y.**\n",
        "\n",
        "Return the head of the copied linked list.\n",
        "\n",
        "!https://contribute.geeksforgeeks.org/wp-content/uploads/clone.jpg\n",
        "\n",
        "**Note** :- The diagram isn't part of any example, it just depicts an example of how the linked list may look like.\n",
        "\n",
        "example1\n",
        "Input:\n",
        "N = 4, M = 2\n",
        "value = {1,2,3,4}\n",
        "pairs = {{1,2},{2,4}}\n",
        "Output:1\n",
        "Explanation:In this test case, there\n",
        "are 4 nodes in linked list.  Among these\n",
        "4 nodes,  2 nodes have arbitrary pointer\n",
        "set, rest two nodes have arbitrary pointer\n",
        "as NULL. Second line tells us the value\n",
        "of four nodes. The third line gives the\n",
        "information about arbitrary pointers.\n",
        "The first node arbitrary pointer is set to\n",
        "node 2.  The second node arbitrary pointer\n",
        "is set to node 4.\n"
      ],
      "metadata": {
        "id": "kp1AUQWITR7b"
      }
    },
    {
      "cell_type": "code",
      "source": [
        "class Node:\n",
        "    def __init__(self, data):\n",
        "        self.data = data\n",
        "        self.next = None\n",
        "        self.random = None\n",
        "\n",
        "\n",
        "def copyRandomList(head):\n",
        "    if not head:\n",
        "        return None\n",
        "\n",
        "    # Step 1: Create a HashMap to store the mapping of nodes\n",
        "    # from the original list to the copied list\n",
        "    node_map = {}\n",
        "\n",
        "    # Step 2: Traverse the original list and create a copy of each node\n",
        "    curr = head\n",
        "    while curr:\n",
        "        copied_node = Node(curr.data)\n",
        "        node_map[curr] = copied_node\n",
        "        curr = curr.next\n",
        "\n",
        "    # Step 3: Update the next and random pointers of the copied list nodes\n",
        "    curr = head\n",
        "    while curr:\n",
        "        copied_node = node_map[curr]\n",
        "        copied_node.next = node_map.get(curr.next)\n",
        "        copied_node.random = node_map.get(curr.random)\n",
        "        curr = curr.next\n",
        "\n",
        "    # Step 4: Return the head of the copied list\n",
        "    return node_map[head]\n"
      ],
      "metadata": {
        "id": "_AGuDsi0TFej"
      },
      "execution_count": 13,
      "outputs": []
    },
    {
      "cell_type": "code",
      "source": [
        "# Create the original linked list\n",
        "head = Node(1)\n",
        "head.next = Node(2)\n",
        "head.next.next = Node(3)\n",
        "head.next.next.next = Node(4)\n",
        "\n",
        "# Set the random pointers\n",
        "head.random = head.next\n",
        "head.next.random = head.next.next.next\n",
        "\n",
        "# Call the function to copy the linked list\n",
        "copied_head = copyRandomList(head)\n",
        "\n",
        "# Print the values of the copied list\n",
        "curr = copied_head\n",
        "while curr:\n",
        "    print(curr.data)\n",
        "    curr = curr.next\n"
      ],
      "metadata": {
        "colab": {
          "base_uri": "https://localhost:8080/"
        },
        "id": "H1w58d5pToKZ",
        "outputId": "43a30596-ac8c-4703-8cac-7d2e7961753b"
      },
      "execution_count": 14,
      "outputs": [
        {
          "output_type": "stream",
          "name": "stdout",
          "text": [
            "1\n",
            "2\n",
            "3\n",
            "4\n"
          ]
        }
      ]
    },
    {
      "cell_type": "markdown",
      "source": [
        "#example2\n",
        "Input:\n",
        "N = 4, M = 2\n",
        "value[] = {1,3,5,9}\n",
        "pairs[] = {{1,1},{3,4}}\n",
        "Output:1\n",
        "Explanation:In the given testcase ,\n",
        "applying the method as stated in the\n",
        "above example, the output will be 1."
      ],
      "metadata": {
        "id": "pUG7RtEDUNGy"
      }
    },
    {
      "cell_type": "code",
      "source": [
        "class Node:\n",
        "    def __init__(self, data):\n",
        "        self.data = data\n",
        "        self.next = None\n",
        "        self.random = None\n",
        "\n",
        "def copyRandomList(head):\n",
        "    if not head:\n",
        "        return None\n",
        "\n",
        "    # Step 1: Create a copy of each node and insert it between the original node and its next node\n",
        "    curr = head\n",
        "    while curr:\n",
        "        copied = Node(curr.data)\n",
        "        copied.next = curr.next\n",
        "        curr.next = copied\n",
        "        curr = copied.next\n",
        "\n",
        "    # Step 2: Set the random pointers of the copied nodes\n",
        "    curr = head\n",
        "    while curr:\n",
        "        if curr.random:\n",
        "            curr.next.random = curr.random.next\n",
        "        curr = curr.next.next\n",
        "\n",
        "    # Step 3: Separate the original list and the copied list\n",
        "    original = head\n",
        "    copied = head.next\n",
        "    copied_head = head.next\n",
        "    while original:\n",
        "        original.next = original.next.next\n",
        "        if copied.next:\n",
        "            copied.next = copied.next.next\n",
        "        original = original.next\n",
        "        copied = copied.next\n",
        "\n",
        "    return copied_head\n"
      ],
      "metadata": {
        "id": "kwJvd5j9ULMj"
      },
      "execution_count": 15,
      "outputs": []
    },
    {
      "cell_type": "code",
      "source": [
        "# Create the original linked list\n",
        "head = Node(1)\n",
        "head.next = Node(3)\n",
        "head.next.next = Node(5)\n",
        "head.next.next.next = Node(9)\n",
        "\n",
        "# Set the random pointers\n",
        "head.random = head\n",
        "head.next.random = head.next.next.next\n",
        "\n",
        "# Call the function to copy the linked list\n",
        "copied_head = copyRandomList(head)\n",
        "\n",
        "# Print the values of the copied list\n",
        "curr = copied_head\n",
        "while curr:\n",
        "    print(curr.data)\n",
        "    curr = curr.next\n"
      ],
      "metadata": {
        "colab": {
          "base_uri": "https://localhost:8080/"
        },
        "id": "HB83Q0k6UVyj",
        "outputId": "1b2d5897-fd18-421a-81c5-1d7f3027829c"
      },
      "execution_count": 16,
      "outputs": [
        {
          "output_type": "stream",
          "name": "stdout",
          "text": [
            "1\n",
            "3\n",
            "5\n",
            "9\n"
          ]
        }
      ]
    },
    {
      "cell_type": "markdown",
      "source": [
        "#Question 5\n",
        "\n",
        "Given the `head` of a singly linked list, group all the nodes with odd indices together followed by the nodes with even indices, and return *the reordered list*.\n",
        "\n",
        "The **first** node is considered **odd**, and the **second** node is **even**, and so on.\n",
        "\n",
        "Note that the relative order inside both the even and odd groups should remain as it was in the input.\n",
        "\n",
        "You must solve the problem in `O(1)` extra space complexity and `O(n)` time complexity.\n",
        "\n",
        "**Example 1:**\n",
        "Input: head = [1,2,3,4,5]\n",
        "Output: [1,3,5,2,4]\n"
      ],
      "metadata": {
        "id": "R4SCEBLvUjHr"
      }
    },
    {
      "cell_type": "code",
      "source": [
        "class ListNode:\n",
        "    def __init__(self, val=0, next=None):\n",
        "        self.val = val\n",
        "        self.next = next\n",
        "\n",
        "def oddEvenList(head):\n",
        "    if not head or not head.next:\n",
        "        return head\n",
        "\n",
        "    oddHead = head\n",
        "    evenHead = head.next\n",
        "    odd = oddHead\n",
        "    even = evenHead\n",
        "    curr = head.next.next\n",
        "    index = 3\n",
        "\n",
        "    while curr:\n",
        "        if index % 2 == 1:\n",
        "            odd.next = curr\n",
        "            odd = odd.next\n",
        "        else:\n",
        "            even.next = curr\n",
        "            even = even.next\n",
        "        curr = curr.next\n",
        "        index += 1\n",
        "\n",
        "    odd.next = evenHead\n",
        "    even.next = None\n",
        "\n",
        "    return oddHead\n"
      ],
      "metadata": {
        "id": "JG7xjfcLUZX7"
      },
      "execution_count": 17,
      "outputs": []
    },
    {
      "cell_type": "code",
      "source": [
        "# Create the original linked list\n",
        "head = ListNode(1)\n",
        "head.next = ListNode(2)\n",
        "head.next.next = ListNode(3)\n",
        "head.next.next.next = ListNode(4)\n",
        "head.next.next.next.next = ListNode(5)\n",
        "\n",
        "# Call the function to reorder the linked list\n",
        "reordered_head = oddEvenList(head)\n",
        "\n",
        "# Print the values of the reordered list\n",
        "curr = reordered_head\n",
        "while curr:\n",
        "    print(curr.val)\n",
        "    curr = curr.next\n"
      ],
      "metadata": {
        "colab": {
          "base_uri": "https://localhost:8080/"
        },
        "id": "9cQTMKILUpOn",
        "outputId": "913d8d5e-f5a0-4c5d-ea2f-7e8b5af1e8ca"
      },
      "execution_count": 18,
      "outputs": [
        {
          "output_type": "stream",
          "name": "stdout",
          "text": [
            "1\n",
            "3\n",
            "5\n",
            "2\n",
            "4\n"
          ]
        }
      ]
    },
    {
      "cell_type": "markdown",
      "source": [
        "#example2\n",
        "Input: head = [2,1,3,5,6,4,7]\n",
        "Output: [2,3,6,7,1,5,4]"
      ],
      "metadata": {
        "id": "61HPClRxVBtL"
      }
    },
    {
      "cell_type": "code",
      "source": [
        "class ListNode:\n",
        "    def __init__(self, val=0, next=None):\n",
        "        self.val = val\n",
        "        self.next = next\n",
        "\n",
        "def oddEvenList(head):\n",
        "    if not head or not head.next:\n",
        "        return head\n",
        "\n",
        "    oddHead = head\n",
        "    evenHead = head.next\n",
        "    odd = oddHead\n",
        "    even = evenHead\n",
        "    curr = head.next.next\n",
        "    index = 3\n",
        "\n",
        "    while curr:\n",
        "        if index % 2 == 1:\n",
        "            odd.next = curr\n",
        "            odd = odd.next\n",
        "        else:\n",
        "            even.next = curr\n",
        "            even = even.next\n",
        "        curr = curr.next\n",
        "        index += 1\n",
        "\n",
        "    odd.next = evenHead\n",
        "    even.next = None\n",
        "\n",
        "    return oddHead\n"
      ],
      "metadata": {
        "id": "DazVHw0oUrF7"
      },
      "execution_count": 19,
      "outputs": []
    },
    {
      "cell_type": "code",
      "source": [
        "# Create the original linked list\n",
        "head = ListNode(2)\n",
        "head.next = ListNode(1)\n",
        "head.next.next = ListNode(3)\n",
        "head.next.next.next = ListNode(5)\n",
        "head.next.next.next.next = ListNode(6)\n",
        "head.next.next.next.next.next = ListNode(4)\n",
        "head.next.next.next.next.next.next = ListNode(7)\n",
        "\n",
        "# Call the function to reorder the linked list\n",
        "reordered_head = oddEvenList(head)\n",
        "\n",
        "# Print the values of the reordered list\n",
        "curr = reordered_head\n",
        "while curr:\n",
        "    print(curr.val)\n",
        "    curr = curr.next\n"
      ],
      "metadata": {
        "colab": {
          "base_uri": "https://localhost:8080/"
        },
        "id": "jrcfM45pVKuD",
        "outputId": "b4923c91-f8ce-4734-869c-6809a042bb31"
      },
      "execution_count": 20,
      "outputs": [
        {
          "output_type": "stream",
          "name": "stdout",
          "text": [
            "2\n",
            "3\n",
            "6\n",
            "7\n",
            "1\n",
            "5\n",
            "4\n"
          ]
        }
      ]
    },
    {
      "cell_type": "markdown",
      "source": [
        "#Question 6\n",
        "\n",
        "Given a singly linked list of size **N**. The task is to **left-shift** the linked list by **k** nodes, where **k** is a given positive integer smaller than or equal to length of the linked list.\n",
        "\n",
        "**Example 1:**\n",
        "\n",
        "Input:\n",
        "N = 5\n",
        "value[] = {2, 4, 7, 8, 9}\n",
        "k = 3\n",
        "Output:8 9 2 4 7\n",
        "Explanation:Rotate 1:4 -> 7 -> 8 -> 9 -> 2\n",
        "Rotate 2: 7 -> 8 -> 9 -> 2 -> 4\n",
        "Rotate 3: 8 -> 9 -> 2 -> 4 -> 7\n"
      ],
      "metadata": {
        "id": "JjPXKr9XVkTr"
      }
    },
    {
      "cell_type": "code",
      "source": [
        "class ListNode:\n",
        "    def __init__(self, val=0, next=None):\n",
        "        self.val = val\n",
        "        self.next = next\n",
        "\n",
        "def rotateLeft(head, k):\n",
        "    if not head or not head.next or k == 0:\n",
        "        return head\n",
        "\n",
        "    # Calculate the length of the linked list\n",
        "    length = 0\n",
        "    curr = head\n",
        "    while curr:\n",
        "        length += 1\n",
        "        curr = curr.next\n",
        "\n",
        "    # Determine the effective value of k\n",
        "    k = k % length\n",
        "\n",
        "    if k == 0:\n",
        "        return head\n",
        "\n",
        "    # Find the kth node\n",
        "    prev = None\n",
        "    curr = head\n",
        "    count = 0\n",
        "    while curr and count < k:\n",
        "        prev = curr\n",
        "        curr = curr.next\n",
        "        count += 1\n",
        "\n",
        "    # Break the original linked list\n",
        "    prev.next = None\n",
        "\n",
        "    # Set the next pointer of the last node in the original linked list\n",
        "    # to point to the original head, forming a circular linked list\n",
        "    last_node = curr\n",
        "    while last_node.next:\n",
        "        last_node = last_node.next\n",
        "    last_node.next = head\n",
        "\n",
        "    # Update the head of the linked list to the kth node\n",
        "    head = curr\n",
        "\n",
        "    return head\n"
      ],
      "metadata": {
        "id": "mOqtjsnoVM8T"
      },
      "execution_count": 21,
      "outputs": []
    },
    {
      "cell_type": "code",
      "source": [
        "# Create the original linked list\n",
        "head = ListNode(2)\n",
        "head.next = ListNode(4)\n",
        "head.next.next = ListNode(7)\n",
        "head.next.next.next = ListNode(8)\n",
        "head.next.next.next.next = ListNode(9)\n",
        "\n",
        "# Define the value of k\n",
        "k = 3\n",
        "\n",
        "# Call the function to rotate the linked list\n",
        "rotated_head = rotateLeft(head, k)\n",
        "\n",
        "# Print the values of the rotated list\n",
        "curr = rotated_head\n",
        "while curr:\n",
        "    print(curr.val)\n",
        "    curr = curr.next\n"
      ],
      "metadata": {
        "colab": {
          "base_uri": "https://localhost:8080/"
        },
        "id": "S8lW4QU0Vs-i",
        "outputId": "d5c56ffb-0362-435c-9e02-6cdfb893acc4"
      },
      "execution_count": 22,
      "outputs": [
        {
          "output_type": "stream",
          "name": "stdout",
          "text": [
            "8\n",
            "9\n",
            "2\n",
            "4\n",
            "7\n"
          ]
        }
      ]
    },
    {
      "cell_type": "markdown",
      "source": [
        "#example2\n",
        "Input:\n",
        "N = 8\n",
        "value[] = {1, 2, 3, 4, 5, 6, 7, 8}\n",
        "k = 4\n",
        "Output:5 6 7 8 1 2 3 4"
      ],
      "metadata": {
        "id": "8_SzWJjkV6Tk"
      }
    },
    {
      "cell_type": "code",
      "source": [
        "class ListNode:\n",
        "    def __init__(self, val=0, next=None):\n",
        "        self.val = val\n",
        "        self.next = next\n",
        "\n",
        "def rotateLeft(head, k):\n",
        "    if not head or not head.next or k == 0:\n",
        "        return head\n",
        "\n",
        "    # Calculate the length of the linked list\n",
        "    length = 0\n",
        "    curr = head\n",
        "    while curr:\n",
        "        length += 1\n",
        "        curr = curr.next\n",
        "\n",
        "    # Determine the effective value of k\n",
        "    k = k % length\n",
        "\n",
        "    if k == 0:\n",
        "        return head\n",
        "\n",
        "    # Find the kth node\n",
        "    prev = None\n",
        "    curr = head\n",
        "    count = 0\n",
        "    while curr and count < k:\n",
        "        prev = curr\n",
        "        curr = curr.next\n",
        "        count += 1\n",
        "\n",
        "    # Break the original linked list\n",
        "    prev.next = None\n",
        "\n",
        "    # Set the next pointer of the last node in the original linked list\n",
        "    # to point to the original head, forming a circular linked list\n",
        "    last_node = curr\n",
        "    while last_node.next:\n",
        "        last_node = last_node.next\n",
        "    last_node.next = head\n",
        "\n",
        "    # Update the head of the linked list to the kth node\n",
        "    head = curr\n",
        "\n",
        "    return head\n"
      ],
      "metadata": {
        "id": "AP8p1m8wV0IB"
      },
      "execution_count": 23,
      "outputs": []
    },
    {
      "cell_type": "code",
      "source": [
        "# Create the original linked list\n",
        "head = ListNode(1)\n",
        "head.next = ListNode(2)\n",
        "head.next.next = ListNode(3)\n",
        "head.next.next.next = ListNode(4)\n",
        "head.next.next.next.next = ListNode(5)\n",
        "head.next.next.next.next.next = ListNode(6)\n",
        "head.next.next.next.next.next.next = ListNode(7)\n",
        "head.next.next.next.next.next.next.next = ListNode(8)\n",
        "\n",
        "# Define the value of k\n",
        "k = 4\n",
        "\n",
        "# Call the function to rotate the linked list\n",
        "rotated_head = rotateLeft(head, k)\n",
        "\n",
        "# Print the values of the rotated list\n",
        "curr = rotated_head\n",
        "while curr:\n",
        "    print(curr.val)\n",
        "    curr = curr.next\n"
      ],
      "metadata": {
        "colab": {
          "base_uri": "https://localhost:8080/"
        },
        "id": "kSfrolymWAXb",
        "outputId": "ef91e908-b2c1-4fa9-e3c3-6e5ef9012783"
      },
      "execution_count": 24,
      "outputs": [
        {
          "output_type": "stream",
          "name": "stdout",
          "text": [
            "5\n",
            "6\n",
            "7\n",
            "8\n",
            "1\n",
            "2\n",
            "3\n",
            "4\n"
          ]
        }
      ]
    },
    {
      "cell_type": "code",
      "source": [],
      "metadata": {
        "id": "tygVCWodWCHC"
      },
      "execution_count": null,
      "outputs": []
    },
    {
      "cell_type": "markdown",
      "source": [
        "#Question 7\n",
        "\n",
        "You are given the `head` of a linked list with `n` nodes.\n",
        "\n",
        "For each node in the list, find the value of the **next greater node**. That is, for each node, find the value of the first node that is next to it and has a **strictly larger** value than it.\n",
        "\n",
        "Return an integer array `answer` where `answer[i]` is the value of the next greater node of the `ith` node (**1-indexed**). If the `ith` node does not have a next greater node, set `answer[i] = 0`.\n",
        "\n",
        "**Example 1:**\n",
        "\n",
        "Input: head = [2,1,5]\n",
        "Output: [5,5,0]\n"
      ],
      "metadata": {
        "id": "xIxZUe24WIca"
      }
    },
    {
      "cell_type": "code",
      "source": [
        "class ListNode:\n",
        "    def __init__(self, val=0, next=None):\n",
        "        self.val = val\n",
        "        self.next = next\n",
        "\n",
        "def nextLargerNodes(head):\n",
        "    # Step 1: Store values of the linked list in an array\n",
        "    values = []\n",
        "    curr = head\n",
        "    while curr:\n",
        "        values.append(curr.val)\n",
        "        curr = curr.next\n",
        "\n",
        "    # Step 2: Initialize stack and result array\n",
        "    stack = []\n",
        "    result = [0] * len(values)\n",
        "\n",
        "    # Step 3: Iterate over values in reverse order\n",
        "    for i in range(len(values)-1, -1, -1):\n",
        "        while stack and values[i] >= stack[-1]:\n",
        "            stack.pop()\n",
        "\n",
        "        if stack:\n",
        "            result[i] = stack[-1]\n",
        "\n",
        "        stack.append(values[i])\n",
        "\n",
        "    return result\n"
      ],
      "metadata": {
        "id": "Er-bQTLaWLxr"
      },
      "execution_count": 25,
      "outputs": []
    },
    {
      "cell_type": "code",
      "source": [
        "# Create the linked list\n",
        "head = ListNode(2)\n",
        "head.next = ListNode(1)\n",
        "head.next.next = ListNode(5)\n",
        "\n",
        "# Call the function to find the next greater nodes\n",
        "result = nextLargerNodes(head)\n",
        "\n",
        "# Print the result\n",
        "print(result)\n"
      ],
      "metadata": {
        "colab": {
          "base_uri": "https://localhost:8080/"
        },
        "id": "Dil_qNtTWOQr",
        "outputId": "9827760f-0a4a-4b98-fd84-b6fe8c6bd1b0"
      },
      "execution_count": 26,
      "outputs": [
        {
          "output_type": "stream",
          "name": "stdout",
          "text": [
            "[5, 5, 0]\n"
          ]
        }
      ]
    },
    {
      "cell_type": "code",
      "source": [],
      "metadata": {
        "id": "FnLE1GytWQHT"
      },
      "execution_count": null,
      "outputs": []
    },
    {
      "cell_type": "markdown",
      "source": [
        "#example2\n",
        "Input: head = [2,7,4,3,5]\n",
        "Output: [7,0,5,5,0]"
      ],
      "metadata": {
        "id": "p7dfoR8NWWhM"
      }
    },
    {
      "cell_type": "code",
      "source": [
        "class ListNode:\n",
        "    def __init__(self, val=0, next=None):\n",
        "        self.val = val\n",
        "        self.next = next\n",
        "\n",
        "def nextLargerNodes(head):\n",
        "    # Step 1: Store values of the linked list in an array\n",
        "    values = []\n",
        "    curr = head\n",
        "    while curr:\n",
        "        values.append(curr.val)\n",
        "        curr = curr.next\n",
        "\n",
        "    # Step 2: Initialize stack and result array\n",
        "    stack = []\n",
        "    result = [0] * len(values)\n",
        "\n",
        "    # Step 3: Iterate over values in reverse order\n",
        "    for i in range(len(values)-1, -1, -1):\n",
        "        while stack and values[i] >= values[stack[-1]]:\n",
        "            stack.pop()\n",
        "\n",
        "        if stack:\n",
        "            result[i] = values[stack[-1]]\n",
        "\n",
        "        stack.append(i)\n",
        "\n",
        "    return result\n"
      ],
      "metadata": {
        "id": "ZjMGLPygWYYK"
      },
      "execution_count": 27,
      "outputs": []
    },
    {
      "cell_type": "code",
      "source": [
        "# Create the linked list\n",
        "head = ListNode(2)\n",
        "head.next = ListNode(7)\n",
        "head.next.next = ListNode(4)\n",
        "head.next.next.next = ListNode(3)\n",
        "head.next.next.next.next = ListNode(5)\n",
        "\n",
        "# Call the function to find the next greater nodes\n",
        "result = nextLargerNodes(head)\n",
        "\n",
        "# Print the result\n",
        "print(result)\n"
      ],
      "metadata": {
        "colab": {
          "base_uri": "https://localhost:8080/"
        },
        "id": "VEtSsEGXWbFL",
        "outputId": "cf5f41cf-0c9b-41e4-f20a-dbc9e2aa421b"
      },
      "execution_count": 28,
      "outputs": [
        {
          "output_type": "stream",
          "name": "stdout",
          "text": [
            "[7, 0, 5, 5, 0]\n"
          ]
        }
      ]
    },
    {
      "cell_type": "code",
      "source": [],
      "metadata": {
        "id": "6JBTq946Wcsm"
      },
      "execution_count": null,
      "outputs": []
    },
    {
      "cell_type": "markdown",
      "source": [
        "#Question 8\n",
        "\n",
        "Given the `head` of a linked list, we repeatedly delete consecutive sequences of nodes that sum to `0` until there are no such sequences.\n",
        "\n",
        "After doing so, return the head of the final linked list.  You may return any such answer.\n",
        "\n",
        "(Note that in the examples below, all sequences are serializations of `ListNode` objects.)\n",
        "\n",
        "**Example 1:**\n",
        "\n",
        "Input: head = [1,2,-3,3,1]\n",
        "Output: [3,1]\n",
        "Note: The answer [1,2,1] would also be accepted.\n"
      ],
      "metadata": {
        "id": "HRAPTk8VWj8a"
      }
    },
    {
      "cell_type": "code",
      "source": [
        "class ListNode:\n",
        "    def __init__(self, val=0, next=None):\n",
        "        self.val = val\n",
        "        self.next = next\n",
        "\n",
        "def removeZeroSumSublists(head):\n",
        "    dummy = ListNode(0)\n",
        "    dummy.next = head\n",
        "    prev = dummy\n",
        "    curr = head\n",
        "\n",
        "    while curr:\n",
        "        curr_sum = 0\n",
        "        while curr:\n",
        "            curr_sum += curr.val\n",
        "            if curr_sum == 0:\n",
        "                prev.next = curr.next\n",
        "            curr = curr.next\n",
        "\n",
        "        if curr_sum != 0:\n",
        "            prev = prev.next\n",
        "\n",
        "        if prev:\n",
        "            curr = prev.next\n",
        "\n",
        "    return dummy.next\n"
      ],
      "metadata": {
        "id": "UcJ2VvVmWm5p"
      },
      "execution_count": 29,
      "outputs": []
    },
    {
      "cell_type": "code",
      "source": [
        "# Create the linked list\n",
        "head = ListNode(1)\n",
        "head.next = ListNode(2)\n",
        "head.next.next = ListNode(-3)\n",
        "head.next.next.next = ListNode(3)\n",
        "head.next.next.next.next = ListNode(1)\n",
        "\n",
        "# Call the function to remove zero sum sublists\n",
        "result = removeZeroSumSublists(head)\n",
        "\n",
        "# Print the result\n",
        "while result:\n",
        "    print(result.val, end=\" \")\n",
        "    result = result.next\n"
      ],
      "metadata": {
        "colab": {
          "base_uri": "https://localhost:8080/"
        },
        "id": "mj3QClzGWokB",
        "outputId": "b9b1a7c6-e1ce-4775-b52f-e87476e3f698"
      },
      "execution_count": 30,
      "outputs": [
        {
          "output_type": "stream",
          "name": "stdout",
          "text": [
            "3 1 "
          ]
        }
      ]
    },
    {
      "cell_type": "code",
      "source": [],
      "metadata": {
        "id": "2f4ccuPqWqFB"
      },
      "execution_count": null,
      "outputs": []
    },
    {
      "cell_type": "markdown",
      "source": [
        "#example2\n",
        "Input: head = [1,2,3,-3,4]\n",
        "Output: [1,2,4]\n"
      ],
      "metadata": {
        "id": "SaLx9CSAWwtb"
      }
    },
    {
      "cell_type": "code",
      "source": [
        "class ListNode:\n",
        "    def __init__(self, val=0, next=None):\n",
        "        self.val = val\n",
        "        self.next = next\n",
        "\n",
        "def removeZeroSumSublists(head):\n",
        "    dummy = ListNode(0)\n",
        "    dummy.next = head\n",
        "    prev = dummy\n",
        "    curr = head\n",
        "\n",
        "    while curr:\n",
        "        curr_sum = 0\n",
        "        while curr:\n",
        "            curr_sum += curr.val\n",
        "            if curr_sum == 0:\n",
        "                prev.next = curr.next\n",
        "                break\n",
        "            curr = curr.next\n",
        "        else:\n",
        "            prev = curr\n",
        "\n",
        "        if curr:\n",
        "            curr = curr.next\n",
        "\n",
        "    return dummy.next\n"
      ],
      "metadata": {
        "id": "K6SP9EZ5WzMi"
      },
      "execution_count": 31,
      "outputs": []
    },
    {
      "cell_type": "code",
      "source": [
        "# Create the linked list\n",
        "head = ListNode(1)\n",
        "head.next = ListNode(2)\n",
        "head.next.next = ListNode(3)\n",
        "head.next.next.next = ListNode(-3)\n",
        "head.next.next.next.next = ListNode(4)\n",
        "\n",
        "# Call the function to remove zero sum sublists\n",
        "result = removeZeroSumSublists(head)\n",
        "\n",
        "# Print the result\n",
        "while result:\n",
        "    print(result.val, end=\" \")\n",
        "    result = result.next\n"
      ],
      "metadata": {
        "colab": {
          "base_uri": "https://localhost:8080/"
        },
        "id": "3GkAo98YW1tR",
        "outputId": "3e169d93-c72d-4156-bf11-0b655641246e"
      },
      "execution_count": 32,
      "outputs": [
        {
          "output_type": "stream",
          "name": "stdout",
          "text": [
            "1 2 3 -3 4 "
          ]
        }
      ]
    },
    {
      "cell_type": "code",
      "source": [],
      "metadata": {
        "id": "k5nTdOP2W3Yj"
      },
      "execution_count": null,
      "outputs": []
    },
    {
      "cell_type": "markdown",
      "source": [
        "#example3\n",
        "Input: head = [1,2,3,-3,-2]\n",
        "Output: [1]"
      ],
      "metadata": {
        "id": "HU4odLujW_GS"
      }
    },
    {
      "cell_type": "code",
      "source": [
        "class ListNode:\n",
        "    def __init__(self, val=0, next=None):\n",
        "        self.val = val\n",
        "        self.next = next\n",
        "\n",
        "def removeZeroSumSublists(head):\n",
        "    dummy = ListNode(0)\n",
        "    dummy.next = head\n",
        "    prev = dummy\n",
        "    curr = head\n",
        "\n",
        "    while curr:\n",
        "        curr_sum = 0\n",
        "        while curr:\n",
        "            curr_sum += curr.val\n",
        "            if curr_sum == 0:\n",
        "                prev.next = curr.next\n",
        "                break\n",
        "            curr = curr.next\n",
        "        else:\n",
        "            prev = curr\n",
        "\n",
        "        if curr:\n",
        "            curr = curr.next\n",
        "\n",
        "    return dummy.next\n"
      ],
      "metadata": {
        "id": "MXBI4jhCXAyz"
      },
      "execution_count": 33,
      "outputs": []
    },
    {
      "cell_type": "code",
      "source": [
        "# Create the linked list\n",
        "head = ListNode(1)\n",
        "head.next = ListNode(2)\n",
        "head.next.next = ListNode(3)\n",
        "head.next.next.next = ListNode(-3)\n",
        "head.next.next.next.next = ListNode(-2)\n",
        "\n",
        "# Call the function to remove zero sum sublists\n",
        "result = removeZeroSumSublists(head)\n",
        "\n",
        "# Print the result\n",
        "while result:\n",
        "    print(result.val, end=\" \")\n",
        "    result = result.next\n"
      ],
      "metadata": {
        "colab": {
          "base_uri": "https://localhost:8080/"
        },
        "id": "yIRC9VNxXD37",
        "outputId": "bed28ba2-215b-4576-8fb0-2d946acbc4da"
      },
      "execution_count": 34,
      "outputs": [
        {
          "output_type": "stream",
          "name": "stdout",
          "text": [
            "1 2 3 -3 -2 "
          ]
        }
      ]
    },
    {
      "cell_type": "code",
      "source": [],
      "metadata": {
        "id": "D73zZG-kXFvQ"
      },
      "execution_count": null,
      "outputs": []
    }
  ]
}