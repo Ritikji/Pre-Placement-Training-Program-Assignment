{
  "nbformat": 4,
  "nbformat_minor": 0,
  "metadata": {
    "colab": {
      "provenance": []
    },
    "kernelspec": {
      "name": "python3",
      "display_name": "Python 3"
    },
    "language_info": {
      "name": "python"
    }
  },
  "cells": [
    {
      "cell_type": "markdown",
      "source": [
        "**<aside>\n",
        "💡 **Question 1**\n",
        "\n",
        "Given two strings s and t, *determine if they are isomorphic*.\n",
        "\n",
        "Two strings s and t are isomorphic if the characters in s can be replaced to get t.\n",
        "\n",
        "All occurrences of a character must be replaced with another character while preserving the order of characters. No two characters may map to the same character, but a character may map to itself.\n",
        "\n",
        "**Example 1:**\n",
        "\n",
        "**Input:** s = \"egg\", t = \"add\"\n",
        "\n",
        "**Output:** true\n",
        "\n",
        "</aside>**"
      ],
      "metadata": {
        "id": "_xAuqfa5P_KQ"
      }
    },
    {
      "cell_type": "code",
      "execution_count": 4,
      "metadata": {
        "colab": {
          "base_uri": "https://localhost:8080/"
        },
        "id": "Z6Cm1dEIP-ST",
        "outputId": "ba8ef480-2ab6-4148-dfcd-43c5870564ea"
      },
      "outputs": [
        {
          "output_type": "stream",
          "name": "stdout",
          "text": [
            "True\n"
          ]
        }
      ],
      "source": [
        "def is_isomorphic(s, t):\n",
        "    if len(s) != len(t):\n",
        "        return False\n",
        "    \n",
        "    s_map = {}\n",
        "    t_map = {}\n",
        "    \n",
        "    for i in range(len(s)):\n",
        "        char_s = s[i]\n",
        "        char_t = t[i]\n",
        "        \n",
        "        if char_s in s_map:\n",
        "            if s_map[char_s] != char_t:\n",
        "                return False\n",
        "        \n",
        "        if char_t in t_map:\n",
        "            if t_map[char_t] != char_s:\n",
        "                return False\n",
        "        \n",
        "        s_map[char_s] = char_t\n",
        "        t_map[char_t] = char_s\n",
        "    \n",
        "    return True\n",
        "\n",
        "\n",
        "s = \"egg\"\n",
        "t = \"add\"\n",
        "print(is_isomorphic(s, t))  \n"
      ]
    },
    {
      "cell_type": "markdown",
      "source": [
        "**<aside>\n",
        "💡 **Question 2**\n",
        "\n",
        "Given a string num which represents an integer, return true *if* num *is a **strobogrammatic number***.\n",
        "\n",
        "A **strobogrammatic number** is a number that looks the same when rotated 180 degrees (looked at upside down).\n",
        "\n",
        "**Example 1:**\n",
        "\n",
        "**Input:** num = \"69\"\n",
        "\n",
        "**Output:**\n",
        "\n",
        "true\n",
        "\n",
        "</aside>**"
      ],
      "metadata": {
        "id": "bxzEXam_Qol5"
      }
    },
    {
      "cell_type": "code",
      "source": [
        "def is_strobogrammatic(num):\n",
        "    left = 0\n",
        "    right = len(num) - 1\n",
        "    digit_map = {\n",
        "        \"0\": \"0\",\n",
        "        \"1\": \"1\",\n",
        "        \"6\": \"9\",\n",
        "        \"8\": \"8\",\n",
        "        \"9\": \"6\"\n",
        "    }\n",
        "    \n",
        "    while left <= right:\n",
        "        left_digit = num[left]\n",
        "        right_digit = num[right]\n",
        "        \n",
        "        if left_digit not in digit_map or digit_map[left_digit] != right_digit:\n",
        "            return False\n",
        "        \n",
        "        left += 1\n",
        "        right -= 1\n",
        "    \n",
        "    return True\n",
        "\n",
        "\n",
        "num = \"69\"\n",
        "print(is_strobogrammatic(num))  \n"
      ],
      "metadata": {
        "colab": {
          "base_uri": "https://localhost:8080/"
        },
        "id": "gLigXcXeQlZx",
        "outputId": "91e6322b-fb2f-43f0-ac2c-a8575b6309f4"
      },
      "execution_count": 3,
      "outputs": [
        {
          "output_type": "stream",
          "name": "stdout",
          "text": [
            "True\n"
          ]
        }
      ]
    },
    {
      "cell_type": "markdown",
      "source": [
        "**<aside>\n",
        "💡 **Question 3**\n",
        "\n",
        "Given two non-negative integers, num1 and num2 represented as string, return *the sum of* num1 *and* num2 *as a string*.\n",
        "\n",
        "You must solve the problem without using any built-in library for handling large integers (such as BigInteger). You must also not convert the inputs to integers directly.\n",
        "\n",
        "**Example 1:**\n",
        "\n",
        "**Input:** num1 = \"11\", num2 = \"123\"\n",
        "\n",
        "**Output:**\n",
        "\n",
        "\"134\"\n",
        "\n",
        "</aside>**"
      ],
      "metadata": {
        "id": "7q6qeR6-Q5_v"
      }
    },
    {
      "cell_type": "code",
      "source": [
        "def addStrings(num1, num2):\n",
        "    result = \"\"\n",
        "    p1 = len(num1) - 1\n",
        "    p2 = len(num2) - 1\n",
        "    carry = 0\n",
        "    \n",
        "    while p1 >= 0 or p2 >= 0:\n",
        "        digit1 = int(num1[p1]) if p1 >= 0 else 0\n",
        "        digit2 = int(num2[p2]) if p2 >= 0 else 0\n",
        "        \n",
        "        digit_sum = digit1 + digit2 + carry\n",
        "        result += str(digit_sum % 10)\n",
        "        carry = digit_sum // 10\n",
        "        \n",
        "        p1 -= 1\n",
        "        p2 -= 1\n",
        "    \n",
        "    if carry:\n",
        "        result += str(carry)\n",
        "    \n",
        "    result = result[::-1]\n",
        "    return result\n",
        "\n",
        "num1 = \"11\"\n",
        "num2 = \"123\"\n",
        "print(addStrings(num1, num2)) \n"
      ],
      "metadata": {
        "colab": {
          "base_uri": "https://localhost:8080/"
        },
        "id": "u5GhB0CVQxFy",
        "outputId": "2cfd3ec2-d56c-48c9-ebd0-3cdecf3b2d69"
      },
      "execution_count": 7,
      "outputs": [
        {
          "output_type": "stream",
          "name": "stdout",
          "text": [
            "134\n"
          ]
        }
      ]
    },
    {
      "cell_type": "markdown",
      "source": [
        "**<aside>\n",
        "💡 **Question 4**\n",
        "\n",
        "Given a string s, reverse the order of characters in each word within a sentence while still preserving whitespace and initial word order.\n",
        "\n",
        "**Example 1:**\n",
        "\n",
        "**Input:** s = \"Let's take LeetCode contest\"\n",
        "\n",
        "**Output:** \"s'teL ekat edoCteeL tsetnoc\"\n",
        "\n",
        "</aside>**"
      ],
      "metadata": {
        "id": "LpT6NHJXREut"
      }
    },
    {
      "cell_type": "code",
      "source": [
        "def reverseWords(s):\n",
        "    words = s.split()\n",
        "    reversed_words = [word[::-1] for word in words]\n",
        "    result = ' '.join(reversed_words)\n",
        "    return result\n",
        "\n",
        "s = \"Let's take LeetCode contest\"\n",
        "print(reverseWords(s)) \n"
      ],
      "metadata": {
        "colab": {
          "base_uri": "https://localhost:8080/"
        },
        "id": "gMdJM_A6RBIu",
        "outputId": "52ffc828-3235-4203-996a-3b4b42830b5a"
      },
      "execution_count": 8,
      "outputs": [
        {
          "output_type": "stream",
          "name": "stdout",
          "text": [
            "s'teL ekat edoCteeL tsetnoc\n"
          ]
        }
      ]
    },
    {
      "cell_type": "markdown",
      "source": [
        "**<aside>\n",
        "💡 **Question 5**\n",
        "\n",
        "Given a string s and an integer k, reverse the first k characters for every 2k characters counting from the start of the string.\n",
        "\n",
        "If there are fewer than k characters left, reverse all of them. If there are less than 2k but greater than or equal to k characters, then reverse the first k characters and leave the other as original.\n",
        "\n",
        "**Example 1:**\n",
        "\n",
        "**Input:** s = \"abcdefg\", k = 2\n",
        "\n",
        "**Output:**\n",
        "\n",
        "\"bacdfeg\"\n",
        "\n",
        "</aside>**"
      ],
      "metadata": {
        "id": "zznnOVzxVyht"
      }
    },
    {
      "cell_type": "code",
      "source": [
        "def reverseStr(s, k):\n",
        "    result = \"\"\n",
        "    n = len(s)\n",
        "    \n",
        "    for i in range(0, n, 2 * k):\n",
        "        chunk = s[i:i + 2 * k]\n",
        "        reversed_chunk = chunk[:k][::-1] + chunk[k:]\n",
        "        result += reversed_chunk\n",
        "    \n",
        "    return result\n",
        "\n",
        "s = \"abcdefg\"\n",
        "k = 2\n",
        "print(reverseStr(s, k)) "
      ],
      "metadata": {
        "colab": {
          "base_uri": "https://localhost:8080/"
        },
        "id": "XkVMtZ1WRKFy",
        "outputId": "0d2aefcc-0773-4153-a541-3ae7f9afc23c"
      },
      "execution_count": 10,
      "outputs": [
        {
          "output_type": "stream",
          "name": "stdout",
          "text": [
            "bacdfeg\n"
          ]
        }
      ]
    },
    {
      "cell_type": "markdown",
      "source": [
        "**<aside>\n",
        "💡 **Question 6**\n",
        "\n",
        "Given two strings s and goal, return true *if and only if* s *can become* goal *after some number of **shifts** on* s.\n",
        "\n",
        "A **shift** on s consists of moving the leftmost character of s to the rightmost position.\n",
        "\n",
        "- For example, if s = \"abcde\", then it will be \"bcdea\" after one shift.\n",
        "\n",
        "**Example 1:**\n",
        "\n",
        "**Input:** s = \"abcde\", goal = \"cdeab\"\n",
        "\n",
        "**Output:**\n",
        "\n",
        "true\n",
        "\n",
        "</aside>**"
      ],
      "metadata": {
        "id": "AVcv9DpnV7lk"
      }
    },
    {
      "cell_type": "code",
      "source": [
        "def rotateString(s, goal):\n",
        "    if len(s) != len(goal):\n",
        "        return False\n",
        "    \n",
        "    s_concat = s + s\n",
        "    return goal in s_concat\n",
        "\n",
        "s = \"abcde\"\n",
        "goal = \"cdeab\"\n",
        "print(rotateString(s, goal))  \n"
      ],
      "metadata": {
        "colab": {
          "base_uri": "https://localhost:8080/"
        },
        "id": "D8ZiPCccV2r5",
        "outputId": "d9e9336f-cd5e-444b-995a-986b95656166"
      },
      "execution_count": 12,
      "outputs": [
        {
          "output_type": "stream",
          "name": "stdout",
          "text": [
            "True\n"
          ]
        }
      ]
    },
    {
      "cell_type": "markdown",
      "source": [
        "**<aside>\n",
        "💡 **Question 7**\n",
        "\n",
        "Given two strings s and t, return true *if they are equal when both are typed into empty text editors*. '#' means a backspace character.\n",
        "\n",
        "Note that after backspacing an empty text, the text will continue empty.\n",
        "\n",
        "**Example 1:**\n",
        "\n",
        "**Input:** s = \"ab#c\", t = \"ad#c\"\n",
        "\n",
        "**Output:** true\n",
        "\n",
        "**Explanation:**\n",
        "\n",
        "Both s and t become \"ac\".\n",
        "\n",
        "</aside>**"
      ],
      "metadata": {
        "id": "S8ZBqDQLWGEm"
      }
    },
    {
      "cell_type": "code",
      "source": [
        "def backspaceCompare(s, t):\n",
        "    def process_string(string):\n",
        "        stack = []\n",
        "        for char in string:\n",
        "            if char != '#':\n",
        "                stack.append(char)\n",
        "            elif stack:\n",
        "                stack.pop()\n",
        "        return ''.join(stack)\n",
        "    \n",
        "    processed_s = process_string(s)\n",
        "    processed_t = process_string(t)\n",
        "    \n",
        "    return processed_s == processed_t\n",
        "\n",
        "\n",
        "s = \"ab#c\"\n",
        "t = \"ad#c\"\n",
        "print(backspaceCompare(s, t))  "
      ],
      "metadata": {
        "colab": {
          "base_uri": "https://localhost:8080/"
        },
        "id": "MTGCxb7SWBgh",
        "outputId": "9845d82a-ff50-4fe9-b968-bbbc8dbcd492"
      },
      "execution_count": 14,
      "outputs": [
        {
          "output_type": "stream",
          "name": "stdout",
          "text": [
            "True\n"
          ]
        }
      ]
    },
    {
      "cell_type": "markdown",
      "source": [
        "**<aside>\n",
        "💡 **Question 8**\n",
        "\n",
        "You are given an array coordinates, coordinates[i] = [x, y], where [x, y] represents the coordinate of a point. Check if these points make a straight line in the XY plane.\n",
        "\n",
        "</aside>**"
      ],
      "metadata": {
        "id": "S7IX__ahWj9N"
      }
    },
    {
      "cell_type": "code",
      "source": [
        "def checkStraightLine(coordinates):\n",
        "    if len(coordinates) <= 2:\n",
        "        return True\n",
        "    \n",
        "    x1, y1 = coordinates[0]\n",
        "    x2, y2 = coordinates[1]\n",
        "    base_slope = (y2 - y1) / (x2 - x1)\n",
        "    \n",
        "    for i in range(2, len(coordinates)):\n",
        "        x, y = coordinates[i]\n",
        "        current_slope = (y - y1) / (x - x1)\n",
        "        if current_slope != base_slope:\n",
        "            return False\n",
        "    \n",
        "    return True\n",
        "\n",
        "\n",
        "coordinates = [[1,2],[2,3],[3,4],[4,5],[5,6],[6,7]]\n",
        "print(checkStraightLine(coordinates)) "
      ],
      "metadata": {
        "colab": {
          "base_uri": "https://localhost:8080/"
        },
        "id": "oSPfQgIMWNIz",
        "outputId": "a95dcd95-d56c-4218-9872-2ed824f5a3b4"
      },
      "execution_count": 16,
      "outputs": [
        {
          "output_type": "stream",
          "name": "stdout",
          "text": [
            "True\n"
          ]
        }
      ]
    },
    {
      "cell_type": "code",
      "source": [],
      "metadata": {
        "id": "ivRm2CG-WuMa"
      },
      "execution_count": null,
      "outputs": []
    }
  ]
}