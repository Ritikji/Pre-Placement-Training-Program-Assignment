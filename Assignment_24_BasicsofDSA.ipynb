{
  "nbformat": 4,
  "nbformat_minor": 0,
  "metadata": {
    "colab": {
      "provenance": []
    },
    "kernelspec": {
      "name": "python3",
      "display_name": "Python 3"
    },
    "language_info": {
      "name": "python"
    }
  },
  "cells": [
    {
      "cell_type": "code",
      "execution_count": null,
      "metadata": {
        "id": "NP1zZ9m32IBp"
      },
      "outputs": [],
      "source": []
    },
    {
      "cell_type": "markdown",
      "source": [
        "#Q1\n",
        "💡 **Roman to Integer**\n",
        "\n",
        "Roman numerals are represented by seven different symbols: `I`, `V`, `X`, `L`, `C`, `D` and `M`.\n",
        "\n",
        "```\n",
        "SymbolValue\n",
        "I             1\n",
        "V             5\n",
        "X             10\n",
        "L             50\n",
        "C             100\n",
        "D             500\n",
        "M             1000\n",
        "```\n",
        "\n",
        "For example, `2` is written as `II` in Roman numeral, just two ones added together. `12` is written as `XII`, which is simply `X + II`. The number `27` is written as `XXVII`, which is `XX + V + II`.\n",
        "\n",
        "Roman numerals are usually written largest to smallest from left to right. However, the numeral for four is not `IIII`. Instead, the number four is written as `IV`. Because the one is before the five we subtract it making four. The same principle applies to the number nine, which is written as `IX`. There are six instances where subtraction is used:\n",
        "\n",
        "- `I` can be placed before `V` (5) and `X` (10) to make 4 and 9.\n",
        "- `X` can be placed before `L` (50) and `C` (100) to make 40 and 90.\n",
        "- `C` can be placed before `D` (500) and `M` (1000) to make 400 and 900.\n",
        "\n",
        "Given a roman numeral, convert it to an integer.\n",
        "\n",
        "**Example 1:**\n",
        "\n",
        "Input: s = \"III\"\n",
        "Output: 3\n",
        "Explanation: III = 3."
      ],
      "metadata": {
        "id": "wt-0QTpy2Rr4"
      }
    },
    {
      "cell_type": "code",
      "source": [
        "def romanToInt(s):\n",
        "    roman_values = {\n",
        "        'I': 1,\n",
        "        'V': 5,\n",
        "        'X': 10,\n",
        "        'L': 50,\n",
        "        'C': 100,\n",
        "        'D': 500,\n",
        "        'M': 1000\n",
        "    }\n",
        "\n",
        "    total = 0\n",
        "    i = 0\n",
        "\n",
        "    while i < len(s):\n",
        "        if i + 1 < len(s) and roman_values[s[i]] < roman_values[s[i+1]]:\n",
        "            total += roman_values[s[i+1]] - roman_values[s[i]]\n",
        "            i += 2\n",
        "        else:\n",
        "            total += roman_values[s[i]]\n",
        "            i += 1\n",
        "\n",
        "    return total\n",
        "\n",
        "# Example usage:\n",
        "roman_numeral = \"III\"\n",
        "result = romanToInt(roman_numeral)\n",
        "print(result)\n"
      ],
      "metadata": {
        "colab": {
          "base_uri": "https://localhost:8080/"
        },
        "id": "1fj4yOVL2Yux",
        "outputId": "ea04c521-fa91-47f8-d453-5e644d91742f"
      },
      "execution_count": 1,
      "outputs": [
        {
          "output_type": "stream",
          "name": "stdout",
          "text": [
            "3\n"
          ]
        }
      ]
    },
    {
      "cell_type": "markdown",
      "source": [
        "#example2\n",
        "Input: s = \"LVIII\"\n",
        "Output: 58\n",
        "Explanation: L = 50, V= 5, III = 3."
      ],
      "metadata": {
        "id": "8-GeVU-H2giK"
      }
    },
    {
      "cell_type": "code",
      "source": [
        "def romanToInt(s):\n",
        "    roman_values = {\n",
        "        'I': 1,\n",
        "        'V': 5,\n",
        "        'X': 10,\n",
        "        'L': 50,\n",
        "        'C': 100,\n",
        "        'D': 500,\n",
        "        'M': 1000\n",
        "    }\n",
        "\n",
        "    total = 0\n",
        "    i = 0\n",
        "\n",
        "    while i < len(s):\n",
        "        if i + 1 < len(s) and roman_values[s[i]] < roman_values[s[i+1]]:\n",
        "            total += roman_values[s[i+1]] - roman_values[s[i]]\n",
        "            i += 2\n",
        "        else:\n",
        "            total += roman_values[s[i]]\n",
        "            i += 1\n",
        "\n",
        "    return total\n",
        "\n",
        "# Example usage:\n",
        "roman_numeral = \"LVIII\"\n",
        "result = romanToInt(roman_numeral)\n",
        "print(result)\n"
      ],
      "metadata": {
        "colab": {
          "base_uri": "https://localhost:8080/"
        },
        "id": "G64KVYkU2apA",
        "outputId": "0c6af264-2376-49ae-b736-1c488801ddda"
      },
      "execution_count": 2,
      "outputs": [
        {
          "output_type": "stream",
          "name": "stdout",
          "text": [
            "58\n"
          ]
        }
      ]
    },
    {
      "cell_type": "code",
      "source": [],
      "metadata": {
        "id": "Cux27fnN2nkc"
      },
      "execution_count": null,
      "outputs": []
    },
    {
      "cell_type": "markdown",
      "source": [
        "#Q2\n",
        "💡 2. **Longest Substring Without Repeating Characters**\n",
        "\n",
        "Given a string `s`, find the length of the **longest substring** without repeating characters.\n",
        "\n",
        "Input: s = \"abcabcbb\"\n",
        "Output: 3\n",
        "Explanation: The answer is \"abc\", with the length of 3."
      ],
      "metadata": {
        "id": "PyYJazIu6fTz"
      }
    },
    {
      "cell_type": "code",
      "source": [
        "def lengthOfLongestSubstring(s):\n",
        "    char_set = set()\n",
        "    max_length = 0\n",
        "    left = 0\n",
        "\n",
        "    for right in range(len(s)):\n",
        "        while s[right] in char_set:\n",
        "            char_set.remove(s[left])\n",
        "            left += 1\n",
        "\n",
        "        char_set.add(s[right])\n",
        "        max_length = max(max_length, right - left + 1)\n",
        "\n",
        "    return max_length\n",
        "\n",
        "# Example usage:\n",
        "string = \"abcabcbb\"\n",
        "result = lengthOfLongestSubstring(string)\n",
        "print(result)\n"
      ],
      "metadata": {
        "colab": {
          "base_uri": "https://localhost:8080/"
        },
        "id": "AAzYUYL86iib",
        "outputId": "2fa52ff3-385e-46d3-ef63-09a245cf6254"
      },
      "execution_count": 3,
      "outputs": [
        {
          "output_type": "stream",
          "name": "stdout",
          "text": [
            "3\n"
          ]
        }
      ]
    },
    {
      "cell_type": "markdown",
      "source": [
        "#Example2\n",
        "Input: s = \"bbbbb\"\n",
        "Output: 1\n",
        "Explanation: The answer is \"b\", with the length of 1."
      ],
      "metadata": {
        "id": "ScblVWBT6oLt"
      }
    },
    {
      "cell_type": "code",
      "source": [
        "def lengthOfLongestSubstring(s):\n",
        "    char_set = set()\n",
        "    max_length = 0\n",
        "    left = 0\n",
        "\n",
        "    for right in range(len(s)):\n",
        "        while s[right] in char_set:\n",
        "            char_set.remove(s[left])\n",
        "            left += 1\n",
        "\n",
        "        char_set.add(s[right])\n",
        "        max_length = max(max_length, right - left + 1)\n",
        "\n",
        "    return max_length\n",
        "\n",
        "# Example usage:\n",
        "string = \"bbbbb\"\n",
        "result = lengthOfLongestSubstring(string)\n",
        "print(result)\n"
      ],
      "metadata": {
        "colab": {
          "base_uri": "https://localhost:8080/"
        },
        "id": "_0SqAhQM6mNr",
        "outputId": "97aa300c-5360-43c7-a3cb-65e8713962df"
      },
      "execution_count": 4,
      "outputs": [
        {
          "output_type": "stream",
          "name": "stdout",
          "text": [
            "1\n"
          ]
        }
      ]
    },
    {
      "cell_type": "markdown",
      "source": [
        "#example3\n",
        "Input: s = \"pwwkew\"\n",
        "Output: 3\n",
        "Explanation: The answer is \"wke\", with the length of 3.\n",
        "Notice that the answer must be a substring, \"pwke\" is a subsequence and not a substring."
      ],
      "metadata": {
        "id": "7r5JA50i6zQM"
      }
    },
    {
      "cell_type": "code",
      "source": [
        "def lengthOfLongestSubstring(s):\n",
        "    char_set = set()\n",
        "    max_length = 0\n",
        "    left = 0\n",
        "\n",
        "    for right in range(len(s)):\n",
        "        while s[right] in char_set:\n",
        "            char_set.remove(s[left])\n",
        "            left += 1\n",
        "\n",
        "        char_set.add(s[right])\n",
        "        max_length = max(max_length, right - left + 1)\n",
        "\n",
        "    return max_length\n",
        "\n",
        "# Example usage:\n",
        "string = \"pwwkew\"\n",
        "result = lengthOfLongestSubstring(string)\n",
        "print(result)\n"
      ],
      "metadata": {
        "colab": {
          "base_uri": "https://localhost:8080/"
        },
        "id": "bG_QeFfh6v1T",
        "outputId": "dd5d5df7-a86b-4b51-e209-16b1f2300e6c"
      },
      "execution_count": 5,
      "outputs": [
        {
          "output_type": "stream",
          "name": "stdout",
          "text": [
            "3\n"
          ]
        }
      ]
    },
    {
      "cell_type": "code",
      "source": [],
      "metadata": {
        "id": "WmVm-O4j69Ls"
      },
      "execution_count": null,
      "outputs": []
    },
    {
      "cell_type": "markdown",
      "source": [
        "#Q3\n",
        "\n",
        "💡 **Majority Element**\n",
        "\n",
        "Given an array `nums` of size `n`, return *the majority element*.\n",
        "\n",
        "The majority element is the element that appears more than `⌊n / 2⌋` times. You may assume that the majority element always exists in the array.\n",
        "example1\n",
        "Input: nums = [3,2,3]\n",
        "Output: 3\n"
      ],
      "metadata": {
        "id": "ChA2ieb-7Ky6"
      }
    },
    {
      "cell_type": "code",
      "source": [
        "def majorityElement(nums):\n",
        "    count = 0\n",
        "    candidate = None\n",
        "\n",
        "    for num in nums:\n",
        "        if count == 0:\n",
        "            candidate = num\n",
        "        count += 1 if num == candidate else -1\n",
        "\n",
        "    return candidate\n",
        "\n",
        "# Example usage:\n",
        "nums = [3, 2, 3]\n",
        "result = majorityElement(nums)\n",
        "print(result)\n"
      ],
      "metadata": {
        "colab": {
          "base_uri": "https://localhost:8080/"
        },
        "id": "Kab-mGoK7N2T",
        "outputId": "6c3f9f2d-9c76-4993-b2b4-911b0931be02"
      },
      "execution_count": 6,
      "outputs": [
        {
          "output_type": "stream",
          "name": "stdout",
          "text": [
            "3\n"
          ]
        }
      ]
    },
    {
      "cell_type": "markdown",
      "source": [
        "#example2\n",
        "Input: nums = [2,2,1,1,1,2,2]\n",
        "Output: 2"
      ],
      "metadata": {
        "id": "IpTbuvih7ScS"
      }
    },
    {
      "cell_type": "code",
      "source": [
        "def majorityElement(nums):\n",
        "    count = 0\n",
        "    candidate = None\n",
        "\n",
        "    for num in nums:\n",
        "        if count == 0:\n",
        "            candidate = num\n",
        "        count += 1 if num == candidate else -1\n",
        "\n",
        "    return candidate\n",
        "\n",
        "# Example usage:\n",
        "nums = [2,2,1,1,1,2,2]\n",
        "result = majorityElement(nums)\n",
        "print(result)\n"
      ],
      "metadata": {
        "colab": {
          "base_uri": "https://localhost:8080/"
        },
        "id": "vi2dY9zJ7QTi",
        "outputId": "a10b74e5-f134-4d4d-c6f4-06111ca4b8a9"
      },
      "execution_count": 7,
      "outputs": [
        {
          "output_type": "stream",
          "name": "stdout",
          "text": [
            "2\n"
          ]
        }
      ]
    },
    {
      "cell_type": "code",
      "source": [],
      "metadata": {
        "id": "NGtiGj3N7aKj"
      },
      "execution_count": null,
      "outputs": []
    },
    {
      "cell_type": "markdown",
      "source": [
        "#Q4\n",
        "<aside>\n",
        "💡  **Group Anagram**\n",
        "\n",
        "Given an array of strings `strs`, group **the anagrams** together. You can return the answer in **any order**.\n",
        "\n",
        "An **Anagram** is a word or phrase formed by rearranging the letters of a different word or phrase, typically using all the original letters exactly once.\n",
        "\n",
        "**Example 1:**\n",
        "\n",
        "Input: strs = [\"eat\",\"tea\",\"tan\",\"ate\",\"nat\",\"bat\"]\n",
        "Output: [[\"bat\"],[\"nat\",\"tan\"],[\"ate\",\"eat\",\"tea\"]]"
      ],
      "metadata": {
        "id": "-M4aPwEx7gwj"
      }
    },
    {
      "cell_type": "code",
      "source": [
        "from collections import defaultdict\n",
        "\n",
        "def groupAnagrams(strs):\n",
        "    anagram_groups = defaultdict(list)\n",
        "\n",
        "    for word in strs:\n",
        "        sorted_word = ''.join(sorted(word))\n",
        "        anagram_groups[sorted_word].append(word)\n",
        "\n",
        "    return list(anagram_groups.values())\n",
        "\n",
        "# Example usage:\n",
        "strs = [\"eat\", \"tea\", \"tan\", \"ate\", \"nat\", \"bat\"]\n",
        "result = groupAnagrams(strs)\n",
        "print(result)\n"
      ],
      "metadata": {
        "colab": {
          "base_uri": "https://localhost:8080/"
        },
        "id": "21x10rkX7jib",
        "outputId": "e4759218-21e6-49f4-92f6-d0a2dc118088"
      },
      "execution_count": 8,
      "outputs": [
        {
          "output_type": "stream",
          "name": "stdout",
          "text": [
            "[['eat', 'tea', 'ate'], ['tan', 'nat'], ['bat']]\n"
          ]
        }
      ]
    },
    {
      "cell_type": "markdown",
      "source": [
        "#example2\n",
        "Input: strs = [\"\"]\n",
        "Output: [[\"\"]]"
      ],
      "metadata": {
        "id": "BE7ID64X7ocr"
      }
    },
    {
      "cell_type": "code",
      "source": [
        "from collections import defaultdict\n",
        "\n",
        "def groupAnagrams(strs):\n",
        "    anagram_groups = defaultdict(list)\n",
        "\n",
        "    for word in strs:\n",
        "        sorted_word = ''.join(sorted(word))\n",
        "        anagram_groups[sorted_word].append(word)\n",
        "\n",
        "    return list(anagram_groups.values())\n",
        "\n",
        "# Example usage:\n",
        "strs = [\"\"]\n",
        "result = groupAnagrams(strs)\n",
        "print(result)\n"
      ],
      "metadata": {
        "colab": {
          "base_uri": "https://localhost:8080/"
        },
        "id": "x4u15fIw7mj7",
        "outputId": "e871e9dc-3a7d-417c-e663-02030d3d9a69"
      },
      "execution_count": 9,
      "outputs": [
        {
          "output_type": "stream",
          "name": "stdout",
          "text": [
            "[['']]\n"
          ]
        }
      ]
    },
    {
      "cell_type": "markdown",
      "source": [
        "#example3\n",
        "Input: strs = [\"a\"]\n",
        "Output: [[\"a\"]]"
      ],
      "metadata": {
        "id": "03r_1fQD7yrt"
      }
    },
    {
      "cell_type": "code",
      "source": [
        "from collections import defaultdict\n",
        "\n",
        "def groupAnagrams(strs):\n",
        "    anagram_groups = defaultdict(list)\n",
        "\n",
        "    for word in strs:\n",
        "        sorted_word = ''.join(sorted(word))\n",
        "        anagram_groups[sorted_word].append(word)\n",
        "\n",
        "    return list(anagram_groups.values())\n",
        "\n",
        "# Example usage:\n",
        "strs = [\"a\"]\n",
        "result = groupAnagrams(strs)\n",
        "print(result)\n"
      ],
      "metadata": {
        "colab": {
          "base_uri": "https://localhost:8080/"
        },
        "id": "p7rxWXKl7w5D",
        "outputId": "4a62dbeb-239d-42b5-8c4a-252fc20861a6"
      },
      "execution_count": 10,
      "outputs": [
        {
          "output_type": "stream",
          "name": "stdout",
          "text": [
            "[['a']]\n"
          ]
        }
      ]
    },
    {
      "cell_type": "markdown",
      "source": [
        "#Q5\n",
        "**Ugly Numbers**\n",
        "\n",
        "An **ugly number** is a positive integer whose prime factors are limited to `2`, `3`, and `5`.\n",
        "\n",
        "Given an integer `n`, return *the* `nth` ***ugly number***.\n",
        "\n",
        "**Example 1:**\n",
        "\n",
        "Input: n = 10\n",
        "Output: 12\n",
        "Explanation: [1, 2, 3, 4, 5, 6, 8, 9, 10, 12] is the sequence of the first 10 ugly numbers."
      ],
      "metadata": {
        "id": "Dvd5InAt7_5S"
      }
    },
    {
      "cell_type": "code",
      "source": [
        "def nthUglyNumber(n):\n",
        "    ugly_nums = [1]  # First ugly number\n",
        "    p2 = p3 = p5 = 0  # Pointers for multiplying by 2, 3, 5\n",
        "\n",
        "    while len(ugly_nums) < n:\n",
        "        next_ugly_num = min(ugly_nums[p2] * 2, ugly_nums[p3] * 3, ugly_nums[p5] * 5)\n",
        "\n",
        "        # Move pointers if the next ugly number was generated from that pointer\n",
        "        if next_ugly_num == ugly_nums[p2] * 2:\n",
        "            p2 += 1\n",
        "        if next_ugly_num == ugly_nums[p3] * 3:\n",
        "            p3 += 1\n",
        "        if next_ugly_num == ugly_nums[p5] * 5:\n",
        "            p5 += 1\n",
        "\n",
        "        ugly_nums.append(next_ugly_num)\n",
        "\n",
        "    return ugly_nums[-1]\n",
        "\n",
        "# Example usage:\n",
        "n = 10\n",
        "result = nthUglyNumber(n)\n",
        "print(result)\n"
      ],
      "metadata": {
        "colab": {
          "base_uri": "https://localhost:8080/"
        },
        "id": "QArfXhRi754K",
        "outputId": "695069da-944d-41e3-8885-b4b3a75eca98"
      },
      "execution_count": 11,
      "outputs": [
        {
          "output_type": "stream",
          "name": "stdout",
          "text": [
            "12\n"
          ]
        }
      ]
    },
    {
      "cell_type": "markdown",
      "source": [
        "#example2\n",
        "Input: n = 1\n",
        "Output: 1\n",
        "Explanation: 1 has no prime factors, therefore all of its prime factors are limited to 2, 3, and 5."
      ],
      "metadata": {
        "id": "doAgGHTf8lBa"
      }
    },
    {
      "cell_type": "code",
      "source": [
        "def nthUglyNumber(n):\n",
        "    ugly_nums = [1]  # First ugly number\n",
        "    p2 = p3 = p5 = 0  # Pointers for multiplying by 2, 3, 5\n",
        "\n",
        "    while len(ugly_nums) < n:\n",
        "        next_ugly_num = min(ugly_nums[p2] * 2, ugly_nums[p3] * 3, ugly_nums[p5] * 5)\n",
        "\n",
        "        # Move pointers if the next ugly number was generated from that pointer\n",
        "        if next_ugly_num == ugly_nums[p2] * 2:\n",
        "            p2 += 1\n",
        "        if next_ugly_num == ugly_nums[p3] * 3:\n",
        "            p3 += 1\n",
        "        if next_ugly_num == ugly_nums[p5] * 5:\n",
        "            p5 += 1\n",
        "\n",
        "        ugly_nums.append(next_ugly_num)\n",
        "\n",
        "    return ugly_nums[-1]\n",
        "\n",
        "# Example usage:\n",
        "n = 1\n",
        "result = nthUglyNumber(n)\n",
        "print(result)\n"
      ],
      "metadata": {
        "colab": {
          "base_uri": "https://localhost:8080/"
        },
        "id": "WJe33gwR8iFb",
        "outputId": "51444a15-d27e-4148-f5cb-0cf23591d949"
      },
      "execution_count": 12,
      "outputs": [
        {
          "output_type": "stream",
          "name": "stdout",
          "text": [
            "1\n"
          ]
        }
      ]
    },
    {
      "cell_type": "code",
      "source": [],
      "metadata": {
        "id": "5ooKX_jx8pwC"
      },
      "execution_count": null,
      "outputs": []
    },
    {
      "cell_type": "markdown",
      "source": [
        "#Q6\n",
        "**Top K Frequent Words**\n",
        "\n",
        "Given an array of strings `words` and an integer `k`, return *the* `k` *most frequent strings*.\n",
        "\n",
        "Return the answer **sorted** by **the frequency** from highest to lowest. Sort the words with the same frequency by their **lexicographical order**.\n",
        "\n",
        "**Example 1:**\n",
        "\n",
        "Input: words = [\"i\",\"love\",\"leetcode\",\"i\",\"love\",\"coding\"], k = 2\n",
        "Output: [\"i\",\"love\"]\n",
        "Explanation: \"i\" and \"love\" are the two most frequent words.\n",
        "Note that \"i\" comes before \"love\" due to a lower alphabetical order."
      ],
      "metadata": {
        "id": "fx9k-Y4w8w8R"
      }
    },
    {
      "cell_type": "code",
      "source": [
        "from collections import Counter\n",
        "\n",
        "def topKFrequent(words, k):\n",
        "    word_count = Counter(words)\n",
        "\n",
        "    # Sort the words based on frequency (in descending order) and lexicographical order (in ascending order)\n",
        "    sorted_words = sorted(word_count.keys(), key=lambda x: (-word_count[x], x))\n",
        "\n",
        "    return sorted_words[:k]\n",
        "\n",
        "# Example usage:\n",
        "words = [\"i\", \"love\", \"leetcode\", \"i\", \"love\", \"coding\"]\n",
        "k = 2\n",
        "result = topKFrequent(words, k)\n",
        "print(result)\n"
      ],
      "metadata": {
        "colab": {
          "base_uri": "https://localhost:8080/"
        },
        "id": "2rj5_YGQ8yP4",
        "outputId": "0a18831f-c4a9-485c-ba86-b8ca9dd787a2"
      },
      "execution_count": 13,
      "outputs": [
        {
          "output_type": "stream",
          "name": "stdout",
          "text": [
            "['i', 'love']\n"
          ]
        }
      ]
    },
    {
      "cell_type": "markdown",
      "source": [
        "#example2\n",
        "Input: words = [\"the\",\"day\",\"is\",\"sunny\",\"the\",\"the\",\"the\",\"sunny\",\"is\",\"is\"], k = 4\n",
        "Output: [\"the\",\"is\",\"sunny\",\"day\"]\n",
        "Explanation: \"the\", \"is\", \"sunny\" and \"day\" are the four most frequent words, with the number of occurrence being 4, 3, 2 and 1 respectively."
      ],
      "metadata": {
        "id": "tbeYOATi-vM_"
      }
    },
    {
      "cell_type": "code",
      "source": [
        "from collections import Counter\n",
        "\n",
        "def topKFrequent(words, k):\n",
        "    word_count = Counter(words)\n",
        "\n",
        "    # Sort the words based on frequency (in descending order) and lexicographical order (in ascending order)\n",
        "    sorted_words = sorted(word_count.keys(), key=lambda x: (-word_count[x], x))\n",
        "\n",
        "    return sorted_words[:k]\n",
        "\n",
        "# Example usage:\n",
        "words = [\"the\",\"day\",\"is\",\"sunny\",\"the\",\"the\",\"the\",\"sunny\",\"is\",\"is\"]\n",
        "k = 4\n",
        "result = topKFrequent(words, k)\n",
        "print(result)\n"
      ],
      "metadata": {
        "colab": {
          "base_uri": "https://localhost:8080/"
        },
        "id": "3qOQfUIB-tIH",
        "outputId": "be759e2b-556a-4161-f769-b5067ff84bed"
      },
      "execution_count": 15,
      "outputs": [
        {
          "output_type": "stream",
          "name": "stdout",
          "text": [
            "['the', 'is', 'sunny', 'day']\n"
          ]
        }
      ]
    },
    {
      "cell_type": "code",
      "source": [],
      "metadata": {
        "id": "-L88M4tC-3hg"
      },
      "execution_count": null,
      "outputs": []
    },
    {
      "cell_type": "markdown",
      "source": [
        "#Q7\n",
        "<aside>\n",
        "💡 **Sliding Window Maximum**\n",
        "\n",
        "You are given an array of integers `nums`, there is a sliding window of size `k` which is moving from the very left of the array to the very right. You can only see the `k` numbers in the window. Each time the sliding window moves right by one position.\n",
        "\n",
        "Return *the max sliding window*.\n",
        "\n",
        "**Example 1:**\n",
        "\n",
        "Input: nums = [1,3,-1,-3,5,3,6,7], k = 3\n",
        "Output: [3,3,5,5,6,7]\n",
        "Explanation:\n",
        "Window position                Max\n",
        "---------------               -----\n",
        "[1  3  -1] -3  5  3  6 7         3\n",
        " 1 [3  -1  -3] 5  3  6 7         3\n",
        " 1  3 [-1  -3  5] 3  6 7         5\n",
        " 1  3  -1 [-3  5  3] 6 7         5\n",
        " 1  3  -1  -3 [5  3  6]7         6\n",
        " 1  3  -1  -3  5 [3  6  7]       7"
      ],
      "metadata": {
        "id": "Bab7brZd_DW_"
      }
    },
    {
      "cell_type": "code",
      "source": [
        "from collections import deque\n",
        "\n",
        "def maxSlidingWindow(nums, k):\n",
        "    result = []\n",
        "    window = deque()  # Deque to store indices of elements\n",
        "\n",
        "    for i, num in enumerate(nums):\n",
        "        # Remove elements outside the current window from the front of the deque\n",
        "        while window and window[0] <= i - k:\n",
        "            window.popleft()\n",
        "\n",
        "        # Remove smaller elements from the back of the deque\n",
        "        while window and nums[window[-1]] < num:\n",
        "            window.pop()\n",
        "\n",
        "        window.append(i)  # Add the current index to the deque\n",
        "\n",
        "        if i >= k - 1:\n",
        "            result.append(nums[window[0]])  # Append the maximum value in the current window to the result\n",
        "\n",
        "    return result\n",
        "\n",
        "# Example usage:\n",
        "nums = [1, 3, -1, -3, 5, 3, 6, 7]\n",
        "k = 3\n",
        "result = maxSlidingWindow(nums, k)\n",
        "print(result)\n"
      ],
      "metadata": {
        "colab": {
          "base_uri": "https://localhost:8080/"
        },
        "id": "PiZrrTNI_Epv",
        "outputId": "51812b60-329e-4d72-82ac-347948cdf36f"
      },
      "execution_count": 16,
      "outputs": [
        {
          "output_type": "stream",
          "name": "stdout",
          "text": [
            "[3, 3, 5, 5, 6, 7]\n"
          ]
        }
      ]
    },
    {
      "cell_type": "markdown",
      "source": [
        "#example2\n",
        "Input: nums = [1], k = 1\n",
        "Output: [1]"
      ],
      "metadata": {
        "id": "_zIiYxQt_KrY"
      }
    },
    {
      "cell_type": "code",
      "source": [
        "from collections import deque\n",
        "\n",
        "def maxSlidingWindow(nums, k):\n",
        "    result = []\n",
        "    window = deque()  # Deque to store indices of elements\n",
        "\n",
        "    for i, num in enumerate(nums):\n",
        "        # Remove elements outside the current window from the front of the deque\n",
        "        while window and window[0] <= i - k:\n",
        "            window.popleft()\n",
        "\n",
        "        # Remove smaller elements from the back of the deque\n",
        "        while window and nums[window[-1]] < num:\n",
        "            window.pop()\n",
        "\n",
        "        window.append(i)  # Add the current index to the deque\n",
        "\n",
        "        if i >= k - 1:\n",
        "            result.append(nums[window[0]])  # Append the maximum value in the current window to the result\n",
        "\n",
        "    return result\n",
        "\n",
        "# Example usage:\n",
        "nums =  [1]\n",
        "k = 1\n",
        "result = maxSlidingWindow(nums, k)\n",
        "print(result)\n"
      ],
      "metadata": {
        "colab": {
          "base_uri": "https://localhost:8080/"
        },
        "id": "_6_3-jsP_Ioo",
        "outputId": "b78f1209-9aa1-476a-b47c-7c96c9945521"
      },
      "execution_count": 17,
      "outputs": [
        {
          "output_type": "stream",
          "name": "stdout",
          "text": [
            "[1]\n"
          ]
        }
      ]
    },
    {
      "cell_type": "code",
      "source": [],
      "metadata": {
        "id": "KMa64D28_VTX"
      },
      "execution_count": null,
      "outputs": []
    },
    {
      "cell_type": "markdown",
      "source": [
        "#Q8\n",
        "<aside>\n",
        "💡 **Find K Closest Elements**\n",
        "\n",
        "Given a **sorted** integer array `arr`, two integers `k` and `x`, return the `k` closest integers to `x` in the array. The result should also be sorted in ascending order.\n",
        "\n",
        "An integer `a` is closer to `x` than an integer `b` if:\n",
        "\n",
        "- `|a - x| < |b - x|`, or\n",
        "- `|a - x| == |b - x|` and `a < b`\n",
        "\n",
        "**Example 1:**\n",
        "\n",
        "Input: arr = [1,2,3,4,5], k = 4, x = 3\n",
        "Output: [1,2,3,4]"
      ],
      "metadata": {
        "id": "W0xggMTP_cfI"
      }
    },
    {
      "cell_type": "code",
      "source": [
        "def findClosestElements(arr, k, x):\n",
        "    left = 0\n",
        "    right = len(arr) - k\n",
        "\n",
        "    while left < right:\n",
        "        mid = (left + right) // 2\n",
        "\n",
        "        # Determine which side of the mid-point to move towards based on the differences\n",
        "        if x - arr[mid] > arr[mid + k] - x:\n",
        "            left = mid + 1\n",
        "        else:\n",
        "            right = mid\n",
        "\n",
        "    return arr[left:left + k]\n",
        "\n",
        "# Example usage:\n",
        "arr = [1, 2, 3, 4, 5]\n",
        "k = 4\n",
        "x = 3\n",
        "result = findClosestElements(arr, k, x)\n",
        "print(result)\n"
      ],
      "metadata": {
        "colab": {
          "base_uri": "https://localhost:8080/"
        },
        "id": "X4PVGDOQ_eMo",
        "outputId": "05daf274-ac3e-46bf-9e47-a580a92f83b8"
      },
      "execution_count": 18,
      "outputs": [
        {
          "output_type": "stream",
          "name": "stdout",
          "text": [
            "[1, 2, 3, 4]\n"
          ]
        }
      ]
    },
    {
      "cell_type": "markdown",
      "source": [
        "#example2\n",
        "Input: arr = [1,2,3,4,5], k = 4, x = -1\n",
        "Output: [1,2,3,4]"
      ],
      "metadata": {
        "id": "ym6jLbXa_h1J"
      }
    },
    {
      "cell_type": "code",
      "source": [
        "def findClosestElements(arr, k, x):\n",
        "    left = 0\n",
        "    right = len(arr) - k\n",
        "\n",
        "    while left < right:\n",
        "        mid = (left + right) // 2\n",
        "\n",
        "        # Determine which side of the mid-point to move towards based on the differences\n",
        "        if x - arr[mid] > arr[mid + k] - x:\n",
        "            left = mid + 1\n",
        "        else:\n",
        "            right = mid\n",
        "\n",
        "    return arr[left:left + k]\n",
        "\n",
        "# Example usage:\n",
        "arr = [1,2,3,4,5]\n",
        "k = 4\n",
        "x = -1\n",
        "result = findClosestElements(arr, k, x)\n",
        "print(result)\n"
      ],
      "metadata": {
        "colab": {
          "base_uri": "https://localhost:8080/"
        },
        "id": "vz6ohbpn_jWW",
        "outputId": "51c02b0e-912f-4e1b-ee41-a62da9c32190"
      },
      "execution_count": 19,
      "outputs": [
        {
          "output_type": "stream",
          "name": "stdout",
          "text": [
            "[1, 2, 3, 4]\n"
          ]
        }
      ]
    },
    {
      "cell_type": "code",
      "source": [],
      "metadata": {
        "id": "cFCPzJhi_xpX"
      },
      "execution_count": null,
      "outputs": []
    }
  ]
}