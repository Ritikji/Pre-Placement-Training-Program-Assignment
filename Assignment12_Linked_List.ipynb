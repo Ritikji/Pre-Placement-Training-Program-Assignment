{
  "nbformat": 4,
  "nbformat_minor": 0,
  "metadata": {
    "colab": {
      "provenance": []
    },
    "kernelspec": {
      "name": "python3",
      "display_name": "Python 3"
    },
    "language_info": {
      "name": "python"
    }
  },
  "cells": [
    {
      "cell_type": "markdown",
      "source": [
        "Given a singly linked list, delete middle of the linked list. For example, if given linked list is 1->2->3->4->5 then linked list should be modified to 1->2->4->5.If there are even nodes, then there would be two middle nodes, we need to delete the second middle element. For example, if given linked list is 1->2->3->4->5->6 then it should be modified to 1->2->3->5->6.If the input linked list is NULL or has 1 node, then it should return NULL\n",
        "#example\n",
        "Input:\n",
        "LinkedList: 1->2->3->4->5\n",
        "Output:1 2 4 5\n"
      ],
      "metadata": {
        "id": "Gag1MA62Dmb8"
      }
    },
    {
      "cell_type": "code",
      "execution_count": 1,
      "metadata": {
        "colab": {
          "base_uri": "https://localhost:8080/"
        },
        "id": "OIkCz-hkDb97",
        "outputId": "c775fed7-90d6-4e7a-c4be-1e47fb11be41"
      },
      "outputs": [
        {
          "output_type": "stream",
          "name": "stdout",
          "text": [
            "1 2 4 5 "
          ]
        }
      ],
      "source": [
        "class Node:\n",
        "    def __init__(self, data=None):\n",
        "        self.data = data\n",
        "        self.next = None\n",
        "\n",
        "def delete_middle(head):\n",
        "    if head is None or head.next is None:\n",
        "        return None\n",
        "\n",
        "    slow_ptr = head\n",
        "    fast_ptr = head\n",
        "    prev_ptr = None\n",
        "\n",
        "    while fast_ptr is not None and fast_ptr.next is not None:\n",
        "        fast_ptr = fast_ptr.next.next\n",
        "        prev_ptr = slow_ptr\n",
        "        slow_ptr = slow_ptr.next\n",
        "\n",
        "    prev_ptr.next = slow_ptr.next\n",
        "\n",
        "    return head\n",
        "\n",
        "# Test case\n",
        "# LinkedList: 1->2->3->4->5\n",
        "head = Node(1)\n",
        "head.next = Node(2)\n",
        "head.next.next = Node(3)\n",
        "head.next.next.next = Node(4)\n",
        "head.next.next.next.next = Node(5)\n",
        "\n",
        "result = delete_middle(head)\n",
        "while result is not None:\n",
        "    print(result.data, end=\" \")\n",
        "    result = result.next\n"
      ]
    },
    {
      "cell_type": "markdown",
      "source": [
        "#example2\n",
        "Input:\n",
        "LinkedList: 2->4->6->7->5->1\n",
        "Output:2 4 6 5 1"
      ],
      "metadata": {
        "id": "LLJz9D99Dz8R"
      }
    },
    {
      "cell_type": "code",
      "source": [
        "class Node:\n",
        "    def __init__(self, data=None):\n",
        "        self.data = data\n",
        "        self.next = None\n",
        "\n",
        "def delete_middle(head):\n",
        "    if head is None or head.next is None:\n",
        "        return None\n",
        "\n",
        "    slow_ptr = head\n",
        "    fast_ptr = head\n",
        "    prev_ptr = None\n",
        "\n",
        "    while fast_ptr is not None and fast_ptr.next is not None:\n",
        "        fast_ptr = fast_ptr.next.next\n",
        "        prev_ptr = slow_ptr\n",
        "        slow_ptr = slow_ptr.next\n",
        "\n",
        "    prev_ptr.next = slow_ptr.next\n",
        "\n",
        "    return head\n",
        "\n",
        "# Test case\n",
        "# LinkedList: 2->4->6->7->5->1\n",
        "head = Node(2)\n",
        "head.next = Node(4)\n",
        "head.next.next = Node(6)\n",
        "head.next.next.next = Node(7)\n",
        "head.next.next.next.next = Node(5)\n",
        "head.next.next.next.next.next = Node(1)\n",
        "\n",
        "result = delete_middle(head)\n",
        "while result is not None:\n",
        "    print(result.data, end=\" \")\n",
        "    result = result.next\n"
      ],
      "metadata": {
        "colab": {
          "base_uri": "https://localhost:8080/"
        },
        "id": "4NFDauXiD1X1",
        "outputId": "61c5d7c9-0367-44ae-c1d9-acdaf514cb65"
      },
      "execution_count": 2,
      "outputs": [
        {
          "output_type": "stream",
          "name": "stdout",
          "text": [
            "2 4 6 5 1 "
          ]
        }
      ]
    },
    {
      "cell_type": "markdown",
      "source": [
        "#Q2.\n",
        " Given a linked list of N nodes. The task is to check if the linked list has a loop. Linked list can contain self loop.**\n",
        "#example\n",
        "Input:\n",
        "N = 3\n",
        "value[] = {1,3,4}\n",
        "x(position at which tail is connected) = 2\n",
        "Output:True\n",
        "Explanation:In above test case N = 3.\n",
        "The linked list with nodes N = 3 is\n",
        "given. Then value of x=2 is given which\n",
        "means last node is connected with xth\n",
        "node of linked list. Therefore, there\n",
        "exists a loop.**"
      ],
      "metadata": {
        "id": "CR_Nshv8EVZy"
      }
    },
    {
      "cell_type": "code",
      "source": [
        "class Node:\n",
        "    def __init__(self, data=None):\n",
        "        self.data = data\n",
        "        self.next = None\n",
        "\n",
        "def has_loop(head):\n",
        "    if head is None or head.next is None:\n",
        "        return False\n",
        "\n",
        "    slow_ptr = head\n",
        "    fast_ptr = head\n",
        "\n",
        "    while fast_ptr is not None and fast_ptr.next is not None:\n",
        "        slow_ptr = slow_ptr.next\n",
        "        fast_ptr = fast_ptr.next.next\n",
        "\n",
        "        if slow_ptr == fast_ptr:\n",
        "            return True\n",
        "\n",
        "    return False\n",
        "\n",
        "# Test case\n",
        "# LinkedList: 1->3->4\n",
        "head = Node(1)\n",
        "head.next = Node(3)\n",
        "head.next.next = Node(4)\n",
        "# Creating a loop by connecting the tail to the second node (position 2)\n",
        "head.next.next.next = head.next\n",
        "\n",
        "result = has_loop(head)\n",
        "print(result)\n"
      ],
      "metadata": {
        "colab": {
          "base_uri": "https://localhost:8080/"
        },
        "id": "ssE_3zJqEeKj",
        "outputId": "ce949a04-8030-437e-fd3b-9ed55e54af42"
      },
      "execution_count": 3,
      "outputs": [
        {
          "output_type": "stream",
          "name": "stdout",
          "text": [
            "True\n"
          ]
        }
      ]
    },
    {
      "cell_type": "markdown",
      "source": [
        "#example2\n",
        "Input:\n",
        "N = 4\n",
        "value[] = {1,8,3,4}\n",
        "x = 0\n",
        "Output:False\n",
        "Explanation:For N = 4 ,x = 0 means\n",
        "then lastNode->next = NULL, then\n",
        "the Linked list does not contains\n",
        "any loop."
      ],
      "metadata": {
        "id": "YBCtIWuzE9nE"
      }
    },
    {
      "cell_type": "code",
      "source": [
        "class Node:\n",
        "    def __init__(self, data=None):\n",
        "        self.data = data\n",
        "        self.next = None\n",
        "\n",
        "def has_loop(head):\n",
        "    if head is None or head.next is None:\n",
        "        return False\n",
        "\n",
        "    slow_ptr = head\n",
        "    fast_ptr = head\n",
        "\n",
        "    while fast_ptr is not None and fast_ptr.next is not None:\n",
        "        slow_ptr = slow_ptr.next\n",
        "        fast_ptr = fast_ptr.next.next\n",
        "\n",
        "        if slow_ptr == fast_ptr:\n",
        "            return True\n",
        "\n",
        "    return False\n",
        "\n",
        "# Test case\n",
        "# LinkedList: 1->8->3->4\n",
        "head = Node(1)\n",
        "head.next = Node(8)\n",
        "head.next.next = Node(3)\n",
        "head.next.next.next = Node(4)\n",
        "\n",
        "result = has_loop(head)\n",
        "print(result)\n"
      ],
      "metadata": {
        "colab": {
          "base_uri": "https://localhost:8080/"
        },
        "id": "EQOU0E8bFAZG",
        "outputId": "a159e1aa-2abd-4f33-9475-8fb4f9a499a3"
      },
      "execution_count": 4,
      "outputs": [
        {
          "output_type": "stream",
          "name": "stdout",
          "text": [
            "False\n"
          ]
        }
      ]
    },
    {
      "cell_type": "markdown",
      "source": [
        "#Question 3\n",
        "\n",
        "Given a linked list consisting of **L** nodes and given a number **N**. The task is to find the **N**th node from the end of the linked list.\n",
        "\n",
        "</aside>\n",
        "#example1\n",
        "Input:\n",
        "N = 2\n",
        "LinkedList: 1->2->3->4->5->6->7->8->9\n",
        "Output:8\n",
        "Explanation:In the first example, there\n",
        "are 9 nodes in linked list and we need\n",
        "to find 2nd node from end. 2nd node\n",
        "from end is 8.\n"
      ],
      "metadata": {
        "id": "bfAHKaczFXlU"
      }
    },
    {
      "cell_type": "code",
      "source": [
        "class Node:\n",
        "    def __init__(self, data=None):\n",
        "        self.data = data\n",
        "        self.next = None\n",
        "\n",
        "def get_nth_from_end(head, N):\n",
        "    if head is None:\n",
        "        return None\n",
        "\n",
        "    main_ptr = head\n",
        "    ref_ptr = head\n",
        "    count = 0\n",
        "\n",
        "    while count < N:\n",
        "        if ref_ptr is None:\n",
        "            return None\n",
        "        ref_ptr = ref_ptr.next\n",
        "        count += 1\n",
        "\n",
        "    while ref_ptr is not None:\n",
        "        main_ptr = main_ptr.next\n",
        "        ref_ptr = ref_ptr.next\n",
        "\n",
        "    return main_ptr.data\n",
        "\n",
        "# Test case\n",
        "# LinkedList: 1->2->3->4->5->6->7->8->9\n",
        "head = Node(1)\n",
        "head.next = Node(2)\n",
        "head.next.next = Node(3)\n",
        "head.next.next.next = Node(4)\n",
        "head.next.next.next.next = Node(5)\n",
        "head.next.next.next.next.next = Node(6)\n",
        "head.next.next.next.next.next.next = Node(7)\n",
        "head.next.next.next.next.next.next.next = Node(8)\n",
        "head.next.next.next.next.next.next.next.next = Node(9)\n",
        "\n",
        "N = 2\n",
        "\n",
        "result = get_nth_from_end(head, N)\n",
        "print(result)\n"
      ],
      "metadata": {
        "colab": {
          "base_uri": "https://localhost:8080/"
        },
        "id": "Ed6xhlX7FREi",
        "outputId": "a2afe78a-717f-462d-cb5d-0becffd390ef"
      },
      "execution_count": 5,
      "outputs": [
        {
          "output_type": "stream",
          "name": "stdout",
          "text": [
            "8\n"
          ]
        }
      ]
    },
    {
      "cell_type": "markdown",
      "source": [
        "#example2\n",
        "Input:\n",
        "\n",
        "N = 5\n",
        "\n",
        "LinkedList: 10->5->100->5\n",
        "\n",
        "Output:-1\n",
        "\n",
        "Explanation:In the second example, there\n",
        "\n",
        "are 4 nodes in the linked list and we\n",
        "\n",
        "need to find 5th from the end. Since 'n'\n",
        "\n",
        "is more than the number of nodes in the\n",
        "\n",
        "linked list, the output is -1."
      ],
      "metadata": {
        "id": "9fUncfO9Feij"
      }
    },
    {
      "cell_type": "code",
      "source": [
        "class Node:\n",
        "    def __init__(self, data=None):\n",
        "        self.data = data\n",
        "        self.next = None\n",
        "\n",
        "def get_nth_from_end(head, N):\n",
        "    if head is None:\n",
        "        return -1\n",
        "\n",
        "    main_ptr = head\n",
        "    ref_ptr = head\n",
        "    count = 0\n",
        "\n",
        "    # Move ref_ptr N nodes ahead\n",
        "    while count < N:\n",
        "        if ref_ptr is None:\n",
        "            return -1\n",
        "        ref_ptr = ref_ptr.next\n",
        "        count += 1\n",
        "\n",
        "    # Move both pointers until ref_ptr reaches the end\n",
        "    while ref_ptr is not None:\n",
        "        main_ptr = main_ptr.next\n",
        "        ref_ptr = ref_ptr.next\n",
        "\n",
        "    return main_ptr.data if main_ptr is not None else -1\n",
        "\n",
        "# Test case\n",
        "# LinkedList: 10->5->100->5\n",
        "head = Node(10)\n",
        "head.next = Node(5)\n",
        "head.next.next = Node(100)\n",
        "head.next.next.next = Node(5)\n",
        "\n",
        "N = 5\n",
        "\n",
        "result = get_nth_from_end(head, N)\n",
        "print(result)\n"
      ],
      "metadata": {
        "colab": {
          "base_uri": "https://localhost:8080/"
        },
        "id": "3YaekQ6_Fh_Z",
        "outputId": "7a210697-cc16-417d-8bac-0940f847b7b4"
      },
      "execution_count": 6,
      "outputs": [
        {
          "output_type": "stream",
          "name": "stdout",
          "text": [
            "-1\n"
          ]
        }
      ]
    },
    {
      "cell_type": "code",
      "source": [],
      "metadata": {
        "id": "2fRupvbNFwdS"
      },
      "execution_count": null,
      "outputs": []
    },
    {
      "cell_type": "markdown",
      "source": [
        "#Question4\n",
        "\n",
        "Given a singly linked list of characters, write a function that returns true if the given list is a palindrome, else false.\n",
        "\n",
        "!https://media.geeksforgeeks.org/wp-content/uploads/20220816144425/LLdrawio.png\n",
        "\n",
        "**Examples:**\n",
        "\n",
        "> Input: R->A->D->A->R->NULL\n",
        ">\n",
        ">\n",
        "> **Output:** Yes\n",
        ">\n",
        "> **Input:** C->O->D->E->NULL\n",
        ">\n",
        "> **Output:** No\n",
        ">\n",
        "</aside>"
      ],
      "metadata": {
        "id": "FfAfnXX5GK2j"
      }
    },
    {
      "cell_type": "code",
      "source": [
        "class Node:\n",
        "    def __init__(self, data=None):\n",
        "        self.data = data\n",
        "        self.next = None\n",
        "\n",
        "def reverse_linked_list(head):\n",
        "    prev = None\n",
        "    current = head\n",
        "\n",
        "    while current is not None:\n",
        "        next_node = current.next\n",
        "        current.next = prev\n",
        "        prev = current\n",
        "        current = next_node\n",
        "\n",
        "    return prev\n",
        "\n",
        "def is_palindrome(head):\n",
        "    if head is None or head.next is None:\n",
        "        return True\n",
        "\n",
        "    slow_ptr = head\n",
        "    fast_ptr = head\n",
        "    prev_ptr = None\n",
        "\n",
        "    # Find the middle node\n",
        "    while fast_ptr is not None and fast_ptr.next is not None:\n",
        "        fast_ptr = fast_ptr.next.next\n",
        "        prev_ptr = slow_ptr\n",
        "        slow_ptr = slow_ptr.next\n",
        "\n",
        "    # Reverse the second half of the linked list\n",
        "    second_half = reverse_linked_list(slow_ptr)\n",
        "\n",
        "    # Compare the reversed second half with the first half\n",
        "    first_half = head\n",
        "    while second_half is not None:\n",
        "        if first_half.data != second_half.data:\n",
        "            # Restore the original linked list\n",
        "            reverse_linked_list(second_half)\n",
        "            return False\n",
        "        first_half = first_half.next\n",
        "        second_half = second_half.next\n",
        "\n",
        "    # Restore the original linked list\n",
        "    reverse_linked_list(slow_ptr)\n",
        "\n",
        "    return True\n",
        "\n",
        "# Test case 1\n",
        "# LinkedList: R->A->D->A->R->NULL\n",
        "head1 = Node('R')\n",
        "head1.next = Node('A')\n",
        "head1.next.next = Node('D')\n",
        "head1.next.next.next = Node('A')\n",
        "head1.next.next.next.next = Node('R')\n",
        "\n",
        "result1 = is_palindrome(head1)\n",
        "print(result1)  # Output: True\n",
        "\n",
        "# Test case 2\n",
        "# LinkedList: C->O->D->E->NULL\n",
        "head2 = Node('C')\n",
        "head2.next = Node('O')\n",
        "head2.next.next = Node('D')\n",
        "head2.next.next.next = Node('E')\n",
        "\n",
        "result2 = is_palindrome(head2)\n",
        "print(result2)  # Output: False\n"
      ],
      "metadata": {
        "colab": {
          "base_uri": "https://localhost:8080/"
        },
        "id": "rDSvLs_WGWrS",
        "outputId": "3406bd09-5b8b-42a2-b7b9-6b949eed539c"
      },
      "execution_count": 7,
      "outputs": [
        {
          "output_type": "stream",
          "name": "stdout",
          "text": [
            "True\n",
            "False\n"
          ]
        }
      ]
    },
    {
      "cell_type": "code",
      "source": [],
      "metadata": {
        "id": "drug4HgtGmZK"
      },
      "execution_count": null,
      "outputs": []
    },
    {
      "cell_type": "markdown",
      "source": [
        "#Question 5\n",
        "\n",
        "Given a linked list of **N** nodes such that it may contain a loop.\n",
        "\n",
        "A loop here means that the last node of the link list is connected to the node at position X(1-based index). If the link list does not have any loop, X=0.\n",
        "\n",
        "Remove the loop from the linked list, if it is present, i.e. unlink the last node which is forming the loop.\n",
        "\n",
        "**Example 1:**\n",
        "\n",
        "Input:\n",
        "N = 3\n",
        "value[] = {1,3,4}\n",
        "X = 2\n",
        "Output:1\n",
        "Explanation:The link list looks like\n",
        "1 -> 3 -> 4\n",
        "     ^    |\n",
        "     |____|\n",
        "A loop is present. If you remove it\n",
        "successfully, the answer will be 1.\n"
      ],
      "metadata": {
        "id": "QAHA4v_2Gtsi"
      }
    },
    {
      "cell_type": "code",
      "source": [
        "class Node:\n",
        "    def __init__(self, data=None):\n",
        "        self.data = data\n",
        "        self.next = None\n",
        "\n",
        "def detect_and_remove_loop(head):\n",
        "    if head is None or head.next is None:\n",
        "        return\n",
        "\n",
        "    # Detect the loop using Floyd's Cycle-Finding Algorithm\n",
        "    slow_ptr = head\n",
        "    fast_ptr = head\n",
        "\n",
        "    while fast_ptr is not None and fast_ptr.next is not None:\n",
        "        slow_ptr = slow_ptr.next\n",
        "        fast_ptr = fast_ptr.next.next\n",
        "\n",
        "        if slow_ptr == fast_ptr:\n",
        "            break\n",
        "\n",
        "    # If no loop is found, return\n",
        "    if slow_ptr != fast_ptr:\n",
        "        return\n",
        "\n",
        "    # Move ptr1 to the head and keep ptr2 at the meeting point\n",
        "    ptr1 = head\n",
        "    while ptr1.next != slow_ptr.next:\n",
        "        ptr1 = ptr1.next\n",
        "        slow_ptr = slow_ptr.next\n",
        "\n",
        "    # Remove the loop by setting the next pointer of the meeting point to None\n",
        "    slow_ptr.next = None\n",
        "\n",
        "    return head\n",
        "\n",
        "# Test case\n",
        "# LinkedList: 1 -> 3 -> 4\n",
        "head = Node(1)\n",
        "head.next = Node(3)\n",
        "head.next.next = Node(4)\n",
        "# Creating a loop by connecting the tail to the second node (position 2)\n",
        "head.next.next.next = head.next\n",
        "\n",
        "result = detect_and_remove_loop(head)\n",
        "\n",
        "# Print the updated linked list\n",
        "temp = result\n",
        "while temp is not None:\n",
        "    print(temp.data, end=\" \")\n",
        "    temp = temp.next\n"
      ],
      "metadata": {
        "colab": {
          "base_uri": "https://localhost:8080/"
        },
        "id": "Cxdh2LWVGxVC",
        "outputId": "791064a5-ae1a-445f-aac4-15b24c8f80b3"
      },
      "execution_count": 8,
      "outputs": [
        {
          "output_type": "stream",
          "name": "stdout",
          "text": [
            "1 3 4 "
          ]
        }
      ]
    },
    {
      "cell_type": "markdown",
      "source": [
        "#example2\n",
        "Input:\n",
        "N = 4\n",
        "value[] = {1,8,3,4}\n",
        "X = 0\n",
        "Output:1\n",
        "Explanation:The Linked list does not\n",
        "contains any loop."
      ],
      "metadata": {
        "id": "aa5Xb300G47K"
      }
    },
    {
      "cell_type": "code",
      "source": [
        "class Node:\n",
        "    def __init__(self, data=None):\n",
        "        self.data = data\n",
        "        self.next = None\n",
        "\n",
        "def detect_and_remove_loop(head):\n",
        "    if head is None or head.next is None:\n",
        "        return head\n",
        "\n",
        "    # Detect the loop using Floyd's Cycle-Finding Algorithm\n",
        "    slow_ptr = head\n",
        "    fast_ptr = head\n",
        "\n",
        "    while fast_ptr is not None and fast_ptr.next is not None:\n",
        "        slow_ptr = slow_ptr.next\n",
        "        fast_ptr = fast_ptr.next.next\n",
        "\n",
        "        if slow_ptr == fast_ptr:\n",
        "            break\n",
        "\n",
        "    # If no loop is found, return the head\n",
        "    if slow_ptr != fast_ptr:\n",
        "        return head\n",
        "\n",
        "    # Move ptr1 to the head and keep ptr2 at the meeting point\n",
        "    ptr1 = head\n",
        "    while ptr1.next != slow_ptr.next:\n",
        "        ptr1 = ptr1.next\n",
        "        slow_ptr = slow_ptr.next\n",
        "\n",
        "    # Remove the loop by setting the next pointer of the meeting point to None\n",
        "    slow_ptr.next = None\n",
        "\n",
        "    return head\n",
        "\n",
        "# Test case\n",
        "# LinkedList: 1 -> 8 -> 3 -> 4\n",
        "head = Node(1)\n",
        "head.next = Node(8)\n",
        "head.next.next = Node(3)\n",
        "head.next.next.next = Node(4)\n",
        "\n",
        "result = detect_and_remove_loop(head)\n",
        "\n",
        "# Print the updated linked list\n",
        "temp = result\n",
        "while temp is not None:\n",
        "    print(temp.data, end=\" \")\n",
        "    temp = temp.next\n"
      ],
      "metadata": {
        "colab": {
          "base_uri": "https://localhost:8080/"
        },
        "id": "ZH1IKWO7G8pS",
        "outputId": "c5366fef-373a-4ea4-8374-4cf28b8146b6"
      },
      "execution_count": 9,
      "outputs": [
        {
          "output_type": "stream",
          "name": "stdout",
          "text": [
            "1 8 3 4 "
          ]
        }
      ]
    },
    {
      "cell_type": "markdown",
      "source": [
        "#example3\n",
        "Input:\n",
        "N = 4\n",
        "value[] = {1,2,3,4}\n",
        "X = 1\n",
        "Output:1\n",
        "Explanation:The link list looks like\n",
        "1 -> 2 -> 3 -> 4\n",
        "^              |\n",
        "|______________|\n",
        "A loop is present.\n",
        "If you remove it successfully,\n",
        "the answer will be 1."
      ],
      "metadata": {
        "id": "QC7S01bSHXni"
      }
    },
    {
      "cell_type": "code",
      "source": [
        "class Node:\n",
        "    def __init__(self, data=None):\n",
        "        self.data = data\n",
        "        self.next = None\n",
        "\n",
        "def detect_and_remove_loop(head):\n",
        "    if head is None or head.next is None:\n",
        "        return head\n",
        "\n",
        "    # Detect the loop using Floyd's Cycle-Finding Algorithm\n",
        "    slow_ptr = head\n",
        "    fast_ptr = head\n",
        "\n",
        "    while fast_ptr is not None and fast_ptr.next is not None:\n",
        "        slow_ptr = slow_ptr.next\n",
        "        fast_ptr = fast_ptr.next.next\n",
        "\n",
        "        if slow_ptr == fast_ptr:\n",
        "            break\n",
        "\n",
        "    # If no loop is found, return the head\n",
        "    if slow_ptr != fast_ptr:\n",
        "        return head\n",
        "\n",
        "    # Move ptr1 to the head and keep ptr2 at the meeting point\n",
        "    ptr1 = head\n",
        "    while ptr1.next != slow_ptr.next:\n",
        "        ptr1 = ptr1.next\n",
        "        slow_ptr = slow_ptr.next\n",
        "\n",
        "    # Remove the loop by setting the next pointer of the meeting point to None\n",
        "    slow_ptr.next = None\n",
        "\n",
        "    return head\n",
        "\n",
        "# Test case\n",
        "# LinkedList: 1 -> 2 -> 3 -> 4\n",
        "head = Node(1)\n",
        "head.next = Node(2)\n",
        "head.next.next = Node(3)\n",
        "head.next.next.next = Node(4)\n",
        "# Creating a loop by connecting the tail to the first node (position 1)\n",
        "head.next.next.next.next = head\n",
        "\n",
        "result = detect_and_remove_loop(head)\n",
        "\n",
        "# Print the updated linked list\n",
        "temp = result\n",
        "while temp is not None:\n",
        "    print(temp.data, end=\" \")\n",
        "    temp = temp.next\n"
      ],
      "metadata": {
        "colab": {
          "base_uri": "https://localhost:8080/"
        },
        "id": "sy7d30-zHZSq",
        "outputId": "30511877-a282-4d50-ff42-ea4856d5bcbc"
      },
      "execution_count": 10,
      "outputs": [
        {
          "output_type": "stream",
          "name": "stdout",
          "text": [
            "1 "
          ]
        }
      ]
    },
    {
      "cell_type": "code",
      "source": [],
      "metadata": {
        "id": "rim9YVe5Hpxh"
      },
      "execution_count": null,
      "outputs": []
    },
    {
      "cell_type": "markdown",
      "source": [
        "#Question 6\n",
        "\n",
        "Given a linked list and two integers M and N. Traverse the linked list such that you retain M nodes then delete next N nodes, continue the same till end of the linked list.\n",
        "\n",
        "Difficulty Level: Rookie\n",
        "\n",
        "**Examples**:\n",
        "\n",
        "Input:\n",
        "M = 2, N = 2\n",
        "Linked List: 1->2->3->4->5->6->7->8\n",
        "Output:\n",
        "Linked List: 1->2->5->6\n",
        "\n",
        "Input:\n",
        "M = 3, N = 2\n",
        "Linked List: 1->2->3->4->5->6->7->8->9->10\n",
        "Output:\n",
        "Linked List: 1->2->3->6->7->8\n",
        "\n",
        "Input:\n",
        "M = 1, N = 1\n",
        "Linked List: 1->2->3->4->5->6->7->8->9->10\n",
        "Output:\n",
        "Linked List: 1->3->5->7->9"
      ],
      "metadata": {
        "id": "n0Sswa61Htby"
      }
    },
    {
      "cell_type": "code",
      "source": [
        "class Node:\n",
        "    def __init__(self, data=None):\n",
        "        self.data = data\n",
        "        self.next = None\n",
        "\n",
        "def skip_m_delete_n(head, M, N):\n",
        "    if head is None or M <= 0 or N <= 0:\n",
        "        return head\n",
        "\n",
        "    current = head\n",
        "    previous = None\n",
        "\n",
        "    while current:\n",
        "        # Skip M nodes\n",
        "        for _ in range(M):\n",
        "            if current is None:\n",
        "                break\n",
        "            previous = current\n",
        "            current = current.next\n",
        "\n",
        "        # Delete N nodes\n",
        "        for _ in range(N):\n",
        "            if current is None:\n",
        "                break\n",
        "            current = current.next\n",
        "\n",
        "        # Skip the deleted nodes by updating the next pointer of the previous node\n",
        "        previous.next = current\n",
        "\n",
        "    return head\n",
        "\n",
        "# Test case 1\n",
        "# M = 2, N = 2\n",
        "# LinkedList: 1->2->3->4->5->6->7->8\n",
        "head = Node(1)\n",
        "head.next = Node(2)\n",
        "head.next.next = Node(3)\n",
        "head.next.next.next = Node(4)\n",
        "head.next.next.next.next = Node(5)\n",
        "head.next.next.next.next.next = Node(6)\n",
        "head.next.next.next.next.next.next = Node(7)\n",
        "head.next.next.next.next.next.next.next = Node(8)\n",
        "\n",
        "result = skip_m_delete_n(head, 2, 2)\n",
        "\n",
        "# Print the modified linked list\n",
        "temp = result\n",
        "while temp is not None:\n",
        "    print(temp.data, end=\" \")\n",
        "    temp = temp.next\n",
        "print()\n",
        "\n",
        "# Test case 2\n",
        "# M = 3, N = 2\n",
        "# LinkedList: 1->2->3->4->5->6->7->8->9->10\n",
        "head = Node(1)\n",
        "head.next = Node(2)\n",
        "head.next.next = Node(3)\n",
        "head.next.next.next = Node(4)\n",
        "head.next.next.next.next = Node(5)\n",
        "head.next.next.next.next.next = Node(6)\n",
        "head.next.next.next.next.next.next = Node(7)\n",
        "head.next.next.next.next.next.next.next = Node(8)\n",
        "head.next.next.next.next.next.next.next.next = Node(9)\n",
        "head.next.next.next.next.next.next.next.next.next = Node(10)\n",
        "\n",
        "result = skip_m_delete_n(head, 3, 2)\n",
        "\n",
        "# Print the modified linked list\n",
        "temp = result\n",
        "while temp is not None:\n",
        "    print(temp.data, end=\" \")\n",
        "    temp = temp.next\n",
        "print()\n",
        "\n",
        "# Test case 3\n",
        "# M = 1, N = 1\n",
        "# LinkedList: 1->2->3->4->5->6->7->8->9->10\n",
        "head = Node(1)\n",
        "head.next = Node(2)\n",
        "head.next.next = Node(3)\n",
        "head.next.next.next = Node(4)\n",
        "head.next.next.next.next = Node(5)\n",
        "head.next.next.next.next.next = Node(6)\n",
        "head.next.next.next.next.next.next = Node(7)\n",
        "head.next.next.next.next.next.next.next = Node(8)\n",
        "head.next.next.next.next.next.next.next.next = Node(9)\n",
        "head.next.next.next.next.next.next.next.next.next = Node(10)\n",
        "\n",
        "result = skip_m_delete_n(head, 1, 1)\n",
        "\n",
        "# Print the modified linked list\n",
        "temp = result\n",
        "while temp is not None:\n",
        "    print(temp.data, end=\" \")\n",
        "    temp = temp.next\n",
        "print()\n"
      ],
      "metadata": {
        "colab": {
          "base_uri": "https://localhost:8080/"
        },
        "id": "HZhGe5RrHw8a",
        "outputId": "efd24c93-7390-4ac5-a227-0ba1481abd22"
      },
      "execution_count": 12,
      "outputs": [
        {
          "output_type": "stream",
          "name": "stdout",
          "text": [
            "1 2 5 6 \n",
            "1 2 3 6 7 8 \n",
            "1 3 5 7 9 \n"
          ]
        }
      ]
    },
    {
      "cell_type": "code",
      "source": [],
      "metadata": {
        "id": "ioQiXT7QH2Qq"
      },
      "execution_count": null,
      "outputs": []
    },
    {
      "cell_type": "markdown",
      "source": [
        "#Question 7\n",
        "\n",
        "Given two linked lists, insert nodes of second list into first list at alternate positions of first list.\n",
        "For example, if first list is 5->7->17->13->11 and second is 12->10->2->4->6, the first list should become 5->12->7->10->17->2->13->4->11->6 and second list should become empty. The nodes of second list should only be inserted when there are positions available. For example, if the first list is 1->2->3 and second list is 4->5->6->7->8, then first list should become 1->4->2->5->3->6 and second list to 7->8.\n",
        "\n",
        "Use of extra space is not allowed (Not allowed to create additional nodes), i.e., insertion must be done in-place. Expected time complexity is O(n) where n is number of nodes in first list.\n",
        "\n",
        "</aside>"
      ],
      "metadata": {
        "id": "XVWdqNI7ICwJ"
      }
    },
    {
      "cell_type": "code",
      "source": [
        "class Node:\n",
        "    def __init__(self, data=None):\n",
        "        self.data = data\n",
        "        self.next = None\n",
        "\n",
        "def merge_lists(first, second):\n",
        "    if first is None:\n",
        "        return second\n",
        "\n",
        "    if second is None:\n",
        "        return first\n",
        "\n",
        "    # Keep track of the next nodes of the first and second lists\n",
        "    first_next = first.next\n",
        "    second_next = second.next\n",
        "\n",
        "    # Insert nodes of the second list into the first list at alternate positions\n",
        "    first.next = second\n",
        "    second.next = first_next\n",
        "\n",
        "    # Update the first and second pointers\n",
        "    first.next = merge_lists(first_next, second_next)\n",
        "\n",
        "    return first\n",
        "\n",
        "# Test case 1\n",
        "# First List: 5->7->17->13->11\n",
        "# Second List: 12->10->2->4->6\n",
        "first = Node(5)\n",
        "first.next = Node(7)\n",
        "first.next.next = Node(17)\n",
        "first.next.next.next = Node(13)\n",
        "first.next.next.next.next = Node(11)\n",
        "\n",
        "second = Node(12)\n",
        "second.next = Node(10)\n",
        "second.next.next = Node(2)\n",
        "second.next.next.next = Node(4)\n",
        "second.next.next.next.next = Node(6)\n",
        "\n",
        "result = merge_lists(first, second)\n",
        "\n",
        "# Print the modified first list\n",
        "temp = result\n",
        "while temp is not None:\n",
        "    print(temp.data, end=\" \")\n",
        "    temp = temp.next\n",
        "print()\n",
        "\n",
        "# Print the modified second list\n",
        "temp = second\n",
        "while temp is not None:\n",
        "    print(temp.data, end=\" \")\n",
        "    temp = temp.next\n",
        "print()\n",
        "\n",
        "# Test case 2\n",
        "# First List: 1->2->3\n",
        "# Second List: 4->5->6->7->8\n",
        "first = Node(1)\n",
        "first.next = Node(2)\n",
        "first.next.next = Node(3)\n",
        "\n",
        "second = Node(4)\n",
        "second.next = Node(5)\n",
        "second.next.next = Node(6)\n",
        "second.next.next.next = Node(7)\n",
        "second.next.next.next.next = Node(8)\n",
        "\n",
        "result = merge_lists(first, second)\n",
        "\n",
        "# Print the modified first list\n",
        "temp = result\n",
        "while temp is not None:\n",
        "    print(temp.data, end=\" \")\n",
        "    temp = temp.next\n",
        "print()\n",
        "\n",
        "# Print the modified second list\n",
        "temp = second\n",
        "while temp is not None:\n",
        "    print(temp.data, end=\" \")\n",
        "    temp = temp.next\n",
        "print()\n"
      ],
      "metadata": {
        "colab": {
          "base_uri": "https://localhost:8080/"
        },
        "id": "pgI0_V3BIMBH",
        "outputId": "40e68c86-507d-4e3f-81b7-2d927c569554"
      },
      "execution_count": 13,
      "outputs": [
        {
          "output_type": "stream",
          "name": "stdout",
          "text": [
            "5 7 17 13 11 \n",
            "12 7 17 13 11 \n",
            "1 2 3 7 8 \n",
            "4 2 3 7 8 \n"
          ]
        }
      ]
    },
    {
      "cell_type": "code",
      "source": [],
      "metadata": {
        "id": "sUsjs4sbIQYJ"
      },
      "execution_count": null,
      "outputs": []
    },
    {
      "cell_type": "markdown",
      "source": [
        "#Question 8\n",
        "\n",
        "Given a singly linked list, find if the linked list is [circular](https://www.geeksforgeeks.org/circular-linked-list/amp/) or not.\n",
        "\n",
        "> A linked list is called circular if it is not NULL-terminated and all nodes are connected in the form of a cycle. Below is an example of a circular linked list.\n",
        ">\n",
        "</aside>"
      ],
      "metadata": {
        "id": "dL_3oLSuIU_x"
      }
    },
    {
      "cell_type": "code",
      "source": [
        "class Node:\n",
        "    def __init__(self, data=None):\n",
        "        self.data = data\n",
        "        self.next = None\n",
        "\n",
        "def is_circular(head):\n",
        "    if head is None:\n",
        "        return False\n",
        "\n",
        "    slow = head\n",
        "    fast = head.next\n",
        "\n",
        "    while fast and fast.next:\n",
        "        if slow == fast:\n",
        "            return True\n",
        "\n",
        "        slow = slow.next\n",
        "        fast = fast.next.next\n",
        "\n",
        "    return False\n",
        "\n",
        "# Test case 1: Circular linked list\n",
        "head = Node(1)\n",
        "head.next = Node(2)\n",
        "head.next.next = Node(3)\n",
        "head.next.next.next = Node(4)\n",
        "head.next.next.next.next = head  # Pointing back to head\n",
        "\n",
        "result = is_circular(head)\n",
        "print(result)  # Output: True\n",
        "\n",
        "# Test case 2: Non-circular linked list\n",
        "head = Node(1)\n",
        "head.next = Node(2)\n",
        "head.next.next = Node(3)\n",
        "head.next.next.next = Node(4)\n",
        "\n",
        "result = is_circular(head)\n",
        "print(result)  # Output: False\n"
      ],
      "metadata": {
        "colab": {
          "base_uri": "https://localhost:8080/"
        },
        "id": "gb8S_0A8IYCy",
        "outputId": "f7e5a2f5-9416-4217-87ce-fe02064e2273"
      },
      "execution_count": 14,
      "outputs": [
        {
          "output_type": "stream",
          "name": "stdout",
          "text": [
            "True\n",
            "False\n"
          ]
        }
      ]
    },
    {
      "cell_type": "code",
      "source": [],
      "metadata": {
        "id": "OYTHRLYuIbOh"
      },
      "execution_count": null,
      "outputs": []
    }
  ]
}