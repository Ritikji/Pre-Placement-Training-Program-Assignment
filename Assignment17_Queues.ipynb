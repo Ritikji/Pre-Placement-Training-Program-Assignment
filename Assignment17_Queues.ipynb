{
  "nbformat": 4,
  "nbformat_minor": 0,
  "metadata": {
    "colab": {
      "provenance": []
    },
    "kernelspec": {
      "name": "python3",
      "display_name": "Python 3"
    },
    "language_info": {
      "name": "python"
    }
  },
  "cells": [
    {
      "cell_type": "markdown",
      "source": [
        "#Question 1\n",
        "\n",
        "Given a string `s`, *find the first non-repeating character in it and return its index*. If it does not exist, return `-1`.\n",
        "\n",
        "**Example 1:**\n",
        "Input: s = \"leetcode\"\n",
        "Output: 0\n"
      ],
      "metadata": {
        "id": "TqtoOb5_2SlY"
      }
    },
    {
      "cell_type": "code",
      "execution_count": 4,
      "metadata": {
        "colab": {
          "base_uri": "https://localhost:8080/"
        },
        "id": "R9u3B-Hx2L1b",
        "outputId": "2665b5c4-3b90-42f9-a1d4-8cd08f5f3a42"
      },
      "outputs": [
        {
          "output_type": "stream",
          "name": "stdout",
          "text": [
            "0\n"
          ]
        }
      ],
      "source": [
        "def firstUniqChar(s):\n",
        "    char_freq = {}\n",
        "\n",
        "    # Count the frequency of each character\n",
        "    for char in s:\n",
        "        char_freq[char] = char_freq.get(char, 0) + 1\n",
        "\n",
        "    # Find the first non-repeating character\n",
        "    for i in range(len(s)):\n",
        "        if char_freq[s[i]] == 1:\n",
        "            return i\n",
        "\n",
        "    # If no non-repeating character is found, return -1\n",
        "    return -1\n",
        "\n",
        "# Test the function\n",
        "s = \"leetcode\"\n",
        "print(firstUniqChar(s))\n"
      ]
    },
    {
      "cell_type": "markdown",
      "source": [
        "#Example2\n",
        "Input: s = \"loveleetcode\"\n",
        "Output: 2\n"
      ],
      "metadata": {
        "id": "vkbiitYj2fcP"
      }
    },
    {
      "cell_type": "code",
      "source": [
        "def firstUniqChar(s):\n",
        "    char_freq = {}\n",
        "\n",
        "    # Count the frequency of each character\n",
        "    for char in s:\n",
        "        char_freq[char] = char_freq.get(char, 0) + 1\n",
        "\n",
        "    # Find the first non-repeating character\n",
        "    for i in range(len(s)):\n",
        "        if char_freq[s[i]] == 1:\n",
        "            return i\n",
        "\n",
        "    # If no non-repeating character is found, return -1\n",
        "    return -1\n",
        "\n",
        "# Test the function\n",
        "s = \"loveleetcode\"\n",
        "print(firstUniqChar(s))\n"
      ],
      "metadata": {
        "colab": {
          "base_uri": "https://localhost:8080/"
        },
        "id": "OvVV7Ogk2Z5Y",
        "outputId": "727fb1f5-441e-43ff-c78a-0a8c1f0ee2c6"
      },
      "execution_count": 3,
      "outputs": [
        {
          "output_type": "stream",
          "name": "stdout",
          "text": [
            "2\n"
          ]
        }
      ]
    },
    {
      "cell_type": "markdown",
      "source": [
        "#example3\n",
        "Input: s = \"aabb\"\n",
        "Output: -1"
      ],
      "metadata": {
        "id": "iS2NAHwC2sVd"
      }
    },
    {
      "cell_type": "code",
      "source": [
        "def firstUniqChar(s):\n",
        "    char_freq = {}\n",
        "\n",
        "    # Count the frequency of each character\n",
        "    for char in s:\n",
        "        char_freq[char] = char_freq.get(char, 0) + 1\n",
        "\n",
        "    # Find the first non-repeating character\n",
        "    for i in range(len(s)):\n",
        "        if char_freq[s[i]] == 1:\n",
        "            return i\n",
        "\n",
        "    # If no non-repeating character is found, return -1\n",
        "    return -1\n",
        "\n",
        "# Test the function\n",
        "s = \"aabb\"\n",
        "print(firstUniqChar(s))\n"
      ],
      "metadata": {
        "colab": {
          "base_uri": "https://localhost:8080/"
        },
        "id": "n9sFddOw2lGl",
        "outputId": "fcc5bf80-e755-4fdc-f2de-2adb84982cbc"
      },
      "execution_count": 2,
      "outputs": [
        {
          "output_type": "stream",
          "name": "stdout",
          "text": [
            "-1\n"
          ]
        }
      ]
    },
    {
      "cell_type": "code",
      "source": [],
      "metadata": {
        "id": "5-3LMrwS2xsu"
      },
      "execution_count": null,
      "outputs": []
    },
    {
      "cell_type": "markdown",
      "source": [
        "#Question 2\n",
        "\n",
        "Given a **circular integer array** `nums` of length `n`, return *the maximum possible sum of a non-empty **subarray** of* `nums`.\n",
        "\n",
        "A **circular array** means the end of the array connects to the beginning of the array. Formally, the next element of `nums[i]` is `nums[(i + 1) % n]` and the previous element of `nums[i]` is `nums[(i - 1 + n) % n]`.\n",
        "\n",
        "A **subarray** may only include each element of the fixed buffer `nums` at most once. Formally, for a subarray `nums[i], nums[i + 1], ..., nums[j]`, there does not exist `i <= k1`, `k2 <= j` with `k1 % n == k2 % n`.\n",
        "\n",
        "**Example 1:**\n",
        "\n",
        "Input: nums = [1,-2,3,-2]\n",
        "Output: 3\n",
        "Explanation: Subarray [3] has maximum sum 3.\n"
      ],
      "metadata": {
        "id": "S7e0Dhib24Dh"
      }
    },
    {
      "cell_type": "code",
      "source": [
        "def maxSubarraySumCircular(nums):\n",
        "    n = len(nums)\n",
        "\n",
        "    # Case 1: Maximum sum subarray is within the circular array\n",
        "    max_sum = float('-inf')\n",
        "    current_max = 0\n",
        "\n",
        "    for i in range(n):\n",
        "        current_max = max(nums[i], current_max + nums[i])\n",
        "        max_sum = max(max_sum, current_max)\n",
        "\n",
        "    # Case 2: Maximum sum subarray wraps around the circular array\n",
        "    min_sum = float('inf')\n",
        "    current_min = 0\n",
        "    total_sum = 0\n",
        "\n",
        "    for i in range(n):\n",
        "        total_sum += nums[i]\n",
        "        current_min = min(nums[i], current_min + nums[i])\n",
        "        min_sum = min(min_sum, current_min)\n",
        "\n",
        "    # If the minimum sum is equal to the total sum, it means all elements are negative\n",
        "    # In this case, return the maximum sum from Case 1\n",
        "    if min_sum == total_sum:\n",
        "        return max_sum\n",
        "\n",
        "    # Otherwise, return the maximum of the maximum sum from Case 1 and (total sum - minimum sum)\n",
        "    return max(max_sum, total_sum - min_sum)\n",
        "\n",
        "# Test the function\n",
        "nums = [1, -2, 3, -2]\n",
        "print(maxSubarraySumCircular(nums))\n"
      ],
      "metadata": {
        "colab": {
          "base_uri": "https://localhost:8080/"
        },
        "id": "A0LZcWBb27WG",
        "outputId": "c98b5105-43da-440d-833b-d9e6e923f2e1"
      },
      "execution_count": 1,
      "outputs": [
        {
          "output_type": "stream",
          "name": "stdout",
          "text": [
            "3\n"
          ]
        }
      ]
    },
    {
      "cell_type": "markdown",
      "source": [
        "#example2\n",
        "Input: nums = [5,-3,5]\n",
        "Output: 10\n",
        "Explanation: Subarray [5,5] has maximum sum 5 + 5 = 10.\n"
      ],
      "metadata": {
        "id": "MMhl5WemAWtw"
      }
    },
    {
      "cell_type": "code",
      "source": [
        "def maxSubarraySumCircular(nums):\n",
        "    n = len(nums)\n",
        "\n",
        "    # Case 1: Maximum sum subarray is within the circular array\n",
        "    max_sum = float('-inf')\n",
        "    current_max = 0\n",
        "\n",
        "    for i in range(n):\n",
        "        current_max = max(nums[i], current_max + nums[i])\n",
        "        max_sum = max(max_sum, current_max)\n",
        "\n",
        "    # Case 2: Maximum sum subarray wraps around the circular array\n",
        "    min_sum = float('inf')\n",
        "    current_min = 0\n",
        "    total_sum = 0\n",
        "\n",
        "    for i in range(n):\n",
        "        total_sum += nums[i]\n",
        "        current_min = min(nums[i], current_min + nums[i])\n",
        "        min_sum = min(min_sum, current_min)\n",
        "\n",
        "    # If the minimum sum is equal to the total sum, it means all elements are negative\n",
        "    # In this case, return the maximum sum from Case 1\n",
        "    if min_sum == total_sum:\n",
        "        return max_sum\n",
        "\n",
        "    # Otherwise, return the maximum of the maximum sum from Case 1 and (total sum - minimum sum)\n",
        "    return max(max_sum, total_sum - min_sum)\n",
        "\n",
        "# Test the function\n",
        "nums = [5,-3,5]\n",
        "print(maxSubarraySumCircular(nums))\n"
      ],
      "metadata": {
        "colab": {
          "base_uri": "https://localhost:8080/"
        },
        "id": "HmTexAtWAGey",
        "outputId": "0cfd5d57-8fd4-404e-9109-d3c7eb37cd8e"
      },
      "execution_count": 6,
      "outputs": [
        {
          "output_type": "stream",
          "name": "stdout",
          "text": [
            "10\n"
          ]
        }
      ]
    },
    {
      "cell_type": "markdown",
      "source": [
        "#example3\n",
        "Input: nums = [-3,-2,-3]\n",
        "Output: -2\n",
        "Explanation: Subarray [-2] has maximum sum -2."
      ],
      "metadata": {
        "id": "TqGwJ_1SAkZB"
      }
    },
    {
      "cell_type": "code",
      "source": [
        "def maxSubarraySumCircular(nums):\n",
        "    n = len(nums)\n",
        "\n",
        "    # Case 1: Maximum sum subarray is within the circular array\n",
        "    max_sum = float('-inf')\n",
        "    current_max = 0\n",
        "\n",
        "    for i in range(n):\n",
        "        current_max = max(nums[i], current_max + nums[i])\n",
        "        max_sum = max(max_sum, current_max)\n",
        "\n",
        "    # Case 2: Maximum sum subarray wraps around the circular array\n",
        "    min_sum = float('inf')\n",
        "    current_min = 0\n",
        "    total_sum = 0\n",
        "\n",
        "    for i in range(n):\n",
        "        total_sum += nums[i]\n",
        "        current_min = min(nums[i], current_min + nums[i])\n",
        "        min_sum = min(min_sum, current_min)\n",
        "\n",
        "    # If the minimum sum is equal to the total sum, it means all elements are negative\n",
        "    # In this case, return the maximum sum from Case 1\n",
        "    if min_sum == total_sum:\n",
        "        return max_sum\n",
        "\n",
        "    # Otherwise, return the maximum of the maximum sum from Case 1 and (total sum - minimum sum)\n",
        "    return max(max_sum, total_sum - min_sum)\n",
        "\n",
        "# Test the function\n",
        "nums = [-3,-2,-3]\n",
        "print(maxSubarraySumCircular(nums))\n"
      ],
      "metadata": {
        "colab": {
          "base_uri": "https://localhost:8080/"
        },
        "id": "tvzrgH9xAgTQ",
        "outputId": "2b7c894e-8a48-4612-e28e-82551c99e014"
      },
      "execution_count": 7,
      "outputs": [
        {
          "output_type": "stream",
          "name": "stdout",
          "text": [
            "-2\n"
          ]
        }
      ]
    },
    {
      "cell_type": "code",
      "source": [],
      "metadata": {
        "id": "aHoKwdyBArWA"
      },
      "execution_count": null,
      "outputs": []
    },
    {
      "cell_type": "markdown",
      "source": [
        "#Question 3\n",
        "\n",
        "The school cafeteria offers circular and square sandwiches at lunch break, referred to by numbers `0` and `1` respectively. All students stand in a queue. Each student either prefers square or circular sandwiches.\n",
        "\n",
        "The number of sandwiches in the cafeteria is equal to the number of students. The sandwiches are placed in a **stack**. At each step:\n",
        "\n",
        "- If the student at the front of the queue **prefers** the sandwich on the top of the stack, they will **take it** and leave the queue.\n",
        "- Otherwise, they will **leave it** and go to the queue's end.\n",
        "\n",
        "This continues until none of the queue students want to take the top sandwich and are thus unable to eat.\n",
        "\n",
        "You are given two integer arrays `students` and `sandwiches` where `sandwiches[i]` is the type of the `ith` sandwich in the stack (`i = 0` is the top of the stack) and `students[j]` is the preference of the `jth` student in the initial queue (`j = 0` is the front of the queue). Return *the number of students that are unable to eat.*\n",
        "\n",
        "**Example 1:**\n",
        "Input: students = [1,1,0,0], sandwiches = [0,1,0,1]\n",
        "Output: 0\n",
        "Explanation:\n",
        "- Front student leaves the top sandwich and returns to the end of the line making students = [1,0,0,1].\n",
        "- Front student leaves the top sandwich and returns to the end of the line making students = [0,0,1,1].\n",
        "- Front student takes the top sandwich and leaves the line making students = [0,1,1] and sandwiches = [1,0,1].\n",
        "- Front student leaves the top sandwich and returns to the end of the line making students = [1,1,0].\n",
        "- Front student takes the top sandwich and leaves the line making students = [1,0] and sandwiches = [0,1].\n",
        "- Front student leaves the top sandwich and returns to the end of the line making students = [0,1].\n",
        "- Front student takes the top sandwich and leaves the line making students = [1] and sandwiches = [1].\n",
        "- Front student takes the top sandwich and leaves the line making students = [] and sandwiches = [].\n",
        "Hence all students are able to eat.\n"
      ],
      "metadata": {
        "id": "l3wwkK2lA2fw"
      }
    },
    {
      "cell_type": "code",
      "source": [
        "def countStudents(students, sandwiches):\n",
        "    student_count = len(students)\n",
        "    sandwich_count = len(sandwiches)\n",
        "    index = 0\n",
        "\n",
        "    while index < student_count:\n",
        "        if students[0] == sandwiches[0]:\n",
        "            # The student at the front of the queue prefers the top sandwich\n",
        "            students.pop(0)\n",
        "            sandwiches.pop(0)\n",
        "            index = 0\n",
        "        else:\n",
        "            # The student at the front of the queue doesn't prefer the top sandwich\n",
        "            students.append(students.pop(0))\n",
        "            index += 1\n",
        "\n",
        "        # If all sandwiches are consumed, break the loop\n",
        "        if len(sandwiches) == 0:\n",
        "            break\n",
        "\n",
        "    return len(students)\n",
        "\n",
        "# Test the function\n",
        "students = [1, 1, 0, 0]\n",
        "sandwiches = [0, 1, 0, 1]\n",
        "print(countStudents(students, sandwiches))\n"
      ],
      "metadata": {
        "colab": {
          "base_uri": "https://localhost:8080/"
        },
        "id": "7yUlR5J8A5GA",
        "outputId": "a241ea1d-1ef8-4f9d-fafa-98556286ffea"
      },
      "execution_count": 8,
      "outputs": [
        {
          "output_type": "stream",
          "name": "stdout",
          "text": [
            "0\n"
          ]
        }
      ]
    },
    {
      "cell_type": "markdown",
      "source": [
        "#example2\n",
        "Input: students = [1,1,1,0,0,1], sandwiches = [1,0,0,0,1,1]\n",
        "Output: 3"
      ],
      "metadata": {
        "id": "gHPNitpEA_oY"
      }
    },
    {
      "cell_type": "code",
      "source": [
        "def countStudents(students, sandwiches):\n",
        "    student_count = len(students)\n",
        "    sandwich_count = len(sandwiches)\n",
        "    index = 0\n",
        "\n",
        "    while index < student_count:\n",
        "        if students[0] == sandwiches[0]:\n",
        "            # The student at the front of the queue prefers the top sandwich\n",
        "            students.pop(0)\n",
        "            sandwiches.pop(0)\n",
        "            index = 0\n",
        "        else:\n",
        "            # The student at the front of the queue doesn't prefer the top sandwich\n",
        "            students.append(students.pop(0))\n",
        "            index += 1\n",
        "\n",
        "        # If all sandwiches are consumed, break the loop\n",
        "        if len(sandwiches) == 0:\n",
        "            break\n",
        "\n",
        "    return len(students)\n",
        "\n",
        "# Test the function\n",
        "students = [1,1,1,0,0,1]\n",
        "sandwiches = [1,0,0,0,1,1]\n",
        "print(countStudents(students, sandwiches))\n"
      ],
      "metadata": {
        "colab": {
          "base_uri": "https://localhost:8080/"
        },
        "id": "0CyDUv70A82Y",
        "outputId": "5db42269-544a-4ee7-d5cd-01ad7569a67b"
      },
      "execution_count": 9,
      "outputs": [
        {
          "output_type": "stream",
          "name": "stdout",
          "text": [
            "3\n"
          ]
        }
      ]
    },
    {
      "cell_type": "code",
      "source": [],
      "metadata": {
        "id": "MGEhEVIUBNdZ"
      },
      "execution_count": null,
      "outputs": []
    },
    {
      "cell_type": "markdown",
      "source": [
        "#Question 4\n",
        "\n",
        "You have a `RecentCounter` class which counts the number of recent requests within a certain time frame.\n",
        "\n",
        "Implement the `RecentCounter` class:\n",
        "\n",
        "- `RecentCounter()` Initializes the counter with zero recent requests.\n",
        "- `int ping(int t)` Adds a new request at time `t`, where `t` represents some time in milliseconds, and returns the number of requests that has happened in the past `3000` milliseconds (including the new request). Specifically, return the number of requests that have happened in the inclusive range `[t - 3000, t]`.\n",
        "\n",
        "It is **guaranteed** that every call to `ping` uses a strictly larger value of `t` than the previous call.\n",
        "\n",
        "**Example 1:**\n",
        "\n",
        "Input\n",
        "[\"RecentCounter\", \"ping\", \"ping\", \"ping\", \"ping\"]\n",
        "[[], [1], [100], [3001], [3002]]\n",
        "Output\n",
        "[null, 1, 2, 3, 3]\n",
        "\n",
        "Explanation\n",
        "RecentCounter recentCounter = new RecentCounter();\n",
        "recentCounter.ping(1);     // requests = [1], range is [-2999,1], return 1\n",
        "recentCounter.ping(100);   // requests = [1,100], range is [-2900,100], return 2\n",
        "recentCounter.ping(3001);  // requests = [1,100,3001], range is [1,3001], return 3\n",
        "recentCounter.ping(3002);  // requests = [1,100,3001,3002], range is [2,3002], return 3"
      ],
      "metadata": {
        "id": "dFq-7BteBW6W"
      }
    },
    {
      "cell_type": "code",
      "source": [
        "from collections import deque\n",
        "\n",
        "class RecentCounter:\n",
        "    def __init__(self):\n",
        "        self.requests = deque()\n",
        "\n",
        "    def ping(self, t):\n",
        "        # Add the new request to the queue\n",
        "        self.requests.append(t)\n",
        "\n",
        "        # Remove requests that are older than the time frame\n",
        "        while self.requests and self.requests[0] < t - 3000:\n",
        "            self.requests.popleft()\n",
        "\n",
        "        # Return the number of requests in the time frame\n",
        "        return len(self.requests)\n",
        "\n",
        "# Test the class\n",
        "recentCounter = RecentCounter()\n",
        "print(recentCounter.ping(1))\n",
        "print(recentCounter.ping(100))\n",
        "print(recentCounter.ping(3001))\n",
        "print(recentCounter.ping(3002))\n"
      ],
      "metadata": {
        "colab": {
          "base_uri": "https://localhost:8080/"
        },
        "id": "PGaadtZFBY5f",
        "outputId": "232c29b6-0da5-46ae-cd8e-8c6c04b7d936"
      },
      "execution_count": 10,
      "outputs": [
        {
          "output_type": "stream",
          "name": "stdout",
          "text": [
            "1\n",
            "2\n",
            "3\n",
            "3\n"
          ]
        }
      ]
    },
    {
      "cell_type": "code",
      "source": [],
      "metadata": {
        "id": "o9XnxKJ9BmPQ"
      },
      "execution_count": null,
      "outputs": []
    },
    {
      "cell_type": "markdown",
      "source": [
        "#Question 5\n",
        "\n",
        "There are `n` friends that are playing a game. The friends are sitting in a circle and are numbered from `1` to `n` in **clockwise order**. More formally, moving clockwise from the `ith` friend brings you to the `(i+1)th` friend for `1 <= i < n`, and moving clockwise from the `nth` friend brings you to the `1st` friend.\n",
        "\n",
        "The rules of the game are as follows:\n",
        "\n",
        "1. **Start** at the `1st` friend.\n",
        "2. Count the next `k` friends in the clockwise direction **including** the friend you started at. The counting wraps around the circle and may count some friends more than once.\n",
        "3. The last friend you counted leaves the circle and loses the game.\n",
        "4. If there is still more than one friend in the circle, go back to step `2` **starting** from the friend **immediately clockwise** of the friend who just lost and repeat.\n",
        "5. Else, the last friend in the circle wins the game.\n",
        "\n",
        "Given the number of friends, `n`, and an integer `k`, return *the winner of the game*.\n",
        "\n",
        "**Example 1:**\n",
        "Input: n = 5, k = 2\n",
        "Output: 3\n",
        "Explanation: Here are the steps of the game:\n",
        "1) Start at friend 1.\n",
        "2) Count 2 friends clockwise, which are friends 1 and 2.\n",
        "3) Friend 2 leaves the circle. Next start is friend 3.\n",
        "4) Count 2 friends clockwise, which are friends 3 and 4.\n",
        "5) Friend 4 leaves the circle. Next start is friend 5.\n",
        "6) Count 2 friends clockwise, which are friends 5 and 1.\n",
        "7) Friend 1 leaves the circle. Next start is friend 3.\n",
        "8) Count 2 friends clockwise, which are friends 3 and 5.\n",
        "9) Friend 5 leaves the circle. Only friend 3 is left, so they are the winner.\n"
      ],
      "metadata": {
        "id": "VEIIA4SSCABJ"
      }
    },
    {
      "cell_type": "code",
      "source": [
        "def findTheWinner(n, k):\n",
        "    friends = list(range(1, n + 1))\n",
        "    current = 0\n",
        "\n",
        "    while len(friends) > 1:\n",
        "        current = (current + k - 1) % len(friends)\n",
        "        friends.pop(current)\n",
        "\n",
        "    return friends[0]\n",
        "\n",
        "# Test the function\n",
        "n = 5\n",
        "k = 2\n",
        "print(findTheWinner(n, k))\n"
      ],
      "metadata": {
        "colab": {
          "base_uri": "https://localhost:8080/"
        },
        "id": "fMPpIL_YCBZA",
        "outputId": "4ea3a951-b374-4a00-fdf4-fe40fb3ee9f9"
      },
      "execution_count": 11,
      "outputs": [
        {
          "output_type": "stream",
          "name": "stdout",
          "text": [
            "3\n"
          ]
        }
      ]
    },
    {
      "cell_type": "markdown",
      "source": [
        "#example2\n",
        "Input: n = 6, k = 5\n",
        "Output: 1\n",
        "Explanation: The friends leave in this order: 5, 4, 6, 2, 3. The winner is friend 1."
      ],
      "metadata": {
        "id": "KpDQOa_vCStJ"
      }
    },
    {
      "cell_type": "code",
      "source": [
        "def findTheWinner(n, k):\n",
        "    friends = list(range(1, n + 1))\n",
        "    current = 0\n",
        "\n",
        "    while len(friends) > 1:\n",
        "        current = (current + k - 1) % len(friends)\n",
        "        friends.pop(current)\n",
        "\n",
        "    return friends[0]\n",
        "\n",
        "# Test the function\n",
        "n = 6\n",
        "k = 5\n",
        "print(findTheWinner(n, k))\n"
      ],
      "metadata": {
        "colab": {
          "base_uri": "https://localhost:8080/"
        },
        "id": "N7ad3VPZCPY5",
        "outputId": "373a065e-1292-44b1-87cc-855708a9e045"
      },
      "execution_count": 12,
      "outputs": [
        {
          "output_type": "stream",
          "name": "stdout",
          "text": [
            "1\n"
          ]
        }
      ]
    },
    {
      "cell_type": "code",
      "source": [],
      "metadata": {
        "id": "ZvaD0hnHCfjz"
      },
      "execution_count": null,
      "outputs": []
    },
    {
      "cell_type": "markdown",
      "source": [
        "#Question 6\n",
        "\n",
        "You are given an integer array `deck`. There is a deck of cards where every card has a unique integer. The integer on the `ith` card is `deck[i]`.\n",
        "\n",
        "You can order the deck in any order you want. Initially, all the cards start face down (unrevealed) in one deck.\n",
        "\n",
        "You will do the following steps repeatedly until all cards are revealed:\n",
        "\n",
        "1. Take the top card of the deck, reveal it, and take it out of the deck.\n",
        "2. If there are still cards in the deck then put the next top card of the deck at the bottom of the deck.\n",
        "3. If there are still unrevealed cards, go back to step 1. Otherwise, stop.\n",
        "\n",
        "Return *an ordering of the deck that would reveal the cards in increasing order*.\n",
        "\n",
        "**Note** that the first entry in the answer is considered to be the top of the deck.\n",
        "\n",
        "**Example 1:**\n",
        "Input: deck = [17,13,11,2,3,5,7]\n",
        "Output: [2,13,3,11,5,17,7]\n",
        "Explanation:\n",
        "We get the deck in the order [17,13,11,2,3,5,7] (this order does not matter), and reorder it.\n",
        "After reordering, the deck starts as [2,13,3,11,5,17,7], where 2 is the top of the deck.\n",
        "We reveal 2, and move 13 to the bottom.  The deck is now [3,11,5,17,7,13].\n",
        "We reveal 3, and move 11 to the bottom.  The deck is now [5,17,7,13,11].\n",
        "We reveal 5, and move 17 to the bottom.  The deck is now [7,13,11,17].\n",
        "We reveal 7, and move 13 to the bottom.  The deck is now [11,17,13].\n",
        "We reveal 11, and move 17 to the bottom.  The deck is now [13,17].\n",
        "We reveal 13, and move 17 to the bottom.  The deck is now [17].\n",
        "We reveal 17.\n",
        "Since all the cards revealed are in increasing order, the answer is correct.\n"
      ],
      "metadata": {
        "id": "-jDdqIy_CsJP"
      }
    },
    {
      "cell_type": "code",
      "source": [
        "from collections import deque\n",
        "import heapq\n",
        "\n",
        "def deckRevealedIncreasing(deck):\n",
        "    deck.sort()  # Sort the deck in increasing order\n",
        "    result = deque()\n",
        "    result.append(deck.pop())  # Start with the largest card at the bottom of the result list\n",
        "\n",
        "    while deck:\n",
        "        # Move the current bottom card to the top of the result list\n",
        "        result.appendleft(result.pop())\n",
        "        # Take the top card from the deck, reveal it, and place it below the current bottom card\n",
        "        result.appendleft(deck.pop())\n",
        "\n",
        "    return list(result)\n",
        "\n",
        "# Test the function\n",
        "deck = [17, 13, 11, 2, 3, 5, 7]\n",
        "print(deckRevealedIncreasing(deck))\n"
      ],
      "metadata": {
        "colab": {
          "base_uri": "https://localhost:8080/"
        },
        "id": "LVRY0oa7Cu5H",
        "outputId": "a6d588b7-9364-46a1-cba2-3efbca7e7ad1"
      },
      "execution_count": 13,
      "outputs": [
        {
          "output_type": "stream",
          "name": "stdout",
          "text": [
            "[2, 13, 3, 11, 5, 17, 7]\n"
          ]
        }
      ]
    },
    {
      "cell_type": "code",
      "source": [],
      "metadata": {
        "id": "EWjBDCcECyAo"
      },
      "execution_count": null,
      "outputs": []
    },
    {
      "cell_type": "markdown",
      "source": [
        "#example2\n",
        "Input: deck = [1,1000]\n",
        "Output: [1,1000]"
      ],
      "metadata": {
        "id": "QKRgQmL6Czvg"
      }
    },
    {
      "cell_type": "code",
      "source": [
        "from collections import deque\n",
        "import heapq\n",
        "\n",
        "def deckRevealedIncreasing(deck):\n",
        "    deck.sort()  # Sort the deck in increasing order\n",
        "    result = deque()\n",
        "    result.append(deck.pop())  # Start with the largest card at the bottom of the result list\n",
        "\n",
        "    while deck:\n",
        "        # Move the current bottom card to the top of the result list\n",
        "        result.appendleft(result.pop())\n",
        "        # Take the top card from the deck, reveal it, and place it below the current bottom card\n",
        "        result.appendleft(deck.pop())\n",
        "\n",
        "    return list(result)\n",
        "\n",
        "# Test the function\n",
        "deck =  [1,1000]\n",
        "print(deckRevealedIncreasing(deck))\n"
      ],
      "metadata": {
        "colab": {
          "base_uri": "https://localhost:8080/"
        },
        "id": "Qk-CT4zGC1iX",
        "outputId": "9acbc917-6d05-46f2-aaa9-768da3f566b7"
      },
      "execution_count": 14,
      "outputs": [
        {
          "output_type": "stream",
          "name": "stdout",
          "text": [
            "[1, 1000]\n"
          ]
        }
      ]
    },
    {
      "cell_type": "code",
      "source": [],
      "metadata": {
        "id": "Cyd7f0QJC7MQ"
      },
      "execution_count": null,
      "outputs": []
    },
    {
      "cell_type": "markdown",
      "source": [
        "#Question 7\n",
        "\n",
        "Design a queue that supports `push` and `pop` operations in the front, middle, and back.\n",
        "\n",
        "Implement the `FrontMiddleBack` class:\n",
        "\n",
        "- `FrontMiddleBack()` Initializes the queue.\n",
        "- `void pushFront(int val)` Adds `val` to the **front** of the queue.\n",
        "- `void pushMiddle(int val)` Adds `val` to the **middle** of the queue.\n",
        "- `void pushBack(int val)` Adds `val` to the **back** of the queue.\n",
        "- `int popFront()` Removes the **front** element of the queue and returns it. If the queue is empty, return `1`.\n",
        "- `int popMiddle()` Removes the **middle** element of the queue and returns it. If the queue is empty, return `1`.\n",
        "- `int popBack()` Removes the **back** element of the queue and returns it. If the queue is empty, return `1`.\n",
        "\n",
        "**Notice** that when there are **two** middle position choices, the operation is performed on the **frontmost** middle position choice. For example:\n",
        "\n",
        "- Pushing `6` into the middle of `[1, 2, 3, 4, 5]` results in `[1, 2, 6, 3, 4, 5]`.\n",
        "- Popping the middle from `[1, 2, 3, 4, 5, 6]` returns `3` and results in `[1, 2, 4, 5, 6]`.\n",
        "\n",
        "**Example 1:**\n",
        "Input:\n",
        "[\"FrontMiddleBackQueue\", \"pushFront\", \"pushBack\", \"pushMiddle\", \"pushMiddle\", \"popFront\", \"popMiddle\", \"popMiddle\", \"popBack\", \"popFront\"]\n",
        "[[], [1], [2], [3], [4], [], [], [], [], []]\n",
        "Output:\n",
        "[null, null, null, null, null, 1, 3, 4, 2, -1]\n",
        "\n",
        "Explanation:\n",
        "FrontMiddleBackQueue q = new FrontMiddleBackQueue();\n",
        "q.pushFront(1);   // [1]\n",
        "q.pushBack(2);    // [1,2]\n",
        "q.pushMiddle(3);  // [1,3, 2]\n",
        "q.pushMiddle(4);  // [1,4, 3, 2]\n",
        "q.popFront();     // return 1 -> [4, 3, 2]\n",
        "q.popMiddle();    // return 3 -> [4, 2]\n",
        "q.popMiddle();    // return 4 -> [2]\n",
        "q.popBack();      // return 2 -> []\n",
        "q.popFront();     // return -1 -> [] (The queue is empty)"
      ],
      "metadata": {
        "id": "wIkQqr2-DCfP"
      }
    },
    {
      "cell_type": "code",
      "source": [
        "class Node:\n",
        "    def __init__(self, val):\n",
        "        self.val = val\n",
        "        self.prev = None\n",
        "        self.next = None\n",
        "\n",
        "class FrontMiddleBackQueue:\n",
        "    def __init__(self):\n",
        "        self.head = None\n",
        "        self.tail = None\n",
        "        self.size = 0\n",
        "\n",
        "    def pushFront(self, val):\n",
        "        new_node = Node(val)\n",
        "        if self.size == 0:\n",
        "            self.head = new_node\n",
        "            self.tail = new_node\n",
        "        else:\n",
        "            new_node.next = self.head\n",
        "            self.head.prev = new_node\n",
        "            self.head = new_node\n",
        "        self.size += 1\n",
        "\n",
        "    def pushBack(self, val):\n",
        "        new_node = Node(val)\n",
        "        if self.size == 0:\n",
        "            self.head = new_node\n",
        "            self.tail = new_node\n",
        "        else:\n",
        "            new_node.prev = self.tail\n",
        "            self.tail.next = new_node\n",
        "            self.tail = new_node\n",
        "        self.size += 1\n",
        "\n",
        "    def pushMiddle(self, val):\n",
        "        if self.size == 0:\n",
        "            self.pushFront(val)\n",
        "        elif self.size % 2 == 0:\n",
        "            mid = self.size // 2\n",
        "            node = self.head\n",
        "            for _ in range(mid - 1):\n",
        "                node = node.next\n",
        "            new_node = Node(val)\n",
        "            new_node.prev = node\n",
        "            new_node.next = node.next\n",
        "            node.next.prev = new_node\n",
        "            node.next = new_node\n",
        "            self.size += 1\n",
        "        else:\n",
        "            mid = self.size // 2\n",
        "            node = self.head\n",
        "            for _ in range(mid):\n",
        "                node = node.next\n",
        "            new_node = Node(val)\n",
        "            new_node.prev = node.prev\n",
        "            new_node.next = node\n",
        "            node.prev.next = new_node\n",
        "            node.prev = new_node\n",
        "            self.size += 1\n",
        "\n",
        "    def popFront(self):\n",
        "        if self.size == 0:\n",
        "            return -1\n",
        "        val = self.head.val\n",
        "        self.head = self.head.next\n",
        "        if self.head is None:\n",
        "            self.tail = None\n",
        "        else:\n",
        "            self.head.prev = None\n",
        "        self.size -= 1\n",
        "        return val\n",
        "\n",
        "    def popBack(self):\n",
        "        if self.size == 0:\n",
        "            return -1\n",
        "        val = self.tail.val\n",
        "        self.tail = self.tail.prev\n",
        "        if self.tail is None:\n",
        "            self.head = None\n",
        "        else:\n",
        "            self.tail.next = None\n",
        "        self.size -= 1\n",
        "        return val\n",
        "\n",
        "    def popMiddle(self):\n",
        "        if self.size == 0:\n",
        "            return -1\n",
        "        if self.size % 2 == 0:\n",
        "            mid = self.size // 2 - 1\n",
        "            node = self.head\n",
        "            for _ in range(mid):\n",
        "                node = node.next\n",
        "            val = node.next.val\n",
        "            node.next = node.next.next\n",
        "            if node.next is not None:\n",
        "                node.next.prev = node\n",
        "            else:\n",
        "                self.tail = node\n",
        "        else:\n",
        "            mid = self.size // 2\n",
        "            node = self.head\n",
        "            for _ in range(mid):\n",
        "                node = node.next\n",
        "            val = node.val\n",
        "            if node.prev is not None:\n",
        "                node.prev.next = node.next\n",
        "            else:\n",
        "                self.head = node.next\n",
        "            if node.next is not None:\n",
        "                node.next.prev = node.prev\n",
        "            else:\n",
        "                self.tail = node.prev\n",
        "        self.size -= 1\n",
        "        return val\n",
        "\n",
        "# Test the FrontMiddleBackQueue class\n",
        "q = FrontMiddleBackQueue()\n",
        "q.pushFront(1)\n",
        "q.pushBack(2)\n",
        "q.pushMiddle(3)\n",
        "q.pushMiddle(4)\n",
        "print(q.popFront())\n",
        "print(q.popMiddle())\n",
        "print(q.popMiddle())\n",
        "print(q.popBack())\n",
        "print(q.popFront())    # (Queue is empty)\n"
      ],
      "metadata": {
        "colab": {
          "base_uri": "https://localhost:8080/"
        },
        "id": "Su0juhIUDFlv",
        "outputId": "78268597-5c74-4857-a0aa-ec9a40070141"
      },
      "execution_count": 16,
      "outputs": [
        {
          "output_type": "stream",
          "name": "stdout",
          "text": [
            "1\n",
            "3\n",
            "2\n",
            "4\n",
            "-1\n"
          ]
        }
      ]
    },
    {
      "cell_type": "markdown",
      "source": [
        "#Question 8\n",
        "\n",
        "For a stream of integers, implement a data structure that checks if the last `k` integers parsed in the stream are **equal** to `value`.\n",
        "\n",
        "Implement the **DataStream** class:\n",
        "\n",
        "- `DataStream(int value, int k)` Initializes the object with an empty integer stream and the two integers `value` and `k`.\n",
        "- `boolean consec(int num)` Adds `num` to the stream of integers. Returns `true` if the last `k` integers are equal to `value`, and `false` otherwise. If there are less than `k` integers, the condition does not hold true, so returns `false`.\n",
        "\n",
        "**Example 1:**\n",
        "Input\n",
        "[\"DataStream\", \"consec\", \"consec\", \"consec\", \"consec\"]\n",
        "[[4, 3], [4], [4], [4], [3]]\n",
        "Output\n",
        "[null, false, false, true, false]\n",
        "\n",
        "Explanation\n",
        "DataStream dataStream = new DataStream(4, 3); //value = 4, k = 3\n",
        "dataStream.consec(4); // Only 1 integer is parsed, so returns False.\n",
        "dataStream.consec(4); // Only 2 integers are parsed.\n",
        "                      // Since 2 is less than k, returns False.\n",
        "dataStream.consec(4); // The 3 integers parsed are all equal to value, so returns True.\n",
        "dataStream.consec(3); // The last k integers parsed in the stream are [4,4,3].\n",
        "                      // Since 3 is not equal to value, it returns False."
      ],
      "metadata": {
        "id": "qtgHUMVUDRmQ"
      }
    },
    {
      "cell_type": "code",
      "source": [
        "from collections import deque\n",
        "\n",
        "class DataStream:\n",
        "    def __init__(self, value, k):\n",
        "        self.value = value\n",
        "        self.k = k\n",
        "        self.stream = deque()\n",
        "\n",
        "    def consec(self, num):\n",
        "        self.stream.append(num)\n",
        "        if len(self.stream) >= self.k:\n",
        "            return all(x == self.value for x in self.stream)\n",
        "        return False\n"
      ],
      "metadata": {
        "id": "55GE230eDUHn"
      },
      "execution_count": 17,
      "outputs": []
    },
    {
      "cell_type": "code",
      "source": [
        "dataStream = DataStream(4, 3)\n",
        "print(dataStream.consec(4))\n",
        "print(dataStream.consec(4))\n",
        "print(dataStream.consec(4))\n",
        "\n",
        "print(dataStream.consec(3))\n"
      ],
      "metadata": {
        "colab": {
          "base_uri": "https://localhost:8080/"
        },
        "id": "rO2ddwsSDgog",
        "outputId": "8c7369e6-c538-4e9e-e58d-c143cd6ccc54"
      },
      "execution_count": 18,
      "outputs": [
        {
          "output_type": "stream",
          "name": "stdout",
          "text": [
            "False\n",
            "False\n",
            "True\n",
            "False\n"
          ]
        }
      ]
    },
    {
      "cell_type": "code",
      "source": [],
      "metadata": {
        "id": "ALCTuwgkDnaX"
      },
      "execution_count": null,
      "outputs": []
    }
  ]
}