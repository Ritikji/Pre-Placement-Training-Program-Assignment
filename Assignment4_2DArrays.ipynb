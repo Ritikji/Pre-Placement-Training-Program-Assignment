{
  "nbformat": 4,
  "nbformat_minor": 0,
  "metadata": {
    "colab": {
      "provenance": []
    },
    "kernelspec": {
      "name": "python3",
      "display_name": "Python 3"
    },
    "language_info": {
      "name": "python"
    }
  },
  "cells": [
    {
      "cell_type": "markdown",
      "source": [
        "**<aside>\n",
        "💡 **Question 1**\n",
        "Given three integer arrays arr1, arr2 and arr3 **sorted** in **strictly increasing** order, return a sorted array of **only** the integers that appeared in **all** three arrays.\n",
        "\n",
        "**Example 1:**\n",
        "\n",
        "Input: arr1 = [1,2,3,4,5], arr2 = [1,2,5,7,9], arr3 = [1,3,4,5,8]\n",
        "\n",
        "Output: [1,5]\n",
        "\n",
        "**Explanation:** Only 1 and 5 appeared in the three arrays.\n",
        "\n",
        "</aside>**"
      ],
      "metadata": {
        "id": "830Yb8JOFvu7"
      }
    },
    {
      "cell_type": "code",
      "execution_count": 1,
      "metadata": {
        "id": "BZFq8HgaForR"
      },
      "outputs": [],
      "source": [
        "def find_common_elements(arr1, arr2, arr3):\n",
        "    ptr1 = ptr2 = ptr3 = 0\n",
        "    result = []\n",
        "\n",
        "    while ptr1 < len(arr1) and ptr2 < len(arr2) and ptr3 < len(arr3):\n",
        "        if arr1[ptr1] == arr2[ptr2] == arr3[ptr3]:\n",
        "            result.append(arr1[ptr1])\n",
        "            ptr1 += 1\n",
        "            ptr2 += 1\n",
        "            ptr3 += 1\n",
        "        elif arr1[ptr1] <= arr2[ptr2] and arr1[ptr1] <= arr3[ptr3]:\n",
        "            ptr1 += 1\n",
        "        elif arr2[ptr2] <= arr1[ptr1] and arr2[ptr2] <= arr3[ptr3]:\n",
        "            ptr2 += 1\n",
        "        else:\n",
        "            ptr3 += 1\n",
        "\n",
        "    return result\n"
      ]
    },
    {
      "cell_type": "code",
      "source": [
        "arr1 = [1, 2, 3, 4, 5]\n",
        "arr2 = [1, 2, 5, 7, 9]\n",
        "arr3 = [1, 3, 4, 5, 8]\n",
        "\n",
        "print(find_common_elements(arr1, arr2, arr3))"
      ],
      "metadata": {
        "colab": {
          "base_uri": "https://localhost:8080/"
        },
        "id": "mmhnq3txF1Z8",
        "outputId": "9410140e-6b47-470a-cb61-e4cc2b7fc512"
      },
      "execution_count": 2,
      "outputs": [
        {
          "output_type": "stream",
          "name": "stdout",
          "text": [
            "[1, 5]\n"
          ]
        }
      ]
    },
    {
      "cell_type": "markdown",
      "source": [
        "**<aside>\n",
        "💡 **Question 2**\n",
        "\n",
        "Given two **0-indexed** integer arrays nums1 and nums2, return *a list* answer *of size* 2 *where:*\n",
        "\n",
        "- answer[0] *is a list of all **distinct** integers in* nums1 *which are **not** present in* nums2*.*\n",
        "- answer[1] *is a list of all **distinct** integers in* nums2 *which are **not** present in* nums1.\n",
        "\n",
        "**Note** that the integers in the lists may be returned in **any** order.\n",
        "\n",
        "**Example 1:**\n",
        "\n",
        "**Input:** nums1 = [1,2,3], nums2 = [2,4,6]\n",
        "\n",
        "**Output:** [[1,3],[4,6]]\n",
        "\n",
        "**Explanation:**\n",
        "\n",
        "For nums1, nums1[1] = 2 is present at index 0 of nums2, whereas nums1[0] = 1 and nums1[2] = 3 are not present in nums2. Therefore, answer[0] = [1,3].\n",
        "\n",
        "For nums2, nums2[0] = 2 is present at index 1 of nums1, whereas nums2[1] = 4 and nums2[2] = 6 are not present in nums2. Therefore, answer[1] = [4,6].\n",
        "\n",
        "</aside>**"
      ],
      "metadata": {
        "id": "BiViJf-PGE_r"
      }
    },
    {
      "cell_type": "code",
      "source": [
        "def find_disjoint_elements(nums1, nums2):\n",
        "    set1 = set(nums1)\n",
        "    set2 = set(nums2)\n",
        "\n",
        "    diff1 = set1 - set2\n",
        "    diff2 = set2 - set1\n",
        "\n",
        "    return [list(diff1), list(diff2)]\n"
      ],
      "metadata": {
        "id": "AU2GNmDdF_gb"
      },
      "execution_count": 3,
      "outputs": []
    },
    {
      "cell_type": "code",
      "source": [
        "nums1 = [1, 2, 3]\n",
        "nums2 = [2, 4, 6]\n",
        "\n",
        "print(find_disjoint_elements(nums1, nums2))\n"
      ],
      "metadata": {
        "colab": {
          "base_uri": "https://localhost:8080/"
        },
        "id": "nZHyFNe9GJx1",
        "outputId": "6f532c6a-6ff5-4e4d-f3e3-77bc4e52f51a"
      },
      "execution_count": 4,
      "outputs": [
        {
          "output_type": "stream",
          "name": "stdout",
          "text": [
            "[[1, 3], [4, 6]]\n"
          ]
        }
      ]
    },
    {
      "cell_type": "markdown",
      "source": [
        "**<aside>\n",
        "💡 **Question 3**\n",
        "Given a 2D integer array matrix, return *the **transpose** of* matrix.\n",
        "\n",
        "The **transpose** of a matrix is the matrix flipped over its main diagonal, switching the matrix's row and column indices.\n",
        "\n",
        "**Example 1:**\n",
        "\n",
        "Input: matrix = [[1,2,3],[4,5,6],[7,8,9]]\n",
        "\n",
        "Output: [[1,4,7],[2,5,8],[3,6,9]]\n",
        "\n",
        "</aside>**"
      ],
      "metadata": {
        "id": "VdDTMNd8GRJS"
      }
    },
    {
      "cell_type": "code",
      "source": [
        "def transpose(matrix):\n",
        "    rows = len(matrix)\n",
        "    columns = len(matrix[0])\n",
        "    \n",
        "    result = [[0 for _ in range(rows)] for _ in range(columns)]\n",
        "\n",
        "    for row in range(rows):\n",
        "        for column in range(columns):\n",
        "            result[column][row] = matrix[row][column]\n",
        "\n",
        "    return result\n"
      ],
      "metadata": {
        "id": "76r37h40GLT8"
      },
      "execution_count": 5,
      "outputs": []
    },
    {
      "cell_type": "code",
      "source": [
        "matrix = [[1, 2, 3], [4, 5, 6], [7, 8, 9]]\n",
        "\n",
        "print(transpose(matrix))\n"
      ],
      "metadata": {
        "colab": {
          "base_uri": "https://localhost:8080/"
        },
        "id": "2C6ofKlzGUM7",
        "outputId": "2aadf1f0-206a-46d5-b74f-e3a1be125501"
      },
      "execution_count": 6,
      "outputs": [
        {
          "output_type": "stream",
          "name": "stdout",
          "text": [
            "[[1, 4, 7], [2, 5, 8], [3, 6, 9]]\n"
          ]
        }
      ]
    },
    {
      "cell_type": "markdown",
      "source": [
        "**<aside>\n",
        "💡 **Question 4**\n",
        "Given an integer array nums of 2n integers, group these integers into n pairs (a1, b1), (a2, b2), ..., (an, bn) such that the sum of min(ai, bi) for all i is **maximized**. Return *the maximized sum*.\n",
        "\n",
        "**Example 1:**\n",
        "\n",
        "Input: nums = [1,4,3,2]\n",
        "\n",
        "Output: 4\n",
        "\n",
        "**Explanation:** All possible pairings (ignoring the ordering of elements) are:\n",
        "\n",
        "1. (1, 4), (2, 3) -> min(1, 4) + min(2, 3) = 1 + 2 = 3\n",
        "\n",
        "2. (1, 3), (2, 4) -> min(1, 3) + min(2, 4) = 1 + 2 = 3\n",
        "\n",
        "3. (1, 2), (3, 4) -> min(1, 2) + min(3, 4) = 1 + 3 = 4\n",
        "\n",
        "So the maximum possible sum is 4.\n",
        "\n",
        "</aside>**"
      ],
      "metadata": {
        "id": "KNaHyl1PGiOp"
      }
    },
    {
      "cell_type": "code",
      "source": [
        "def array_pair_sum(nums):\n",
        "    nums.sort()\n",
        "    max_sum = 0\n",
        "\n",
        "    for i in range(0, len(nums), 2):\n",
        "        max_sum += nums[i]\n",
        "\n",
        "    return max_sum\n"
      ],
      "metadata": {
        "id": "PnPjMuKbGV2y"
      },
      "execution_count": 7,
      "outputs": []
    },
    {
      "cell_type": "code",
      "source": [
        "nums = [1, 4, 3, 2]\n",
        "print(array_pair_sum(nums))\n"
      ],
      "metadata": {
        "colab": {
          "base_uri": "https://localhost:8080/"
        },
        "id": "mBG_nLHnGklm",
        "outputId": "764d9de1-e272-4c80-8e23-0a6aca82087c"
      },
      "execution_count": 8,
      "outputs": [
        {
          "output_type": "stream",
          "name": "stdout",
          "text": [
            "4\n"
          ]
        }
      ]
    },
    {
      "cell_type": "markdown",
      "source": [
        "**<aside>\n",
        "💡 **Question 5**\n",
        "You have n coins and you want to build a staircase with these coins. The staircase consists of k rows where the ith row has exactly i coins. The last row of the staircase **may be** incomplete.\n",
        "\n",
        "Given the integer n, return *the number of **complete rows** of the staircase you will build*.\n",
        "\n",
        "**Example 1:**\n",
        "\n",
        "[]()\n",
        "\n",
        "![v2.jpg](https://s3-us-west-2.amazonaws.com/secure.notion-static.com/4bd91cfa-d2b1-47b3-8197-a72e8dcfff4b/v2.jpg)\n",
        "\n",
        "**Input:** n = 5\n",
        "\n",
        "**Output:** 2\n",
        "\n",
        "**Explanation:** Because the 3rd row is incomplete, we return 2.\n",
        "\n",
        "</aside>**"
      ],
      "metadata": {
        "id": "8qAEFlN1GpyK"
      }
    },
    {
      "cell_type": "code",
      "source": [
        "import math\n",
        "\n",
        "def arrange_coins(n):\n",
        "    complete_rows = 0\n",
        "    k = 1\n",
        "\n",
        "    while (k * (k + 1) // 2) <= n:\n",
        "        complete_rows += 1\n",
        "        k += 1\n",
        "\n",
        "    return complete_rows\n"
      ],
      "metadata": {
        "id": "nEEwh_P_GmCP"
      },
      "execution_count": 9,
      "outputs": []
    },
    {
      "cell_type": "code",
      "source": [
        "n = 5\n",
        "print(arrange_coins(n))\n"
      ],
      "metadata": {
        "colab": {
          "base_uri": "https://localhost:8080/"
        },
        "id": "2GnO6dgWGs1H",
        "outputId": "2154d4bd-c900-4ea1-aa16-9c5630c01b16"
      },
      "execution_count": 10,
      "outputs": [
        {
          "output_type": "stream",
          "name": "stdout",
          "text": [
            "2\n"
          ]
        }
      ]
    },
    {
      "cell_type": "markdown",
      "source": [
        "**<aside>\n",
        "💡 **Question 6**\n",
        "Given an integer array nums sorted in **non-decreasing** order, return *an array of **the squares of each number** sorted in non-decreasing order*.\n",
        "\n",
        "**Example 1:**\n",
        "\n",
        "Input: nums = [-4,-1,0,3,10]\n",
        "\n",
        "Output: [0,1,9,16,100]\n",
        "\n",
        "**Explanation:** After squaring, the array becomes [16,1,0,9,100].\n",
        "After sorting, it becomes [0,1,9,16,100]\n",
        "\n",
        "</aside>**"
      ],
      "metadata": {
        "id": "YRhoBVZ7GyEa"
      }
    },
    {
      "cell_type": "code",
      "source": [
        "def sorted_squares(nums):\n",
        "    left = 0\n",
        "    right = len(nums) - 1\n",
        "    result = []\n",
        "\n",
        "    while left <= right:\n",
        "        if nums[left] * nums[left] >= nums[right] * nums[right]:\n",
        "            result.insert(0, nums[left] * nums[left])\n",
        "            left += 1\n",
        "        else:\n",
        "            result.insert(0, nums[right] * nums[right])\n",
        "            right -= 1\n",
        "\n",
        "    return result[::-1]\n"
      ],
      "metadata": {
        "id": "4etTH6OzGukQ"
      },
      "execution_count": 11,
      "outputs": []
    },
    {
      "cell_type": "code",
      "source": [
        "nums = [-4, -1, 0, 3, 10]\n",
        "print(sorted_squares(nums))\n"
      ],
      "metadata": {
        "colab": {
          "base_uri": "https://localhost:8080/"
        },
        "id": "mJ0Ihw9iG0kO",
        "outputId": "75a02b1e-ce86-4add-dc8d-3b29cf2e50da"
      },
      "execution_count": 12,
      "outputs": [
        {
          "output_type": "stream",
          "name": "stdout",
          "text": [
            "[100, 16, 9, 1, 0]\n"
          ]
        }
      ]
    },
    {
      "cell_type": "markdown",
      "source": [
        "**<aside>\n",
        "💡 **Question 7**\n",
        "You are given an m x n matrix M initialized with all 0's and an array of operations ops, where ops[i] = [ai, bi] means M[x][y] should be incremented by one for all 0 <= x < ai and 0 <= y < bi.\n",
        "\n",
        "Count and return *the number of maximum integers in the matrix after performing all the operations*\n",
        "\n",
        "**Example 1:**\n",
        "\n",
        "![q4.jpg](https://s3-us-west-2.amazonaws.com/secure.notion-static.com/4d0890d0-7bc7-4f59-be8e-352d9f3c1c52/q4.jpg)\n",
        "\n",
        "**Input:** m = 3, n = 3, ops = [[2,2],[3,3]]\n",
        "\n",
        "**Output:** 4\n",
        "\n",
        "**Explanation:** The maximum integer in M is 2, and there are four of it in M. So return 4.\n",
        "\n",
        "</aside>**"
      ],
      "metadata": {
        "id": "8D9HvZhSG5H0"
      }
    },
    {
      "cell_type": "code",
      "source": [
        "def max_count(m, n, ops):\n",
        "    min_row = m\n",
        "    min_col = n\n",
        "\n",
        "    for op in ops:\n",
        "        min_row = min(min_row, op[0])\n",
        "        min_col = min(min_col, op[1])\n",
        "\n",
        "    return min_row * min_col\n",
        "m = 3\n",
        "n = 3\n",
        "ops = [[2, 2], [3, 3]]\n",
        "\n",
        "print(max_count(m, n, ops))\n"
      ],
      "metadata": {
        "colab": {
          "base_uri": "https://localhost:8080/"
        },
        "id": "EJJe_5QsG1-_",
        "outputId": "63ebcae5-bef0-40a4-b8b8-57384915ed48"
      },
      "execution_count": 13,
      "outputs": [
        {
          "output_type": "stream",
          "name": "stdout",
          "text": [
            "4\n"
          ]
        }
      ]
    },
    {
      "cell_type": "markdown",
      "source": [
        "**<aside>\n",
        "💡 **Question 8**\n",
        "\n",
        "Given the array nums consisting of 2n elements in the form [x1,x2,...,xn,y1,y2,...,yn].\n",
        "\n",
        "*Return the array in the form* [x1,y1,x2,y2,...,xn,yn].\n",
        "\n",
        "**Example 1:**\n",
        "\n",
        "**Input:** nums = [2,5,1,3,4,7], n = 3\n",
        "\n",
        "**Output:** [2,3,5,4,1,7]\n",
        "\n",
        "**Explanation:** Since x1=2, x2=5, x3=1, y1=3, y2=4, y3=7 then the answer is [2,3,5,4,1,7].\n",
        "\n",
        "</aside>**"
      ],
      "metadata": {
        "id": "7KNqVDIpHErZ"
      }
    },
    {
      "cell_type": "code",
      "source": [
        "def shuffle(nums, n):\n",
        "    p1 = 0\n",
        "    p2 = n\n",
        "    result = []\n",
        "\n",
        "    while p1 < n:\n",
        "        result.append(nums[p1])\n",
        "        result.append(nums[p2])\n",
        "        p1 += 1\n",
        "        p2 += 1\n",
        "\n",
        "    return result\n",
        "nums = [2, 5, 1, 3, 4, 7]\n",
        "n = 3\n",
        "\n",
        "print(shuffle(nums, n))\n"
      ],
      "metadata": {
        "colab": {
          "base_uri": "https://localhost:8080/"
        },
        "id": "Ts6pWNNZHAn8",
        "outputId": "58e86b3a-0404-424a-9b30-97e6e7c2a6e5"
      },
      "execution_count": 14,
      "outputs": [
        {
          "output_type": "stream",
          "name": "stdout",
          "text": [
            "[2, 3, 5, 4, 1, 7]\n"
          ]
        }
      ]
    },
    {
      "cell_type": "code",
      "source": [],
      "metadata": {
        "id": "fuI4wKQJHL7X"
      },
      "execution_count": null,
      "outputs": []
    }
  ]
}