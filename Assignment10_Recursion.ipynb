{
  "nbformat": 4,
  "nbformat_minor": 0,
  "metadata": {
    "colab": {
      "provenance": []
    },
    "kernelspec": {
      "name": "python3",
      "display_name": "Python 3"
    },
    "language_info": {
      "name": "python"
    }
  },
  "cells": [
    {
      "cell_type": "markdown",
      "source": [
        "**<aside>\n",
        "💡 **Question 1**\n",
        "\n",
        "Given an integer `n`, return *`true` if it is a power of three. Otherwise, return `false`*.\n",
        "\n",
        "An integer `n` is a power of three, if there exists an integer `x` such that `n == 3x`.\n",
        "\n",
        "**Example 1:**\n",
        "\n",
        "</aside>**"
      ],
      "metadata": {
        "id": "oZ9BqDK_UEk0"
      }
    },
    {
      "cell_type": "code",
      "execution_count": 1,
      "metadata": {
        "id": "gCo0oYyET3Fn"
      },
      "outputs": [],
      "source": [
        "def isPowerOfThree(n):\n",
        "    if n <= 0:\n",
        "        return False\n",
        "    while n % 3 == 0:\n",
        "        n //= 3\n",
        "    return n == 1\n"
      ]
    },
    {
      "cell_type": "code",
      "source": [
        "print(isPowerOfThree(27)) \n"
      ],
      "metadata": {
        "colab": {
          "base_uri": "https://localhost:8080/"
        },
        "id": "2i499TYuUIgI",
        "outputId": "42e8ba0b-242c-4f30-aacd-7727de4137e6"
      },
      "execution_count": 13,
      "outputs": [
        {
          "output_type": "stream",
          "name": "stdout",
          "text": [
            "True\n"
          ]
        }
      ]
    },
    {
      "cell_type": "markdown",
      "source": [
        "Example 2:**Input: n = 0\n",
        "Output: false\n",
        "Explanation: There is no x where 3x = 0.\n"
      ],
      "metadata": {
        "id": "-nZtqs5XUgHt"
      }
    },
    {
      "cell_type": "code",
      "source": [
        "def isPowerOfThree(n):\n",
        "    if n <= 0:\n",
        "        return False\n",
        "    while n % 3 == 0:\n",
        "        n //= 3\n",
        "    return n == 1\n"
      ],
      "metadata": {
        "id": "4Dg4ZTC5UKR2"
      },
      "execution_count": 3,
      "outputs": []
    },
    {
      "cell_type": "code",
      "source": [
        "print(isPowerOfThree(8))  \n"
      ],
      "metadata": {
        "colab": {
          "base_uri": "https://localhost:8080/"
        },
        "id": "PF4BUqC8Uns2",
        "outputId": "7fbb429f-4a96-44f5-9555-2200bc7e645b"
      },
      "execution_count": 12,
      "outputs": [
        {
          "output_type": "stream",
          "name": "stdout",
          "text": [
            "False\n"
          ]
        }
      ]
    },
    {
      "cell_type": "markdown",
      "source": [
        "**\n",
        "Example 3:Input: n = -1\n",
        "Output: false\n",
        "Explanation: There is no x where 3x = (-1).**"
      ],
      "metadata": {
        "id": "5elTJh0EUvDe"
      }
    },
    {
      "cell_type": "code",
      "source": [
        "def isPowerOfThree(n):\n",
        "    if n <= 0:\n",
        "        return False\n",
        "    while n % 3 == 0:\n",
        "        n //= 3\n",
        "    return n == 1\n"
      ],
      "metadata": {
        "id": "fG7IHV5YUp1X"
      },
      "execution_count": 5,
      "outputs": []
    },
    {
      "cell_type": "code",
      "source": [
        "print(isPowerOfThree(-1))  \n"
      ],
      "metadata": {
        "colab": {
          "base_uri": "https://localhost:8080/"
        },
        "id": "fCPJ4LcfVKjP",
        "outputId": "39d9e4ad-c881-469d-8d15-ee39f308d483"
      },
      "execution_count": 11,
      "outputs": [
        {
          "output_type": "stream",
          "name": "stdout",
          "text": [
            "False\n"
          ]
        }
      ]
    },
    {
      "cell_type": "markdown",
      "source": [
        "**<aside>\n",
        "💡 **Question 2**\n",
        "\n",
        "You have a list `arr` of all integers in the range `[1, n]` sorted in a strictly increasing order. Apply the following algorithm on `arr`:\n",
        "\n",
        "- Starting from left to right, remove the first number and every other number afterward until you reach the end of the list.\n",
        "- Repeat the previous step again, but this time from right to left, remove the rightmost number and every other number from the remaining numbers.\n",
        "- Keep repeating the steps again, alternating left to right and right to left, until a single number remains.\n",
        "\n",
        "Given the integer `n`, return *the last number that remains in* `arr`.\n",
        "\n",
        "</aside>\n",
        "Example 1:Input: n = 9\n",
        "Output: 6\n",
        "Explanation:\n",
        "arr = [1, 2,3, 4,5, 6,7, 8,9]\n",
        "arr = [2,4, 6,8]\n",
        "arr = [2, 6]\n",
        "arr = [6]\n",
        "**"
      ],
      "metadata": {
        "id": "lyvvPVuTVPbI"
      }
    },
    {
      "cell_type": "code",
      "source": [
        "def isPowerOfThree(n):\n",
        "    if n <= 0:\n",
        "        return False\n",
        "    while n % 3 == 0:\n",
        "        n //= 3\n",
        "    return n == 1\n"
      ],
      "metadata": {
        "id": "t3aZSt00VMGH"
      },
      "execution_count": 7,
      "outputs": []
    },
    {
      "cell_type": "code",
      "source": [
        "print(isPowerOfThree(-1)) \n"
      ],
      "metadata": {
        "colab": {
          "base_uri": "https://localhost:8080/"
        },
        "id": "ruN8bt5WVkFf",
        "outputId": "e44f8356-226a-4971-bdcc-d006411af199"
      },
      "execution_count": 10,
      "outputs": [
        {
          "output_type": "stream",
          "name": "stdout",
          "text": [
            "False\n"
          ]
        }
      ]
    },
    {
      "cell_type": "markdown",
      "source": [
        "Example 2:Input: n = 1\n",
        "Output: 1"
      ],
      "metadata": {
        "id": "Sk80xJViVZvQ"
      }
    },
    {
      "cell_type": "code",
      "source": [
        "def lastRemaining(n):\n",
        "    return 1\n",
        "\n",
        "print(lastRemaining(1))  \n"
      ],
      "metadata": {
        "colab": {
          "base_uri": "https://localhost:8080/"
        },
        "id": "Rcsly6lxVf1_",
        "outputId": "a924c5f3-bc5f-447e-dc23-0670e20a6e1e"
      },
      "execution_count": 9,
      "outputs": [
        {
          "output_type": "stream",
          "name": "stdout",
          "text": [
            "1\n"
          ]
        }
      ]
    },
    {
      "cell_type": "markdown",
      "source": [
        "**<aside>\n",
        "💡 **Question 3**\n",
        "\n",
        "****Given a set represented as a string, write a recursive code to print all subsets of it. The subsets can be printed in any order.\n",
        "\n",
        "**Example 1:**\n",
        "\n",
        "Input :  set = “abc”\n",
        "\n",
        "Output : { “”, “a”, “b”, “c”, “ab”, “ac”, “bc”, “abc”}\n",
        "\n",
        "</aside>**"
      ],
      "metadata": {
        "id": "8LbDGzuVWbrK"
      }
    },
    {
      "cell_type": "code",
      "source": [
        "def printSubsets(s, current=\"\", index=0):\n",
        "    if index == len(s):\n",
        "        print(current)\n",
        "        return\n",
        "\n",
        "    printSubsets(s, current, index + 1)  # Exclude current character\n",
        "    printSubsets(s, current + s[index], index + 1)  # Include current character\n",
        "\n",
        "def printAllSubsets(s):\n",
        "    printSubsets(s)\n",
        "\n"
      ],
      "metadata": {
        "id": "SHnlFm3uV04X"
      },
      "execution_count": 14,
      "outputs": []
    },
    {
      "cell_type": "code",
      "source": [
        "printAllSubsets(\"abc\")\n"
      ],
      "metadata": {
        "colab": {
          "base_uri": "https://localhost:8080/"
        },
        "id": "jIJ7N29nWsun",
        "outputId": "d3512d81-303f-4a6c-94b3-5710878ac854"
      },
      "execution_count": 15,
      "outputs": [
        {
          "output_type": "stream",
          "name": "stdout",
          "text": [
            "\n",
            "c\n",
            "b\n",
            "bc\n",
            "a\n",
            "ac\n",
            "ab\n",
            "abc\n"
          ]
        }
      ]
    },
    {
      "cell_type": "markdown",
      "source": [
        "**Example 2:**\n",
        "\n",
        "Input : set = “abcd”\n",
        "\n",
        "Output : { “”, “a” ,”ab” ,”abc” ,”abcd”, “abd” ,”ac” ,”acd”, “ad” ,”b”, “bc” ,”bcd” ,”bd” ,”c” ,”cd” ,”d” }"
      ],
      "metadata": {
        "id": "_5PeroOxW24X"
      }
    },
    {
      "cell_type": "code",
      "source": [
        "def printSubsets(s, current=\"\", index=0):\n",
        "    if index == len(s):\n",
        "        print(current)\n",
        "        return\n",
        "\n",
        "    printSubsets(s, current, index + 1)  # Exclude current character\n",
        "    printSubsets(s, current + s[index], index + 1)  # Include current character\n",
        "\n",
        "def printAllSubsets(s):\n",
        "    printSubsets(s)\n",
        "\n"
      ],
      "metadata": {
        "id": "doZ8wetRWuvX"
      },
      "execution_count": 16,
      "outputs": []
    },
    {
      "cell_type": "code",
      "source": [
        "printAllSubsets(\"abcd\")\n"
      ],
      "metadata": {
        "colab": {
          "base_uri": "https://localhost:8080/"
        },
        "id": "VfO6izZyW5Zf",
        "outputId": "e2c76ab9-e5ad-421c-96c9-bca302844e6b"
      },
      "execution_count": 17,
      "outputs": [
        {
          "output_type": "stream",
          "name": "stdout",
          "text": [
            "\n",
            "d\n",
            "c\n",
            "cd\n",
            "b\n",
            "bd\n",
            "bc\n",
            "bcd\n",
            "a\n",
            "ad\n",
            "ac\n",
            "acd\n",
            "ab\n",
            "abd\n",
            "abc\n",
            "abcd\n"
          ]
        }
      ]
    },
    {
      "cell_type": "markdown",
      "source": [
        "** **Question 4**\n",
        "\n",
        "Given a string calculate length of the string using recursion.\n",
        "\n",
        "</aside>\n",
        "example\n",
        "Input : str = \"abcd\"\n",
        "Output :4\n",
        "\n",
        "Input : str = \"GEEKSFORGEEKS\"\n",
        "Output :13**"
      ],
      "metadata": {
        "id": "JB-lDbLrXK1L"
      }
    },
    {
      "cell_type": "code",
      "source": [
        "def stringLength(string):\n",
        "    if string == '':\n",
        "        return 0\n",
        "    else:\n",
        "        return 1 + stringLength(string[1:])\n",
        "\n"
      ],
      "metadata": {
        "id": "5stlrwqSW7k3"
      },
      "execution_count": 18,
      "outputs": []
    },
    {
      "cell_type": "code",
      "source": [
        "str1 = \"abcd\"\n",
        "print(stringLength(str1))  \n",
        "\n",
        "str2 = \"GEEKSFORGEEKS\"\n",
        "print(stringLength(str2))  \n"
      ],
      "metadata": {
        "colab": {
          "base_uri": "https://localhost:8080/"
        },
        "id": "lI_A91tyXQ3Y",
        "outputId": "6bf71134-aebd-4ac6-b584-bd54339ba163"
      },
      "execution_count": 20,
      "outputs": [
        {
          "output_type": "stream",
          "name": "stdout",
          "text": [
            "4\n",
            "13\n"
          ]
        }
      ]
    },
    {
      "cell_type": "markdown",
      "source": [
        "**<aside>\n",
        "💡 **Question 5**\n",
        "\n",
        "We are given a string S, we need to find count of all contiguous substrings starting and ending with same character.\n",
        "\n",
        "</aside>\n",
        "example\n",
        "Input  : S = \"abcab\"\n",
        "Output : 7\n",
        "There are 15 substrings of \"abcab\"\n",
        "a, ab, abc, abca, abcab, b, bc, bca\n",
        "bcab, c, ca, cab, a, ab, b\n",
        "Out of the above substrings, there\n",
        "are 7 substrings : a, abca, b, bcab,\n",
        "c, a and b.\n",
        "\n",
        "Input  : S = \"aba\"\n",
        "Output : 4\n",
        "The substrings are a, b, a and aba**"
      ],
      "metadata": {
        "id": "tKZNmurAXbu3"
      }
    },
    {
      "cell_type": "code",
      "source": [
        "def countSubstrings(s):\n",
        "    count = 0\n",
        "    for i in range(len(s)):\n",
        "        for j in range(i, len(s)):\n",
        "            if s[i] == s[j]:\n",
        "                count += 1\n",
        "    return count\n",
        "\n"
      ],
      "metadata": {
        "id": "-0OYWEIiXSvf"
      },
      "execution_count": 21,
      "outputs": []
    },
    {
      "cell_type": "code",
      "source": [
        "str1 = \"abcab\"\n",
        "print(countSubstrings(str1))  \n",
        "\n",
        "str2 = \"aba\"\n",
        "print(countSubstrings(str2))  \n"
      ],
      "metadata": {
        "colab": {
          "base_uri": "https://localhost:8080/"
        },
        "id": "N3hmCm0XXikn",
        "outputId": "0184349e-5640-498f-c82e-56c5a0efb811"
      },
      "execution_count": 22,
      "outputs": [
        {
          "output_type": "stream",
          "name": "stdout",
          "text": [
            "7\n",
            "4\n"
          ]
        }
      ]
    },
    {
      "cell_type": "markdown",
      "source": [
        "**<aside>\n",
        "💡 **Question 6**\n",
        "\n",
        "The [tower of Hanoi](https://en.wikipedia.org/wiki/Tower_of_Hanoi) is a famous puzzle where we have three rods and **N** disks. The objective of the puzzle is to move the entire stack to another rod. You are given the number of discs **N**. Initially, these discs are in the rod 1. You need to print all the steps of discs movement so that all the discs reach the 3rd rod. Also, you need to find the total moves.**Note:** The discs are arranged such that the **top disc is numbered 1** and the **bottom-most disc is numbered N**. Also, all the discs have **different sizes** and a bigger disc **cannot** be put on the top of a smaller disc. Refer the provided link to get a better clarity about the puzzle.\n",
        "\n",
        "</aside>\n",
        "example\n",
        "Input:\n",
        "N = 2\n",
        "Output:\n",
        "move disk 1 from rod 1 to rod 2\n",
        "move disk 2 from rod 1 to rod 3\n",
        "move disk 1 from rod 2 to rod 3\n",
        "3\n",
        "Explanation:For N=2 , steps will be\n",
        "as follows in the example and total\n",
        "3 steps will be taken.**"
      ],
      "metadata": {
        "id": "JqxTPmbqXovS"
      }
    },
    {
      "cell_type": "code",
      "source": [
        "def towerOfHanoi(n, source, destination, auxiliary):\n",
        "    if n == 1:\n",
        "        print(f\"move disk 1 from rod {source} to rod {destination}\")\n",
        "        return 1\n",
        "\n",
        "    count = 0\n",
        "    count += towerOfHanoi(n-1, source, auxiliary, destination)\n",
        "    print(f\"move disk {n} from rod {source} to rod {destination}\")\n",
        "    count += 1\n",
        "    count += towerOfHanoi(n-1, auxiliary, destination, source)\n",
        "\n",
        "    return count\n",
        "\n"
      ],
      "metadata": {
        "id": "4g3fgbjWXkyY"
      },
      "execution_count": 23,
      "outputs": []
    },
    {
      "cell_type": "code",
      "source": [
        "N = 2\n",
        "steps = towerOfHanoi(N, 1, 3, 2)\n",
        "print(steps) \n"
      ],
      "metadata": {
        "colab": {
          "base_uri": "https://localhost:8080/"
        },
        "id": "MfPgY-EUXvK4",
        "outputId": "1954d80b-47b6-406e-b9a5-62b25f98d8db"
      },
      "execution_count": 24,
      "outputs": [
        {
          "output_type": "stream",
          "name": "stdout",
          "text": [
            "move disk 1 from rod 1 to rod 2\n",
            "move disk 2 from rod 1 to rod 3\n",
            "move disk 1 from rod 2 to rod 3\n",
            "3\n"
          ]
        }
      ]
    },
    {
      "cell_type": "markdown",
      "source": [
        "example2\n",
        "Input:\n",
        "N = 3\n",
        "Output:\n",
        "move disk 1 from rod 1 to rod 3\n",
        "move disk 2 from rod 1 to rod 2\n",
        "move disk 1 from rod 3 to rod 2\n",
        "move disk 3 from rod 1 to rod 3\n",
        "move disk 1 from rod 2 to rod 1\n",
        "move disk 2 from rod 2 to rod 3\n",
        "move disk 1 from rod 1 to rod 3\n",
        "7\n",
        "Explanation:For N=3 , steps will be\n",
        "as follows in the example and total\n",
        "7 steps will be taken."
      ],
      "metadata": {
        "id": "-tnSjDGkX2M-"
      }
    },
    {
      "cell_type": "code",
      "source": [
        "def towerOfHanoi(n, source, destination, auxiliary):\n",
        "    if n == 1:\n",
        "        print(f\"move disk 1 from rod {source} to rod {destination}\")\n",
        "        return 1\n",
        "\n",
        "    count = 0\n",
        "    count += towerOfHanoi(n-1, source, auxiliary, destination)\n",
        "    print(f\"move disk {n} from rod {source} to rod {destination}\")\n",
        "    count += 1\n",
        "    count += towerOfHanoi(n-1, auxiliary, destination, source)\n",
        "\n",
        "    return count\n",
        "\n"
      ],
      "metadata": {
        "id": "Ow5FksiYXxYo"
      },
      "execution_count": 25,
      "outputs": []
    },
    {
      "cell_type": "code",
      "source": [
        "N = 3\n",
        "steps = towerOfHanoi(N, 1, 3, 2)\n",
        "print(steps) \n"
      ],
      "metadata": {
        "colab": {
          "base_uri": "https://localhost:8080/"
        },
        "id": "SmSBJ4YOX5ZX",
        "outputId": "f0c2ed49-fd5a-4a8f-c403-ed175ad68c3a"
      },
      "execution_count": 26,
      "outputs": [
        {
          "output_type": "stream",
          "name": "stdout",
          "text": [
            "move disk 1 from rod 1 to rod 3\n",
            "move disk 2 from rod 1 to rod 2\n",
            "move disk 1 from rod 3 to rod 2\n",
            "move disk 3 from rod 1 to rod 3\n",
            "move disk 1 from rod 2 to rod 1\n",
            "move disk 2 from rod 2 to rod 3\n",
            "move disk 1 from rod 1 to rod 3\n",
            "7\n"
          ]
        }
      ]
    },
    {
      "cell_type": "markdown",
      "source": [
        "**<aside>\n",
        "💡 **Question 7**\n",
        "\n",
        "Given a string **str**, the task is to print all the permutations of **str**. A **permutation** is an arrangement of all or part of a set of objects, with regard to the order of the arrangement. For instance, the words ‘bat’ and ‘tab’ represents two distinct permutation (or arrangements) of a similar three letter word.\n",
        "\n",
        "</aside>\n",
        "example\n",
        "> Input: str = “cd”\n",
        "> \n",
        "> \n",
        "> **Output:** cd dc\n",
        "> \n",
        "> **Input:** str = “abb”\n",
        "> \n",
        "> **Output:** abb abb bab bba bab bba\n",
        ">**"
      ],
      "metadata": {
        "id": "NEgO9_m8X-9_"
      }
    },
    {
      "cell_type": "code",
      "source": [
        "def permuteString(s, l, r):\n",
        "    if l == r:\n",
        "        print(\"\".join(s))\n",
        "        return\n",
        "\n",
        "    for i in range(l, r+1):\n",
        "        s[l], s[i] = s[i], s[l]  # Swap characters\n",
        "        permuteString(s, l+1, r)  # Recurse on the remaining substring\n",
        "        s[l], s[i] = s[i], s[l]  # Revert the swap\n",
        "\n",
        "def printPermutations(str):\n",
        "    n = len(str)\n",
        "    s = list(str)\n",
        "    permuteString(s, 0, n-1)\n",
        "\n"
      ],
      "metadata": {
        "id": "CNCCvaJsX7vf"
      },
      "execution_count": 27,
      "outputs": []
    },
    {
      "cell_type": "code",
      "source": [
        "str1 = \"cd\"\n",
        "printPermutations(str1) \n",
        "\n",
        "str2 = \"abb\"\n",
        "printPermutations(str2)  \n"
      ],
      "metadata": {
        "colab": {
          "base_uri": "https://localhost:8080/"
        },
        "id": "e8jkEYC1YI8f",
        "outputId": "5259d953-b5f8-4d49-b9f9-b84ef073f6da"
      },
      "execution_count": 29,
      "outputs": [
        {
          "output_type": "stream",
          "name": "stdout",
          "text": [
            "cd\n",
            "dc\n",
            "abb\n",
            "abb\n",
            "bab\n",
            "bba\n",
            "bba\n",
            "bab\n"
          ]
        }
      ]
    },
    {
      "cell_type": "markdown",
      "source": [
        "**<aside>\n",
        "💡 **Question 8**\n",
        "\n",
        "Given a string, count total number of consonants in it. A consonant is an English alphabet character that is not vowel (a, e, i, o and u). Examples of constants are b, c, d, f, and g.\n",
        "\n",
        "</aside>\n",
        "example\n",
        "Input : abc de\n",
        "Output : 3\n",
        "There are three consonants b, c and d.\n",
        "\n",
        "Input : geeksforgeeks portal\n",
        "Output : 12**"
      ],
      "metadata": {
        "id": "3bKjlNEIYQBn"
      }
    },
    {
      "cell_type": "code",
      "source": [
        "def countConsonants(string):\n",
        "    consonants = \"bcdfghjklmnpqrstvwxyzBCDFGHJKLMNPQRSTVWXYZ\"\n",
        "    count = 0\n",
        "    for char in string:\n",
        "        if char in consonants:\n",
        "            count += 1\n",
        "    return count\n",
        "\n"
      ],
      "metadata": {
        "id": "jtdktTHMYKMo"
      },
      "execution_count": 30,
      "outputs": []
    },
    {
      "cell_type": "code",
      "source": [
        "str1 = \"abc de\"\n",
        "print(countConsonants(str1))  # Output: 3\n",
        "\n",
        "str2 = \"geeksforgeeks portal\"\n",
        "print(countConsonants(str2))  # Output: 12\n",
        "\n"
      ],
      "metadata": {
        "colab": {
          "base_uri": "https://localhost:8080/"
        },
        "id": "J8n54F4pYZdg",
        "outputId": "607de6de-fa32-43c4-a6f5-0a15271ced07"
      },
      "execution_count": 31,
      "outputs": [
        {
          "output_type": "stream",
          "name": "stdout",
          "text": [
            "3\n",
            "12\n"
          ]
        }
      ]
    },
    {
      "cell_type": "code",
      "source": [],
      "metadata": {
        "id": "5uEKaV23Ya84"
      },
      "execution_count": null,
      "outputs": []
    }
  ]
}