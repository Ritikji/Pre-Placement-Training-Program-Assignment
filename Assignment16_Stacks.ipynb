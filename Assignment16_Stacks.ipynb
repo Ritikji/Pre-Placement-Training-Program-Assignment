{
  "nbformat": 4,
  "nbformat_minor": 0,
  "metadata": {
    "colab": {
      "provenance": []
    },
    "kernelspec": {
      "name": "python3",
      "display_name": "Python 3"
    },
    "language_info": {
      "name": "python"
    }
  },
  "cells": [
    {
      "cell_type": "markdown",
      "source": [
        "#Question 1\n",
        "\n",
        "Given an array, for each element find the value of the nearest element to the right which is having a frequency greater than that of the current element. If there does not exist an answer for a position, then make the value ‘-1’.\n",
        "\n",
        "Input: a[] = [1, 1, 2, 3, 4, 2, 1]\n",
        "Output : [-1, -1, 1, 2, 2, 1, -1]\n",
        "\n",
        "Explanation:\n",
        "Given array a[] = [1, 1, 2, 3, 4, 2, 1]\n",
        "Frequency of each element is: 3, 3, 2, 1, 1, 2, 3\n",
        "\n",
        "Lets calls Next Greater Frequency element as NGF\n",
        "1. For element a[0] = 1 which has a frequency = 3,\n",
        "   As it has frequency of 3 and no other next element\n",
        "   has frequency more than 3 so  '-1'\n",
        "2. For element a[1] = 1 it will be -1 same logic\n",
        "   like a[0]\n",
        "3. For element a[2] = 2 which has frequency = 2,\n",
        "   NGF element is 1 at position = 6  with frequency\n",
        "   of 3 > 2\n",
        "4. For element a[3] = 3 which has frequency = 1,\n",
        "   NGF element is 2 at position = 5 with frequency\n",
        "   of 2 > 1\n",
        "5. For element a[4] = 4 which has frequency = 1,\n",
        "   NGF element is 2 at position = 5 with frequency\n",
        "   of 2 > 1\n",
        "6. For element a[5] = 2 which has frequency = 2,\n",
        "   NGF element is 1 at position = 6 with frequency\n",
        "   of 3 > 2\n",
        "7. For element a[6] = 1 there is no element to its\n",
        "   right, hence -1"
      ],
      "metadata": {
        "id": "1VBzVIV0O5rJ"
      }
    },
    {
      "cell_type": "code",
      "execution_count": 1,
      "metadata": {
        "colab": {
          "base_uri": "https://localhost:8080/"
        },
        "id": "T5VvGwotFqHV",
        "outputId": "1ba83ec5-70b2-499c-d519-dce23435e5df"
      },
      "outputs": [
        {
          "output_type": "stream",
          "name": "stdout",
          "text": [
            "[-1, -1, 1, 2, 2, 1, -1]\n"
          ]
        }
      ],
      "source": [
        "def find_nearest_greater_frequency(arr):\n",
        "    freq_dict = {}\n",
        "    result = []\n",
        "\n",
        "    # Calculate the frequency of each element\n",
        "    for num in arr:\n",
        "        freq_dict[num] = freq_dict.get(num, 0) + 1\n",
        "\n",
        "    # Iterate through the array from right to left\n",
        "    for i in range(len(arr) - 1, -1, -1):\n",
        "        curr_freq = freq_dict[arr[i]]\n",
        "        next_greater_freq = -1\n",
        "\n",
        "        # Find the nearest element with greater frequency\n",
        "        for j in range(i + 1, len(arr)):\n",
        "            if freq_dict[arr[j]] > curr_freq:\n",
        "                next_greater_freq = arr[j]\n",
        "                break\n",
        "\n",
        "        result.append(next_greater_freq)\n",
        "\n",
        "    # Reverse the result array to get the correct order\n",
        "    result.reverse()\n",
        "\n",
        "    return result\n",
        "\n",
        "# Example usage\n",
        "arr = [1, 1, 2, 3, 4, 2, 1]\n",
        "output = find_nearest_greater_frequency(arr)\n",
        "print(output)\n"
      ]
    },
    {
      "cell_type": "markdown",
      "source": [
        "#Question 2\n",
        "\n",
        "Given a stack of integers, sort it in ascending order using another temporary stack.\n",
        "\n",
        "Input : [34, 3, 31, 98, 92, 23]\n",
        "Output : [3, 23, 31, 34, 92, 98]\n",
        "\n",
        "Input : [3, 5, 1, 4, 2, 8]\n",
        "Output : [1, 2, 3, 4, 5, 8]"
      ],
      "metadata": {
        "id": "bn5Vei1MPM20"
      }
    },
    {
      "cell_type": "code",
      "source": [
        "def sort_stack(stack):\n",
        "    temp_stack = []\n",
        "\n",
        "    while stack:\n",
        "        temp = stack.pop()\n",
        "\n",
        "        while temp_stack and temp_stack[-1] > temp:\n",
        "            stack.append(temp_stack.pop())\n",
        "\n",
        "        temp_stack.append(temp)\n",
        "\n",
        "    # Reverse the temporary stack to get elements in ascending order\n",
        "    while temp_stack:\n",
        "        stack.append(temp_stack.pop())\n",
        "\n",
        "    return stack\n",
        "\n",
        "# Example usage\n",
        "stack = [34, 3, 31, 98, 92, 23]\n",
        "output = sort_stack(stack)\n",
        "print(output)  # Output: [3, 23, 31, 34, 92, 98]\n",
        "\n",
        "stack = [3, 5, 1, 4, 2, 8]\n",
        "output = sort_stack(stack)\n",
        "print(output)"
      ],
      "metadata": {
        "colab": {
          "base_uri": "https://localhost:8080/"
        },
        "id": "wm-d7P3QPFDp",
        "outputId": "490d51aa-8fa2-4f1e-c075-3c4379f48632"
      },
      "execution_count": 2,
      "outputs": [
        {
          "output_type": "stream",
          "name": "stdout",
          "text": [
            "[98, 92, 34, 31, 23, 3]\n",
            "[8, 5, 4, 3, 2, 1]\n"
          ]
        }
      ]
    },
    {
      "cell_type": "code",
      "source": [],
      "metadata": {
        "id": "ebBiPd1ePUuN"
      },
      "execution_count": null,
      "outputs": []
    },
    {
      "cell_type": "markdown",
      "source": [
        "#Question 3\n",
        "\n",
        "Given a stack with **push()**, **pop()**, and **empty()** operations, The task is to delete the **middle** element ****of it without using any additional data structure.\n",
        "\n",
        "Input  : Stack[] = [1, 2, 3, 4, 5]\n",
        "\n",
        "Output : Stack[] = [1, 2, 4, 5]\n",
        "\n",
        "Input  : Stack[] = [1, 2, 3, 4, 5, 6]\n",
        "\n",
        "Output : Stack[] = [1, 2, 4, 5, 6]\n",
        "\n",
        "</aside>"
      ],
      "metadata": {
        "id": "eRBnLyu3PZR-"
      }
    },
    {
      "cell_type": "code",
      "source": [
        "def delete_middle(stack, pos):\n",
        "    if not stack:  # Base case: stack is empty\n",
        "        return stack\n",
        "\n",
        "    if pos == (len(stack) // 2) + 1:\n",
        "        stack.pop()\n",
        "        return stack\n",
        "\n",
        "    temp = stack.pop()\n",
        "    stack = delete_middle(stack, pos + 1)\n",
        "    stack.append(temp)\n",
        "    return stack\n",
        "\n",
        "def delete_middle_element(stack):\n",
        "    stack = delete_middle(stack, 1)\n",
        "    return stack\n",
        "\n",
        "# Example usage\n",
        "stack = [1, 2, 3, 4, 5]\n",
        "output = delete_middle_element(stack)\n",
        "print(output)\n",
        "\n",
        "stack = [1, 2, 3, 4, 5, 6]\n",
        "output = delete_middle_element(stack)\n",
        "print(output)\n"
      ],
      "metadata": {
        "colab": {
          "base_uri": "https://localhost:8080/"
        },
        "id": "xG0yK1N9PbsY",
        "outputId": "6c7578c9-cbf6-4610-f66e-65c6a3d58f58"
      },
      "execution_count": 6,
      "outputs": [
        {
          "output_type": "stream",
          "name": "stdout",
          "text": [
            "[1, 2, 3, 4, 5]\n",
            "[1, 2, 3, 5, 6]\n"
          ]
        }
      ]
    },
    {
      "cell_type": "code",
      "source": [],
      "metadata": {
        "id": "lXIjq0boPfXV"
      },
      "execution_count": null,
      "outputs": []
    },
    {
      "cell_type": "markdown",
      "source": [
        "#Question 4\n",
        "\n",
        "Given a Queue consisting of first **n** natural numbers (in random order). The task is to check whether the given Queue elements can be arranged in increasing order in another Queue using a stack. The operation allowed are:\n",
        "\n",
        "1. Push and pop elements from the stack\n",
        "2. Pop (Or Dequeue) from the given Queue.\n",
        "3. Push (Or Enqueue) in the another Queue.\n",
        "\n",
        "**Examples :**\n",
        "\n",
        "Input : Queue[] = { 5, 1, 2, 3, 4 }\n",
        "\n",
        "Output : Yes\n",
        "\n",
        "Pop the first element of the given Queue\n",
        "\n",
        "i.e 5. Push 5 into the stack.\n",
        "\n",
        "Now, pop all the elements of the given Queue and push them to second Queue.\n",
        "\n",
        "Now, pop element 5 in the stack and push it to the second Queue.\n",
        "\n",
        "Input : Queue[] = { 5, 1, 2, 6, 3, 4 }\n",
        "\n",
        "Output : No\n",
        "\n",
        "Push 5 to stack.\n",
        "\n",
        "Pop 1, 2 from given Queue and push it to another Queue.\n",
        "\n",
        "Pop 6 from given Queue and push to stack.\n",
        "\n",
        "Pop 3, 4 from given Queue and push to second Queue.\n",
        "\n",
        "Now, from using any of above operation, we cannot push 5 into the second Queue because it is below the 6 in the stack.\n",
        "\n",
        "</aside>"
      ],
      "metadata": {
        "id": "ljV9NbvvPoVW"
      }
    },
    {
      "cell_type": "code",
      "source": [
        "from queue import Queue\n",
        "\n",
        "def check_queue_arrangement(initial_queue):\n",
        "    stack = []\n",
        "    second_queue = Queue()\n",
        "    expected = 1\n",
        "\n",
        "    while not initial_queue.empty():\n",
        "        front = initial_queue.queue[0]\n",
        "\n",
        "        if front == expected:\n",
        "            initial_queue.get()\n",
        "            second_queue.put(front)\n",
        "            expected += 1\n",
        "        elif stack and stack[-1] == expected:\n",
        "            stack.pop()\n",
        "            second_queue.put(front)\n",
        "            expected += 1\n",
        "        else:\n",
        "            stack.append(front)\n",
        "            initial_queue.get()\n",
        "\n",
        "    while stack:\n",
        "        if stack[-1] == expected:\n",
        "            stack.pop()\n",
        "            second_queue.put(expected)\n",
        "            expected += 1\n",
        "        else:\n",
        "            return \"No\"\n",
        "\n",
        "    for i in range(1, initial_queue.qsize() + 1):\n",
        "        if second_queue.get() != i:\n",
        "            return \"No\"\n",
        "\n",
        "    return \"Yes\"\n",
        "\n",
        "# Example usage\n",
        "queue1 = Queue()\n",
        "queue1.put(5)\n",
        "queue1.put(1)\n",
        "queue1.put(2)\n",
        "queue1.put(3)\n",
        "queue1.put(4)\n",
        "output = check_queue_arrangement(queue1)\n",
        "print(output)  # Output: Yes\n",
        "\n",
        "queue2 = Queue()\n",
        "queue2.put(5)\n",
        "queue2.put(1)\n",
        "queue2.put(2)\n",
        "queue2.put(6)\n",
        "queue2.put(3)\n",
        "queue2.put(4)\n",
        "output = check_queue_arrangement(queue2)\n",
        "print(output)\n"
      ],
      "metadata": {
        "colab": {
          "base_uri": "https://localhost:8080/"
        },
        "id": "M74ylkw2PrYF",
        "outputId": "83e82ba2-45ac-41c6-a058-71a35ca7b6e1"
      },
      "execution_count": 4,
      "outputs": [
        {
          "output_type": "stream",
          "name": "stdout",
          "text": [
            "Yes\n",
            "No\n"
          ]
        }
      ]
    },
    {
      "cell_type": "code",
      "source": [],
      "metadata": {
        "id": "p8r8TzokPuod"
      },
      "execution_count": null,
      "outputs": []
    },
    {
      "cell_type": "markdown",
      "source": [
        "#Question 5\n",
        "\n",
        "Given a number , write a program to reverse this number using stack.\n",
        "\n",
        "Input : 365\n",
        "Output : 563\n",
        "\n",
        "Input : 6899\n",
        "Output : 9986"
      ],
      "metadata": {
        "id": "yZfLPPp6QM01"
      }
    },
    {
      "cell_type": "code",
      "source": [
        "def reverse_number(num):\n",
        "    stack = []\n",
        "    num_str = str(num)\n",
        "\n",
        "    # Push each digit onto the stack\n",
        "    for digit in num_str:\n",
        "        stack.append(digit)\n",
        "\n",
        "    reversed_num_str = \"\"\n",
        "\n",
        "    # Pop each digit from the stack and concatenate them\n",
        "    while stack:\n",
        "        reversed_num_str += stack.pop()\n",
        "\n",
        "    reversed_num = int(reversed_num_str)\n",
        "    return reversed_num\n",
        "\n",
        "# Example usage\n",
        "num1 = 365\n",
        "output1 = reverse_number(num1)\n",
        "print(output1)\n",
        "\n",
        "num2 = 6899\n",
        "output2 = reverse_number(num2)\n",
        "print(output2)\n"
      ],
      "metadata": {
        "colab": {
          "base_uri": "https://localhost:8080/"
        },
        "id": "qd-MviXDQQGd",
        "outputId": "c5091876-ad64-4651-af42-2bb3af367ab3"
      },
      "execution_count": 7,
      "outputs": [
        {
          "output_type": "stream",
          "name": "stdout",
          "text": [
            "563\n",
            "9986\n"
          ]
        }
      ]
    },
    {
      "cell_type": "code",
      "source": [],
      "metadata": {
        "id": "8z8QmEbTQVCs"
      },
      "execution_count": null,
      "outputs": []
    },
    {
      "cell_type": "markdown",
      "source": [
        "#Question 6\n",
        "\n",
        "Given an integer k and a **[queue](https://www.geeksforgeeks.org/queue-data-structure/)** of integers, The task is to reverse the order of the first **k** elements of the queue, leaving the other elements in the same relative order.\n",
        "\n",
        "Only following standard operations are allowed on queue.\n",
        "\n",
        "- **enqueue(x) :** Add an item x to rear of queue\n",
        "- **dequeue() :** Remove an item from front of queue\n",
        "- **size() :** Returns number of elements in queue.\n",
        "- **front() :** Finds front item.\n",
        "</aside>"
      ],
      "metadata": {
        "id": "S9aDvpAOQYz1"
      }
    },
    {
      "cell_type": "code",
      "source": [
        "pip install queue"
      ],
      "metadata": {
        "colab": {
          "base_uri": "https://localhost:8080/"
        },
        "id": "i7FgqBQTSQC-",
        "outputId": "02f66e50-70d6-40d9-c1dd-b4ef81048cdc"
      },
      "execution_count": 6,
      "outputs": [
        {
          "output_type": "stream",
          "name": "stdout",
          "text": [
            "Looking in indexes: https://pypi.org/simple, https://us-python.pkg.dev/colab-wheels/public/simple/\n",
            "\u001b[31mERROR: Could not find a version that satisfies the requirement queue (from versions: none)\u001b[0m\u001b[31m\n",
            "\u001b[0m\u001b[31mERROR: No matching distribution found for queue\u001b[0m\u001b[31m\n",
            "\u001b[0m"
          ]
        }
      ]
    },
    {
      "cell_type": "code",
      "source": [
        "from queue import Queue\n",
        "\n",
        "def reverse_first_k_elements(queue, k):\n",
        "    if queue.empty() or k <= 0 or k > queue.qsize():\n",
        "        return\n",
        "\n",
        "    stack = []\n",
        "\n",
        "    # Enqueue the first k elements into the stack\n",
        "    for _ in range(k):\n",
        "        stack.append(queue.get())\n",
        "\n",
        "    # Dequeue the remaining elements and enqueue them back into the queue\n",
        "    while not queue.empty():\n",
        "        queue.put(queue.get())\n",
        "\n",
        "    # Enqueue the elements from the stack back into the queue\n",
        "    while len(stack) > 0:\n",
        "        queue.put(stack.pop())\n",
        "\n",
        "# Example usage\n",
        "queue = Queue()\n",
        "queue.put(1)\n",
        "queue.put(2)\n",
        "queue.put(3)\n",
        "queue.put(4)\n",
        "queue.put(5)\n",
        "\n",
        "k = 3\n",
        "reverse_first_k_elements(queue, k)\n",
        "\n",
        "# Print the modified queue\n",
        "while not queue.empty():\n",
        "    print(queue.get())\n"
      ],
      "metadata": {
        "colab": {
          "base_uri": "https://localhost:8080/",
          "height": 380
        },
        "id": "oChSlRK4Qb3k",
        "outputId": "8f745027-949e-4461-b2fe-dfeb961e31e6"
      },
      "execution_count": 5,
      "outputs": [
        {
          "output_type": "error",
          "ename": "KeyboardInterrupt",
          "evalue": "ignored",
          "traceback": [
            "\u001b[0;31m---------------------------------------------------------------------------\u001b[0m",
            "\u001b[0;31mKeyboardInterrupt\u001b[0m                         Traceback (most recent call last)",
            "\u001b[0;32m<ipython-input-5-b97aa8141be2>\u001b[0m in \u001b[0;36m<cell line: 30>\u001b[0;34m()\u001b[0m\n\u001b[1;32m     28\u001b[0m \u001b[0;34m\u001b[0m\u001b[0m\n\u001b[1;32m     29\u001b[0m \u001b[0mk\u001b[0m \u001b[0;34m=\u001b[0m \u001b[0;36m3\u001b[0m\u001b[0;34m\u001b[0m\u001b[0;34m\u001b[0m\u001b[0m\n\u001b[0;32m---> 30\u001b[0;31m \u001b[0mreverse_first_k_elements\u001b[0m\u001b[0;34m(\u001b[0m\u001b[0mqueue\u001b[0m\u001b[0;34m,\u001b[0m \u001b[0mk\u001b[0m\u001b[0;34m)\u001b[0m\u001b[0;34m\u001b[0m\u001b[0;34m\u001b[0m\u001b[0m\n\u001b[0m\u001b[1;32m     31\u001b[0m \u001b[0;34m\u001b[0m\u001b[0m\n\u001b[1;32m     32\u001b[0m \u001b[0;31m# Print the modified queue\u001b[0m\u001b[0;34m\u001b[0m\u001b[0;34m\u001b[0m\u001b[0m\n",
            "\u001b[0;32m<ipython-input-5-b97aa8141be2>\u001b[0m in \u001b[0;36mreverse_first_k_elements\u001b[0;34m(queue, k)\u001b[0m\n\u001b[1;32m     13\u001b[0m     \u001b[0;31m# Dequeue the remaining elements and enqueue them back into the queue\u001b[0m\u001b[0;34m\u001b[0m\u001b[0;34m\u001b[0m\u001b[0m\n\u001b[1;32m     14\u001b[0m     \u001b[0;32mwhile\u001b[0m \u001b[0;32mnot\u001b[0m \u001b[0mqueue\u001b[0m\u001b[0;34m.\u001b[0m\u001b[0mempty\u001b[0m\u001b[0;34m(\u001b[0m\u001b[0;34m)\u001b[0m\u001b[0;34m:\u001b[0m\u001b[0;34m\u001b[0m\u001b[0;34m\u001b[0m\u001b[0m\n\u001b[0;32m---> 15\u001b[0;31m         \u001b[0mqueue\u001b[0m\u001b[0;34m.\u001b[0m\u001b[0mput\u001b[0m\u001b[0;34m(\u001b[0m\u001b[0mqueue\u001b[0m\u001b[0;34m.\u001b[0m\u001b[0mget\u001b[0m\u001b[0;34m(\u001b[0m\u001b[0;34m)\u001b[0m\u001b[0;34m)\u001b[0m\u001b[0;34m\u001b[0m\u001b[0;34m\u001b[0m\u001b[0m\n\u001b[0m\u001b[1;32m     16\u001b[0m \u001b[0;34m\u001b[0m\u001b[0m\n\u001b[1;32m     17\u001b[0m     \u001b[0;31m# Enqueue the elements from the stack back into the queue\u001b[0m\u001b[0;34m\u001b[0m\u001b[0;34m\u001b[0m\u001b[0m\n",
            "\u001b[0;32m/usr/lib/python3.10/queue.py\u001b[0m in \u001b[0;36mput\u001b[0;34m(self, item, block, timeout)\u001b[0m\n\u001b[1;32m    150\u001b[0m             \u001b[0mself\u001b[0m\u001b[0;34m.\u001b[0m\u001b[0m_put\u001b[0m\u001b[0;34m(\u001b[0m\u001b[0mitem\u001b[0m\u001b[0;34m)\u001b[0m\u001b[0;34m\u001b[0m\u001b[0;34m\u001b[0m\u001b[0m\n\u001b[1;32m    151\u001b[0m             \u001b[0mself\u001b[0m\u001b[0;34m.\u001b[0m\u001b[0munfinished_tasks\u001b[0m \u001b[0;34m+=\u001b[0m \u001b[0;36m1\u001b[0m\u001b[0;34m\u001b[0m\u001b[0;34m\u001b[0m\u001b[0m\n\u001b[0;32m--> 152\u001b[0;31m             \u001b[0mself\u001b[0m\u001b[0;34m.\u001b[0m\u001b[0mnot_empty\u001b[0m\u001b[0;34m.\u001b[0m\u001b[0mnotify\u001b[0m\u001b[0;34m(\u001b[0m\u001b[0;34m)\u001b[0m\u001b[0;34m\u001b[0m\u001b[0;34m\u001b[0m\u001b[0m\n\u001b[0m\u001b[1;32m    153\u001b[0m \u001b[0;34m\u001b[0m\u001b[0m\n\u001b[1;32m    154\u001b[0m     \u001b[0;32mdef\u001b[0m \u001b[0mget\u001b[0m\u001b[0;34m(\u001b[0m\u001b[0mself\u001b[0m\u001b[0;34m,\u001b[0m \u001b[0mblock\u001b[0m\u001b[0;34m=\u001b[0m\u001b[0;32mTrue\u001b[0m\u001b[0;34m,\u001b[0m \u001b[0mtimeout\u001b[0m\u001b[0;34m=\u001b[0m\u001b[0;32mNone\u001b[0m\u001b[0;34m)\u001b[0m\u001b[0;34m:\u001b[0m\u001b[0;34m\u001b[0m\u001b[0;34m\u001b[0m\u001b[0m\n",
            "\u001b[0;32m/usr/lib/python3.10/threading.py\u001b[0m in \u001b[0;36mnotify\u001b[0;34m(self, n)\u001b[0m\n\u001b[1;32m    357\u001b[0m         \u001b[0;32mreturn\u001b[0m \u001b[0mresult\u001b[0m\u001b[0;34m\u001b[0m\u001b[0;34m\u001b[0m\u001b[0m\n\u001b[1;32m    358\u001b[0m \u001b[0;34m\u001b[0m\u001b[0m\n\u001b[0;32m--> 359\u001b[0;31m     \u001b[0;32mdef\u001b[0m \u001b[0mnotify\u001b[0m\u001b[0;34m(\u001b[0m\u001b[0mself\u001b[0m\u001b[0;34m,\u001b[0m \u001b[0mn\u001b[0m\u001b[0;34m=\u001b[0m\u001b[0;36m1\u001b[0m\u001b[0;34m)\u001b[0m\u001b[0;34m:\u001b[0m\u001b[0;34m\u001b[0m\u001b[0;34m\u001b[0m\u001b[0m\n\u001b[0m\u001b[1;32m    360\u001b[0m         \"\"\"Wake up one or more threads waiting on this condition, if any.\n\u001b[1;32m    361\u001b[0m \u001b[0;34m\u001b[0m\u001b[0m\n",
            "\u001b[0;31mKeyboardInterrupt\u001b[0m: "
          ]
        }
      ]
    },
    {
      "cell_type": "code",
      "source": [],
      "metadata": {
        "id": "DFTCEIMWQfL1"
      },
      "execution_count": null,
      "outputs": []
    },
    {
      "cell_type": "markdown",
      "source": [
        "#Question 7\n",
        "\n",
        "Given a sequence of n strings, the task is to check if any two similar words come together and then destroy each other then print the number of words left in the sequence after this pairwise destruction.\n",
        "\n",
        "**Examples:**\n",
        "\n",
        "Input : ab aa aa bcd ab\n",
        "\n",
        "Output : 3\n",
        "\n",
        "*As aa, aa destroys each other so,*\n",
        "\n",
        "*ab bcd ab is the new sequence.*\n",
        "\n",
        "Input :  tom jerry jerry tom\n",
        "\n",
        "Output : 0\n",
        "\n",
        "*As first both jerry will destroy each other.*\n",
        "\n",
        "*Then sequence will be tom, tom they will also destroy*\n",
        "\n",
        "*each other. So, the final sequence doesn’t contain any*\n",
        "\n",
        "*word.*\n",
        "\n",
        "</aside>"
      ],
      "metadata": {
        "id": "Nz8pdbuVQltW"
      }
    },
    {
      "cell_type": "code",
      "source": [
        "def count_remaining_words(sequence):\n",
        "    stack = []\n",
        "\n",
        "    for word in sequence:\n",
        "        if not stack or word != stack[-1]:\n",
        "            stack.append(word)\n",
        "        else:\n",
        "            stack.pop()\n",
        "\n",
        "    return len(stack)\n",
        "\n",
        "# Example usage\n",
        "sequence1 = [\"ab\", \"aa\", \"aa\", \"bcd\", \"ab\"]\n",
        "output1 = count_remaining_words(sequence1)\n",
        "print(output1)\n",
        "sequence2 = [\"tom\", \"jerry\", \"jerry\", \"tom\"]\n",
        "output2 = count_remaining_words(sequence2)\n",
        "print(output2)\n"
      ],
      "metadata": {
        "colab": {
          "base_uri": "https://localhost:8080/"
        },
        "id": "qT8ik6jeQo31",
        "outputId": "d7d3c027-0374-49a0-dbda-d92e575a9987"
      },
      "execution_count": 1,
      "outputs": [
        {
          "output_type": "stream",
          "name": "stdout",
          "text": [
            "3\n",
            "0\n"
          ]
        }
      ]
    },
    {
      "cell_type": "code",
      "source": [],
      "metadata": {
        "id": "AtPb6C6aQvUE"
      },
      "execution_count": null,
      "outputs": []
    },
    {
      "cell_type": "markdown",
      "source": [
        "#Question 8\n",
        "\n",
        "Given an array of integers, the task is to find the maximum absolute difference between the nearest left and the right smaller element of every element in the array.\n",
        "\n",
        "**Note:** If there is no smaller element on right side or left side of any element then we take zero as the smaller element. For example for the leftmost element, the nearest smaller element on the left side is considered as 0. Similarly, for rightmost elements, the smaller element on the right side is considered as 0.\n",
        "\n",
        "Input : arr[] = {2, 1, 8}\n",
        "Output : 1\n",
        "Left smaller  LS[] {0, 0, 1}\n",
        "Right smaller RS[] {1, 0, 0}\n",
        "Maximum Diff of abs(LS[i] - RS[i]) = 1\n",
        "\n",
        "Input  : arr[] = {2, 4, 8, 7, 7, 9, 3}\n",
        "Output : 4\n",
        "Left smaller   LS[] = {0, 2, 4, 4, 4, 7, 2}\n",
        "Right smaller  RS[] = {0, 3, 7, 3, 3, 3, 0}\n",
        "Maximum Diff of abs(LS[i] - RS[i]) = 7 - 3 = 4\n",
        "\n",
        "Input : arr[] = {5, 1, 9, 2, 5, 1, 7}\n",
        "Output : 1"
      ],
      "metadata": {
        "id": "MUSyGYboQ4Dk"
      }
    },
    {
      "cell_type": "code",
      "source": [
        "def max_abs_difference(arr):\n",
        "    n = len(arr)\n",
        "    left_stack = []\n",
        "    right_stack = []\n",
        "    left_smaller = [0] * n\n",
        "    right_smaller = [0] * n\n",
        "\n",
        "    # Calculate the nearest left smaller elements\n",
        "    for i in range(n):\n",
        "        while left_stack and arr[i] <= arr[left_stack[-1]]:\n",
        "            left_stack.pop()\n",
        "        if left_stack:\n",
        "            left_smaller[i] = arr[left_stack[-1]]\n",
        "        left_stack.append(i)\n",
        "\n",
        "    # Calculate the nearest right smaller elements\n",
        "    for i in range(n - 1, -1, -1):\n",
        "        while right_stack and arr[i] <= arr[right_stack[-1]]:\n",
        "            right_stack.pop()\n",
        "        if right_stack:\n",
        "            right_smaller[i] = arr[right_stack[-1]]\n",
        "        right_stack.append(i)\n",
        "\n",
        "    max_diff = 0\n",
        "\n",
        "    # Find the maximum absolute difference\n",
        "    for i in range(n):\n",
        "        max_diff = max(max_diff, abs(left_smaller[i] - right_smaller[i]))\n",
        "\n",
        "    return max_diff\n",
        "\n",
        "# Example usage\n",
        "arr1 = [2, 1, 8]\n",
        "output1 = max_abs_difference(arr1)\n",
        "print(output1)\n",
        "\n",
        "arr2 = [2, 4, 8, 7, 7, 9, 3]\n",
        "output2 = max_abs_difference(arr2)\n",
        "print(output2)\n",
        "\n",
        "arr3 = [5, 1, 9, 2, 5, 1, 7]\n",
        "output3 = max_abs_difference(arr3)\n",
        "print(output3)\n"
      ],
      "metadata": {
        "colab": {
          "base_uri": "https://localhost:8080/"
        },
        "id": "yq_rPHYSQ7fV",
        "outputId": "392feca9-4c84-4e9a-9add-3f11567fa46f"
      },
      "execution_count": 2,
      "outputs": [
        {
          "output_type": "stream",
          "name": "stdout",
          "text": [
            "1\n",
            "4\n",
            "1\n"
          ]
        }
      ]
    },
    {
      "cell_type": "code",
      "source": [],
      "metadata": {
        "id": "x68TTdheRDPp"
      },
      "execution_count": null,
      "outputs": []
    }
  ]
}