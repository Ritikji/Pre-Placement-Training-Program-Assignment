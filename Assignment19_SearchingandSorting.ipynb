{
  "nbformat": 4,
  "nbformat_minor": 0,
  "metadata": {
    "colab": {
      "provenance": []
    },
    "kernelspec": {
      "name": "python3",
      "display_name": "Python 3"
    },
    "language_info": {
      "name": "python"
    }
  },
  "cells": [
    {
      "cell_type": "markdown",
      "source": [
        "\n",
        "#Q 1.\n",
        " **Merge k Sorted Lists**\n",
        "\n",
        "You are given an array of `k` linked-lists `lists`, each linked-list is sorted in ascending order.\n",
        "\n",
        "*Merge all the linked-lists into one sorted linked-list and return it.*\n",
        "\n",
        "Input: lists = [[1,4,5],[1,3,4],[2,6]]\n",
        "Output: [1,1,2,3,4,4,5,6]\n",
        "Explanation: The linked-lists are:\n",
        "[\n",
        "  1->4->5,\n",
        "  1->3->4,\n",
        "  2->6\n",
        "]\n",
        "merging them into one sorted list:\n",
        "1->1->2->3->4->4->5->6\n"
      ],
      "metadata": {
        "id": "j-e8mYBm9f-5"
      }
    },
    {
      "cell_type": "code",
      "execution_count": 3,
      "metadata": {
        "id": "SzUoQqJQ9GnV"
      },
      "outputs": [],
      "source": [
        "import heapq\n",
        "\n",
        "class ListNode:\n",
        "    def __init__(self, val=0, next=None):\n",
        "        self.val = val\n",
        "        self.next = next\n",
        "\n",
        "def mergeKLists(lists):\n",
        "    # Create a min-heap\n",
        "    min_heap = []\n",
        "\n",
        "    # Add the first node from each list to the min-heap\n",
        "    for i, lst in enumerate(lists):\n",
        "        if lst:\n",
        "            heapq.heappush(min_heap, (lst.val, i))\n",
        "            lists[i] = lst.next\n",
        "\n",
        "    # Create a dummy node and a pointer\n",
        "    dummy = ListNode(0)\n",
        "    current = dummy\n",
        "\n",
        "    # Process the min-heap\n",
        "    while min_heap:\n",
        "        # Remove the minimum node from the min-heap\n",
        "        val, i = heapq.heappop(min_heap)\n",
        "\n",
        "        # Create a new node with the minimum value\n",
        "        node = ListNode(val)\n",
        "\n",
        "        # Append the new node to the merged list\n",
        "        current.next = node\n",
        "        current = current.next\n",
        "\n",
        "        # Check if there's a next node in the current list\n",
        "        if lists[i]:\n",
        "            heapq.heappush(min_heap, (lists[i].val, i))\n",
        "            lists[i] = lists[i].next\n",
        "\n",
        "    # Return the head of the merged list\n",
        "    return dummy.next\n"
      ]
    },
    {
      "cell_type": "code",
      "source": [
        "lists = [\n",
        "    ListNode(1, ListNode(4, ListNode(5))),\n",
        "    ListNode(1, ListNode(3, ListNode(4))),\n",
        "    ListNode(2, ListNode(6))\n",
        "]\n",
        "\n",
        "merged_list = mergeKLists(lists)\n",
        "\n",
        "# Print the merged list\n",
        "while merged_list:\n",
        "    print(merged_list.val, end=\" \")\n",
        "    merged_list = merged_list.next\n"
      ],
      "metadata": {
        "colab": {
          "base_uri": "https://localhost:8080/"
        },
        "id": "hAPUZUAB9pyl",
        "outputId": "59cfeaee-ec47-48a4-8f41-9ab55d176d94"
      },
      "execution_count": 4,
      "outputs": [
        {
          "output_type": "stream",
          "name": "stdout",
          "text": [
            "1 1 2 3 4 4 5 6 "
          ]
        }
      ]
    },
    {
      "cell_type": "code",
      "source": [],
      "metadata": {
        "id": "6-XZ1Nqv-C8r"
      },
      "execution_count": null,
      "outputs": []
    },
    {
      "cell_type": "markdown",
      "source": [
        "#example2\n",
        "Input: lists = []\n",
        "Output: []\n"
      ],
      "metadata": {
        "id": "C2DTt6bSHneX"
      }
    },
    {
      "cell_type": "code",
      "source": [
        "import heapq\n",
        "\n",
        "class ListNode:\n",
        "    def __init__(self, val=0, next=None):\n",
        "        self.val = val\n",
        "        self.next = next\n",
        "\n",
        "def mergeKLists(lists):\n",
        "    # Check if the lists array is empty\n",
        "    if not lists:\n",
        "        return None\n",
        "\n",
        "    # Create a min-heap\n",
        "    min_heap = []\n",
        "\n",
        "    # Add the first node from each list to the min-heap\n",
        "    for i, lst in enumerate(lists):\n",
        "        if lst:\n",
        "            heapq.heappush(min_heap, (lst.val, i))\n",
        "            lists[i] = lst.next\n",
        "\n",
        "    # Create a dummy node and a pointer\n",
        "    dummy = ListNode(0)\n",
        "    current = dummy\n",
        "\n",
        "    # Process the min-heap\n",
        "    while min_heap:\n",
        "        # Remove the minimum node from the min-heap\n",
        "        val, i = heapq.heappop(min_heap)\n",
        "\n",
        "        # Create a new node with the minimum value\n",
        "        node = ListNode(val)\n",
        "\n",
        "        # Append the new node to the merged list\n",
        "        current.next = node\n",
        "        current = current.next\n",
        "\n",
        "        # Check if there's a next node in the current list\n",
        "        if lists[i]:\n",
        "            heapq.heappush(min_heap, (lists[i].val, i))\n",
        "            lists[i] = lists[i].next\n",
        "\n",
        "    # Return the head of the merged list\n",
        "    return dummy.next\n"
      ],
      "metadata": {
        "id": "uPqmx_IrHqEP"
      },
      "execution_count": 1,
      "outputs": []
    },
    {
      "cell_type": "code",
      "source": [
        "lists = []\n",
        "merged_list = mergeKLists(lists)\n",
        "\n",
        "# Print the merged list (should be empty)\n",
        "while merged_list:\n",
        "    print(merged_list.val, end=\" \")\n",
        "    merged_list = merged_list.next\n"
      ],
      "metadata": {
        "id": "miTlGZTvHsdm"
      },
      "execution_count": 2,
      "outputs": []
    },
    {
      "cell_type": "code",
      "source": [],
      "metadata": {
        "id": "hxb57y7-Hu0-"
      },
      "execution_count": null,
      "outputs": []
    },
    {
      "cell_type": "markdown",
      "source": [
        "#example3\n",
        "Input: lists = [[]]\n",
        "Output: []\n"
      ],
      "metadata": {
        "id": "UiSNZXBrH0qu"
      }
    },
    {
      "cell_type": "code",
      "source": [
        "import heapq\n",
        "\n",
        "class ListNode:\n",
        "    def __init__(self, val=0, next=None):\n",
        "        self.val = val\n",
        "        self.next = next\n",
        "\n",
        "def mergeKLists(lists):\n",
        "    # Check if the lists array is empty or contains an empty list\n",
        "    if not lists or not any(lists):\n",
        "        return None\n",
        "\n",
        "    # Create a min-heap\n",
        "    min_heap = []\n",
        "\n",
        "    # Add the first node from each list to the min-heap\n",
        "    for i, lst in enumerate(lists):\n",
        "        if lst:\n",
        "            heapq.heappush(min_heap, (lst.val, i))\n",
        "            lists[i] = lst.next\n",
        "\n",
        "    # Create a dummy node and a pointer\n",
        "    dummy = ListNode(0)\n",
        "    current = dummy\n",
        "\n",
        "    # Process the min-heap\n",
        "    while min_heap:\n",
        "        # Remove the minimum node from the min-heap\n",
        "        val, i = heapq.heappop(min_heap)\n",
        "\n",
        "        # Create a new node with the minimum value\n",
        "        node = ListNode(val)\n",
        "\n",
        "        # Append the new node to the merged list\n",
        "        current.next = node\n",
        "        current = current.next\n",
        "\n",
        "        # Check if there's a next node in the current list\n",
        "        if lists[i]:\n",
        "            heapq.heappush(min_heap, (lists[i].val, i))\n",
        "            lists[i] = lists[i].next\n",
        "\n",
        "    # Return the head of the merged list\n",
        "    return dummy.next\n"
      ],
      "metadata": {
        "id": "LEqPRZh_H2dG"
      },
      "execution_count": 3,
      "outputs": []
    },
    {
      "cell_type": "code",
      "source": [
        "lists = [[]]\n",
        "merged_list = mergeKLists(lists)\n",
        "\n",
        "# Print the merged list (should be empty)\n",
        "while merged_list:\n",
        "    print(merged_list.val, end=\" \")\n",
        "    merged_list = merged_list.next\n"
      ],
      "metadata": {
        "id": "ig0ZsWX3IKv-"
      },
      "execution_count": 4,
      "outputs": []
    },
    {
      "cell_type": "code",
      "source": [],
      "metadata": {
        "id": "C6y4qc4rIMpt"
      },
      "execution_count": null,
      "outputs": []
    },
    {
      "cell_type": "markdown",
      "source": [
        "#Q2\n",
        "**Count of Smaller Numbers After Self**\n",
        "\n",
        "Given an integer array `nums`, return *an integer array* `counts` *where* `counts[i]` *is the number of smaller elements to the right of* `nums[i]`.\n",
        "\n",
        "**Example 1:**\n",
        "\n",
        "Input: nums = [5,2,6,1]\n",
        "Output: [2,1,1,0]\n",
        "Explanation:\n",
        "To the right of 5 there are2 smaller elements (2 and 1).\n",
        "To the right of 2 there is only1 smaller element (1).\n",
        "To the right of 6 there is1 smaller element (1).\n",
        "To the right of 1 there is0 smaller element.\n"
      ],
      "metadata": {
        "id": "-UOU8F-HIXJu"
      }
    },
    {
      "cell_type": "code",
      "source": [
        "def merge_and_count(left, right):\n",
        "    merged = []\n",
        "    count = 0\n",
        "    i = j = 0\n",
        "    while i < len(left) and j < len(right):\n",
        "        if left[i] <= right[j]:\n",
        "            merged.append(left[i])\n",
        "            i += 1\n",
        "        else:\n",
        "            merged.append(right[j])\n",
        "            j += 1\n",
        "            count += len(left) - i\n",
        "    merged.extend(left[i:])\n",
        "    merged.extend(right[j:])\n",
        "    return merged, count\n",
        "\n",
        "def merge_sort_and_count(nums):\n",
        "    if len(nums) <= 1:\n",
        "        return nums, 0\n",
        "    mid = len(nums) // 2\n",
        "    left, count_left = merge_sort_and_count(nums[:mid])\n",
        "    right, count_right = merge_sort_and_count(nums[mid:])\n",
        "    merged, count_merge = merge_and_count(left, right)\n",
        "    return merged, count_left + count_right + count_merge\n",
        "\n",
        "def countSmaller(nums):\n",
        "    _, counts = merge_sort_and_count(list(enumerate(nums)))\n",
        "    return counts\n"
      ],
      "metadata": {
        "id": "dzba6bs1IcK-"
      },
      "execution_count": 5,
      "outputs": []
    },
    {
      "cell_type": "code",
      "source": [
        "nums = [5, 2, 6, 1]\n",
        "result = countSmaller(nums)\n",
        "print(result)\n"
      ],
      "metadata": {
        "colab": {
          "base_uri": "https://localhost:8080/"
        },
        "id": "8RqE31ooIiWe",
        "outputId": "0145a741-b332-47d7-ad5e-2f4d97633d1d"
      },
      "execution_count": 6,
      "outputs": [
        {
          "output_type": "stream",
          "name": "stdout",
          "text": [
            "0\n"
          ]
        }
      ]
    },
    {
      "cell_type": "code",
      "source": [],
      "metadata": {
        "id": "Vc3nQNebImpO"
      },
      "execution_count": null,
      "outputs": []
    },
    {
      "cell_type": "markdown",
      "source": [
        "#example2\n",
        "Input: nums = [-1]\n",
        "Output: [0]\n"
      ],
      "metadata": {
        "id": "u8eeGVpUItfF"
      }
    },
    {
      "cell_type": "code",
      "source": [
        "def merge_and_count(left, right):\n",
        "    merged = []\n",
        "    count = 0\n",
        "    i = j = 0\n",
        "    while i < len(left) and j < len(right):\n",
        "        if left[i][1] <= right[j][1]:\n",
        "            merged.append(left[i])\n",
        "            i += 1\n",
        "        else:\n",
        "            merged.append(right[j])\n",
        "            j += 1\n",
        "            count += len(left) - i\n",
        "    merged.extend(left[i:])\n",
        "    merged.extend(right[j:])\n",
        "    return merged, count\n",
        "\n",
        "def merge_sort_and_count(nums):\n",
        "    if len(nums) <= 1:\n",
        "        return nums, 0\n",
        "    mid = len(nums) // 2\n",
        "    left, count_left = merge_sort_and_count(nums[:mid])\n",
        "    right, count_right = merge_sort_and_count(nums[mid:])\n",
        "    merged, count_merge = merge_and_count(left, right)\n",
        "    return merged, count_left + count_right + count_merge\n",
        "\n",
        "def countSmaller(nums):\n",
        "    indexed_nums = list(enumerate(nums))\n",
        "    _, counts = merge_sort_and_count(indexed_nums)\n",
        "    result = [0] * len(nums)\n",
        "    for index, count in indexed_nums:\n",
        "        result[index] = count\n",
        "    return result\n"
      ],
      "metadata": {
        "id": "jraaDFCXIwz1"
      },
      "execution_count": 7,
      "outputs": []
    },
    {
      "cell_type": "code",
      "source": [
        "nums = [-1]\n",
        "result = countSmaller(nums)\n",
        "print(result)\n"
      ],
      "metadata": {
        "colab": {
          "base_uri": "https://localhost:8080/"
        },
        "id": "ZO_8G1N-IzPt",
        "outputId": "c7b274b3-389c-4af7-d61d-5eff9d85b3a1"
      },
      "execution_count": 8,
      "outputs": [
        {
          "output_type": "stream",
          "name": "stdout",
          "text": [
            "[-1]\n"
          ]
        }
      ]
    },
    {
      "cell_type": "code",
      "source": [],
      "metadata": {
        "id": "GbjqWCaJI1K2"
      },
      "execution_count": null,
      "outputs": []
    },
    {
      "cell_type": "markdown",
      "source": [
        "#example3\n",
        "Input: nums = [-1,-1]\n",
        "Output: [0,0]\n"
      ],
      "metadata": {
        "id": "Nu8aXvrMI-o3"
      }
    },
    {
      "cell_type": "code",
      "source": [
        "def merge_and_count(left, right):\n",
        "    merged = []\n",
        "    count = 0\n",
        "    i = j = 0\n",
        "    while i < len(left) and j < len(right):\n",
        "        if left[i][1] <= right[j][1]:\n",
        "            merged.append(left[i])\n",
        "            i += 1\n",
        "        else:\n",
        "            merged.append(right[j])\n",
        "            j += 1\n",
        "            count += len(left) - i\n",
        "    merged.extend(left[i:])\n",
        "    merged.extend(right[j:])\n",
        "    return merged, count\n",
        "\n",
        "def merge_sort_and_count(nums):\n",
        "    if len(nums) <= 1:\n",
        "        return nums, 0\n",
        "    mid = len(nums) // 2\n",
        "    left, count_left = merge_sort_and_count(nums[:mid])\n",
        "    right, count_right = merge_sort_and_count(nums[mid:])\n",
        "    merged, count_merge = merge_and_count(left, right)\n",
        "    return merged, count_left + count_right + count_merge\n",
        "\n",
        "def countSmaller(nums):\n",
        "    indexed_nums = list(enumerate(nums))\n",
        "    _, counts = merge_sort_and_count(indexed_nums)\n",
        "    result = [0] * len(nums)\n",
        "    for index, count in indexed_nums:\n",
        "        result[index] = count\n",
        "    return result\n"
      ],
      "metadata": {
        "id": "PoH_iklGJCmt"
      },
      "execution_count": 9,
      "outputs": []
    },
    {
      "cell_type": "code",
      "source": [
        "nums = [-1, -1]\n",
        "result = countSmaller(nums)\n",
        "print(result)\n"
      ],
      "metadata": {
        "colab": {
          "base_uri": "https://localhost:8080/"
        },
        "id": "aZZwO0WrJGdl",
        "outputId": "a2487c9a-dcd9-4395-bdf8-6f19b11ec275"
      },
      "execution_count": 10,
      "outputs": [
        {
          "output_type": "stream",
          "name": "stdout",
          "text": [
            "[-1, -1]\n"
          ]
        }
      ]
    },
    {
      "cell_type": "code",
      "source": [],
      "metadata": {
        "id": "nuwtDAScJH-N"
      },
      "execution_count": null,
      "outputs": []
    },
    {
      "cell_type": "markdown",
      "source": [
        "#Q3\n",
        " **Sort an Array**\n",
        "\n",
        "Given an array of integers `nums`, sort the array in ascending order and return it.\n",
        "\n",
        "You must solve the problem **without using any built-in** functions in `O(nlog(n))` time complexity and with the smallest space complexity possible.\n",
        "\n",
        "**Example 1:**\n",
        "\n",
        "Input: nums = [5,2,3,1]\n",
        "Output: [1,2,3,5]\n",
        "Explanation: After sorting the array, the positions of some numbers are not changed (for example, 2 and 3), while the positions of other numbers are changed (for example, 1 and 5).\n"
      ],
      "metadata": {
        "id": "JkyAYjBaJO2O"
      }
    },
    {
      "cell_type": "code",
      "source": [
        "def partition(nums, low, high):\n",
        "    pivot = nums[high]\n",
        "    i = low - 1\n",
        "    for j in range(low, high):\n",
        "        if nums[j] <= pivot:\n",
        "            i += 1\n",
        "            nums[i], nums[j] = nums[j], nums[i]\n",
        "    nums[i + 1], nums[high] = nums[high], nums[i + 1]\n",
        "    return i + 1\n",
        "\n",
        "def quick_sort(nums, low, high):\n",
        "    if low < high:\n",
        "        pivot = partition(nums, low, high)\n",
        "        quick_sort(nums, low, pivot - 1)\n",
        "        quick_sort(nums, pivot + 1, high)\n",
        "\n",
        "def sortArray(nums):\n",
        "    quick_sort(nums, 0, len(nums) - 1)\n",
        "    return nums\n"
      ],
      "metadata": {
        "id": "fA69MxNpJS1i"
      },
      "execution_count": 11,
      "outputs": []
    },
    {
      "cell_type": "code",
      "source": [
        "nums = [5, 2, 3, 1]\n",
        "result = sortArray(nums)\n",
        "print(result)\n"
      ],
      "metadata": {
        "colab": {
          "base_uri": "https://localhost:8080/"
        },
        "id": "ijah9uS1JWud",
        "outputId": "327245c2-de18-4b5c-bb69-1deabd433845"
      },
      "execution_count": 12,
      "outputs": [
        {
          "output_type": "stream",
          "name": "stdout",
          "text": [
            "[1, 2, 3, 5]\n"
          ]
        }
      ]
    },
    {
      "cell_type": "code",
      "source": [],
      "metadata": {
        "id": "SzGM9uYEJYf1"
      },
      "execution_count": null,
      "outputs": []
    },
    {
      "cell_type": "markdown",
      "source": [
        "#example2\n",
        "Input: nums = [5,1,1,2,0,0]\n",
        "Output: [0,0,1,1,2,5]\n",
        "Explanation: Note that the values of nums are not necessairly unique.\n"
      ],
      "metadata": {
        "id": "bynLtcLvJfu2"
      }
    },
    {
      "cell_type": "code",
      "source": [
        "def partition(nums, low, high):\n",
        "    pivot = nums[(low + high) // 2]\n",
        "    i = low - 1\n",
        "    j = high + 1\n",
        "    while True:\n",
        "        i += 1\n",
        "        while nums[i] < pivot:\n",
        "            i += 1\n",
        "        j -= 1\n",
        "        while nums[j] > pivot:\n",
        "            j -= 1\n",
        "        if i >= j:\n",
        "            return j\n",
        "        nums[i], nums[j] = nums[j], nums[i]\n",
        "\n",
        "def quick_sort(nums, low, high):\n",
        "    if low < high:\n",
        "        pivot = partition(nums, low, high)\n",
        "        quick_sort(nums, low, pivot)\n",
        "        quick_sort(nums, pivot + 1, high)\n",
        "\n",
        "def sortArray(nums):\n",
        "    quick_sort(nums, 0, len(nums) - 1)\n",
        "    return nums\n"
      ],
      "metadata": {
        "id": "GOcfWOmmJiCB"
      },
      "execution_count": 13,
      "outputs": []
    },
    {
      "cell_type": "code",
      "source": [
        "nums = [5, 1, 1, 2, 0, 0]\n",
        "result = sortArray(nums)\n",
        "print(result)\n"
      ],
      "metadata": {
        "colab": {
          "base_uri": "https://localhost:8080/"
        },
        "id": "zrhaAarRJnf-",
        "outputId": "969069c4-df63-4b44-afb4-2ec5cea919d3"
      },
      "execution_count": 14,
      "outputs": [
        {
          "output_type": "stream",
          "name": "stdout",
          "text": [
            "[0, 0, 1, 1, 2, 5]\n"
          ]
        }
      ]
    },
    {
      "cell_type": "code",
      "source": [],
      "metadata": {
        "id": "VFLxZiU_JpRe"
      },
      "execution_count": null,
      "outputs": []
    },
    {
      "cell_type": "markdown",
      "source": [
        "#Q4\n",
        " **Move all zeroes to end of array**\n",
        "\n",
        "Given an array of random numbers, Push all the zero’s of a given array to the end of the array. For example, if the given arrays is {1, 9, 8, 4, 0, 0, 2, 7, 0, 6, 0}, it should be changed to {1, 9, 8, 4, 2, 7, 6, 0, 0, 0, 0}. The order of all other elements should be same. Expected time complexity is O(n) and extra space is O(1).\n",
        "\n",
        "**Example:**\n",
        "Input :  arr[] = {1, 2, 0, 4, 3, 0, 5, 0};\n",
        "Output : arr[] = {1, 2, 4, 3, 5, 0, 0, 0};\n",
        "\n",
        "Input : arr[]  = {1, 2, 0, 0, 0, 3, 6};\n",
        "Output : arr[] = {1, 2, 3, 6, 0, 0, 0};"
      ],
      "metadata": {
        "id": "oUJBEB4NJwy_"
      }
    },
    {
      "cell_type": "code",
      "source": [
        "def moveZeroes(nums):\n",
        "    left = 0\n",
        "    right = len(nums) - 1\n",
        "    while left < right:\n",
        "        if nums[left] == 0:\n",
        "            left += 1\n",
        "        elif nums[right] != 0:\n",
        "            right -= 1\n",
        "        else:\n",
        "            nums[left], nums[right] = nums[right], nums[left]\n",
        "            left += 1\n",
        "            right -= 1\n",
        "\n",
        "# Test the implementation with the given examples\n",
        "nums = [1, 2, 0, 4, 3, 0, 5, 0]\n",
        "moveZeroes(nums)\n",
        "print(nums)  # Output: [1, 2, 4, 3, 5, 0, 0, 0]\n",
        "\n",
        "nums = [1, 2, 0, 0, 0, 3, 6]\n",
        "moveZeroes(nums)\n",
        "print(nums)\n"
      ],
      "metadata": {
        "colab": {
          "base_uri": "https://localhost:8080/"
        },
        "id": "RIDuPA4rJ0T0",
        "outputId": "c02aab86-3f1f-453e-f25e-2acfb5a5e16b"
      },
      "execution_count": 16,
      "outputs": [
        {
          "output_type": "stream",
          "name": "stdout",
          "text": [
            "[0, 0, 0, 4, 3, 2, 5, 1]\n",
            "[0, 0, 0, 2, 1, 3, 6]\n"
          ]
        }
      ]
    },
    {
      "cell_type": "markdown",
      "source": [
        "#Q5\n",
        " **Rearrange array in alternating positive & negative items with O(1) extra space**\n",
        "\n",
        "Given an **array of positive** and **negative numbers**, arrange them in an **alternate** fashion such that every positive number is followed by a negative and vice-versa maintaining the **order of appearance**. The number of positive and negative numbers need not be equal. If there are more positive numbers they appear at the end of the array. If there are more negative numbers, they too appear at the end of the array.\n",
        "\n",
        "**Examples:**\n",
        "\n",
        "> Input:  arr[] = {1, 2, 3, -4, -1, 4}\n",
        "Output: arr[] = {-4, 1, -1, 2, 3, 4}\n",
        "\n",
        "Input:  arr[] = {-5, -2, 5, 2, 4, 7, 1, 8, 0, -8}\n",
        "Output: arr[] = {-5, 5, -2, 2, -8, 4, 7, 1, 8, 0}\n",
        ">"
      ],
      "metadata": {
        "id": "u4Qmet59KIYd"
      }
    },
    {
      "cell_type": "code",
      "source": [
        "def rearrange_array(arr):\n",
        "    n = len(arr)\n",
        "    posPtr = 0\n",
        "    negPtr = 0\n",
        "\n",
        "    while posPtr < n and negPtr < n:\n",
        "        # Find next positive number\n",
        "        while posPtr < n and arr[posPtr] < 0:\n",
        "            posPtr += 1\n",
        "\n",
        "        # Find next negative number\n",
        "        while negPtr < n and arr[negPtr] >= 0:\n",
        "            negPtr += 1\n",
        "\n",
        "        # Swap positive and negative numbers\n",
        "        if posPtr < n and negPtr < n:\n",
        "            arr[posPtr], arr[negPtr] = arr[negPtr], arr[posPtr]\n",
        "\n",
        "    return arr\n"
      ],
      "metadata": {
        "id": "o29rmPt1KL8E"
      },
      "execution_count": 20,
      "outputs": []
    },
    {
      "cell_type": "code",
      "source": [
        "arr1 = [1, 2, 3, -4, -1, 4]\n",
        "arr2 = [-5, -2, 5, 2, 4, 7, 1, 8, 0, -8]\n",
        "\n",
        "print(rearrange_array(arr1))\n",
        "\n",
        "\n",
        "print(rearrange_array(arr2))\n",
        "\n"
      ],
      "metadata": {
        "colab": {
          "base_uri": "https://localhost:8080/"
        },
        "id": "-MUzp88AKix3",
        "outputId": "564df681-c8ef-4a64-ca68-f5181de137d8"
      },
      "execution_count": 22,
      "outputs": [
        {
          "output_type": "stream",
          "name": "stdout",
          "text": [
            "[-4, -1, 3, 1, 2, 4]\n",
            "[5, 2, 4, 7, 1, 8, 0, -2, -5, -8]\n"
          ]
        }
      ]
    },
    {
      "cell_type": "code",
      "source": [],
      "metadata": {
        "id": "LZ1kJrw-KmwN"
      },
      "execution_count": null,
      "outputs": []
    },
    {
      "cell_type": "markdown",
      "source": [
        "#Q6\n",
        " **Merge two sorted arrays**\n",
        "\n",
        "Given two sorted arrays, the task is to merge them in a sorted manner.\n",
        "\n",
        "**Examples:**\n",
        "\n",
        "> Input: arr1[] = { 1, 3, 4, 5}, arr2[] = {2, 4, 6, 8}\n",
        "Output: arr3[] = {1, 2, 3, 4, 4, 5, 6, 8}\n",
        "\n",
        "Input: arr1[] = { 5, 8, 9}, arr2[] = {4, 7, 8}\n",
        "Output: arr3[] = {4, 5, 7, 8, 8, 9}\n",
        ">\n",
        "</aside>"
      ],
      "metadata": {
        "id": "1OfAii6ILCJ8"
      }
    },
    {
      "cell_type": "code",
      "source": [
        "def merge_sorted_arrays(arr1, arr2):\n",
        "    n1 = len(arr1)\n",
        "    n2 = len(arr2)\n",
        "    arr3 = []\n",
        "    i = j = k = 0\n",
        "\n",
        "    while i < n1 and j < n2:\n",
        "        if arr1[i] <= arr2[j]:\n",
        "            arr3.append(arr1[i])\n",
        "            i += 1\n",
        "        else:\n",
        "            arr3.append(arr2[j])\n",
        "            j += 1\n",
        "\n",
        "    # Append remaining elements from arr1\n",
        "    while i < n1:\n",
        "        arr3.append(arr1[i])\n",
        "        i += 1\n",
        "\n",
        "    # Append remaining elements from arr2\n",
        "    while j < n2:\n",
        "        arr3.append(arr2[j])\n",
        "        j += 1\n",
        "\n",
        "    return arr3\n"
      ],
      "metadata": {
        "id": "wxXY5MQxLIZ7"
      },
      "execution_count": 23,
      "outputs": []
    },
    {
      "cell_type": "code",
      "source": [
        "arr1 = [1, 3, 4, 5]\n",
        "arr2 = [2, 4, 6, 8]\n",
        "print(merge_sorted_arrays(arr1, arr2))\n",
        "\n",
        "arr3 = [5, 8, 9]\n",
        "arr4 = [4, 7, 8]\n",
        "print(merge_sorted_arrays(arr3, arr4))\n",
        "\n"
      ],
      "metadata": {
        "colab": {
          "base_uri": "https://localhost:8080/"
        },
        "id": "DAzxL8YNLK_7",
        "outputId": "fd0daed5-e726-4ed7-b2b5-3005c64925b4"
      },
      "execution_count": 24,
      "outputs": [
        {
          "output_type": "stream",
          "name": "stdout",
          "text": [
            "[1, 2, 3, 4, 4, 5, 6, 8]\n",
            "[4, 5, 7, 8, 8, 9]\n"
          ]
        }
      ]
    },
    {
      "cell_type": "code",
      "source": [],
      "metadata": {
        "id": "QP05fHbqLR_U"
      },
      "execution_count": null,
      "outputs": []
    },
    {
      "cell_type": "markdown",
      "source": [
        "#Q 7\n",
        "**Intersection of Two Arrays**\n",
        "\n",
        "Given two integer arrays `nums1` and `nums2`, return *an array of their intersection*. Each element in the result must be **unique** and you may return the result in **any order**.\n",
        "\n",
        "**Example 1:**\n",
        "\n",
        "Input: nums1 = [1,2,2,1], nums2 = [2,2]\n",
        "Output: [2]\n"
      ],
      "metadata": {
        "id": "dew75fDZOezp"
      }
    },
    {
      "cell_type": "code",
      "source": [
        "def intersection(nums1, nums2):\n",
        "    set_nums1 = set(nums1)\n",
        "    intersection = []\n",
        "\n",
        "    for num in nums2:\n",
        "        if num in set_nums1 and num not in intersection:\n",
        "            intersection.append(num)\n",
        "\n",
        "    return intersection\n"
      ],
      "metadata": {
        "id": "PmcQ286TOjuZ"
      },
      "execution_count": 27,
      "outputs": []
    },
    {
      "cell_type": "code",
      "source": [
        "nums1 = [1, 2, 2, 1]\n",
        "nums2 = [2, 2]\n",
        "print(intersection(nums1, nums2))\n",
        "\n"
      ],
      "metadata": {
        "colab": {
          "base_uri": "https://localhost:8080/"
        },
        "id": "-12kY0I1O9Dw",
        "outputId": "f32ce098-890e-4040-90bc-fb1eec111b58"
      },
      "execution_count": 28,
      "outputs": [
        {
          "output_type": "stream",
          "name": "stdout",
          "text": [
            "[2]\n"
          ]
        }
      ]
    },
    {
      "cell_type": "markdown",
      "source": [
        "#example2\n",
        "Input: nums1 = [4,9,5], nums2 = [9,4,9,8,4]\n",
        "Output: [9,4]\n",
        "Explanation: [4,9] is also accepted.\n"
      ],
      "metadata": {
        "id": "r0jbijsbOuTR"
      }
    },
    {
      "cell_type": "code",
      "source": [
        "def intersection(nums1, nums2):\n",
        "    set_nums1 = set(nums1)\n",
        "    intersection = []\n",
        "\n",
        "    for num in nums2:\n",
        "        if num in set_nums1 and num not in intersection:\n",
        "            intersection.append(num)\n",
        "\n",
        "    return intersection\n"
      ],
      "metadata": {
        "id": "s4Sod-gtOvxI"
      },
      "execution_count": 29,
      "outputs": []
    },
    {
      "cell_type": "code",
      "source": [
        "nums1 = [4, 9, 5]\n",
        "nums2 = [9, 4, 9, 8, 4]\n",
        "print(intersection(nums1, nums2))\n"
      ],
      "metadata": {
        "colab": {
          "base_uri": "https://localhost:8080/"
        },
        "id": "-taZ4rF3PZ-A",
        "outputId": "056db371-fa57-440f-db8d-fe287c8acea5"
      },
      "execution_count": 30,
      "outputs": [
        {
          "output_type": "stream",
          "name": "stdout",
          "text": [
            "[9, 4]\n"
          ]
        }
      ]
    },
    {
      "cell_type": "code",
      "source": [],
      "metadata": {
        "id": "Iuy6iONEPbm4"
      },
      "execution_count": null,
      "outputs": []
    },
    {
      "cell_type": "markdown",
      "source": [
        "#Q8\n",
        " **Intersection of Two Arrays II**\n",
        "\n",
        "Given two integer arrays `nums1` and `nums2`, return *an array of their intersection*. Each element in the result must appear as many times as it shows in both arrays and you may return the result in **any order**.\n",
        "\n",
        "**Example 1:**\n",
        "\n",
        "Input: nums1 = [1,2,2,1], nums2 = [2,2]\n",
        "Output: [2,2]\n"
      ],
      "metadata": {
        "id": "g1kjVkEBPkoZ"
      }
    },
    {
      "cell_type": "code",
      "source": [
        "def intersect(nums1, nums2):\n",
        "    freq_map = {}\n",
        "\n",
        "    for num in nums1:\n",
        "        if num in freq_map:\n",
        "            freq_map[num] += 1\n",
        "        else:\n",
        "            freq_map[num] = 1\n",
        "\n",
        "    intersection = []\n",
        "\n",
        "    for num in nums2:\n",
        "        if num in freq_map and freq_map[num] > 0:\n",
        "            intersection.append(num)\n",
        "            freq_map[num] -= 1\n",
        "\n",
        "    return intersection\n"
      ],
      "metadata": {
        "id": "bemoW2d-PrBo"
      },
      "execution_count": 31,
      "outputs": []
    },
    {
      "cell_type": "code",
      "source": [
        "nums1 = [1, 2, 2, 1]\n",
        "nums2 = [2, 2]\n",
        "print(intersect(nums1, nums2))\n"
      ],
      "metadata": {
        "colab": {
          "base_uri": "https://localhost:8080/"
        },
        "id": "ysSnxV-YPtvv",
        "outputId": "3ea3d522-a256-427d-fef9-7ed526761ebb"
      },
      "execution_count": 32,
      "outputs": [
        {
          "output_type": "stream",
          "name": "stdout",
          "text": [
            "[2, 2]\n"
          ]
        }
      ]
    },
    {
      "cell_type": "code",
      "source": [],
      "metadata": {
        "id": "30gABS-2Pvcw"
      },
      "execution_count": null,
      "outputs": []
    },
    {
      "cell_type": "markdown",
      "source": [
        "#example2\n",
        "Input: nums1 = [4,9,5], nums2 = [9,4,9,8,4]\n",
        "Output: [4,9]\n",
        "Explanation: [9,4] is also accepted.\n"
      ],
      "metadata": {
        "id": "8Lu1vJOXP0wn"
      }
    },
    {
      "cell_type": "code",
      "source": [
        "def intersect(nums1, nums2):\n",
        "    freq_map = {}\n",
        "\n",
        "    for num in nums1:\n",
        "        if num in freq_map:\n",
        "            freq_map[num] += 1\n",
        "        else:\n",
        "            freq_map[num] = 1\n",
        "\n",
        "    intersection = []\n",
        "\n",
        "    for num in nums2:\n",
        "        if num in freq_map and freq_map[num] > 0:\n",
        "            intersection.append(num)\n",
        "            freq_map[num] -= 1\n",
        "\n",
        "    return intersection\n"
      ],
      "metadata": {
        "id": "sTxrbc_BP2m4"
      },
      "execution_count": 33,
      "outputs": []
    },
    {
      "cell_type": "code",
      "source": [
        "nums1 = [4, 9, 5]\n",
        "nums2 = [9, 4, 9, 8, 4]\n",
        "print(intersect(nums1, nums2))\n"
      ],
      "metadata": {
        "colab": {
          "base_uri": "https://localhost:8080/"
        },
        "id": "hKRN8HTQP5Jv",
        "outputId": "4d3a5bbb-6d72-4e94-9777-6cf50f9dc40f"
      },
      "execution_count": 34,
      "outputs": [
        {
          "output_type": "stream",
          "name": "stdout",
          "text": [
            "[9, 4]\n"
          ]
        }
      ]
    },
    {
      "cell_type": "code",
      "source": [],
      "metadata": {
        "id": "V9F9ck7_P6Yg"
      },
      "execution_count": null,
      "outputs": []
    }
  ]
}