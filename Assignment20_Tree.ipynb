{
  "nbformat": 4,
  "nbformat_minor": 0,
  "metadata": {
    "colab": {
      "provenance": []
    },
    "kernelspec": {
      "name": "python3",
      "display_name": "Python 3"
    },
    "language_info": {
      "name": "python"
    }
  },
  "cells": [
    {
      "cell_type": "markdown",
      "source": [
        "#Question-1\n",
        "\n",
        "Given a binary tree, your task is to find subtree with maximum sum in tree.\n",
        "\n",
        "Examples:\n",
        "\n",
        "Input1 :\n",
        "\n",
        "       1\n",
        "\n",
        "     /   \\\n",
        "\n",
        "   2      3\n",
        "\n",
        "  / \\    / \\\n",
        "\n",
        "4   5  6   7\n",
        "\n",
        "Output1 : 28\n",
        "\n",
        "As all the tree elements are positive, the largest subtree sum is equal to sum of all tree elements.\n",
        "\n",
        "</aside>"
      ],
      "metadata": {
        "id": "qLF9E-9yRAhp"
      }
    },
    {
      "cell_type": "code",
      "execution_count": 1,
      "metadata": {
        "id": "iCjenBrAQ55y"
      },
      "outputs": [],
      "source": [
        "class TreeNode:\n",
        "    def __init__(self, val):\n",
        "        self.val = val\n",
        "        self.left = None\n",
        "        self.right = None\n",
        "\n",
        "def find_max_subtree_sum(root):\n",
        "    max_sum = float('-inf')\n",
        "\n",
        "    def get_subtree_sum(node):\n",
        "        nonlocal max_sum\n",
        "\n",
        "        if node is None:\n",
        "            return 0\n",
        "\n",
        "        left_sum = get_subtree_sum(node.left)\n",
        "        right_sum = get_subtree_sum(node.right)\n",
        "\n",
        "        subtree_sum = node.val + left_sum + right_sum\n",
        "        max_sum = max(max_sum, subtree_sum)\n",
        "\n",
        "        return subtree_sum\n",
        "\n",
        "    get_subtree_sum(root)\n",
        "    return max_sum\n"
      ]
    },
    {
      "cell_type": "code",
      "source": [
        "# Create the binary tree\n",
        "root = TreeNode(1)\n",
        "root.left = TreeNode(2)\n",
        "root.right = TreeNode(3)\n",
        "root.left.left = TreeNode(4)\n",
        "root.left.right = TreeNode(5)\n",
        "root.right.left = TreeNode(6)\n",
        "root.right.right = TreeNode(7)\n",
        "\n",
        "# Find the maximum subtree sum\n",
        "max_subtree_sum = find_max_subtree_sum(root)\n",
        "print(max_subtree_sum)\n"
      ],
      "metadata": {
        "colab": {
          "base_uri": "https://localhost:8080/"
        },
        "id": "OT1gqCC-RGv6",
        "outputId": "75fa556a-c201-4924-f1ce-1a88568a112b"
      },
      "execution_count": 2,
      "outputs": [
        {
          "output_type": "stream",
          "name": "stdout",
          "text": [
            "28\n"
          ]
        }
      ]
    },
    {
      "cell_type": "code",
      "source": [],
      "metadata": {
        "id": "Oot8kaG_RI7u"
      },
      "execution_count": null,
      "outputs": []
    },
    {
      "cell_type": "markdown",
      "source": [
        "#Input2 :\n",
        "\n",
        "       1\n",
        "\n",
        "     /    \\\n",
        "\n",
        "  -2      3\n",
        "\n",
        "  / \\    /  \\\n",
        "\n",
        "4   5  -6   2\n",
        "\n",
        "Output2 : 7\n",
        "\n",
        "Subtree with largest sum is :\n",
        "\n",
        " -2\n",
        "\n",
        " / \\\n",
        "\n",
        "4   5\n",
        "\n",
        "Also, entire tree sum is also 7."
      ],
      "metadata": {
        "id": "O4JThsCFR_4L"
      }
    },
    {
      "cell_type": "code",
      "source": [
        "import sys\n",
        "\n",
        "class Node:\n",
        "    def __init__(self, value):\n",
        "        self.value = value\n",
        "        self.left = None\n",
        "        self.right = None\n",
        "\n",
        "def findMaxSubtreeSum(root):\n",
        "    if root is None:\n",
        "        return 0\n",
        "\n",
        "    left_sum = findMaxSubtreeSum(root.left)\n",
        "    right_sum = findMaxSubtreeSum(root.right)\n",
        "\n",
        "    subtree_sum = root.value + left_sum + right_sum\n",
        "\n",
        "    global max_sum\n",
        "    max_sum = max(max_sum, subtree_sum)\n",
        "\n",
        "    return subtree_sum\n",
        "\n",
        "def findMaxSubtreeSumWrapper(root):\n",
        "    global max_sum\n",
        "    max_sum = -sys.maxsize - 1\n",
        "\n",
        "    findMaxSubtreeSum(root)\n",
        "\n",
        "    return max_sum\n"
      ],
      "metadata": {
        "id": "07-zPnoUSBhu"
      },
      "execution_count": 3,
      "outputs": []
    },
    {
      "cell_type": "code",
      "source": [
        "# Construct the binary tree\n",
        "root = Node(1)\n",
        "root.left = Node(-2)\n",
        "root.right = Node(3)\n",
        "root.left.left = Node(4)\n",
        "root.left.right = Node(5)\n",
        "root.right.left = Node(-6)\n",
        "root.right.right = Node(2)\n",
        "\n",
        "# Find the subtree with maximum sum\n",
        "print(findMaxSubtreeSumWrapper(root))\n"
      ],
      "metadata": {
        "colab": {
          "base_uri": "https://localhost:8080/"
        },
        "id": "hCeJmYkcSPXG",
        "outputId": "a18e4beb-b604-44f1-e0ed-edbdfa107d91"
      },
      "execution_count": 4,
      "outputs": [
        {
          "output_type": "stream",
          "name": "stdout",
          "text": [
            "7\n"
          ]
        }
      ]
    },
    {
      "cell_type": "code",
      "source": [],
      "metadata": {
        "id": "iJK1BYKjSRKu"
      },
      "execution_count": null,
      "outputs": []
    },
    {
      "cell_type": "markdown",
      "source": [
        "#Question-2\n",
        "\n",
        "Construct the BST (Binary Search Tree) from its given level order traversal.\n",
        "\n",
        "Example:\n",
        "\n",
        "Input: arr[] = {7, 4, 12, 3, 6, 8, 1, 5, 10}\n",
        "\n",
        "Output: BST:\n",
        "\n",
        "            7\n",
        "\n",
        "         /    \\\n",
        "\n",
        "       4     12\n",
        "\n",
        "     /  \\     /\n",
        "\n",
        "    3   6  8\n",
        "\n",
        "   /    /     \\\n",
        "\n",
        " 1    5      10\n",
        "\n",
        "</aside>"
      ],
      "metadata": {
        "id": "91DQMZhuSXV-"
      }
    },
    {
      "cell_type": "code",
      "source": [
        "from collections import deque\n",
        "\n",
        "class Node:\n",
        "    def __init__(self, value):\n",
        "        self.value = value\n",
        "        self.left = None\n",
        "        self.right = None\n",
        "\n",
        "def constructBST(arr):\n",
        "    if not arr:\n",
        "        return None\n",
        "\n",
        "    queue = deque()\n",
        "    index = 0\n",
        "\n",
        "    root = Node(arr[0])\n",
        "    queue.append(root)\n",
        "    index += 1\n",
        "\n",
        "    while queue and index < len(arr):\n",
        "        current_node = queue.popleft()\n",
        "\n",
        "        if index < len(arr):\n",
        "            current_node.left = Node(arr[index])\n",
        "            queue.append(current_node.left)\n",
        "            index += 1\n",
        "\n",
        "        if index < len(arr):\n",
        "            current_node.right = Node(arr[index])\n",
        "            queue.append(current_node.right)\n",
        "            index += 1\n",
        "\n",
        "    return root\n"
      ],
      "metadata": {
        "id": "bMKX-kQFSahm"
      },
      "execution_count": 5,
      "outputs": []
    },
    {
      "cell_type": "code",
      "source": [
        "arr = [7, 4, 12, 3, 6, 8, 1, 5, 10]\n",
        "root = constructBST(arr)\n",
        "\n",
        "# Validate the constructed BST\n",
        "# Perform an inorder traversal to check if the values are in sorted order\n",
        "def inorderTraversal(node):\n",
        "    if node is None:\n",
        "        return\n",
        "\n",
        "    inorderTraversal(node.left)\n",
        "    print(node.value, end=\" \")\n",
        "    inorderTraversal(node.right)\n",
        "\n",
        "inorderTraversal(root)\n"
      ],
      "metadata": {
        "colab": {
          "base_uri": "https://localhost:8080/"
        },
        "id": "pZ3QTllKSeNe",
        "outputId": "896eca04-b73c-4da8-90ba-0d468e456d60"
      },
      "execution_count": 6,
      "outputs": [
        {
          "output_type": "stream",
          "name": "stdout",
          "text": [
            "5 3 10 4 6 7 8 12 1 "
          ]
        }
      ]
    },
    {
      "cell_type": "code",
      "source": [],
      "metadata": {
        "id": "WxPZBXYGSgWe"
      },
      "execution_count": null,
      "outputs": []
    },
    {
      "cell_type": "markdown",
      "source": [
        "#Question-3\n",
        "\n",
        "Given an array of size n. The problem is to check whether the given array can represent the level order traversal of a Binary Search Tree or not.\n",
        "\n",
        "Examples:\n",
        "\n",
        "Input1 : arr[] = {7, 4, 12, 3, 6, 8, 1, 5, 10}\n",
        "\n",
        "Output1 : Yes\n",
        "\n",
        "For the given arr[], the Binary Search Tree is:\n",
        "\n",
        "            7\n",
        "\n",
        "         /    \\\n",
        "\n",
        "       4     12\n",
        "\n",
        "     /  \\     /\n",
        "\n",
        "    3   6  8\n",
        "\n",
        "   /    /     \\\n",
        "\n",
        " 1    5      10\n",
        "\n",
        "Input2 : arr[] = {11, 6, 13, 5, 12, 10}\n",
        "\n",
        "Output2 : No\n",
        "\n",
        "The given arr[] does not represent the level order traversal of a BST.\n",
        "\n",
        "</aside>"
      ],
      "metadata": {
        "id": "nlNW2pVdSkk-"
      }
    },
    {
      "cell_type": "code",
      "source": [
        "class Node:\n",
        "    def __init__(self, value):\n",
        "        self.value = value\n",
        "        self.left = None\n",
        "        self.right = None\n",
        "\n",
        "def isLevelOrderBST(arr):\n",
        "    if len(arr) <= 2:\n",
        "        return True\n",
        "\n",
        "    stack = []\n",
        "    root = Node(arr[0])\n",
        "    stack.append(root)\n",
        "    index = 1\n",
        "\n",
        "    while index < len(arr):\n",
        "        current_element = arr[index]\n",
        "        parent = stack[-1]\n",
        "\n",
        "        while stack and current_element > stack[-1].value:\n",
        "            parent = stack.pop()\n",
        "\n",
        "        if current_element < parent.value:\n",
        "            parent.left = Node(current_element)\n",
        "            stack.append(parent.left)\n",
        "        else:\n",
        "            parent.right = Node(current_element)\n",
        "            stack.append(parent.right)\n",
        "\n",
        "        index += 1\n",
        "\n",
        "    return index == len(arr)\n"
      ],
      "metadata": {
        "id": "SKwKlXACSokF"
      },
      "execution_count": 9,
      "outputs": []
    },
    {
      "cell_type": "code",
      "source": [
        "arr1 = [7, 4, 12, 3, 6, 8, 1, 5, 10]\n",
        "print(isLevelOrderBST(arr1))  # Output: True\n",
        "\n",
        "arr2 = [11, 6, 13, 5, 12, 10]\n",
        "print(isLevelOrderBST(arr2))  # Output: False\n"
      ],
      "metadata": {
        "colab": {
          "base_uri": "https://localhost:8080/"
        },
        "id": "RB6l5Qf_Sss9",
        "outputId": "804e597c-3f65-4ac7-a46a-07bf733154e1"
      },
      "execution_count": 10,
      "outputs": [
        {
          "output_type": "stream",
          "name": "stdout",
          "text": [
            "True\n",
            "True\n"
          ]
        }
      ]
    },
    {
      "cell_type": "code",
      "source": [],
      "metadata": {
        "id": "-sXIq-EDSuYN"
      },
      "execution_count": null,
      "outputs": []
    }
  ]
}