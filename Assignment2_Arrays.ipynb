{
  "nbformat": 4,
  "nbformat_minor": 0,
  "metadata": {
    "colab": {
      "provenance": []
    },
    "kernelspec": {
      "name": "python3",
      "display_name": "Python 3"
    },
    "language_info": {
      "name": "python"
    }
  },
  "cells": [
    {
      "cell_type": "markdown",
      "source": [
        "<aside>\n",
        "💡 **Question 1**\n",
        "Given an integer array nums of 2n integers, group these integers into n pairs (a1, b1), (a2, b2),..., (an, bn) such that the sum of min(ai, bi) for all i is maximized. Return the maximized sum.\n",
        "\n",
        "**Example 1:**\n",
        "Input: nums = [1,4,3,2]\n",
        "Output: 4\n",
        "\n",
        "**Explanation:** All possible pairings (ignoring the ordering of elements) are:\n",
        "\n",
        "1. (1, 4), (2, 3) -> min(1, 4) + min(2, 3) = 1 + 2 = 3\n",
        "2. (1, 3), (2, 4) -> min(1, 3) + min(2, 4) = 1 + 2 = 3\n",
        "3. (1, 2), (3, 4) -> min(1, 2) + min(3, 4) = 1 + 3 = 4\n",
        "So the maximum possible sum is 4\n",
        "</aside>"
      ],
      "metadata": {
        "id": "OH8GeGi8y2-9"
      }
    },
    {
      "cell_type": "code",
      "execution_count": 1,
      "metadata": {
        "colab": {
          "base_uri": "https://localhost:8080/"
        },
        "id": "H4gA9FlhyqFN",
        "outputId": "664c9081-e706-4b88-8f77-7f454558656d"
      },
      "outputs": [
        {
          "output_type": "stream",
          "name": "stdout",
          "text": [
            "4\n"
          ]
        }
      ],
      "source": [
        "def arrayPairSum(nums):\n",
        "    nums.sort()  # Sort the array in ascending order\n",
        "    max_sum = 0\n",
        "    for i in range(0, len(nums), 2):\n",
        "        max_sum += nums[i]\n",
        "    return max_sum\n",
        "\n",
        "# Example usage:\n",
        "nums = [1, 4, 3, 2]\n",
        "result = arrayPairSum(nums)\n",
        "print(result)"
      ]
    },
    {
      "cell_type": "markdown",
      "source": [
        "Question 2\n",
        "Alice has n candies, where the ith candy is of type candyType[i]. Alice noticed that she started to gain weight, so she visited a doctor. \n",
        "\n",
        "The doctor advised Alice to only eat n / 2 of the candies she has (n is always even). Alice likes her candies very much, and she wants to eat the maximum number of different types of candies while still following the doctor's advice. \n",
        "\n",
        "Given the integer array candyType of length n, return the maximum number of different types of candies she can eat if she only eats n / 2 of them.\n",
        "\n",
        "Example 1:\n",
        "Input: candyType = [1,1,2,2,3,3]\n",
        "Output: 3\n",
        "\n",
        "Explanation: Alice can only eat 6 / 2 = 3 candies. Since there are only 3 types, she can eat one of each type."
      ],
      "metadata": {
        "id": "Pd-yFvvOzaWf"
      }
    },
    {
      "cell_type": "code",
      "source": [
        "def maxCandies(candyType):\n",
        "    unique_candies = set()\n",
        "    for candy in candyType:\n",
        "        unique_candies.add(candy)\n",
        "    return min(len(unique_candies), len(candyType) // 2)\n",
        "\n",
        "# Example usage:\n",
        "candyType = [1, 1, 2, 2, 3, 3]\n",
        "result = maxCandies(candyType)\n",
        "print(result) \n"
      ],
      "metadata": {
        "colab": {
          "base_uri": "https://localhost:8080/"
        },
        "id": "nf9fo8j8zYbT",
        "outputId": "6bfb8c00-53b2-451e-d069-f010cd261919"
      },
      "execution_count": 6,
      "outputs": [
        {
          "output_type": "stream",
          "name": "stdout",
          "text": [
            "3\n"
          ]
        }
      ]
    },
    {
      "cell_type": "markdown",
      "source": [
        "Question 3\n",
        "We define a harmonious array as an array where the difference between its maximum value\n",
        "and its minimum value is exactly 1.\n",
        "\n",
        "Given an integer array nums, return the length of its longest harmonious subsequence\n",
        "among all its possible subsequences.\n",
        "\n",
        "A subsequence of an array is a sequence that can be derived from the array by deleting some or no elements without changing the order of the remaining elements.\n",
        "\n",
        "Example 1:\n",
        "Input: nums = [1,3,2,2,5,2,3,7]\n",
        "Output: 5\n",
        "\n",
        "Explanation: The longest harmonious subsequence is [3,2,2,2,3]."
      ],
      "metadata": {
        "id": "miZICJ_uz04P"
      }
    },
    {
      "cell_type": "code",
      "source": [
        "def findLHS(nums):\n",
        "    count = {}\n",
        "    for num in nums:\n",
        "        count[num] = count.get(num, 0) + 1\n",
        "    max_length = 0\n",
        "    for num in count:\n",
        "        if num + 1 in count:\n",
        "            max_length = max(max_length, count[num] + count[num + 1])\n",
        "    return max_length\n",
        "\n",
        "# Example usage:\n",
        "nums = [1, 3, 2, 2, 5, 2, 3, 7]\n",
        "result = findLHS(nums)\n",
        "print(result)  "
      ],
      "metadata": {
        "colab": {
          "base_uri": "https://localhost:8080/"
        },
        "id": "OSAAxnIvzoNW",
        "outputId": "40d0477b-bae9-488a-98b3-86401bb77a39"
      },
      "execution_count": 5,
      "outputs": [
        {
          "output_type": "stream",
          "name": "stdout",
          "text": [
            "5\n"
          ]
        }
      ]
    },
    {
      "cell_type": "markdown",
      "source": [
        "Question 4\n",
        "You have a long flowerbed in which some of the plots are planted, and some are not.\n",
        "However, flowers cannot be planted in adjacent plots.\n",
        "Given an integer array flowerbed containing 0's and 1's, where 0 means empty and 1 means not empty, and an integer n, return true if n new flowers can be planted in the flowerbed without violating the no-adjacent-flowers rule and false otherwise.\n",
        "\n",
        "Example 1:\n",
        "Input: flowerbed = [1,0,0,0,1], n = 1\n",
        "Output: true\n",
        "\n"
      ],
      "metadata": {
        "id": "sb3eVQbG0BrH"
      }
    },
    {
      "cell_type": "code",
      "source": [
        "def canPlaceFlowers(flowerbed, n):\n",
        "    count = 0\n",
        "    i = 0\n",
        "    while i < len(flowerbed) and count < n:\n",
        "        if (\n",
        "            flowerbed[i] == 0 and\n",
        "            (i == 0 or flowerbed[i - 1] == 0) and\n",
        "            (i == len(flowerbed) - 1 or flowerbed[i + 1] == 0)\n",
        "        ):\n",
        "            flowerbed[i] = 1\n",
        "            count += 1\n",
        "        i += 1\n",
        "    return count == n\n",
        "\n",
        "# Example usage:\n",
        "flowerbed = [1, 0, 0, 0, 1]\n",
        "n = 1\n",
        "result = canPlaceFlowers(flowerbed, n)\n",
        "print(result) "
      ],
      "metadata": {
        "colab": {
          "base_uri": "https://localhost:8080/"
        },
        "id": "vSjGBa1Bz-4e",
        "outputId": "5925bfd4-4640-4672-8058-82b849bb2711"
      },
      "execution_count": 4,
      "outputs": [
        {
          "output_type": "stream",
          "name": "stdout",
          "text": [
            "True\n"
          ]
        }
      ]
    },
    {
      "cell_type": "markdown",
      "source": [
        "Question 5\n",
        "Given an integer array nums, find three numbers whose product is maximum and return the maximum product.\n",
        "\n",
        "Example 1:\n",
        "Input: nums = [1,2,3]\n",
        "Output: 6"
      ],
      "metadata": {
        "id": "-xeCsrSk0ejn"
      }
    },
    {
      "cell_type": "code",
      "source": [
        "def maximumProduct(nums):\n",
        "    nums.sort()\n",
        "    max_product1 = nums[-1] * nums[-2] * nums[-3]\n",
        "    max_product2 = nums[0] * nums[1] * nums[-1]\n",
        "    return max(max_product1, max_product2)\n",
        "\n",
        "# Example usage:\n",
        "nums = [1, 2, 3]\n",
        "result = maximumProduct(nums)\n",
        "print(result)"
      ],
      "metadata": {
        "colab": {
          "base_uri": "https://localhost:8080/"
        },
        "id": "WOtFeWYi0N4s",
        "outputId": "344b2257-e8ef-445c-b641-e132e48f7bcd"
      },
      "execution_count": 7,
      "outputs": [
        {
          "output_type": "stream",
          "name": "stdout",
          "text": [
            "6\n"
          ]
        }
      ]
    },
    {
      "cell_type": "markdown",
      "source": [
        "Question 6\n",
        "Given an array of integers nums which is sorted in ascending order, and an integer target,\n",
        "write a function to search target in nums. If target exists, then return its index. Otherwise,\n",
        "return -1.\n",
        "\n",
        "You must write an algorithm with O(log n) runtime complexity.\n",
        "\n",
        "Input: nums = [-1,0,3,5,9,12], target = 9\n",
        "Output: 4\n",
        "\n",
        "Explanation: 9 exists in nums and its index is 4"
      ],
      "metadata": {
        "id": "OWY0c3Oq02iv"
      }
    },
    {
      "cell_type": "code",
      "source": [
        "def search(nums, target):\n",
        "    left = 0\n",
        "    right = len(nums) - 1\n",
        "    \n",
        "    while left <= right:\n",
        "        mid = (left + right) // 2\n",
        "        if nums[mid] == target:\n",
        "            return mid\n",
        "        elif nums[mid] > target:\n",
        "            right = mid - 1\n",
        "        else:\n",
        "            left = mid + 1\n",
        "            \n",
        "    return -1\n",
        "\n",
        "# Example usage:\n",
        "nums = [-1, 0, 3, 5, 9, 12]\n",
        "target = 9\n",
        "result = search(nums, target)\n",
        "print(result)  "
      ],
      "metadata": {
        "colab": {
          "base_uri": "https://localhost:8080/"
        },
        "id": "jexG_9Ee0z8s",
        "outputId": "9866d7e8-a3b8-4d56-e99b-df4eae86049a"
      },
      "execution_count": 8,
      "outputs": [
        {
          "output_type": "stream",
          "name": "stdout",
          "text": [
            "4\n"
          ]
        }
      ]
    },
    {
      "cell_type": "markdown",
      "source": [
        "Question 7\n",
        "An array is monotonic if it is either monotone increasing or monotone decreasing.\n",
        "\n",
        "An array nums is monotone increasing if for all i <= j, nums[i] <= nums[j]. An array nums is\n",
        "monotone decreasing if for all i <= j, nums[i] >= nums[j].\n",
        "\n",
        "Given an integer array nums, return true if the given array is monotonic, or false otherwise.\n",
        "\n",
        "Example 1:\n",
        "Input: nums = [1,2,2,3]\n",
        "Output: true"
      ],
      "metadata": {
        "id": "xtl-K6nX1IoR"
      }
    },
    {
      "cell_type": "code",
      "source": [
        "def isMonotonic(nums):\n",
        "    increasing = True\n",
        "    decreasing = True\n",
        "    \n",
        "    for i in range(1, len(nums)):\n",
        "        if nums[i] < nums[i-1]:\n",
        "            increasing = False\n",
        "        if nums[i] > nums[i-1]:\n",
        "            decreasing = False\n",
        "        if not increasing and not decreasing:\n",
        "            return False\n",
        "    \n",
        "    return True\n",
        "\n",
        "# Example usage:\n",
        "nums = [1, 2, 2, 3]\n",
        "result = isMonotonic(nums)\n",
        "print(result)"
      ],
      "metadata": {
        "colab": {
          "base_uri": "https://localhost:8080/"
        },
        "id": "PJ4Pk0R71Fgr",
        "outputId": "ccb4f81f-ee11-4cee-e294-c573f0adfaf7"
      },
      "execution_count": 9,
      "outputs": [
        {
          "output_type": "stream",
          "name": "stdout",
          "text": [
            "True\n"
          ]
        }
      ]
    },
    {
      "cell_type": "markdown",
      "source": [
        "uestion 8\n",
        "You are given an integer array nums and an integer k.\n",
        "\n",
        "In one operation, you can choose any index i where 0 <= i < nums.length and change nums[i] to nums[i] + x where x is an integer from the range [-k, k]. You can apply this operation at most once for each index i.\n",
        "\n",
        "The score of nums is the difference between the maximum and minimum elements in nums.\n",
        "\n",
        "Return the minimum score of nums after applying the mentioned operation at most once for each index in it.\n",
        "\n",
        "Example 1:\n",
        "Input: nums = [1], k = 0\n",
        "Output: 0\n",
        "\n",
        "Explanation: The score is max(nums) - min(nums) = 1 - 1 = 0."
      ],
      "metadata": {
        "id": "xurnWfMG1gdA"
      }
    },
    {
      "cell_type": "code",
      "source": [
        "def minimumScore(nums, k):\n",
        "    minimum = min(nums)\n",
        "    maximum = max(nums)\n",
        "    \n",
        "    if maximum - minimum == 0:\n",
        "        return 0\n",
        "    \n",
        "    for num in nums:\n",
        "        new_min = min(minimum, num - k)\n",
        "        new_max = max(maximum, num + k)\n",
        "        minimum = new_min\n",
        "        maximum = new_max\n",
        "    \n",
        "    return maximum - minimum\n",
        "\n",
        "# Example usage:\n",
        "nums = [1]\n",
        "k = 0\n",
        "result = minimumScore(nums, k)\n",
        "print(result)"
      ],
      "metadata": {
        "colab": {
          "base_uri": "https://localhost:8080/"
        },
        "id": "nMzpJ-KO1cxx",
        "outputId": "c6f3b026-1ace-4678-dff3-22e445313d60"
      },
      "execution_count": 10,
      "outputs": [
        {
          "output_type": "stream",
          "name": "stdout",
          "text": [
            "0\n"
          ]
        }
      ]
    },
    {
      "cell_type": "code",
      "source": [],
      "metadata": {
        "id": "T4QJ76dV1wF9"
      },
      "execution_count": null,
      "outputs": []
    }
  ]
}